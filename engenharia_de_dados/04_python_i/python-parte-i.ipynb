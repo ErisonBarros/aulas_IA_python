{
  "nbformat": 4,
  "nbformat_minor": 0,
  "metadata": {
    "colab": {
      "name": "Python: parte I",
      "provenance": [],
      "collapsed_sections": [
        "y7DuAWkuO0vz",
        "D9YKPprvL9dR",
        "NKLPBGq9Oz-E",
        "RwFx9XSvPxG7",
        "ziOU2O3aQpKb",
        "JQWuxeJwVygX",
        "JYNkaaQ8vyDd",
        "MCkaglBDkxji"
      ],
      "include_colab_link": true
    },
    "kernelspec": {
      "name": "python3",
      "display_name": "Python 3"
    },
    "language_info": {
      "name": "python"
    }
  },
  "cells": [
    {
      "cell_type": "markdown",
      "metadata": {
        "id": "view-in-github",
        "colab_type": "text"
      },
      "source": [
        "<a href=\"https://colab.research.google.com/gist/marcusmvl/0098b3ea9e9ff1442bc0a730e0ddd138/python-parte-i.ipynb\" target=\"_parent\"><img src=\"https://colab.research.google.com/assets/colab-badge.svg\" alt=\"Open In Colab\"/></a>"
      ]
    },
    {
      "cell_type": "markdown",
      "metadata": {
        "id": "y7DuAWkuO0vz"
      },
      "source": [
        "### **Comentários**"
      ]
    },
    {
      "cell_type": "code",
      "metadata": {
        "id": "PVwU0e7bOavV"
      },
      "source": [
        "# isso é um comentário\n",
        "numero = 1  # isso um segundo comentário\n",
        "          # ... e isso é um terceiro comentário\n",
        "\"\"\"\n",
        "outro tipo \n",
        "de comentário\n",
        "\"\"\"\n",
        "texto = \"# Isso não é um comentário pois está entre aspas\""
      ],
      "execution_count": 214,
      "outputs": []
    },
    {
      "cell_type": "code",
      "metadata": {
        "colab": {
          "base_uri": "https://localhost:8080/",
          "height": 35
        },
        "id": "GFAOtqZuACC9",
        "outputId": "6b3a0062-f056-4965-f863-e9c582beed94"
      },
      "source": [
        "texto"
      ],
      "execution_count": 215,
      "outputs": [
        {
          "output_type": "execute_result",
          "data": {
            "application/vnd.google.colaboratory.intrinsic+json": {
              "type": "string"
            },
            "text/plain": [
              "'# Isso não é um comentário pois está entre aspas'"
            ]
          },
          "metadata": {
            "tags": []
          },
          "execution_count": 215
        }
      ]
    },
    {
      "cell_type": "markdown",
      "metadata": {
        "id": "D9YKPprvL9dR"
      },
      "source": [
        "### **Tipo de dados**"
      ]
    },
    {
      "cell_type": "code",
      "metadata": {
        "colab": {
          "base_uri": "https://localhost:8080/"
        },
        "id": "mdBSMLGLMCgk",
        "outputId": "3e0d6062-d9af-4997-a48e-05335c5a1e76"
      },
      "source": [
        "type(\"string\") # sequência de caracteres A-Z a-z, 0-9, **@#$$!"
      ],
      "execution_count": 216,
      "outputs": [
        {
          "output_type": "execute_result",
          "data": {
            "text/plain": [
              "str"
            ]
          },
          "metadata": {
            "tags": []
          },
          "execution_count": 216
        }
      ]
    },
    {
      "cell_type": "code",
      "metadata": {
        "colab": {
          "base_uri": "https://localhost:8080/"
        },
        "id": "9nOJH63SMKKr",
        "outputId": "bf612f47-7c1d-4f1d-c8e2-d6ec7feded8a"
      },
      "source": [
        "type(20) # valor inteiro (o limite é o tamanho de memória do computador)"
      ],
      "execution_count": 217,
      "outputs": [
        {
          "output_type": "execute_result",
          "data": {
            "text/plain": [
              "int"
            ]
          },
          "metadata": {
            "tags": []
          },
          "execution_count": 217
        }
      ]
    },
    {
      "cell_type": "code",
      "metadata": {
        "colab": {
          "base_uri": "https://localhost:8080/"
        },
        "id": "-SlnWGAlMO_c",
        "outputId": "e89e545e-418b-4f73-e80c-72818298c2ec"
      },
      "source": [
        "type(20.0) # Quase todas plataformas representam valores float como 64-bits “double-precision”. Nessa caso,o valor máximo do ponto-flutuante vai ser aproximadamente 1.8 ⨉ 10308 ou 5.0 ⨉ 10-32. Python indicará com inf se o número for maior que esse valor."
      ],
      "execution_count": 218,
      "outputs": [
        {
          "output_type": "execute_result",
          "data": {
            "text/plain": [
              "float"
            ]
          },
          "metadata": {
            "tags": []
          },
          "execution_count": 218
        }
      ]
    },
    {
      "cell_type": "code",
      "metadata": {
        "colab": {
          "base_uri": "https://localhost:8080/"
        },
        "id": "Z5Axc6_HiYdS",
        "outputId": "8d3c6245-264c-48c6-ad8c-100e6df95443"
      },
      "source": [
        "type(False) # valor booleano"
      ],
      "execution_count": 224,
      "outputs": [
        {
          "output_type": "execute_result",
          "data": {
            "text/plain": [
              "bool"
            ]
          },
          "metadata": {
            "tags": []
          },
          "execution_count": 224
        }
      ]
    },
    {
      "cell_type": "code",
      "metadata": {
        "id": "j4Q3Y6vuw-ea"
      },
      "source": [
        "exemplo_lista = [1, 2, 3]"
      ],
      "execution_count": 225,
      "outputs": []
    },
    {
      "cell_type": "code",
      "metadata": {
        "colab": {
          "base_uri": "https://localhost:8080/"
        },
        "id": "ThPqW5rbMRu8",
        "outputId": "98b6f111-3cda-4726-8cf7-70168abcd56e"
      },
      "source": [
        "type(exemplo_lista) # ordenado, modificável, permite duplicados"
      ],
      "execution_count": 226,
      "outputs": [
        {
          "output_type": "execute_result",
          "data": {
            "text/plain": [
              "list"
            ]
          },
          "metadata": {
            "tags": []
          },
          "execution_count": 226
        }
      ]
    },
    {
      "cell_type": "code",
      "metadata": {
        "colab": {
          "base_uri": "https://localhost:8080/"
        },
        "id": "13vashRexL49",
        "outputId": "bcbe8403-befb-40b6-95c8-07826db213db"
      },
      "source": [
        "exemplo_lista"
      ],
      "execution_count": 227,
      "outputs": [
        {
          "output_type": "execute_result",
          "data": {
            "text/plain": [
              "[1, 2, 3]"
            ]
          },
          "metadata": {
            "tags": []
          },
          "execution_count": 227
        }
      ]
    },
    {
      "cell_type": "code",
      "metadata": {
        "id": "tVFsKi_pxPVt"
      },
      "source": [
        "exemplo_lista[0] = 7"
      ],
      "execution_count": 228,
      "outputs": []
    },
    {
      "cell_type": "code",
      "metadata": {
        "colab": {
          "base_uri": "https://localhost:8080/"
        },
        "id": "Grh3Y-FLxV7R",
        "outputId": "834b5e91-d0da-4702-ba2b-0b1100b5775b"
      },
      "source": [
        "exemplo_lista"
      ],
      "execution_count": 229,
      "outputs": [
        {
          "output_type": "execute_result",
          "data": {
            "text/plain": [
              "[7, 2, 3]"
            ]
          },
          "metadata": {
            "tags": []
          },
          "execution_count": 229
        }
      ]
    },
    {
      "cell_type": "code",
      "metadata": {
        "id": "MyqP5XdVxbsI"
      },
      "source": [
        "exemplo_tupla = (1, 2, 3)"
      ],
      "execution_count": 230,
      "outputs": []
    },
    {
      "cell_type": "code",
      "metadata": {
        "colab": {
          "base_uri": "https://localhost:8080/"
        },
        "id": "rlgf418KMV8t",
        "outputId": "ec73966e-b5b8-4fac-b95a-e1d2b6896302"
      },
      "source": [
        "type(exemplo_tupla) # ordendada, não modificável, permite valores duplicados"
      ],
      "execution_count": 231,
      "outputs": [
        {
          "output_type": "execute_result",
          "data": {
            "text/plain": [
              "tuple"
            ]
          },
          "metadata": {
            "tags": []
          },
          "execution_count": 231
        }
      ]
    },
    {
      "cell_type": "code",
      "metadata": {
        "colab": {
          "base_uri": "https://localhost:8080/"
        },
        "id": "fFzYBZWdxh6t",
        "outputId": "77fd7ada-c488-4c4b-817d-b5ae0aedcd06"
      },
      "source": [
        "exemplo_tupla"
      ],
      "execution_count": 232,
      "outputs": [
        {
          "output_type": "execute_result",
          "data": {
            "text/plain": [
              "(1, 2, 3)"
            ]
          },
          "metadata": {
            "tags": []
          },
          "execution_count": 232
        }
      ]
    },
    {
      "cell_type": "code",
      "metadata": {
        "colab": {
          "base_uri": "https://localhost:8080/",
          "height": 163
        },
        "id": "3j0WB52szF8y",
        "outputId": "78650863-a77b-45c5-dd5e-f0147d672ac8"
      },
      "source": [
        "exemplo_tupla[0] = 9"
      ],
      "execution_count": 235,
      "outputs": [
        {
          "output_type": "error",
          "ename": "TypeError",
          "evalue": "ignored",
          "traceback": [
            "\u001b[0;31m---------------------------------------------------------------------------\u001b[0m",
            "\u001b[0;31mTypeError\u001b[0m                                 Traceback (most recent call last)",
            "\u001b[0;32m<ipython-input-235-5099c86d7b49>\u001b[0m in \u001b[0;36m<module>\u001b[0;34m()\u001b[0m\n\u001b[0;32m----> 1\u001b[0;31m \u001b[0mexemplo_tupla\u001b[0m\u001b[0;34m[\u001b[0m\u001b[0;36m0\u001b[0m\u001b[0;34m]\u001b[0m \u001b[0;34m=\u001b[0m \u001b[0;36m9\u001b[0m\u001b[0;34m\u001b[0m\u001b[0;34m\u001b[0m\u001b[0m\n\u001b[0m",
            "\u001b[0;31mTypeError\u001b[0m: 'tuple' object does not support item assignment"
          ]
        }
      ]
    },
    {
      "cell_type": "code",
      "metadata": {
        "id": "689p4JN7zUWL"
      },
      "source": [
        "exemplo_set = {8, 2, 3, 3}"
      ],
      "execution_count": 237,
      "outputs": []
    },
    {
      "cell_type": "code",
      "metadata": {
        "colab": {
          "base_uri": "https://localhost:8080/"
        },
        "id": "WYyvGUyxwQ3E",
        "outputId": "419050ac-d981-4fa8-dd27-ddf6df381e5d"
      },
      "source": [
        "type(exemplo_set) # não ordenado, modificável, não permite valores duplicados"
      ],
      "execution_count": 238,
      "outputs": [
        {
          "output_type": "execute_result",
          "data": {
            "text/plain": [
              "set"
            ]
          },
          "metadata": {
            "tags": []
          },
          "execution_count": 238
        }
      ]
    },
    {
      "cell_type": "code",
      "metadata": {
        "colab": {
          "base_uri": "https://localhost:8080/"
        },
        "id": "-ptURNvPzyp7",
        "outputId": "da58fb0a-1ec8-41b0-d057-d1370f94afb8"
      },
      "source": [
        "exemplo_set"
      ],
      "execution_count": 239,
      "outputs": [
        {
          "output_type": "execute_result",
          "data": {
            "text/plain": [
              "{2, 3, 8}"
            ]
          },
          "metadata": {
            "tags": []
          },
          "execution_count": 239
        }
      ]
    },
    {
      "cell_type": "code",
      "metadata": {
        "id": "yF29nuuQz8cI"
      },
      "source": [
        "exemplo_set.update([1,9])"
      ],
      "execution_count": 240,
      "outputs": []
    },
    {
      "cell_type": "code",
      "metadata": {
        "colab": {
          "base_uri": "https://localhost:8080/"
        },
        "id": "h1zhrfu41FeU",
        "outputId": "b04e5087-ce18-4235-eb8c-e55527473d40"
      },
      "source": [
        "exemplo_set"
      ],
      "execution_count": 241,
      "outputs": [
        {
          "output_type": "execute_result",
          "data": {
            "text/plain": [
              "{1, 2, 3, 8, 9}"
            ]
          },
          "metadata": {
            "tags": []
          },
          "execution_count": 241
        }
      ]
    },
    {
      "cell_type": "code",
      "metadata": {
        "colab": {
          "base_uri": "https://localhost:8080/"
        },
        "id": "Oh9HhUKGMbtk",
        "outputId": "1f415c86-231b-4ec5-d233-4723ce9071bc"
      },
      "source": [
        "type({\"nome\" : \"John\", \"idade\" : 36, \"vacinado\": True}) # utilizado para armazenar dado como chave e valor, modificável, chaves não aceitam duplicatas"
      ],
      "execution_count": 242,
      "outputs": [
        {
          "output_type": "execute_result",
          "data": {
            "text/plain": [
              "dict"
            ]
          },
          "metadata": {
            "tags": []
          },
          "execution_count": 242
        }
      ]
    },
    {
      "cell_type": "code",
      "metadata": {
        "colab": {
          "base_uri": "https://localhost:8080/"
        },
        "id": "uFRREMd3Mi2H",
        "outputId": "d0c474f2-697f-4951-bc66-6e4d61d2193d"
      },
      "source": [
        "type(range(10)) # gera números "
      ],
      "execution_count": 243,
      "outputs": [
        {
          "output_type": "execute_result",
          "data": {
            "text/plain": [
              "range"
            ]
          },
          "metadata": {
            "tags": []
          },
          "execution_count": 243
        }
      ]
    },
    {
      "cell_type": "markdown",
      "metadata": {
        "id": "NKLPBGq9Oz-E"
      },
      "source": [
        "### ***Calculadora***"
      ]
    },
    {
      "cell_type": "code",
      "metadata": {
        "colab": {
          "base_uri": "https://localhost:8080/"
        },
        "id": "Jg7dBy9eOkCH",
        "outputId": "dd58980f-f62c-478d-ddd1-d041d3dc2aa6"
      },
      "source": [
        "2 - 2 # adição/subtração"
      ],
      "execution_count": 261,
      "outputs": [
        {
          "output_type": "execute_result",
          "data": {
            "text/plain": [
              "0"
            ]
          },
          "metadata": {
            "tags": []
          },
          "execution_count": 261
        }
      ]
    },
    {
      "cell_type": "code",
      "metadata": {
        "colab": {
          "base_uri": "https://localhost:8080/"
        },
        "id": "snu4jrT1O7wB",
        "outputId": "38b684b2-ddf5-4ae3-fbbd-cf3f312d1957"
      },
      "source": [
        "50 - 5*6 # ordem de precedência dos operadores"
      ],
      "execution_count": 245,
      "outputs": [
        {
          "output_type": "execute_result",
          "data": {
            "text/plain": [
              "20"
            ]
          },
          "metadata": {
            "tags": []
          },
          "execution_count": 245
        }
      ]
    },
    {
      "cell_type": "code",
      "metadata": {
        "id": "fuFzmVh7PA89",
        "colab": {
          "base_uri": "https://localhost:8080/"
        },
        "outputId": "2958ebee-c87a-40fe-8048-68719fe40c1f"
      },
      "source": [
        "(50 - 5*6) / 4 # parenteses "
      ],
      "execution_count": 262,
      "outputs": [
        {
          "output_type": "execute_result",
          "data": {
            "text/plain": [
              "5.0"
            ]
          },
          "metadata": {
            "tags": []
          },
          "execution_count": 262
        }
      ]
    },
    {
      "cell_type": "code",
      "metadata": {
        "colab": {
          "base_uri": "https://localhost:8080/"
        },
        "id": "n2lanzXlPCFi",
        "outputId": "50d9ad0d-3bb2-4703-95f4-f2d70b5fcd8a"
      },
      "source": [
        "8 / 5  # divisão sempre retorna ponto fluante"
      ],
      "execution_count": 263,
      "outputs": [
        {
          "output_type": "execute_result",
          "data": {
            "text/plain": [
              "1.6"
            ]
          },
          "metadata": {
            "tags": []
          },
          "execution_count": 263
        }
      ]
    },
    {
      "cell_type": "code",
      "metadata": {
        "colab": {
          "base_uri": "https://localhost:8080/"
        },
        "id": "eTso5OgwPP9f",
        "outputId": "c4b71487-46ad-4250-da7e-2f8c2e99dfa8"
      },
      "source": [
        "17 / 3  # retorna o valor fracionado da divisão até o capacidade de armazenamento do ponto flutuante"
      ],
      "execution_count": 264,
      "outputs": [
        {
          "output_type": "execute_result",
          "data": {
            "text/plain": [
              "5.666666666666667"
            ]
          },
          "metadata": {
            "tags": []
          },
          "execution_count": 264
        }
      ]
    },
    {
      "cell_type": "code",
      "metadata": {
        "colab": {
          "base_uri": "https://localhost:8080/"
        },
        "id": "MbfZdgGvPVRn",
        "outputId": "faee6e12-8604-4ad2-89f9-1f6991490377"
      },
      "source": [
        "17 // 3  # divisão inteira, descarta a parte fracionada da divisão (o resultado será um inteiro)"
      ],
      "execution_count": 265,
      "outputs": [
        {
          "output_type": "execute_result",
          "data": {
            "text/plain": [
              "5"
            ]
          },
          "metadata": {
            "tags": []
          },
          "execution_count": 265
        }
      ]
    },
    {
      "cell_type": "code",
      "metadata": {
        "colab": {
          "base_uri": "https://localhost:8080/"
        },
        "id": "hXG0TncQPaF0",
        "outputId": "63a81408-b803-46e0-f63c-4793c7bcc741"
      },
      "source": [
        "17 % 3  # retorna o resto da divisão"
      ],
      "execution_count": 266,
      "outputs": [
        {
          "output_type": "execute_result",
          "data": {
            "text/plain": [
              "2"
            ]
          },
          "metadata": {
            "tags": []
          },
          "execution_count": 266
        }
      ]
    },
    {
      "cell_type": "code",
      "metadata": {
        "colab": {
          "base_uri": "https://localhost:8080/"
        },
        "id": "CrHLdQ3HPjSH",
        "outputId": "7df5ae6e-a65e-4e32-af5f-d875f4bc8b1f"
      },
      "source": [
        "5 * 3 + 2  # quociente * divisor + resto"
      ],
      "execution_count": 251,
      "outputs": [
        {
          "output_type": "execute_result",
          "data": {
            "text/plain": [
              "17"
            ]
          },
          "metadata": {
            "tags": []
          },
          "execution_count": 251
        }
      ]
    },
    {
      "cell_type": "code",
      "metadata": {
        "colab": {
          "base_uri": "https://localhost:8080/"
        },
        "id": "gJwpsyLxPmJv",
        "outputId": "83799c45-ee1c-4ac8-95a0-c360313b7a43"
      },
      "source": [
        "5 ** 2  # 5 ao quadrado (base multiplicada pela quantidade do expoente)"
      ],
      "execution_count": 252,
      "outputs": [
        {
          "output_type": "execute_result",
          "data": {
            "text/plain": [
              "25"
            ]
          },
          "metadata": {
            "tags": []
          },
          "execution_count": 252
        }
      ]
    },
    {
      "cell_type": "code",
      "metadata": {
        "colab": {
          "base_uri": "https://localhost:8080/"
        },
        "id": "9qL8cAPwPr6G",
        "outputId": "d1e91191-f10e-4e4a-86cf-6461054aeef7"
      },
      "source": [
        "2 ** 7  # elevado à 7 potência"
      ],
      "execution_count": 253,
      "outputs": [
        {
          "output_type": "execute_result",
          "data": {
            "text/plain": [
              "128"
            ]
          },
          "metadata": {
            "tags": []
          },
          "execution_count": 253
        }
      ]
    },
    {
      "cell_type": "code",
      "metadata": {
        "id": "0LCYyrISEgd7"
      },
      "source": [
        "from math import * # necessário importar módulo de matemática para mais operações"
      ],
      "execution_count": 254,
      "outputs": []
    },
    {
      "cell_type": "code",
      "metadata": {
        "colab": {
          "base_uri": "https://localhost:8080/"
        },
        "id": "MRKKQX4JFfuq",
        "outputId": "022b29e1-4e69-4c09-d016-27c943372f7c"
      },
      "source": [
        "sqrt(64) # raiz quadrada"
      ],
      "execution_count": 267,
      "outputs": [
        {
          "output_type": "execute_result",
          "data": {
            "text/plain": [
              "8.0"
            ]
          },
          "metadata": {
            "tags": []
          },
          "execution_count": 267
        }
      ]
    },
    {
      "cell_type": "code",
      "metadata": {
        "colab": {
          "base_uri": "https://localhost:8080/"
        },
        "id": "Hsy2pB8KGn6D",
        "outputId": "6f04c3ee-c234-4199-b594-4f830e40be3a"
      },
      "source": [
        "8 ** (1/3) # outra forma de calcular raízes"
      ],
      "execution_count": 268,
      "outputs": [
        {
          "output_type": "execute_result",
          "data": {
            "text/plain": [
              "2.0"
            ]
          },
          "metadata": {
            "tags": []
          },
          "execution_count": 268
        }
      ]
    },
    {
      "cell_type": "code",
      "metadata": {
        "colab": {
          "base_uri": "https://localhost:8080/"
        },
        "id": "gikBcSI-GFU0",
        "outputId": "75af73d3-4662-4f58-b926-b224cc7430b9"
      },
      "source": [
        "sum([2,4]) # soma"
      ],
      "execution_count": 269,
      "outputs": [
        {
          "output_type": "execute_result",
          "data": {
            "text/plain": [
              "6"
            ]
          },
          "metadata": {
            "tags": []
          },
          "execution_count": 269
        }
      ]
    },
    {
      "cell_type": "code",
      "metadata": {
        "colab": {
          "base_uri": "https://localhost:8080/"
        },
        "id": "pCz9NYhMGTek",
        "outputId": "bce0339d-1bb7-424e-80e8-f5d9f2ffcfe6"
      },
      "source": [
        "max([1,2,3,4,5]) # máximo"
      ],
      "execution_count": 270,
      "outputs": [
        {
          "output_type": "execute_result",
          "data": {
            "text/plain": [
              "5"
            ]
          },
          "metadata": {
            "tags": []
          },
          "execution_count": 270
        }
      ]
    },
    {
      "cell_type": "code",
      "metadata": {
        "colab": {
          "base_uri": "https://localhost:8080/"
        },
        "id": "qDD4QIYcGa8c",
        "outputId": "58ca37b5-eefc-4c96-8ba0-6e5f14dc4542"
      },
      "source": [
        "pi # constantes"
      ],
      "execution_count": 271,
      "outputs": [
        {
          "output_type": "execute_result",
          "data": {
            "text/plain": [
              "3.141592653589793"
            ]
          },
          "metadata": {
            "tags": []
          },
          "execution_count": 271
        }
      ]
    },
    {
      "cell_type": "markdown",
      "metadata": {
        "id": "RwFx9XSvPxG7"
      },
      "source": [
        "### **Variáveis**"
      ]
    },
    {
      "cell_type": "code",
      "metadata": {
        "colab": {
          "base_uri": "https://localhost:8080/",
          "height": 129
        },
        "id": "DE4lOLTLcf00",
        "outputId": "32a61a36-9210-4828-d12f-a817642e2786"
      },
      "source": [
        "1variavel = 1 # não é permitido iniciar variáveis com números"
      ],
      "execution_count": 272,
      "outputs": [
        {
          "output_type": "error",
          "ename": "SyntaxError",
          "evalue": "ignored",
          "traceback": [
            "\u001b[0;36m  File \u001b[0;32m\"<ipython-input-272-97b0fa6f69df>\"\u001b[0;36m, line \u001b[0;32m1\u001b[0m\n\u001b[0;31m    1variavel = 1 # não é permitido iniciar variáveis com números\u001b[0m\n\u001b[0m            ^\u001b[0m\n\u001b[0;31mSyntaxError\u001b[0m\u001b[0;31m:\u001b[0m invalid syntax\n"
          ]
        }
      ]
    },
    {
      "cell_type": "code",
      "metadata": {
        "colab": {
          "base_uri": "https://localhost:8080/",
          "height": 129
        },
        "id": "_NrZEoFBctfI",
        "outputId": "8023cf69-be99-4cd2-e8e3-b45c27063f64"
      },
      "source": [
        "$variavel = 2 # não é permitido iniciar variáveis com caracteres não Alfa-Numéricos (A-z, 0-9)"
      ],
      "execution_count": 274,
      "outputs": [
        {
          "output_type": "error",
          "ename": "SyntaxError",
          "evalue": "ignored",
          "traceback": [
            "\u001b[0;36m  File \u001b[0;32m\"<ipython-input-274-23851442fbfd>\"\u001b[0;36m, line \u001b[0;32m1\u001b[0m\n\u001b[0;31m    $variavel = 2 # não é permitido iniciar variáveis com caracteres não Alfa-Numéricos (A-z, 0-9)\u001b[0m\n\u001b[0m    ^\u001b[0m\n\u001b[0;31mSyntaxError\u001b[0m\u001b[0;31m:\u001b[0m invalid syntax\n"
          ]
        }
      ]
    },
    {
      "cell_type": "code",
      "metadata": {
        "id": "Wbwl6s1ldj-S"
      },
      "source": [
        "_variavel = 2 #  com exceção do _"
      ],
      "execution_count": 275,
      "outputs": []
    },
    {
      "cell_type": "code",
      "metadata": {
        "id": "oZLWpcI3czG7"
      },
      "source": [
        "variavel1 = 1 # variáveis são case-sensitive (diferencia maiusculas de minusculas)"
      ],
      "execution_count": 276,
      "outputs": []
    },
    {
      "cell_type": "code",
      "metadata": {
        "id": "PnTv3Dmac4MB"
      },
      "source": [
        "Variavel1 = 2"
      ],
      "execution_count": 277,
      "outputs": []
    },
    {
      "cell_type": "code",
      "metadata": {
        "colab": {
          "base_uri": "https://localhost:8080/"
        },
        "id": "yfHyDAykc8Bu",
        "outputId": "63ac3fb6-843a-41b9-9fbc-bf9bc08256b6"
      },
      "source": [
        "variavel1 == 2"
      ],
      "execution_count": 278,
      "outputs": [
        {
          "output_type": "execute_result",
          "data": {
            "text/plain": [
              "False"
            ]
          },
          "metadata": {
            "tags": []
          },
          "execution_count": 278
        }
      ]
    },
    {
      "cell_type": "code",
      "metadata": {
        "colab": {
          "base_uri": "https://localhost:8080/",
          "height": 129
        },
        "id": "ple-aafreAXy",
        "outputId": "e0ce1073-df5c-4c0f-f856-f65ad60ef1ce"
      },
      "source": [
        "True = 1 # palavras reservadas"
      ],
      "execution_count": 281,
      "outputs": [
        {
          "output_type": "error",
          "ename": "SyntaxError",
          "evalue": "ignored",
          "traceback": [
            "\u001b[0;36m  File \u001b[0;32m\"<ipython-input-281-80e9150357d4>\"\u001b[0;36m, line \u001b[0;32m1\u001b[0m\n\u001b[0;31m    True = 1 # palavras reservadas\u001b[0m\n\u001b[0m                                  ^\u001b[0m\n\u001b[0;31mSyntaxError\u001b[0m\u001b[0;31m:\u001b[0m can't assign to keyword\n"
          ]
        }
      ]
    },
    {
      "cell_type": "code",
      "metadata": {
        "id": "vfFvqGO96PIo"
      },
      "source": [
        "variavel_nomes_multiplos = 100 # convenção para nomes de variáveis"
      ],
      "execution_count": null,
      "outputs": []
    },
    {
      "cell_type": "code",
      "metadata": {
        "id": "5EYoiKKEP0GS"
      },
      "source": [
        "largura = 20 # variável do tipo inteiro"
      ],
      "execution_count": 282,
      "outputs": []
    },
    {
      "cell_type": "code",
      "metadata": {
        "colab": {
          "base_uri": "https://localhost:8080/"
        },
        "id": "0jKZ7l4v3tsU",
        "outputId": "c8577ec8-5a69-4e8b-f48b-c4c8efe7f1f6"
      },
      "source": [
        "type(largura)"
      ],
      "execution_count": 283,
      "outputs": [
        {
          "output_type": "execute_result",
          "data": {
            "text/plain": [
              "int"
            ]
          },
          "metadata": {
            "tags": []
          },
          "execution_count": 283
        }
      ]
    },
    {
      "cell_type": "code",
      "metadata": {
        "id": "5Pr_CLyFP5IG"
      },
      "source": [
        "comprimento = 5.37 # variável do tipo float"
      ],
      "execution_count": 284,
      "outputs": []
    },
    {
      "cell_type": "code",
      "metadata": {
        "colab": {
          "base_uri": "https://localhost:8080/"
        },
        "id": "ajBDaX5f374J",
        "outputId": "a7765b51-5c5b-42fb-e3a3-6b213156229c"
      },
      "source": [
        "type(comprimento)"
      ],
      "execution_count": 285,
      "outputs": [
        {
          "output_type": "execute_result",
          "data": {
            "text/plain": [
              "float"
            ]
          },
          "metadata": {
            "tags": []
          },
          "execution_count": 285
        }
      ]
    },
    {
      "cell_type": "code",
      "metadata": {
        "id": "gt4KDCfzP7ug"
      },
      "source": [
        "area = largura * comprimento # operações com tipos multiplos de variáveis (inteiro x flutuante) são convertidos para float"
      ],
      "execution_count": 286,
      "outputs": []
    },
    {
      "cell_type": "code",
      "metadata": {
        "colab": {
          "base_uri": "https://localhost:8080/"
        },
        "id": "P8vJMpw-skR7",
        "outputId": "60ba0f25-56cf-4621-9696-f903ee696063"
      },
      "source": [
        "area"
      ],
      "execution_count": 287,
      "outputs": [
        {
          "output_type": "execute_result",
          "data": {
            "text/plain": [
              "107.4"
            ]
          },
          "metadata": {
            "tags": []
          },
          "execution_count": 287
        }
      ]
    },
    {
      "cell_type": "code",
      "metadata": {
        "colab": {
          "base_uri": "https://localhost:8080/"
        },
        "id": "i-aPFUkU4B7e",
        "outputId": "5de5732b-be64-42fa-ae6e-b48ed2d99684"
      },
      "source": [
        "type(area)"
      ],
      "execution_count": 73,
      "outputs": [
        {
          "output_type": "execute_result",
          "data": {
            "text/plain": [
              "float"
            ]
          },
          "metadata": {
            "tags": []
          },
          "execution_count": 73
        }
      ]
    },
    {
      "cell_type": "code",
      "metadata": {
        "id": "KCS84W-r4e2t"
      },
      "source": [
        "area = int(area) # convertendo tipos das variáveis"
      ],
      "execution_count": 288,
      "outputs": []
    },
    {
      "cell_type": "code",
      "metadata": {
        "colab": {
          "base_uri": "https://localhost:8080/"
        },
        "id": "IR8JIEVV4rN_",
        "outputId": "441520ef-12ce-4974-e5de-91559fb5d78b"
      },
      "source": [
        "type(area)"
      ],
      "execution_count": 289,
      "outputs": [
        {
          "output_type": "execute_result",
          "data": {
            "text/plain": [
              "int"
            ]
          },
          "metadata": {
            "tags": []
          },
          "execution_count": 289
        }
      ]
    },
    {
      "cell_type": "code",
      "metadata": {
        "colab": {
          "base_uri": "https://localhost:8080/"
        },
        "id": "RD9KfMGRKUqf",
        "outputId": "9fcfc165-ffba-4e4f-833e-c5834309a846"
      },
      "source": [
        "area"
      ],
      "execution_count": 290,
      "outputs": [
        {
          "output_type": "execute_result",
          "data": {
            "text/plain": [
              "107"
            ]
          },
          "metadata": {
            "tags": []
          },
          "execution_count": 290
        }
      ]
    },
    {
      "cell_type": "code",
      "metadata": {
        "colab": {
          "base_uri": "https://localhost:8080/",
          "height": 35
        },
        "id": "s_uELRVAA6d4",
        "outputId": "e32973ff-0e50-4b35-8a52-1db2ccd6284e"
      },
      "source": [
        "str(area)"
      ],
      "execution_count": 291,
      "outputs": [
        {
          "output_type": "execute_result",
          "data": {
            "application/vnd.google.colaboratory.intrinsic+json": {
              "type": "string"
            },
            "text/plain": [
              "'107'"
            ]
          },
          "metadata": {
            "tags": []
          },
          "execution_count": 291
        }
      ]
    },
    {
      "cell_type": "code",
      "metadata": {
        "id": "M0tENT4LQP_F"
      },
      "source": [
        "divisao_float = 12.5 / comprimento "
      ],
      "execution_count": 292,
      "outputs": []
    },
    {
      "cell_type": "code",
      "metadata": {
        "colab": {
          "base_uri": "https://localhost:8080/"
        },
        "id": "fBm5LhmLtTOy",
        "outputId": "def9d5ce-900b-4c0e-d165-458a5fcea72f"
      },
      "source": [
        "divisao_float"
      ],
      "execution_count": 293,
      "outputs": [
        {
          "output_type": "execute_result",
          "data": {
            "text/plain": [
              "2.3277467411545625"
            ]
          },
          "metadata": {
            "tags": []
          },
          "execution_count": 293
        }
      ]
    },
    {
      "cell_type": "code",
      "metadata": {
        "id": "Ac0wYZouQgdj"
      },
      "source": [
        "valor_float = 100.50"
      ],
      "execution_count": 294,
      "outputs": []
    },
    {
      "cell_type": "code",
      "metadata": {
        "colab": {
          "base_uri": "https://localhost:8080/"
        },
        "id": "1RelFa5bQjNg",
        "outputId": "c8ba263c-9290-45f2-f3e2-b9658fb23674"
      },
      "source": [
        "valor_float * divisao_float"
      ],
      "execution_count": 295,
      "outputs": [
        {
          "output_type": "execute_result",
          "data": {
            "text/plain": [
              "233.93854748603354"
            ]
          },
          "metadata": {
            "tags": []
          },
          "execution_count": 295
        }
      ]
    },
    {
      "cell_type": "code",
      "metadata": {
        "colab": {
          "base_uri": "https://localhost:8080/"
        },
        "id": "Lyl0i9hmQmTh",
        "outputId": "996a8ec3-6f75-40af-94fd-da6888ff6ce4"
      },
      "source": [
        "valor_float + _ # acessando o valor do retorno anterior"
      ],
      "execution_count": 296,
      "outputs": [
        {
          "output_type": "execute_result",
          "data": {
            "text/plain": [
              "334.43854748603354"
            ]
          },
          "metadata": {
            "tags": []
          },
          "execution_count": 296
        }
      ]
    },
    {
      "cell_type": "code",
      "metadata": {
        "id": "uci62_M_6x-e"
      },
      "source": [
        "x, y, z = 1, 2, 3 # multiplas atribuições"
      ],
      "execution_count": 297,
      "outputs": []
    },
    {
      "cell_type": "code",
      "metadata": {
        "colab": {
          "base_uri": "https://localhost:8080/"
        },
        "id": "5OdE6e-6639A",
        "outputId": "728be57e-ff20-48d1-b973-ae0f90ff2aca"
      },
      "source": [
        "print(x, y, z)"
      ],
      "execution_count": 298,
      "outputs": [
        {
          "output_type": "stream",
          "text": [
            "1 2 3\n"
          ],
          "name": "stdout"
        }
      ]
    },
    {
      "cell_type": "code",
      "metadata": {
        "colab": {
          "base_uri": "https://localhost:8080/",
          "height": 163
        },
        "id": "qK05UOg7P_7m",
        "outputId": "646f23dc-8555-4497-8143-b5739fa501a9"
      },
      "source": [
        "n  # tentando acessar uma variável não definida previamente"
      ],
      "execution_count": 299,
      "outputs": [
        {
          "output_type": "error",
          "ename": "NameError",
          "evalue": "ignored",
          "traceback": [
            "\u001b[0;31m---------------------------------------------------------------------------\u001b[0m",
            "\u001b[0;31mNameError\u001b[0m                                 Traceback (most recent call last)",
            "\u001b[0;32m<ipython-input-299-3d7476442dc7>\u001b[0m in \u001b[0;36m<module>\u001b[0;34m()\u001b[0m\n\u001b[0;32m----> 1\u001b[0;31m \u001b[0mn\u001b[0m  \u001b[0;31m# tentando acessar uma variável não definida previamente\u001b[0m\u001b[0;34m\u001b[0m\u001b[0;34m\u001b[0m\u001b[0m\n\u001b[0m",
            "\u001b[0;31mNameError\u001b[0m: name 'n' is not defined"
          ]
        }
      ]
    },
    {
      "cell_type": "markdown",
      "metadata": {
        "id": "ziOU2O3aQpKb"
      },
      "source": [
        "### **Strings**"
      ]
    },
    {
      "cell_type": "code",
      "metadata": {
        "id": "YmLMqg4XQrgg"
      },
      "source": [
        "# podem ser expressadas por aspas simples '...', aspas duplas \"...\" ou \"\"\"...\"\"\". \\ é utilizada para expressar aspas"
      ],
      "execution_count": 300,
      "outputs": []
    },
    {
      "cell_type": "code",
      "metadata": {
        "colab": {
          "base_uri": "https://localhost:8080/"
        },
        "id": "8fmcNhNrLzMc",
        "outputId": "5e8a51de-6c5d-4297-e7d1-44d6a27ee0dd"
      },
      "source": [
        "print('atenção estamos no modo interativo')"
      ],
      "execution_count": 334,
      "outputs": [
        {
          "output_type": "stream",
          "text": [
            "atenção estamos no modo interativo\n"
          ],
          "name": "stdout"
        }
      ]
    },
    {
      "cell_type": "code",
      "metadata": {
        "colab": {
          "base_uri": "https://localhost:8080/",
          "height": 35
        },
        "id": "-mAfeTSEQ3sp",
        "outputId": "1fded756-9440-4877-e714-d8c10e5e6d45"
      },
      "source": [
        "'exemplo de aspas simpes'"
      ],
      "execution_count": 335,
      "outputs": [
        {
          "output_type": "execute_result",
          "data": {
            "application/vnd.google.colaboratory.intrinsic+json": {
              "type": "string"
            },
            "text/plain": [
              "'exemplo de aspas simpes'"
            ]
          },
          "metadata": {
            "tags": []
          },
          "execution_count": 335
        }
      ]
    },
    {
      "cell_type": "code",
      "metadata": {
        "colab": {
          "base_uri": "https://localhost:8080/",
          "height": 35
        },
        "id": "yJn_oVWU8q3o",
        "outputId": "35fc898f-22ed-4ad3-e017-2fb7935b82a6"
      },
      "source": [
        "\"exemplo de aspas duplas\""
      ],
      "execution_count": 336,
      "outputs": [
        {
          "output_type": "execute_result",
          "data": {
            "application/vnd.google.colaboratory.intrinsic+json": {
              "type": "string"
            },
            "text/plain": [
              "'exemplo de aspas duplas'"
            ]
          },
          "metadata": {
            "tags": []
          },
          "execution_count": 336
        }
      ]
    },
    {
      "cell_type": "code",
      "metadata": {
        "colab": {
          "base_uri": "https://localhost:8080/",
          "height": 35
        },
        "id": "AUZu9Xrl8uuS",
        "outputId": "8fe34e90-ea17-446b-e5b0-f33b32047c44"
      },
      "source": [
        "\"\"\"exemplos, \\n\n",
        "\\tde,\n",
        "'aspas'\n",
        "\"triplas\".\"\"\""
      ],
      "execution_count": 337,
      "outputs": [
        {
          "output_type": "execute_result",
          "data": {
            "application/vnd.google.colaboratory.intrinsic+json": {
              "type": "string"
            },
            "text/plain": [
              "'exemplos, \\n\\n\\tde,\\n\\'aspas\\'\\n\"triplas\".'"
            ]
          },
          "metadata": {
            "tags": []
          },
          "execution_count": 337
        }
      ]
    },
    {
      "cell_type": "code",
      "metadata": {
        "colab": {
          "base_uri": "https://localhost:8080/"
        },
        "id": "bMKMRqyfMw5A",
        "outputId": "c71d120c-feaf-4f66-b2ea-a03290efd34d"
      },
      "source": [
        "print(\"\"\"exemplos, \\n\n",
        "\\tde,\n",
        "'aspas'\n",
        "\"triplas\".\"\"\")"
      ],
      "execution_count": 338,
      "outputs": [
        {
          "output_type": "stream",
          "text": [
            "exemplos, \n",
            "\n",
            "\tde,\n",
            "'aspas'\n",
            "\"triplas\".\n"
          ],
          "name": "stdout"
        }
      ]
    },
    {
      "cell_type": "code",
      "metadata": {
        "colab": {
          "base_uri": "https://localhost:8080/",
          "height": 35
        },
        "id": "Y9ciCdFQRADv",
        "outputId": "11912f71-f32b-4a34-95d9-2943bc88c7a7"
      },
      "source": [
        "'aspas (\\') simples dentro de aspas simples usando caracter de escape' "
      ],
      "execution_count": 339,
      "outputs": [
        {
          "output_type": "execute_result",
          "data": {
            "application/vnd.google.colaboratory.intrinsic+json": {
              "type": "string"
            },
            "text/plain": [
              "\"aspas (') simples dentro de aspas simples usando caracter de escape\""
            ]
          },
          "metadata": {
            "tags": []
          },
          "execution_count": 339
        }
      ]
    },
    {
      "cell_type": "code",
      "metadata": {
        "colab": {
          "base_uri": "https://localhost:8080/",
          "height": 35
        },
        "id": "fAhElk0yRD6Z",
        "outputId": "9feb0238-6f79-40c4-a317-4cc7064c603a"
      },
      "source": [
        "\"aspas simples (') dentro de aspas duplas\" "
      ],
      "execution_count": 340,
      "outputs": [
        {
          "output_type": "execute_result",
          "data": {
            "application/vnd.google.colaboratory.intrinsic+json": {
              "type": "string"
            },
            "text/plain": [
              "\"aspas simples (') dentro de aspas duplas\""
            ]
          },
          "metadata": {
            "tags": []
          },
          "execution_count": 340
        }
      ]
    },
    {
      "cell_type": "code",
      "metadata": {
        "colab": {
          "base_uri": "https://localhost:8080/",
          "height": 35
        },
        "id": "XgWwBkjeRKwF",
        "outputId": "74365094-c1ab-4dfe-bc8f-f211923eeee3"
      },
      "source": [
        "'\"aspas duplas dentro\" de aspas simples.'"
      ],
      "execution_count": 341,
      "outputs": [
        {
          "output_type": "execute_result",
          "data": {
            "application/vnd.google.colaboratory.intrinsic+json": {
              "type": "string"
            },
            "text/plain": [
              "'\"aspas duplas dentro\" de aspas simples.'"
            ]
          },
          "metadata": {
            "tags": []
          },
          "execution_count": 341
        }
      ]
    },
    {
      "cell_type": "code",
      "metadata": {
        "colab": {
          "base_uri": "https://localhost:8080/",
          "height": 35
        },
        "id": "EI_bRfUKRQRP",
        "outputId": "bffd9e1a-cf17-4f81-af19-424f2c3ec850"
      },
      "source": [
        "\"\\\"usando caracter de escape\\\" pra usar aspas duplas dentro de aspas duplas\""
      ],
      "execution_count": 342,
      "outputs": [
        {
          "output_type": "execute_result",
          "data": {
            "application/vnd.google.colaboratory.intrinsic+json": {
              "type": "string"
            },
            "text/plain": [
              "'\"usando caracter de escape\" pra usar aspas duplas dentro de aspas duplas'"
            ]
          },
          "metadata": {
            "tags": []
          },
          "execution_count": 342
        }
      ]
    },
    {
      "cell_type": "code",
      "metadata": {
        "colab": {
          "base_uri": "https://localhost:8080/",
          "height": 35
        },
        "id": "zvLgNtD5RTLT",
        "outputId": "44d4bcaf-b6cf-4083-bd2f-0f5d64d67225"
      },
      "source": [
        "'\"Expressando escape \\'t\" dentro de aspas simples.'"
      ],
      "execution_count": 343,
      "outputs": [
        {
          "output_type": "execute_result",
          "data": {
            "application/vnd.google.colaboratory.intrinsic+json": {
              "type": "string"
            },
            "text/plain": [
              "'\"Expressando escape \\'t\" dentro de aspas simples.'"
            ]
          },
          "metadata": {
            "tags": []
          },
          "execution_count": 343
        }
      ]
    },
    {
      "cell_type": "code",
      "metadata": {
        "id": "cOP3dV97SYp6"
      },
      "source": [
        "#No interpretador interativo, a string de saída é colocada entre aspas e os caracteres especiais são escapados com barras invertidas. Embora isso às vezes possa parecer diferente da entrada (as aspas podem mudar), as duas strings são equivalentes. A string é colocada entre aspas duplas se contiver aspas simples e sem aspas duplas; caso contrário, ela é colocada entre aspas simples. A função print () produz uma saída mais legível, omitindo as aspas e imprimindo caracteres especiais e de escape"
      ],
      "execution_count": 313,
      "outputs": []
    },
    {
      "cell_type": "code",
      "metadata": {
        "id": "_3HVlQ0RSRfg"
      },
      "source": [
        "s = 'Primeira linha.\\nSegunda linha.'  # \\n significa nova linha"
      ],
      "execution_count": 344,
      "outputs": []
    },
    {
      "cell_type": "code",
      "metadata": {
        "colab": {
          "base_uri": "https://localhost:8080/",
          "height": 35
        },
        "id": "uNieZO1VSfFo",
        "outputId": "064c9921-e9ff-4d56-cde5-d24665b1aa1a"
      },
      "source": [
        "s"
      ],
      "execution_count": 345,
      "outputs": [
        {
          "output_type": "execute_result",
          "data": {
            "application/vnd.google.colaboratory.intrinsic+json": {
              "type": "string"
            },
            "text/plain": [
              "'Primeira linha.\\nSegunda linha.'"
            ]
          },
          "metadata": {
            "tags": []
          },
          "execution_count": 345
        }
      ]
    },
    {
      "cell_type": "code",
      "metadata": {
        "colab": {
          "base_uri": "https://localhost:8080/"
        },
        "id": "uz6SOPtCSmLy",
        "outputId": "0267e037-1f62-41f9-ce74-b317409a5fd6"
      },
      "source": [
        "print(s)"
      ],
      "execution_count": 346,
      "outputs": [
        {
          "output_type": "stream",
          "text": [
            "Primeira linha.\n",
            "Segunda linha.\n"
          ],
          "name": "stdout"
        }
      ]
    },
    {
      "cell_type": "code",
      "metadata": {
        "colab": {
          "base_uri": "https://localhost:8080/"
        },
        "id": "39b_2FlxSw5z",
        "outputId": "80b7d2a9-ddea-4b4d-d151-fae230ba6d4d"
      },
      "source": [
        "print('C:\\exemplo\\nome')"
      ],
      "execution_count": 347,
      "outputs": [
        {
          "output_type": "stream",
          "text": [
            "C:\\exemplo\n",
            "ome\n"
          ],
          "name": "stdout"
        }
      ]
    },
    {
      "cell_type": "code",
      "metadata": {
        "colab": {
          "base_uri": "https://localhost:8080/"
        },
        "id": "227k4CZGS3_P",
        "outputId": "0e79067a-700d-418f-913d-246458594372"
      },
      "source": [
        "print(r'C:\\some\\name')  # coloque r ou R antes das aspas para imprimir a \"raw string\", caracteres de escape não são interpretados"
      ],
      "execution_count": 348,
      "outputs": [
        {
          "output_type": "stream",
          "text": [
            "C:\\some\\name\n"
          ],
          "name": "stdout"
        }
      ]
    },
    {
      "cell_type": "code",
      "metadata": {
        "colab": {
          "base_uri": "https://localhost:8080/",
          "height": 35
        },
        "id": "glrgg7OyTM1R",
        "outputId": "52b75330-660a-4939-b3df-33b7f29d4055"
      },
      "source": [
        "3 * 'k' + 'haha'"
      ],
      "execution_count": 349,
      "outputs": [
        {
          "output_type": "execute_result",
          "data": {
            "application/vnd.google.colaboratory.intrinsic+json": {
              "type": "string"
            },
            "text/plain": [
              "'kkkhaha'"
            ]
          },
          "metadata": {
            "tags": []
          },
          "execution_count": 349
        }
      ]
    },
    {
      "cell_type": "code",
      "metadata": {
        "id": "3uSHuv9nTtKy"
      },
      "source": [
        "prefixo = 'Py'"
      ],
      "execution_count": 351,
      "outputs": []
    },
    {
      "cell_type": "code",
      "metadata": {
        "colab": {
          "base_uri": "https://localhost:8080/",
          "height": 35
        },
        "id": "UjVkKP_GTwSs",
        "outputId": "c8bf8fc6-5df6-47a1-f21f-1d295b2cb51d"
      },
      "source": [
        "prefixo + 'thon'"
      ],
      "execution_count": 352,
      "outputs": [
        {
          "output_type": "execute_result",
          "data": {
            "application/vnd.google.colaboratory.intrinsic+json": {
              "type": "string"
            },
            "text/plain": [
              "'Python'"
            ]
          },
          "metadata": {
            "tags": []
          },
          "execution_count": 352
        }
      ]
    },
    {
      "cell_type": "code",
      "metadata": {
        "id": "fraVwPkfT2Md"
      },
      "source": [
        "palavra = 'Python'"
      ],
      "execution_count": 353,
      "outputs": []
    },
    {
      "cell_type": "code",
      "metadata": {
        "colab": {
          "base_uri": "https://localhost:8080/",
          "height": 35
        },
        "id": "2gREqRP_T4y9",
        "outputId": "2e08fb9b-c575-4815-e487-dd0c9a4178b7"
      },
      "source": [
        "palavra[0]  # caractere na posição de índice 0 (primeira posição)"
      ],
      "execution_count": 354,
      "outputs": [
        {
          "output_type": "execute_result",
          "data": {
            "application/vnd.google.colaboratory.intrinsic+json": {
              "type": "string"
            },
            "text/plain": [
              "'P'"
            ]
          },
          "metadata": {
            "tags": []
          },
          "execution_count": 354
        }
      ]
    },
    {
      "cell_type": "code",
      "metadata": {
        "colab": {
          "base_uri": "https://localhost:8080/",
          "height": 35
        },
        "id": "zP9BCRrCT7Uk",
        "outputId": "39d6f776-1365-4aa3-e086-674f2543c373"
      },
      "source": [
        "palavra[5]  # caractere no índice 5 (sexta posição)"
      ],
      "execution_count": 355,
      "outputs": [
        {
          "output_type": "execute_result",
          "data": {
            "application/vnd.google.colaboratory.intrinsic+json": {
              "type": "string"
            },
            "text/plain": [
              "'n'"
            ]
          },
          "metadata": {
            "tags": []
          },
          "execution_count": 355
        }
      ]
    },
    {
      "cell_type": "code",
      "metadata": {
        "colab": {
          "base_uri": "https://localhost:8080/",
          "height": 35
        },
        "id": "biSlk6-0T_Sv",
        "outputId": "d0febb3f-38c4-4200-93e7-f3f42d7fa14c"
      },
      "source": [
        "palavra[-1]  # ultimo carectere"
      ],
      "execution_count": 356,
      "outputs": [
        {
          "output_type": "execute_result",
          "data": {
            "application/vnd.google.colaboratory.intrinsic+json": {
              "type": "string"
            },
            "text/plain": [
              "'n'"
            ]
          },
          "metadata": {
            "tags": []
          },
          "execution_count": 356
        }
      ]
    },
    {
      "cell_type": "code",
      "metadata": {
        "colab": {
          "base_uri": "https://localhost:8080/",
          "height": 35
        },
        "id": "-Z7WmivIUCVV",
        "outputId": "fc60a078-8a0e-4da1-e02a-ac69cb5489e9"
      },
      "source": [
        "palavra[-2]  # penultimo"
      ],
      "execution_count": 357,
      "outputs": [
        {
          "output_type": "execute_result",
          "data": {
            "application/vnd.google.colaboratory.intrinsic+json": {
              "type": "string"
            },
            "text/plain": [
              "'o'"
            ]
          },
          "metadata": {
            "tags": []
          },
          "execution_count": 357
        }
      ]
    },
    {
      "cell_type": "code",
      "metadata": {
        "colab": {
          "base_uri": "https://localhost:8080/",
          "height": 35
        },
        "id": "RWQvvWhrUJCx",
        "outputId": "94410c0d-52a8-4ac9-ce87-07d1fd0da0a5"
      },
      "source": [
        "palavra[0:2]  # caracteres do índice 0 (inclusive) até 2 (não incluído)"
      ],
      "execution_count": 358,
      "outputs": [
        {
          "output_type": "execute_result",
          "data": {
            "application/vnd.google.colaboratory.intrinsic+json": {
              "type": "string"
            },
            "text/plain": [
              "'Py'"
            ]
          },
          "metadata": {
            "tags": []
          },
          "execution_count": 358
        }
      ]
    },
    {
      "cell_type": "code",
      "metadata": {
        "colab": {
          "base_uri": "https://localhost:8080/",
          "height": 35
        },
        "id": "_Zo5TSZlUMXZ",
        "outputId": "a4380fb6-cfd8-4af6-cc1e-da90085b9d3f"
      },
      "source": [
        "palavra[2:5]  # caracteres do índice 2 (inclusive) até 5 (não incluído) "
      ],
      "execution_count": 360,
      "outputs": [
        {
          "output_type": "execute_result",
          "data": {
            "application/vnd.google.colaboratory.intrinsic+json": {
              "type": "string"
            },
            "text/plain": [
              "'tho'"
            ]
          },
          "metadata": {
            "tags": []
          },
          "execution_count": 360
        }
      ]
    },
    {
      "cell_type": "code",
      "metadata": {
        "colab": {
          "base_uri": "https://localhost:8080/",
          "height": 35
        },
        "id": "4Qugx7vxEcc8",
        "outputId": "a4dcc228-77c4-4195-c82d-785458230f1c"
      },
      "source": [
        "palavra[:2]"
      ],
      "execution_count": 361,
      "outputs": [
        {
          "output_type": "execute_result",
          "data": {
            "application/vnd.google.colaboratory.intrinsic+json": {
              "type": "string"
            },
            "text/plain": [
              "'Py'"
            ]
          },
          "metadata": {
            "tags": []
          },
          "execution_count": 361
        }
      ]
    },
    {
      "cell_type": "code",
      "metadata": {
        "colab": {
          "base_uri": "https://localhost:8080/",
          "height": 35
        },
        "id": "uOxRQ5EDEgmb",
        "outputId": "7fad7504-013d-4635-c6a3-dbdcd549c175"
      },
      "source": [
        "palavra[2:]"
      ],
      "execution_count": 362,
      "outputs": [
        {
          "output_type": "execute_result",
          "data": {
            "application/vnd.google.colaboratory.intrinsic+json": {
              "type": "string"
            },
            "text/plain": [
              "'thon'"
            ]
          },
          "metadata": {
            "tags": []
          },
          "execution_count": 362
        }
      ]
    },
    {
      "cell_type": "code",
      "metadata": {
        "colab": {
          "base_uri": "https://localhost:8080/",
          "height": 35
        },
        "id": "egoQc4tcUTWn",
        "outputId": "563f65d1-1395-4f86-d9ee-7a96d3609e6e"
      },
      "source": [
        "palavra[:2] + palavra[2:]"
      ],
      "execution_count": 363,
      "outputs": [
        {
          "output_type": "execute_result",
          "data": {
            "application/vnd.google.colaboratory.intrinsic+json": {
              "type": "string"
            },
            "text/plain": [
              "'Python'"
            ]
          },
          "metadata": {
            "tags": []
          },
          "execution_count": 363
        }
      ]
    },
    {
      "cell_type": "code",
      "metadata": {
        "id": "4kareBfoU4bE",
        "colab": {
          "base_uri": "https://localhost:8080/",
          "height": 35
        },
        "outputId": "ff89a580-1b43-4af4-b3e0-95f598dc695e"
      },
      "source": [
        "palavra[-2:]"
      ],
      "execution_count": 364,
      "outputs": [
        {
          "output_type": "execute_result",
          "data": {
            "application/vnd.google.colaboratory.intrinsic+json": {
              "type": "string"
            },
            "text/plain": [
              "'on'"
            ]
          },
          "metadata": {
            "tags": []
          },
          "execution_count": 364
        }
      ]
    },
    {
      "cell_type": "code",
      "metadata": {
        "id": "Wj6Rq_l_VE1y"
      },
      "source": [
        " +---+---+---+---+---+---+\n",
        " | P | y | t | h | o | n |\n",
        " +---+---+---+---+---+---+\n",
        " 0   1   2   3   4   5   6\n",
        "-6  -5  -4  -3  -2  -1"
      ],
      "execution_count": null,
      "outputs": []
    },
    {
      "cell_type": "code",
      "metadata": {
        "colab": {
          "base_uri": "https://localhost:8080/",
          "height": 163
        },
        "id": "YqJMzqo2VJUS",
        "outputId": "5f46aab7-233d-4f6b-a42d-591a1a911629"
      },
      "source": [
        "palavra[42] "
      ],
      "execution_count": 365,
      "outputs": [
        {
          "output_type": "error",
          "ename": "IndexError",
          "evalue": "ignored",
          "traceback": [
            "\u001b[0;31m---------------------------------------------------------------------------\u001b[0m",
            "\u001b[0;31mIndexError\u001b[0m                                Traceback (most recent call last)",
            "\u001b[0;32m<ipython-input-365-6ebe747100a5>\u001b[0m in \u001b[0;36m<module>\u001b[0;34m()\u001b[0m\n\u001b[0;32m----> 1\u001b[0;31m \u001b[0mpalavra\u001b[0m\u001b[0;34m[\u001b[0m\u001b[0;36m42\u001b[0m\u001b[0;34m]\u001b[0m\u001b[0;34m\u001b[0m\u001b[0;34m\u001b[0m\u001b[0m\n\u001b[0m",
            "\u001b[0;31mIndexError\u001b[0m: string index out of range"
          ]
        }
      ]
    },
    {
      "cell_type": "code",
      "metadata": {
        "colab": {
          "base_uri": "https://localhost:8080/",
          "height": 163
        },
        "id": "ffnwafErVaX6",
        "outputId": "db889d43-dc72-4c90-f382-7e4d3be97c14"
      },
      "source": [
        "palavra[0] = 'J' # strings não podem ser modificados, são imutaveis"
      ],
      "execution_count": 366,
      "outputs": [
        {
          "output_type": "error",
          "ename": "TypeError",
          "evalue": "ignored",
          "traceback": [
            "\u001b[0;31m---------------------------------------------------------------------------\u001b[0m",
            "\u001b[0;31mTypeError\u001b[0m                                 Traceback (most recent call last)",
            "\u001b[0;32m<ipython-input-366-1df1cc3885af>\u001b[0m in \u001b[0;36m<module>\u001b[0;34m()\u001b[0m\n\u001b[0;32m----> 1\u001b[0;31m \u001b[0mpalavra\u001b[0m\u001b[0;34m[\u001b[0m\u001b[0;36m0\u001b[0m\u001b[0;34m]\u001b[0m \u001b[0;34m=\u001b[0m \u001b[0;34m'J'\u001b[0m \u001b[0;31m# strings não podem ser modificados, são imutaveis\u001b[0m\u001b[0;34m\u001b[0m\u001b[0;34m\u001b[0m\u001b[0m\n\u001b[0m",
            "\u001b[0;31mTypeError\u001b[0m: 'str' object does not support item assignment"
          ]
        }
      ]
    },
    {
      "cell_type": "code",
      "metadata": {
        "colab": {
          "base_uri": "https://localhost:8080/",
          "height": 35
        },
        "id": "SB2V6Uf8VlvC",
        "outputId": "de701b02-09cf-462c-9a1c-8ea00cd082b2"
      },
      "source": [
        "'J' + palavra[1:]"
      ],
      "execution_count": 367,
      "outputs": [
        {
          "output_type": "execute_result",
          "data": {
            "application/vnd.google.colaboratory.intrinsic+json": {
              "type": "string"
            },
            "text/plain": [
              "'Jython'"
            ]
          },
          "metadata": {
            "tags": []
          },
          "execution_count": 367
        }
      ]
    },
    {
      "cell_type": "code",
      "metadata": {
        "id": "49w8ElGmVst5"
      },
      "source": [
        "s = 'Exemplo'"
      ],
      "execution_count": 368,
      "outputs": []
    },
    {
      "cell_type": "code",
      "metadata": {
        "colab": {
          "base_uri": "https://localhost:8080/"
        },
        "id": "5TPag00zVvZc",
        "outputId": "80db1a7e-3bc8-467f-c2d1-58e0c05c85c4"
      },
      "source": [
        "len(s) # tamanho da string"
      ],
      "execution_count": 369,
      "outputs": [
        {
          "output_type": "execute_result",
          "data": {
            "text/plain": [
              "7"
            ]
          },
          "metadata": {
            "tags": []
          },
          "execution_count": 369
        }
      ]
    },
    {
      "cell_type": "code",
      "metadata": {
        "colab": {
          "base_uri": "https://localhost:8080/",
          "height": 35
        },
        "id": "mcLEkIHt9z98",
        "outputId": "46aad74c-26c6-40f1-ce1e-a135ff2974c6"
      },
      "source": [
        "s.upper() # converte em letras maisculas"
      ],
      "execution_count": 370,
      "outputs": [
        {
          "output_type": "execute_result",
          "data": {
            "application/vnd.google.colaboratory.intrinsic+json": {
              "type": "string"
            },
            "text/plain": [
              "'EXEMPLO'"
            ]
          },
          "metadata": {
            "tags": []
          },
          "execution_count": 370
        }
      ]
    },
    {
      "cell_type": "code",
      "metadata": {
        "colab": {
          "base_uri": "https://localhost:8080/",
          "height": 35
        },
        "id": "-LyjcCl4-A0B",
        "outputId": "ea85af0f-1dc2-4027-bf71-a31957629022"
      },
      "source": [
        "s.lower() # converte em letras minusculas"
      ],
      "execution_count": 371,
      "outputs": [
        {
          "output_type": "execute_result",
          "data": {
            "application/vnd.google.colaboratory.intrinsic+json": {
              "type": "string"
            },
            "text/plain": [
              "'exemplo'"
            ]
          },
          "metadata": {
            "tags": []
          },
          "execution_count": 371
        }
      ]
    },
    {
      "cell_type": "code",
      "metadata": {
        "colab": {
          "base_uri": "https://localhost:8080/"
        },
        "id": "N9RyUjgU-KRm",
        "outputId": "6ed936f5-d1e3-4c1b-b4db-30a316f2cd35"
      },
      "source": [
        "s.isalpha() # testa se é alfabético"
      ],
      "execution_count": 372,
      "outputs": [
        {
          "output_type": "execute_result",
          "data": {
            "text/plain": [
              "True"
            ]
          },
          "metadata": {
            "tags": []
          },
          "execution_count": 372
        }
      ]
    },
    {
      "cell_type": "code",
      "metadata": {
        "colab": {
          "base_uri": "https://localhost:8080/"
        },
        "id": "ZtdyqcxY-fTY",
        "outputId": "66801011-d577-4993-b4b3-7c5e5ffe1457"
      },
      "source": [
        "s.isdecimal() # testa se é numérico"
      ],
      "execution_count": 373,
      "outputs": [
        {
          "output_type": "execute_result",
          "data": {
            "text/plain": [
              "False"
            ]
          },
          "metadata": {
            "tags": []
          },
          "execution_count": 373
        }
      ]
    },
    {
      "cell_type": "code",
      "metadata": {
        "colab": {
          "base_uri": "https://localhost:8080/"
        },
        "id": "UGTgaZpH-1vt",
        "outputId": "70209922-9d15-427c-d65b-ee8f775e2960"
      },
      "source": [
        "s.split('e') # divide a string a partir usando um caracterer específico"
      ],
      "execution_count": 374,
      "outputs": [
        {
          "output_type": "execute_result",
          "data": {
            "text/plain": [
              "['Ex', 'mplo']"
            ]
          },
          "metadata": {
            "tags": []
          },
          "execution_count": 374
        }
      ]
    },
    {
      "cell_type": "markdown",
      "metadata": {
        "id": "JQWuxeJwVygX"
      },
      "source": [
        "### **Listas**"
      ]
    },
    {
      "cell_type": "code",
      "metadata": {
        "id": "VQNOsh0sOnBV"
      },
      "source": [
        "exemplo_lista = ['texto', 20.0, 20, False]"
      ],
      "execution_count": 375,
      "outputs": []
    },
    {
      "cell_type": "code",
      "metadata": {
        "colab": {
          "base_uri": "https://localhost:8080/"
        },
        "id": "oi9bdtuJOvG-",
        "outputId": "59b83e19-4c88-4313-cfdc-2cd529d6927e"
      },
      "source": [
        "type(exemplo_lista)"
      ],
      "execution_count": 376,
      "outputs": [
        {
          "output_type": "execute_result",
          "data": {
            "text/plain": [
              "list"
            ]
          },
          "metadata": {
            "tags": []
          },
          "execution_count": 376
        }
      ]
    },
    {
      "cell_type": "code",
      "metadata": {
        "id": "QlyRNnuGVzoP"
      },
      "source": [
        "quadrados = [1, 4, 9, 16, 25]"
      ],
      "execution_count": 377,
      "outputs": []
    },
    {
      "cell_type": "code",
      "metadata": {
        "colab": {
          "base_uri": "https://localhost:8080/"
        },
        "id": "hnffCPYRdbwW",
        "outputId": "7a188fe9-280a-4d56-d6ff-c4a9471bc018"
      },
      "source": [
        "quadrados"
      ],
      "execution_count": 378,
      "outputs": [
        {
          "output_type": "execute_result",
          "data": {
            "text/plain": [
              "[1, 4, 9, 16, 25]"
            ]
          },
          "metadata": {
            "tags": []
          },
          "execution_count": 378
        }
      ]
    },
    {
      "cell_type": "code",
      "metadata": {
        "colab": {
          "base_uri": "https://localhost:8080/"
        },
        "id": "5rUTn_l0dhIr",
        "outputId": "fb6009c8-e5a8-446e-a4af-303ebd4e2b71"
      },
      "source": [
        "quadrados[0] # retorna o item da posição 1"
      ],
      "execution_count": 379,
      "outputs": [
        {
          "output_type": "execute_result",
          "data": {
            "text/plain": [
              "1"
            ]
          },
          "metadata": {
            "tags": []
          },
          "execution_count": 379
        }
      ]
    },
    {
      "cell_type": "code",
      "metadata": {
        "colab": {
          "base_uri": "https://localhost:8080/"
        },
        "id": "dVdUIUJmdw7Q",
        "outputId": "889d4873-7c7c-4a5c-8efb-9430936c6ac6"
      },
      "source": [
        "quadrados[:] # retorna a lista inteira"
      ],
      "execution_count": 380,
      "outputs": [
        {
          "output_type": "execute_result",
          "data": {
            "text/plain": [
              "[1, 4, 9, 16, 25]"
            ]
          },
          "metadata": {
            "tags": []
          },
          "execution_count": 380
        }
      ]
    },
    {
      "cell_type": "code",
      "metadata": {
        "colab": {
          "base_uri": "https://localhost:8080/"
        },
        "id": "COyA6D55d24H",
        "outputId": "10ec9512-a8be-49c0-eda3-7e9dae3167aa"
      },
      "source": [
        "quadrados + [36, 49, 64, 81, 100] # cria uma nova lista juntando duas outras listas"
      ],
      "execution_count": 381,
      "outputs": [
        {
          "output_type": "execute_result",
          "data": {
            "text/plain": [
              "[1, 4, 9, 16, 25, 36, 49, 64, 81, 100]"
            ]
          },
          "metadata": {
            "tags": []
          },
          "execution_count": 381
        }
      ]
    },
    {
      "cell_type": "code",
      "metadata": {
        "id": "gcaR8EMpeFn_"
      },
      "source": [
        "cubos = [1, 8, 27, 65, 125]  # algo de errado aqui"
      ],
      "execution_count": 382,
      "outputs": []
    },
    {
      "cell_type": "code",
      "metadata": {
        "colab": {
          "base_uri": "https://localhost:8080/"
        },
        "id": "RWu-VpebeHSx",
        "outputId": "9f7567f9-0fe6-4132-df39-bc4d5c265c5e"
      },
      "source": [
        "4 ** 3  # o cubo de 4 é 64, não 65!"
      ],
      "execution_count": 383,
      "outputs": [
        {
          "output_type": "execute_result",
          "data": {
            "text/plain": [
              "64"
            ]
          },
          "metadata": {
            "tags": []
          },
          "execution_count": 383
        }
      ]
    },
    {
      "cell_type": "code",
      "metadata": {
        "id": "LdetqGtfeMdW"
      },
      "source": [
        "cubos[3] = 64  # substituindo o valor errado"
      ],
      "execution_count": 384,
      "outputs": []
    },
    {
      "cell_type": "code",
      "metadata": {
        "id": "CUPjcnRReNbw",
        "colab": {
          "base_uri": "https://localhost:8080/"
        },
        "outputId": "96817512-bb2d-45c3-dd7d-6a27d5795005"
      },
      "source": [
        "cubos"
      ],
      "execution_count": 385,
      "outputs": [
        {
          "output_type": "execute_result",
          "data": {
            "text/plain": [
              "[1, 8, 27, 64, 125]"
            ]
          },
          "metadata": {
            "tags": []
          },
          "execution_count": 385
        }
      ]
    },
    {
      "cell_type": "code",
      "metadata": {
        "id": "O-jLiUbSeW5J"
      },
      "source": [
        "cubos.append(216)  # adicionando o cubo de 6"
      ],
      "execution_count": 386,
      "outputs": []
    },
    {
      "cell_type": "code",
      "metadata": {
        "id": "2UcoUYnNeXxa"
      },
      "source": [
        "cubos.append(7 ** 3) # adicionando o cubo de 7"
      ],
      "execution_count": 387,
      "outputs": []
    },
    {
      "cell_type": "code",
      "metadata": {
        "id": "OyzBayUgeaft",
        "colab": {
          "base_uri": "https://localhost:8080/"
        },
        "outputId": "e48b9b5c-77e7-4ebb-e678-f6bf03d0a83d"
      },
      "source": [
        "cubos"
      ],
      "execution_count": 388,
      "outputs": [
        {
          "output_type": "execute_result",
          "data": {
            "text/plain": [
              "[1, 8, 27, 64, 125, 216, 343]"
            ]
          },
          "metadata": {
            "tags": []
          },
          "execution_count": 388
        }
      ]
    },
    {
      "cell_type": "code",
      "metadata": {
        "id": "6L-4DWMGeoeQ"
      },
      "source": [
        "letras = ['a', 'b', 'c', 'd', 'e', 'f', 'g']"
      ],
      "execution_count": 389,
      "outputs": []
    },
    {
      "cell_type": "code",
      "metadata": {
        "id": "Qu8nsn1fep8F",
        "colab": {
          "base_uri": "https://localhost:8080/"
        },
        "outputId": "68dc7466-0e64-4e3b-8381-4ab114c4301b"
      },
      "source": [
        "letras"
      ],
      "execution_count": 390,
      "outputs": [
        {
          "output_type": "execute_result",
          "data": {
            "text/plain": [
              "['a', 'b', 'c', 'd', 'e', 'f', 'g']"
            ]
          },
          "metadata": {
            "tags": []
          },
          "execution_count": 390
        }
      ]
    },
    {
      "cell_type": "code",
      "metadata": {
        "id": "OQUjorqGesh-"
      },
      "source": [
        "letras[2:5] = ['C', 'D', 'E'] # substitui as letras nas posições 2 (incluso) até a posição 5 (não incluso)"
      ],
      "execution_count": 391,
      "outputs": []
    },
    {
      "cell_type": "code",
      "metadata": {
        "id": "2DTyg9-Kevo2",
        "colab": {
          "base_uri": "https://localhost:8080/"
        },
        "outputId": "2c2395dd-6653-4e16-d933-c52ccab764bf"
      },
      "source": [
        "letras"
      ],
      "execution_count": 392,
      "outputs": [
        {
          "output_type": "execute_result",
          "data": {
            "text/plain": [
              "['a', 'b', 'C', 'D', 'E', 'f', 'g']"
            ]
          },
          "metadata": {
            "tags": []
          },
          "execution_count": 392
        }
      ]
    },
    {
      "cell_type": "code",
      "metadata": {
        "id": "LoVkdk9Aez9d"
      },
      "source": [
        "letras[2:5] = [] # remove as letras nas posições 2 (incluso) até a posição 5 (não incluso)"
      ],
      "execution_count": 393,
      "outputs": []
    },
    {
      "cell_type": "code",
      "metadata": {
        "id": "YtkR8Fhle05z",
        "colab": {
          "base_uri": "https://localhost:8080/"
        },
        "outputId": "c05b7d82-6773-4d1f-dc2a-3463a3a81c2d"
      },
      "source": [
        "letras"
      ],
      "execution_count": 394,
      "outputs": [
        {
          "output_type": "execute_result",
          "data": {
            "text/plain": [
              "['a', 'b', 'f', 'g']"
            ]
          },
          "metadata": {
            "tags": []
          },
          "execution_count": 394
        }
      ]
    },
    {
      "cell_type": "code",
      "metadata": {
        "id": "awJkl8L8e5MS"
      },
      "source": [
        "letras[:] = [] # remove todos os itens da lista"
      ],
      "execution_count": 395,
      "outputs": []
    },
    {
      "cell_type": "code",
      "metadata": {
        "id": "OGGDXQ7De52V",
        "colab": {
          "base_uri": "https://localhost:8080/"
        },
        "outputId": "c97cb20f-3376-4ee0-c4f9-285578476358"
      },
      "source": [
        "len(letras)"
      ],
      "execution_count": 396,
      "outputs": [
        {
          "output_type": "execute_result",
          "data": {
            "text/plain": [
              "0"
            ]
          },
          "metadata": {
            "tags": []
          },
          "execution_count": 396
        }
      ]
    },
    {
      "cell_type": "code",
      "metadata": {
        "id": "jJqVotRke-GH"
      },
      "source": [
        "lista1 = ['a', 'b', 'c'] "
      ],
      "execution_count": 402,
      "outputs": []
    },
    {
      "cell_type": "code",
      "metadata": {
        "id": "fHIu01TkDZoL"
      },
      "source": [
        "lista1.append('d') # adicionando um novo elemento na lista1"
      ],
      "execution_count": 403,
      "outputs": []
    },
    {
      "cell_type": "code",
      "metadata": {
        "colab": {
          "base_uri": "https://localhost:8080/"
        },
        "id": "FZUBU4lQIrxx",
        "outputId": "fce25e9d-b1f9-40eb-89db-cfcc6f1330a4"
      },
      "source": [
        "lista1"
      ],
      "execution_count": 404,
      "outputs": [
        {
          "output_type": "execute_result",
          "data": {
            "text/plain": [
              "['a', 'b', 'c', 'd']"
            ]
          },
          "metadata": {
            "tags": []
          },
          "execution_count": 404
        }
      ]
    },
    {
      "cell_type": "code",
      "metadata": {
        "id": "rTdDpZZAD9ZK"
      },
      "source": [
        "lista1.insert(0, 'e') # insere item na lista na posição determinada"
      ],
      "execution_count": 408,
      "outputs": []
    },
    {
      "cell_type": "code",
      "metadata": {
        "colab": {
          "base_uri": "https://localhost:8080/"
        },
        "id": "CZX2inp3IuYx",
        "outputId": "6ee8dd3f-fcdd-4aba-8f1b-7435cc8debf3"
      },
      "source": [
        "lista1"
      ],
      "execution_count": 409,
      "outputs": [
        {
          "output_type": "execute_result",
          "data": {
            "text/plain": [
              "['e', 'a', 'b', 'c', 'e', 'd', 'e']"
            ]
          },
          "metadata": {
            "tags": []
          },
          "execution_count": 409
        }
      ]
    },
    {
      "cell_type": "code",
      "metadata": {
        "id": "S8hkzd6MfCVw"
      },
      "source": [
        "lista2 = [1, 2, 3]"
      ],
      "execution_count": 410,
      "outputs": []
    },
    {
      "cell_type": "code",
      "metadata": {
        "id": "rMrcBmXXfKSd"
      },
      "source": [
        "lista_de_listas = [lista1, lista2]"
      ],
      "execution_count": 411,
      "outputs": []
    },
    {
      "cell_type": "code",
      "metadata": {
        "id": "PS5hrcYtfMDt",
        "colab": {
          "base_uri": "https://localhost:8080/"
        },
        "outputId": "7bd40f2b-ef7c-4969-8638-04d88a5da14d"
      },
      "source": [
        "lista_de_listas"
      ],
      "execution_count": 412,
      "outputs": [
        {
          "output_type": "execute_result",
          "data": {
            "text/plain": [
              "[['e', 'a', 'b', 'c', 'e', 'd', 'e'], [1, 2, 3]]"
            ]
          },
          "metadata": {
            "tags": []
          },
          "execution_count": 412
        }
      ]
    },
    {
      "cell_type": "code",
      "metadata": {
        "id": "tQmHCzG_fNm1",
        "colab": {
          "base_uri": "https://localhost:8080/"
        },
        "outputId": "477cbe60-807b-43dd-f6d9-da3350eb8b27"
      },
      "source": [
        "lista_de_listas[0] # primeira lista dentro da lista de listas"
      ],
      "execution_count": 413,
      "outputs": [
        {
          "output_type": "execute_result",
          "data": {
            "text/plain": [
              "['e', 'a', 'b', 'c', 'e', 'd', 'e']"
            ]
          },
          "metadata": {
            "tags": []
          },
          "execution_count": 413
        }
      ]
    },
    {
      "cell_type": "code",
      "metadata": {
        "id": "0E_C1Wg2fQi4",
        "colab": {
          "base_uri": "https://localhost:8080/",
          "height": 35
        },
        "outputId": "48c33a0f-66cd-42bd-a021-87d796c08347"
      },
      "source": [
        "lista_de_listas[0][1] # segundo elemento da lista 1 "
      ],
      "execution_count": 414,
      "outputs": [
        {
          "output_type": "execute_result",
          "data": {
            "application/vnd.google.colaboratory.intrinsic+json": {
              "type": "string"
            },
            "text/plain": [
              "'a'"
            ]
          },
          "metadata": {
            "tags": []
          },
          "execution_count": 414
        }
      ]
    },
    {
      "cell_type": "code",
      "metadata": {
        "colab": {
          "base_uri": "https://localhost:8080/"
        },
        "id": "11oxFqpXDqnr",
        "outputId": "a84afec2-e219-4a2e-bc81-0ab8b0c3ee3d"
      },
      "source": [
        "lista1"
      ],
      "execution_count": 415,
      "outputs": [
        {
          "output_type": "execute_result",
          "data": {
            "text/plain": [
              "['e', 'a', 'b', 'c', 'e', 'd', 'e']"
            ]
          },
          "metadata": {
            "tags": []
          },
          "execution_count": 415
        }
      ]
    },
    {
      "cell_type": "markdown",
      "metadata": {
        "id": "JYNkaaQ8vyDd"
      },
      "source": [
        "### **Dicionários**"
      ]
    },
    {
      "cell_type": "code",
      "metadata": {
        "id": "mKCE8XfDv6dE"
      },
      "source": [
        "dicionario = {\n",
        "    \"chave\": \"valor\",\n",
        "    \"string\": \"exemplo\",\n",
        "    \"inteiro\": 1,\n",
        "    \"float\": 1.0,\n",
        "    \"boolean\": True,\n",
        "    \"lista\": [1, 2, 3],\n",
        "    \"dicionario\": {\"chave\": \"valor\"}\n",
        "    } # coleção de itens ordenados* (3.7+) e não duplicados, aceita modificações dos itens"
      ],
      "execution_count": 416,
      "outputs": []
    },
    {
      "cell_type": "code",
      "metadata": {
        "colab": {
          "base_uri": "https://localhost:8080/"
        },
        "id": "hMW4qHZfwt60",
        "outputId": "f7b7d66a-cd4c-4f31-a9ec-23c823579da6"
      },
      "source": [
        "dicionario"
      ],
      "execution_count": 417,
      "outputs": [
        {
          "output_type": "execute_result",
          "data": {
            "text/plain": [
              "{'boolean': True,\n",
              " 'chave': 'valor',\n",
              " 'dicionario': {'chave': 'valor'},\n",
              " 'float': 1.0,\n",
              " 'inteiro': 1,\n",
              " 'lista': [1, 2, 3],\n",
              " 'string': 'exemplo'}"
            ]
          },
          "metadata": {
            "tags": []
          },
          "execution_count": 417
        }
      ]
    },
    {
      "cell_type": "code",
      "metadata": {
        "colab": {
          "base_uri": "https://localhost:8080/",
          "height": 163
        },
        "id": "fil9oCl4wwwV",
        "outputId": "b61ea75a-25a4-4275-a5e4-902d083ef538"
      },
      "source": [
        "dicionario[0] # isso está errado!!!"
      ],
      "execution_count": 418,
      "outputs": [
        {
          "output_type": "error",
          "ename": "KeyError",
          "evalue": "ignored",
          "traceback": [
            "\u001b[0;31m---------------------------------------------------------------------------\u001b[0m",
            "\u001b[0;31mKeyError\u001b[0m                                  Traceback (most recent call last)",
            "\u001b[0;32m<ipython-input-418-8829e1290f0b>\u001b[0m in \u001b[0;36m<module>\u001b[0;34m()\u001b[0m\n\u001b[0;32m----> 1\u001b[0;31m \u001b[0mdicionario\u001b[0m\u001b[0;34m[\u001b[0m\u001b[0;36m0\u001b[0m\u001b[0;34m]\u001b[0m \u001b[0;31m# isso está errado!!!\u001b[0m\u001b[0;34m\u001b[0m\u001b[0;34m\u001b[0m\u001b[0m\n\u001b[0m",
            "\u001b[0;31mKeyError\u001b[0m: 0"
          ]
        }
      ]
    },
    {
      "cell_type": "code",
      "metadata": {
        "colab": {
          "base_uri": "https://localhost:8080/"
        },
        "id": "DzpMaa8uxIi-",
        "outputId": "1a20577a-bebb-48c6-a40a-3fa977f2623c"
      },
      "source": [
        "dicionario[\"boolean\"] # retorna valor da chave \"boolean\""
      ],
      "execution_count": 419,
      "outputs": [
        {
          "output_type": "execute_result",
          "data": {
            "text/plain": [
              "True"
            ]
          },
          "metadata": {
            "tags": []
          },
          "execution_count": 419
        }
      ]
    },
    {
      "cell_type": "code",
      "metadata": {
        "colab": {
          "base_uri": "https://localhost:8080/"
        },
        "id": "YDdPOMJjxN88",
        "outputId": "09a3a5dc-6743-47d9-de0a-27c8f36bada6"
      },
      "source": [
        "dicionario[\"lista\"] # retorna valor da chave \"lista\""
      ],
      "execution_count": 420,
      "outputs": [
        {
          "output_type": "execute_result",
          "data": {
            "text/plain": [
              "[1, 2, 3]"
            ]
          },
          "metadata": {
            "tags": []
          },
          "execution_count": 420
        }
      ]
    },
    {
      "cell_type": "code",
      "metadata": {
        "colab": {
          "base_uri": "https://localhost:8080/"
        },
        "id": "jlkOCSRaxSdT",
        "outputId": "a8a5b402-41a7-4adf-a854-911d01690ceb"
      },
      "source": [
        "dicionario[\"lista\"][0] # retorna primeiro elemento do valor da chave \"lista\""
      ],
      "execution_count": 421,
      "outputs": [
        {
          "output_type": "execute_result",
          "data": {
            "text/plain": [
              "1"
            ]
          },
          "metadata": {
            "tags": []
          },
          "execution_count": 421
        }
      ]
    },
    {
      "cell_type": "code",
      "metadata": {
        "id": "qxynvOduxj63"
      },
      "source": [
        "dicionario[\"boolean\"] = False"
      ],
      "execution_count": 422,
      "outputs": []
    },
    {
      "cell_type": "code",
      "metadata": {
        "colab": {
          "base_uri": "https://localhost:8080/"
        },
        "id": "8d-uNAXfxpyK",
        "outputId": "0db72851-8055-47b0-daaf-cdc7ef35c611"
      },
      "source": [
        "dicionario"
      ],
      "execution_count": 423,
      "outputs": [
        {
          "output_type": "execute_result",
          "data": {
            "text/plain": [
              "{'boolean': False,\n",
              " 'chave': 'valor',\n",
              " 'dicionario': {'chave': 'valor'},\n",
              " 'float': 1.0,\n",
              " 'inteiro': 1,\n",
              " 'lista': [1, 2, 3],\n",
              " 'string': 'exemplo'}"
            ]
          },
          "metadata": {
            "tags": []
          },
          "execution_count": 423
        }
      ]
    },
    {
      "cell_type": "code",
      "metadata": {
        "id": "JcGL-5Goxy5g"
      },
      "source": [
        "pessoa = {\n",
        "    \"nome1\": \"Caio\",\n",
        "    \"nome1\": \"Caio\",\n",
        "    \"idade1\": 40,\n",
        "    \"nome2\": \"Felipe\",\n",
        "    \"idade2\": 38\n",
        "} # não duplica a chave"
      ],
      "execution_count": 424,
      "outputs": []
    },
    {
      "cell_type": "code",
      "metadata": {
        "colab": {
          "base_uri": "https://localhost:8080/"
        },
        "id": "4OEpUq_0yIyQ",
        "outputId": "22c5e784-1560-41df-cfdb-128bd0dbbbb0"
      },
      "source": [
        "pessoa"
      ],
      "execution_count": 242,
      "outputs": [
        {
          "output_type": "execute_result",
          "data": {
            "text/plain": [
              "{'idade1': 40, 'idade2': 38, 'nome1': 'Caio', 'nome2': 'Felipe'}"
            ]
          },
          "metadata": {
            "tags": []
          },
          "execution_count": 242
        }
      ]
    },
    {
      "cell_type": "code",
      "metadata": {
        "id": "MpnZ3zXNyzIJ"
      },
      "source": [
        "pessoa[\"nome3\"] = \"André\" # adiciona itens\n",
        "pessoa[\"idade3\"] = 28"
      ],
      "execution_count": 425,
      "outputs": []
    },
    {
      "cell_type": "code",
      "metadata": {
        "colab": {
          "base_uri": "https://localhost:8080/"
        },
        "id": "OjLjo4wBy9eg",
        "outputId": "a87eefc9-b533-491e-e1c4-0d297c436e60"
      },
      "source": [
        "pessoa"
      ],
      "execution_count": 246,
      "outputs": [
        {
          "output_type": "execute_result",
          "data": {
            "text/plain": [
              "{'idade1': 40,\n",
              " 'idade2': 38,\n",
              " 'idade3': 28,\n",
              " 'nome1': 'Caio',\n",
              " 'nome2': 'Felipe',\n",
              " 'nome3': 'André'}"
            ]
          },
          "metadata": {
            "tags": []
          },
          "execution_count": 246
        }
      ]
    },
    {
      "cell_type": "code",
      "metadata": {
        "id": "bbh8HiexzFEY"
      },
      "source": [
        "pessoa[\"idade3\"] = 36"
      ],
      "execution_count": 426,
      "outputs": []
    },
    {
      "cell_type": "code",
      "metadata": {
        "colab": {
          "base_uri": "https://localhost:8080/"
        },
        "id": "Myelna1zzR0a",
        "outputId": "5917ca55-972f-4cd9-e287-d486143d3c44"
      },
      "source": [
        "pessoa"
      ],
      "execution_count": 427,
      "outputs": [
        {
          "output_type": "execute_result",
          "data": {
            "text/plain": [
              "{'idade1': 40,\n",
              " 'idade2': 38,\n",
              " 'idade3': 36,\n",
              " 'nome1': 'Caio',\n",
              " 'nome2': 'Felipe',\n",
              " 'nome3': 'André'}"
            ]
          },
          "metadata": {
            "tags": []
          },
          "execution_count": 427
        }
      ]
    },
    {
      "cell_type": "code",
      "metadata": {
        "colab": {
          "base_uri": "https://localhost:8080/"
        },
        "id": "HoeUZTzHzaeY",
        "outputId": "c37f7c22-00f0-437c-e9f3-0752927f7943"
      },
      "source": [
        "for chave, valor in pessoa.items():\n",
        "  print(chave, valor)"
      ],
      "execution_count": 249,
      "outputs": [
        {
          "output_type": "stream",
          "text": [
            "nome1 Caio\n",
            "idade1 40\n",
            "nome2 Felipe\n",
            "idade2 38\n",
            "nome3 André\n",
            "idade3 36\n"
          ],
          "name": "stdout"
        }
      ]
    },
    {
      "cell_type": "markdown",
      "metadata": {
        "id": "0hM5Pr8Mfd88"
      },
      "source": [
        "### **Controles de fluxo**"
      ]
    },
    {
      "cell_type": "code",
      "metadata": {
        "colab": {
          "base_uri": "https://localhost:8080/"
        },
        "id": "WZclcKKzfgKa",
        "outputId": "c929687e-fb4e-4852-c87d-fc8183f574b8"
      },
      "source": [
        "x = int(input(\"Insira um número inteiro: \")) # utilizado para capturar entrada de dados"
      ],
      "execution_count": 432,
      "outputs": [
        {
          "output_type": "stream",
          "text": [
            "Insira um número inteiro: -1\n"
          ],
          "name": "stdout"
        }
      ]
    },
    {
      "cell_type": "code",
      "metadata": {
        "colab": {
          "base_uri": "https://localhost:8080/"
        },
        "id": "2L8137w4fqMT",
        "outputId": "6687ee7d-46a6-4d60-af88-4426bb3bc22a"
      },
      "source": [
        "if x == 1: # operadores de comparação e atribuição\n",
        "...     x = 0 # identação\n",
        "...     print('Igual a 1 alterado para 0.')\n",
        "... elif x > 1:\n",
        "...     print('Maior ou igual a zero')\n",
        "... elif x == 0:\n",
        "...     print('Igual a zero')\n",
        "... else:\n",
        "...     print('Menor que zero')\n",
        "# if … elif … elif … é utilizado como substituto para switch ou case de outras linguagens"
      ],
      "execution_count": 433,
      "outputs": [
        {
          "output_type": "stream",
          "text": [
            "Menor que zero\n"
          ],
          "name": "stdout"
        }
      ]
    },
    {
      "cell_type": "code",
      "metadata": {
        "id": "46rb0_nmgEfp"
      },
      "source": [
        "palavras = ['cachorro', 'gato', 'cavalo']"
      ],
      "execution_count": 434,
      "outputs": []
    },
    {
      "cell_type": "code",
      "metadata": {
        "colab": {
          "base_uri": "https://localhost:8080/"
        },
        "id": "beoHy3lCgFsq",
        "outputId": "744c06fa-1c9d-475e-c6bf-e8fc244dff7c"
      },
      "source": [
        "for palavra in palavras: # itera através dos itens de uma sequência (lista ou string)\n",
        "...     print(palavra, len(palavra))"
      ],
      "execution_count": 435,
      "outputs": [
        {
          "output_type": "stream",
          "text": [
            "cachorro 8\n",
            "gato 4\n",
            "cavalo 6\n"
          ],
          "name": "stdout"
        }
      ]
    },
    {
      "cell_type": "code",
      "metadata": {
        "colab": {
          "base_uri": "https://localhost:8080/"
        },
        "id": "mOjLqil4KtYt",
        "outputId": "db0c6a65-659a-4193-8761-f6a19fe07945"
      },
      "source": [
        "for letra in 'palavra':\n",
        "  print(letra)"
      ],
      "execution_count": 436,
      "outputs": [
        {
          "output_type": "stream",
          "text": [
            "p\n",
            "a\n",
            "l\n",
            "a\n",
            "v\n",
            "r\n",
            "a\n"
          ],
          "name": "stdout"
        }
      ]
    },
    {
      "cell_type": "code",
      "metadata": {
        "colab": {
          "base_uri": "https://localhost:8080/"
        },
        "id": "floBOCfsgqDV",
        "outputId": "7ab97dfd-49b1-4b19-aa0c-22774a96273f"
      },
      "source": [
        " for i in range(5): # gera lista de números de 0 até 5 (não incluso) i de indice\n",
        "...     print(i)"
      ],
      "execution_count": 437,
      "outputs": [
        {
          "output_type": "stream",
          "text": [
            "0\n",
            "1\n",
            "2\n",
            "3\n",
            "4\n"
          ],
          "name": "stdout"
        }
      ]
    },
    {
      "cell_type": "code",
      "metadata": {
        "colab": {
          "base_uri": "https://localhost:8080/"
        },
        "id": "91RkpkQcguMy",
        "outputId": "2898e6c2-6ee6-48dc-dc0b-94154e1ba702"
      },
      "source": [
        "for i in range(5, 10): # gera lista de números de 5 até 10 (não incluso)\n",
        "  print(i)"
      ],
      "execution_count": 439,
      "outputs": [
        {
          "output_type": "stream",
          "text": [
            "5\n",
            "6\n",
            "7\n",
            "8\n",
            "9\n"
          ],
          "name": "stdout"
        }
      ]
    },
    {
      "cell_type": "code",
      "metadata": {
        "id": "nGY2LkivgyS3",
        "colab": {
          "base_uri": "https://localhost:8080/"
        },
        "outputId": "bbbfd72f-fa14-4835-b234-df5e179cee95"
      },
      "source": [
        "for i in range(0, 10, 3): # gera lista de números de 3 em 3 de 0 até 10 (não incluso)\n",
        "   print(i)"
      ],
      "execution_count": 440,
      "outputs": [
        {
          "output_type": "stream",
          "text": [
            "0\n",
            "3\n",
            "6\n",
            "9\n"
          ],
          "name": "stdout"
        }
      ]
    },
    {
      "cell_type": "code",
      "metadata": {
        "id": "-y1NCkcNg4O7"
      },
      "source": [
        "a = ['Maria', 'tem', 'uma', 'gatinha']"
      ],
      "execution_count": 441,
      "outputs": []
    },
    {
      "cell_type": "code",
      "metadata": {
        "colab": {
          "base_uri": "https://localhost:8080/"
        },
        "id": "Bw2KFtRwg6tg",
        "outputId": "554596bd-040b-48bd-cadd-17d365cd8062"
      },
      "source": [
        "for i in range(len(a)): # iterando através de uma lista imprimindo o item e o respectivo índico do item\n",
        "...     print(i, a[i])"
      ],
      "execution_count": 442,
      "outputs": [
        {
          "output_type": "stream",
          "text": [
            "0 Maria\n",
            "1 tem\n",
            "2 uma\n",
            "3 gatinha\n"
          ],
          "name": "stdout"
        }
      ]
    },
    {
      "cell_type": "code",
      "metadata": {
        "colab": {
          "base_uri": "https://localhost:8080/"
        },
        "id": "D7qMKAWmhRbZ",
        "outputId": "0e86cde8-aae8-4642-f3f6-ec2e00cff4c3"
      },
      "source": [
        "list(enumerate(a)) # uma forma mais elegante de fazer a tarefa anterior"
      ],
      "execution_count": 443,
      "outputs": [
        {
          "output_type": "execute_result",
          "data": {
            "text/plain": [
              "[(0, 'Maria'), (1, 'tem'), (2, 'uma'), (3, 'gatinha')]"
            ]
          },
          "metadata": {
            "tags": []
          },
          "execution_count": 443
        }
      ]
    },
    {
      "cell_type": "code",
      "metadata": {
        "id": "yocvlWAUhZ9q",
        "colab": {
          "base_uri": "https://localhost:8080/"
        },
        "outputId": "d745996f-a969-44d1-830f-be3e7cfe36dd"
      },
      "source": [
        "sum(range(4))"
      ],
      "execution_count": 444,
      "outputs": [
        {
          "output_type": "execute_result",
          "data": {
            "text/plain": [
              "6"
            ]
          },
          "metadata": {
            "tags": []
          },
          "execution_count": 444
        }
      ]
    },
    {
      "cell_type": "code",
      "metadata": {
        "colab": {
          "base_uri": "https://localhost:8080/"
        },
        "id": "FFsJIjJnha8B",
        "outputId": "a3d5837c-79e1-4dcc-aade-beafe231364f"
      },
      "source": [
        "list(range(4))"
      ],
      "execution_count": 445,
      "outputs": [
        {
          "output_type": "execute_result",
          "data": {
            "text/plain": [
              "[0, 1, 2, 3]"
            ]
          },
          "metadata": {
            "tags": []
          },
          "execution_count": 445
        }
      ]
    },
    {
      "cell_type": "code",
      "metadata": {
        "id": "m8_IxOjKjTXb"
      },
      "source": [
        "condicao = 10 # condição de parada"
      ],
      "execution_count": 446,
      "outputs": []
    },
    {
      "cell_type": "code",
      "metadata": {
        "id": "t8f7Ob9Rj2W0"
      },
      "source": [
        "i = 0 # incrementador"
      ],
      "execution_count": 447,
      "outputs": []
    },
    {
      "cell_type": "code",
      "metadata": {
        "colab": {
          "base_uri": "https://localhost:8080/"
        },
        "id": "AgBToYYBju3J",
        "outputId": "f58a7078-a1b5-47f6-ed2c-119b86ea87d8"
      },
      "source": [
        "while i <= condicao:\n",
        "  print(i)\n",
        "  i = i + 1"
      ],
      "execution_count": 448,
      "outputs": [
        {
          "output_type": "stream",
          "text": [
            "0\n",
            "1\n",
            "2\n",
            "3\n",
            "4\n",
            "5\n",
            "6\n",
            "7\n",
            "8\n",
            "9\n",
            "10\n"
          ],
          "name": "stdout"
        }
      ]
    },
    {
      "cell_type": "markdown",
      "metadata": {
        "id": "MCkaglBDkxji"
      },
      "source": [
        "### **Funções**"
      ]
    },
    {
      "cell_type": "code",
      "metadata": {
        "id": "dGEu6N-sk04B"
      },
      "source": [
        "def minha_funcao(): # bloco de código que roda somente quando é \"chamado\"\n",
        "  \"\"\"Isso é uma pequena documentação da função. (não será executado quando a função rodar)\n",
        "      Exemplo de uma função em Python.\n",
        "      Apenas imprime uma frase quando chamada.\n",
        "  \"\"\"\n",
        "  print(\"Executando minha função.\")"
      ],
      "execution_count": 449,
      "outputs": []
    },
    {
      "cell_type": "code",
      "metadata": {
        "colab": {
          "base_uri": "https://localhost:8080/"
        },
        "id": "T4IYuGEzlp5_",
        "outputId": "d3c2f49b-249a-4e3e-c237-ef6b9f00f4f0"
      },
      "source": [
        "minha_funcao()"
      ],
      "execution_count": 450,
      "outputs": [
        {
          "output_type": "stream",
          "text": [
            "Executando minha função.\n"
          ],
          "name": "stdout"
        }
      ]
    },
    {
      "cell_type": "code",
      "metadata": {
        "id": "srb8vFgzlr2m"
      },
      "source": [
        "def imprima_nome(nome): # parametros (argumentos) possem ser passado para ser executados pela função\n",
        "  print(nome)"
      ],
      "execution_count": 451,
      "outputs": []
    },
    {
      "cell_type": "code",
      "metadata": {
        "colab": {
          "base_uri": "https://localhost:8080/"
        },
        "id": "GQ9As0q7l_-b",
        "outputId": "5acd22ea-a797-4f0e-ca23-c69d61694303"
      },
      "source": [
        "imprima_nome(\"Marcus\")"
      ],
      "execution_count": 452,
      "outputs": [
        {
          "output_type": "stream",
          "text": [
            "Marcus\n"
          ],
          "name": "stdout"
        }
      ]
    },
    {
      "cell_type": "code",
      "metadata": {
        "id": "99w5vfmBmB9P"
      },
      "source": [
        "def area(comprimento, largura): # multiplos argumentos podem ser passados\n",
        "  print(comprimento*largura)"
      ],
      "execution_count": 453,
      "outputs": []
    },
    {
      "cell_type": "code",
      "metadata": {
        "colab": {
          "base_uri": "https://localhost:8080/"
        },
        "id": "wFAmnLvGmcbo",
        "outputId": "c8ea95e0-3e46-4bd7-a92f-7fff50c9b9fd"
      },
      "source": [
        "area(20, 30)"
      ],
      "execution_count": 454,
      "outputs": [
        {
          "output_type": "stream",
          "text": [
            "600\n"
          ],
          "name": "stdout"
        }
      ]
    },
    {
      "cell_type": "code",
      "metadata": {
        "id": "ad0Y48k-meb7"
      },
      "source": [
        "def volume(comprimento, largura, altura=10): # argumento com valor padrão\n",
        "  print(altura*comprimento*largura)"
      ],
      "execution_count": 455,
      "outputs": []
    },
    {
      "cell_type": "code",
      "metadata": {
        "colab": {
          "base_uri": "https://localhost:8080/"
        },
        "id": "0SCAB3YHpaje",
        "outputId": "e48d3196-d10d-41f3-b14c-4d67e6cd6120"
      },
      "source": [
        "volume(20, 30) # usando valor padrão da altura"
      ],
      "execution_count": 456,
      "outputs": [
        {
          "output_type": "stream",
          "text": [
            "6000\n"
          ],
          "name": "stdout"
        }
      ]
    },
    {
      "cell_type": "code",
      "metadata": {
        "colab": {
          "base_uri": "https://localhost:8080/"
        },
        "id": "XZTUBsK8poU0",
        "outputId": "02b1b8f9-e48a-4606-aab6-540c4cb8123b"
      },
      "source": [
        "volume(comprimento=20, largura=20, altura=30) # passando um valor diferente e explicitando o a nome do argumento"
      ],
      "execution_count": 457,
      "outputs": [
        {
          "output_type": "stream",
          "text": [
            "12000\n"
          ],
          "name": "stdout"
        }
      ]
    },
    {
      "cell_type": "code",
      "metadata": {
        "id": "CgtRIYiupq3l"
      },
      "source": [
        "def soma(*args): # quantidade arbitrária de argumentos e utilização do return\n",
        "  s = 0\n",
        "  for i in args:\n",
        "    s += i # s = s + i\n",
        "  return s"
      ],
      "execution_count": 458,
      "outputs": []
    },
    {
      "cell_type": "code",
      "metadata": {
        "id": "GpVGIs_0qisQ"
      },
      "source": [
        "resultado = soma(1, 2, 4) # atribui o resultado do cálculo da função na variável"
      ],
      "execution_count": 459,
      "outputs": []
    },
    {
      "cell_type": "code",
      "metadata": {
        "colab": {
          "base_uri": "https://localhost:8080/"
        },
        "id": "fvJRiKycqnG7",
        "outputId": "33ce9924-a8b3-4450-b84b-340ccbdbfb62"
      },
      "source": [
        "resultado"
      ],
      "execution_count": 460,
      "outputs": [
        {
          "output_type": "execute_result",
          "data": {
            "text/plain": [
              "7"
            ]
          },
          "metadata": {
            "tags": []
          },
          "execution_count": 460
        }
      ]
    },
    {
      "cell_type": "code",
      "metadata": {
        "id": "52rmwzskqoBO"
      },
      "source": [
        "potencia = lambda base, expoente: base ** expoente #função anônima (lambda argumentos: expressão)"
      ],
      "execution_count": 461,
      "outputs": []
    },
    {
      "cell_type": "code",
      "metadata": {
        "colab": {
          "base_uri": "https://localhost:8080/"
        },
        "id": "u7mSsKfxsERb",
        "outputId": "acd36395-be75-49b1-809e-9bbcda52cf36"
      },
      "source": [
        "potencia(10, 2)"
      ],
      "execution_count": 462,
      "outputs": [
        {
          "output_type": "execute_result",
          "data": {
            "text/plain": [
              "100"
            ]
          },
          "metadata": {
            "tags": []
          },
          "execution_count": 462
        }
      ]
    }
  ]
}