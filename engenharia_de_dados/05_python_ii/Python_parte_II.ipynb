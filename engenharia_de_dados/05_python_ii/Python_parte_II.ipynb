{
  "nbformat": 4,
  "nbformat_minor": 0,
  "metadata": {
    "colab": {
      "name": "Python: parte II",
      "provenance": [],
      "collapsed_sections": []
    },
    "kernelspec": {
      "name": "python3",
      "display_name": "Python 3"
    },
    "language_info": {
      "name": "python"
    }
  },
  "cells": [
    {
      "cell_type": "markdown",
      "metadata": {
        "id": "QWRCwGmDQThH"
      },
      "source": [
        "# Módulos\n",
        "\n",
        "Um arquivo .py contendo um conjunto de códigos (funções, variáveis, dicionários, classes) que você pode incluir dentro do seu código.\n"
      ]
    },
    {
      "cell_type": "code",
      "metadata": {
        "id": "P6g0ieQhRzFm"
      },
      "source": [
        "import os # build módulos (os, math, sys, etc)"
      ],
      "execution_count": null,
      "outputs": []
    },
    {
      "cell_type": "code",
      "metadata": {
        "colab": {
          "base_uri": "https://localhost:8080/"
        },
        "id": "cGtCq8DPQV3S",
        "outputId": "595a4f24-5241-4314-d179-27192b701c80"
      },
      "source": [
        "os.getcwd() # imprime diretório atual"
      ],
      "execution_count": null,
      "outputs": [
        {
          "output_type": "execute_result",
          "data": {
            "application/vnd.google.colaboratory.intrinsic+json": {
              "type": "string"
            },
            "text/plain": [
              "'/content'"
            ]
          },
          "metadata": {
            "tags": []
          },
          "execution_count": 2
        }
      ]
    },
    {
      "cell_type": "code",
      "metadata": {
        "id": "eUo5b_qRRDiN"
      },
      "source": [
        "os.chdir('modulos') # altera o diretório atual"
      ],
      "execution_count": null,
      "outputs": []
    },
    {
      "cell_type": "code",
      "metadata": {
        "colab": {
          "base_uri": "https://localhost:8080/"
        },
        "id": "yYQCbGH4h90x",
        "outputId": "50acbba4-6356-4492-e506-af4c2e5911a3"
      },
      "source": [
        "os.getcwd() # imprime diretório atual"
      ],
      "execution_count": null,
      "outputs": [
        {
          "output_type": "execute_result",
          "data": {
            "application/vnd.google.colaboratory.intrinsic+json": {
              "type": "string"
            },
            "text/plain": [
              "'/content/modulos'"
            ]
          },
          "metadata": {
            "tags": []
          },
          "execution_count": 4
        }
      ]
    },
    {
      "cell_type": "code",
      "metadata": {
        "id": "-k8pz3d7RTWs"
      },
      "source": [
        "import meu_modulo"
      ],
      "execution_count": null,
      "outputs": []
    },
    {
      "cell_type": "code",
      "metadata": {
        "colab": {
          "base_uri": "https://localhost:8080/"
        },
        "id": "TaHFBmVtRWBQ",
        "outputId": "c30ef789-03bb-453f-bf43-b1fe6bf3ded2"
      },
      "source": [
        "meu_modulo.minha_funcao_dentro_do_modulo('Marcus')"
      ],
      "execution_count": null,
      "outputs": [
        {
          "output_type": "stream",
          "text": [
            "Isso é um modulo que imprime o nome:  Marcus\n"
          ],
          "name": "stdout"
        }
      ]
    },
    {
      "cell_type": "code",
      "metadata": {
        "id": "1FhIIquxSGeg"
      },
      "source": [
        "import meu_modulo as alias_do_modulo"
      ],
      "execution_count": null,
      "outputs": []
    },
    {
      "cell_type": "code",
      "metadata": {
        "colab": {
          "base_uri": "https://localhost:8080/"
        },
        "id": "GFSoYkjKSMoD",
        "outputId": "ed8da431-798f-48aa-9c8f-cb359b693dee"
      },
      "source": [
        "alias_do_modulo.minha_funcao_dentro_do_modulo('Vinicius')"
      ],
      "execution_count": null,
      "outputs": [
        {
          "output_type": "stream",
          "text": [
            "Isso é um modulo que imprime o nome:  Vinicius\n"
          ],
          "name": "stdout"
        }
      ]
    },
    {
      "cell_type": "code",
      "metadata": {
        "id": "jXzSL80kSnu4"
      },
      "source": [
        "from meu_modulo2 import minha_funcao_dentro_do_modulo2"
      ],
      "execution_count": null,
      "outputs": []
    },
    {
      "cell_type": "code",
      "metadata": {
        "colab": {
          "base_uri": "https://localhost:8080/"
        },
        "id": "Y4d7YQBHTSCk",
        "outputId": "ff35239a-6635-4498-d440-4c5339d90751"
      },
      "source": [
        "minha_funcao_dentro_do_modulo2(2)"
      ],
      "execution_count": null,
      "outputs": [
        {
          "output_type": "stream",
          "text": [
            "Isso é um modulo que imprime o quadrado do número:  4\n"
          ],
          "name": "stdout"
        }
      ]
    },
    {
      "cell_type": "code",
      "metadata": {
        "colab": {
          "base_uri": "https://localhost:8080/"
        },
        "id": "e0IzdnfOf7tY",
        "outputId": "b1891b37-6c92-4a0f-d416-c3718922413e"
      },
      "source": [
        "pip install awswrangler "
      ],
      "execution_count": null,
      "outputs": [
        {
          "output_type": "stream",
          "text": [
            "Requirement already satisfied: awswrangler in /usr/local/lib/python3.7/dist-packages (2.10.0)\n",
            "Requirement already satisfied: pg8000<1.21.0,>=1.16.0 in /usr/local/lib/python3.7/dist-packages (from awswrangler) (1.20.0)\n",
            "Requirement already satisfied: numpy<2.1.0,>=1.18.0 in /usr/local/lib/python3.7/dist-packages (from awswrangler) (1.19.5)\n",
            "Requirement already satisfied: pymysql<1.1.0,>=0.9.0 in /usr/local/lib/python3.7/dist-packages (from awswrangler) (1.0.2)\n",
            "Requirement already satisfied: boto3<2.1.0,>=1.16.8 in /usr/local/lib/python3.7/dist-packages (from awswrangler) (1.18.17)\n",
            "Requirement already satisfied: openpyxl~=3.0.0 in /usr/local/lib/python3.7/dist-packages (from awswrangler) (3.0.7)\n",
            "Requirement already satisfied: pyarrow<4.1.0,>=2.0.0 in /usr/local/lib/python3.7/dist-packages (from awswrangler) (3.0.0)\n",
            "Requirement already satisfied: pandas<2.1.0,>=1.1.0 in /usr/local/lib/python3.7/dist-packages (from awswrangler) (1.1.5)\n",
            "Requirement already satisfied: redshift-connector~=2.0.882 in /usr/local/lib/python3.7/dist-packages (from awswrangler) (2.0.884)\n",
            "Requirement already satisfied: botocore<2.1.0,>=1.19.8 in /usr/local/lib/python3.7/dist-packages (from awswrangler) (1.21.17)\n",
            "Requirement already satisfied: s3transfer<0.6.0,>=0.5.0 in /usr/local/lib/python3.7/dist-packages (from boto3<2.1.0,>=1.16.8->awswrangler) (0.5.0)\n",
            "Requirement already satisfied: jmespath<1.0.0,>=0.7.1 in /usr/local/lib/python3.7/dist-packages (from boto3<2.1.0,>=1.16.8->awswrangler) (0.10.0)\n",
            "Requirement already satisfied: python-dateutil<3.0.0,>=2.1 in /usr/local/lib/python3.7/dist-packages (from botocore<2.1.0,>=1.19.8->awswrangler) (2.8.1)\n",
            "Requirement already satisfied: urllib3<1.27,>=1.25.4 in /usr/local/lib/python3.7/dist-packages (from botocore<2.1.0,>=1.19.8->awswrangler) (1.25.11)\n",
            "Requirement already satisfied: et-xmlfile in /usr/local/lib/python3.7/dist-packages (from openpyxl~=3.0.0->awswrangler) (1.1.0)\n",
            "Requirement already satisfied: pytz>=2017.2 in /usr/local/lib/python3.7/dist-packages (from pandas<2.1.0,>=1.1.0->awswrangler) (2021.1)\n",
            "Requirement already satisfied: scramp>=1.4.0 in /usr/local/lib/python3.7/dist-packages (from pg8000<1.21.0,>=1.16.0->awswrangler) (1.4.0)\n",
            "Requirement already satisfied: six>=1.5 in /usr/local/lib/python3.7/dist-packages (from python-dateutil<3.0.0,>=2.1->botocore<2.1.0,>=1.19.8->awswrangler) (1.15.0)\n",
            "Requirement already satisfied: beautifulsoup4<5.0.0,>=4.7.0 in /usr/local/lib/python3.7/dist-packages (from redshift-connector~=2.0.882->awswrangler) (4.9.3)\n",
            "Requirement already satisfied: requests<2.25.2,>=2.23.0 in /usr/local/lib/python3.7/dist-packages (from redshift-connector~=2.0.882->awswrangler) (2.23.0)\n",
            "Requirement already satisfied: packaging in /usr/local/lib/python3.7/dist-packages (from redshift-connector~=2.0.882->awswrangler) (21.0)\n",
            "Requirement already satisfied: lxml>=4.6.2 in /usr/local/lib/python3.7/dist-packages (from redshift-connector~=2.0.882->awswrangler) (4.6.3)\n",
            "Requirement already satisfied: soupsieve>1.2 in /usr/local/lib/python3.7/dist-packages (from beautifulsoup4<5.0.0,>=4.7.0->redshift-connector~=2.0.882->awswrangler) (2.2.1)\n",
            "Requirement already satisfied: certifi>=2017.4.17 in /usr/local/lib/python3.7/dist-packages (from requests<2.25.2,>=2.23.0->redshift-connector~=2.0.882->awswrangler) (2021.5.30)\n",
            "Requirement already satisfied: chardet<4,>=3.0.2 in /usr/local/lib/python3.7/dist-packages (from requests<2.25.2,>=2.23.0->redshift-connector~=2.0.882->awswrangler) (3.0.4)\n",
            "Requirement already satisfied: idna<3,>=2.5 in /usr/local/lib/python3.7/dist-packages (from requests<2.25.2,>=2.23.0->redshift-connector~=2.0.882->awswrangler) (2.10)\n",
            "Requirement already satisfied: asn1crypto==1.4.0 in /usr/local/lib/python3.7/dist-packages (from scramp>=1.4.0->pg8000<1.21.0,>=1.16.0->awswrangler) (1.4.0)\n",
            "Requirement already satisfied: pyparsing>=2.0.2 in /usr/local/lib/python3.7/dist-packages (from packaging->redshift-connector~=2.0.882->awswrangler) (2.4.7)\n"
          ],
          "name": "stdout"
        }
      ]
    },
    {
      "cell_type": "markdown",
      "metadata": {
        "id": "d-I9iOaMUQtD"
      },
      "source": [
        "# Download dos dados de Obras e Licitações da UFPR e geração de relatórios\n",
        "\n",
        "### Dados abertos \n",
        "*https*://dados.gov.br/dataset/dados-de-obras-e-licitacoes\n",
        "\n"
      ]
    },
    {
      "cell_type": "code",
      "metadata": {
        "id": "PZ_ZLJeNwOQD"
      },
      "source": [
        "import requests, os # importa módulos"
      ],
      "execution_count": null,
      "outputs": []
    },
    {
      "cell_type": "code",
      "metadata": {
        "id": "lkY8R19P4LIx"
      },
      "source": [
        "import pandas as pd # importa módulo pandas e cria uma apelido (alias) \"pd\""
      ],
      "execution_count": null,
      "outputs": []
    },
    {
      "cell_type": "code",
      "metadata": {
        "id": "NeMfoDim65IA"
      },
      "source": [
        "pd.set_option('display.max_colwidth', None) # não restringe tamanho da coluna no terminal interativo\n",
        "pd.set_option(\"max_columns\", None) # mostra todas colunas no do dataframe do terminal interativo\n"
      ],
      "execution_count": null,
      "outputs": []
    },
    {
      "cell_type": "code",
      "metadata": {
        "id": "LGzvxHVmyrvI"
      },
      "source": [
        "url_dados_prefixo = 'https://dados.ufpr.br/dataset/1393ba1a-9fa5-4b19-be33-04887d2d696a/resource/' # prefixo das URLs para download"
      ],
      "execution_count": null,
      "outputs": []
    },
    {
      "cell_type": "code",
      "metadata": {
        "id": "1otFHYXrz0vV"
      },
      "source": [
        "url_recurso_ano = ['0ee1f60c-6160-4a6c-963f-257f3fc8acd6/download/financeiro_licit_2014.csv', \n",
        "                   'fbb4f6c4-b009-4d2e-bbc5-c6795ee419f4/download/financeiro_licit_2015.csv', \n",
        "                   '26c74c09-0558-4b66-8b82-98b8cc07c244/download/financeiro_licit_2016.csv', \n",
        "                   '09e41db4-7612-45a2-a640-61b2ad6d0d27/download/financeiro_licit_2017.csv', \n",
        "                   '99f77670-35ec-4af7-a25b-bd2798d8e3bf/download/financeiro_licit_2018.csv', \n",
        "                   'a2fde10c-f342-4d0f-9f7d-b9811fe1be48/download/financeiro_licit_2019.csv', \n",
        "                   'cd564120-f5ec-491d-94e5-b42cd48d77c0/download/financeiro_licit_2020.csv'] # sufixos dos arquivos para download"
      ],
      "execution_count": null,
      "outputs": []
    },
    {
      "cell_type": "code",
      "metadata": {
        "id": "Sre1pk8R3cki"
      },
      "source": [
        "nome_arquivos = [] # lista para armazenar nomes dos arquivos baixados"
      ],
      "execution_count": null,
      "outputs": []
    },
    {
      "cell_type": "code",
      "metadata": {
        "colab": {
          "base_uri": "https://localhost:8080/",
          "height": 35
        },
        "id": "I-AP7zXKwW3k",
        "outputId": "62496133-aa38-4383-ef42-cd4774d7a2b3"
      },
      "source": [
        "os.getcwd() # retorna diretório atual"
      ],
      "execution_count": null,
      "outputs": [
        {
          "output_type": "execute_result",
          "data": {
            "application/vnd.google.colaboratory.intrinsic+json": {
              "type": "string"
            },
            "text/plain": [
              "'/content/modulos'"
            ]
          },
          "metadata": {
            "tags": []
          },
          "execution_count": 18
        }
      ]
    },
    {
      "cell_type": "code",
      "metadata": {
        "id": "H7DtCJKFyEUw"
      },
      "source": [
        "os.chdir('../dados_abertos/landing/UFPR/obras_e_licitacoes') # altera o diretório atual"
      ],
      "execution_count": null,
      "outputs": []
    },
    {
      "cell_type": "code",
      "metadata": {
        "colab": {
          "base_uri": "https://localhost:8080/",
          "height": 35
        },
        "id": "mR2AGTaaycly",
        "outputId": "21eea89f-aa8c-43ca-8be3-07537abe904a"
      },
      "source": [
        "os.getcwd()"
      ],
      "execution_count": null,
      "outputs": [
        {
          "output_type": "execute_result",
          "data": {
            "application/vnd.google.colaboratory.intrinsic+json": {
              "type": "string"
            },
            "text/plain": [
              "'/content/dados_abertos/landing/UFPR/obras_e_licitacoes'"
            ]
          },
          "metadata": {
            "tags": []
          },
          "execution_count": 20
        }
      ]
    },
    {
      "cell_type": "code",
      "metadata": {
        "colab": {
          "base_uri": "https://localhost:8080/"
        },
        "id": "A_7mh5tn0TYA",
        "outputId": "57cd92e5-c3b1-4ae5-c122-0ea2f8ed7faa"
      },
      "source": [
        "for ano in url_recurso_ano: # percorre a lista de sufixos dos arquivos para download\n",
        "\n",
        "  url_download = url_dados_prefixo + ano # cocatena prefixo e sufixo para montar URL de download\n",
        "  print(url_download)\n",
        "\n",
        "  response = requests.get(url_download) # faz requisição HTTP para URL do arquivo\n",
        "\n",
        "  if response.status_code == 200: # se código for 200 (sucesso) \n",
        "\n",
        "    print('Resposta HTTP = ', response.status_code)\n",
        "    print(url_download[-8:]) # imprime nome do arquivo\n",
        "    nome_arquivos.append(url_download[-8:]) # adiciona nome do arquivo na lista dos nomes dos arquivos\n",
        "\n",
        "    with open(url_download[-8:], 'wb') as f: # with garante que vc após abrir um arquivo (nesse caso) seja fechado após execução do código, liberando o recurso\n",
        "        f.write(response.content)\n"
      ],
      "execution_count": null,
      "outputs": [
        {
          "output_type": "stream",
          "text": [
            "https://dados.ufpr.br/dataset/1393ba1a-9fa5-4b19-be33-04887d2d696a/resource/0ee1f60c-6160-4a6c-963f-257f3fc8acd6/download/financeiro_licit_2014.csv\n",
            "Resposta HTTP =  200\n",
            "2014.csv\n",
            "https://dados.ufpr.br/dataset/1393ba1a-9fa5-4b19-be33-04887d2d696a/resource/fbb4f6c4-b009-4d2e-bbc5-c6795ee419f4/download/financeiro_licit_2015.csv\n",
            "Resposta HTTP =  200\n",
            "2015.csv\n",
            "https://dados.ufpr.br/dataset/1393ba1a-9fa5-4b19-be33-04887d2d696a/resource/26c74c09-0558-4b66-8b82-98b8cc07c244/download/financeiro_licit_2016.csv\n",
            "Resposta HTTP =  200\n",
            "2016.csv\n",
            "https://dados.ufpr.br/dataset/1393ba1a-9fa5-4b19-be33-04887d2d696a/resource/09e41db4-7612-45a2-a640-61b2ad6d0d27/download/financeiro_licit_2017.csv\n",
            "Resposta HTTP =  200\n",
            "2017.csv\n",
            "https://dados.ufpr.br/dataset/1393ba1a-9fa5-4b19-be33-04887d2d696a/resource/99f77670-35ec-4af7-a25b-bd2798d8e3bf/download/financeiro_licit_2018.csv\n",
            "Resposta HTTP =  200\n",
            "2018.csv\n",
            "https://dados.ufpr.br/dataset/1393ba1a-9fa5-4b19-be33-04887d2d696a/resource/a2fde10c-f342-4d0f-9f7d-b9811fe1be48/download/financeiro_licit_2019.csv\n",
            "Resposta HTTP =  200\n",
            "2019.csv\n",
            "https://dados.ufpr.br/dataset/1393ba1a-9fa5-4b19-be33-04887d2d696a/resource/cd564120-f5ec-491d-94e5-b42cd48d77c0/download/financeiro_licit_2020.csv\n",
            "Resposta HTTP =  200\n",
            "2020.csv\n"
          ],
          "name": "stdout"
        }
      ]
    },
    {
      "cell_type": "code",
      "metadata": {
        "colab": {
          "base_uri": "https://localhost:8080/"
        },
        "id": "HpkiICIg02Lz",
        "outputId": "5c96338c-8d31-493b-8d5e-2c620fb01cad"
      },
      "source": [
        "nome_arquivos"
      ],
      "execution_count": null,
      "outputs": [
        {
          "output_type": "execute_result",
          "data": {
            "text/plain": [
              "['2014.csv',\n",
              " '2015.csv',\n",
              " '2016.csv',\n",
              " '2017.csv',\n",
              " '2018.csv',\n",
              " '2019.csv',\n",
              " '2020.csv']"
            ]
          },
          "metadata": {
            "tags": []
          },
          "execution_count": 22
        }
      ]
    },
    {
      "cell_type": "code",
      "metadata": {
        "colab": {
          "base_uri": "https://localhost:8080/"
        },
        "id": "2TFcAj0f4Id9",
        "outputId": "c74ba495-7245-48c5-e1a0-e0d2e13e119d"
      },
      "source": [
        "lista_arquivos = [] # lista vazia onde serão armazenados os arquivos lidos da landing\n",
        "\n",
        "for ano in nome_arquivos: # percorre lista com os nomes dos arquivos\n",
        "\n",
        "  df_landing = pd.read_csv(ano, encoding='latin1', sep=';') # lê o arquivo com a codificação latin1 e separado por \";\"\n",
        "  lista_arquivos.append(df_landing) # armazena o arquivo lido numa lista\n",
        "\n",
        "  print(df_landing.info()) # imprime informações sobre o dataframe\n",
        "  print(df_landing.head()) # imprime as primeiras linhas do dataframe\n",
        "  print(df_landing.tail()) # imprime as ultimas linhas do dataframe\n"
      ],
      "execution_count": null,
      "outputs": [
        {
          "output_type": "stream",
          "text": [
            "<class 'pandas.core.frame.DataFrame'>\n",
            "RangeIndex: 235 entries, 0 to 234\n",
            "Data columns (total 14 columns):\n",
            " #   Column                          Non-Null Count  Dtype  \n",
            "---  ------                          --------------  -----  \n",
            " 0   Ano                             235 non-null    int64  \n",
            " 1   Modalidade de Licitação         235 non-null    object \n",
            " 2   Número/Ano                      235 non-null    object \n",
            " 3   Processo                        235 non-null    object \n",
            " 4   Situação                        235 non-null    object \n",
            " 5   Objeto                          235 non-null    object \n",
            " 6   Natureza do Objeto              170 non-null    object \n",
            " 7   Demandante                      235 non-null    object \n",
            " 8   Modalidade de Compra            175 non-null    object \n",
            " 9   Homologação (mês)               0 non-null      float64\n",
            " 10  Valor Estimado UFPR             235 non-null    object \n",
            " 11  Valor Estimado Outros Órgãos    235 non-null    object \n",
            " 12  Valor Contratado UFPR           235 non-null    object \n",
            " 13  Valor Contratado Outros Órgãos  235 non-null    object \n",
            "dtypes: float64(1), int64(1), object(12)\n",
            "memory usage: 25.8+ KB\n",
            "None\n",
            "    Ano Modalidade de Licitação Número/Ano        Processo      Situação  \\\n",
            "0  2014         Chamada Pública   001/2014  023625/2014-85  Em Andamento   \n",
            "1  2014    Concorrência Pública   001/2014  047629/2013-78    Fracassado   \n",
            "2  2014    Concorrência Pública   002/2014  048559/2013-75    Fracassado   \n",
            "3  2014    Concorrência Pública   003/2014  052161/2013-33      Suspenso   \n",
            "4  2014    Concorrência Pública   004/2014  041629/2013-64      Suspensa   \n",
            "\n",
            "                                                                                           Objeto  \\\n",
            "0                         Realização de Eventos (propriedade industrial) nas dependências da UFPR   \n",
            "1                                             Concessão de uso de espaço físico, cantina do SEPT.   \n",
            "2  Concessão de uso de espaço para funcionamento de uma reprografia no campus Cabral setor SACOD.   \n",
            "3     Construção do Edifício de Salas do Setor de Ciências Exatas - 3ºEtapa - Campus Politécnico.   \n",
            "4                           Construção - Edificação - Bloco Setor de Ciências da Terra - 2ª Etapa   \n",
            "\n",
            "  Natureza do Objeto Demandante Modalidade de Compra  Homologação (mês)  \\\n",
            "0                NaN     AGITEC                  NaN                NaN   \n",
            "1                NaN       SEPT                  NaN                NaN   \n",
            "2                NaN      SACOD             Contrato                NaN   \n",
            "3                NaN        PCU                  SRP                NaN   \n",
            "4                NaN        PCU                  SRP                NaN   \n",
            "\n",
            "  Valor Estimado UFPR Valor Estimado Outros Órgãos Valor Contratado UFPR  \\\n",
            "0                0,00                         0,00                  0,00   \n",
            "1                0,00                         0,00                  0,00   \n",
            "2                0,00                         0,00                  0,00   \n",
            "3        9.998.396,80                         0,00          8.662.384,47   \n",
            "4                0,00                         0,00                  0,00   \n",
            "\n",
            "  Valor Contratado Outros Órgãos  \n",
            "0                           0,00  \n",
            "1                           0,00  \n",
            "2                           0,00  \n",
            "3                           0,00  \n",
            "4                           0,00  \n",
            "      Ano Modalidade de Licitação Número/Ano        Processo      Situação  \\\n",
            "230  2014        Tomada de Preços   028/2014  040159/2014-01    Homologado   \n",
            "231  2014        Tomada de Preços   029/2014  045761/2014-26  Fase Interna   \n",
            "232  2014        Tomada de Preços   030/2014  044871/2014-71  Fase Interna   \n",
            "233  2014        Tomada de Preços   031/2014  045771/2014-61  Fase Interna   \n",
            "234  2014        Tomada de Preços   032/2014  045256/2014-81  Fase Interna   \n",
            "\n",
            "                                                                                                                                                                 Objeto  \\\n",
            "230  Elaboração de Projetos de Engenharia para Reforma de Área Parcial para os Departamentos de Biologia Celular Fisiologia e Fisioterapia - Setor Ciências Biológicas.   \n",
            "231                                                                                          Obra 1ª Etapa da Reforma do Bloco Didático do Seminário - Campus Palotina.   \n",
            "232                                                                                Reforma dos Vestiários do Centro de Educação Física e Desportos - Campus Politécnico   \n",
            "233                                                                                         Elaboração de Projetos Básicos do Centro de Atenção à Saúde Campus Palotina   \n",
            "234                                                                                 Demolição - Edificação - Téc. Cirurgica e Cirurgia Experimental - Ciências da Saúde   \n",
            "\n",
            "    Natureza do Objeto Demandante Modalidade de Compra  Homologação (mês)  \\\n",
            "230                NaN        PCU   Aquisição imediata                NaN   \n",
            "231                NaN        PCU                  SRP                NaN   \n",
            "232                NaN        PCU                  NaN                NaN   \n",
            "233                NaN        PCU                  SRP                NaN   \n",
            "234                NaN        PCU   Aquisição imediata                NaN   \n",
            "\n",
            "    Valor Estimado UFPR Valor Estimado Outros Órgãos Valor Contratado UFPR  \\\n",
            "230           45.510,93                         0,00                  0,00   \n",
            "231        1.438.735,56                         0,00                  0,00   \n",
            "232        1.290.031,43                         0,00                  0,00   \n",
            "233           44.509,03                         0,00                  0,00   \n",
            "234           66.881,83                         0,00                  0,00   \n",
            "\n",
            "    Valor Contratado Outros Órgãos  \n",
            "230                           0,00  \n",
            "231                           0,00  \n",
            "232                           0,00  \n",
            "233                           0,00  \n",
            "234                           0,00  \n",
            "<class 'pandas.core.frame.DataFrame'>\n",
            "RangeIndex: 165 entries, 0 to 164\n",
            "Data columns (total 14 columns):\n",
            " #   Column                          Non-Null Count  Dtype \n",
            "---  ------                          --------------  ----- \n",
            " 0   Ano                             165 non-null    int64 \n",
            " 1   Modalidade de Licitação         165 non-null    object\n",
            " 2   Número/Ano                      165 non-null    object\n",
            " 3   Processo                        165 non-null    object\n",
            " 4   Situação                        165 non-null    object\n",
            " 5   Objeto                          165 non-null    object\n",
            " 6   Natureza do Objeto              143 non-null    object\n",
            " 7   Demandante                      165 non-null    object\n",
            " 8   Modalidade de Compra            161 non-null    object\n",
            " 9   Homologação (mês)               112 non-null    object\n",
            " 10  Valor Estimado UFPR             165 non-null    object\n",
            " 11  Valor Estimado Outros Órgãos    165 non-null    object\n",
            " 12  Valor Contratado UFPR           165 non-null    object\n",
            " 13  Valor Contratado Outros Órgãos  165 non-null    object\n",
            "dtypes: int64(1), object(13)\n",
            "memory usage: 18.2+ KB\n",
            "None\n",
            "    Ano Modalidade de Licitação Número/Ano        Processo    Situação  \\\n",
            "0  2015         Chamada Pública   001/2015  075143/2015-91  Homologado   \n",
            "1  2015    Concorrência Pública   001/2015  025998/2014-91  Homologado   \n",
            "2  2015    Concorrência Pública   002/2015  047490/2014-43  Homologado   \n",
            "3  2015    Concorrência Pública   003/2015  047492/2014-32     Deserto   \n",
            "4  2015    Concorrência Pública   004/2015  028499/2014-55     Deserto   \n",
            "\n",
            "                                                                        Objeto  \\\n",
            "0                            Aquisição de gêneros alimentícios semiperecíveis    \n",
            "1                                     Serviços de Reprografia - Setor Palotina   \n",
            "2    Concessão de Espaço Público - Cantina Centro de Convivência - Politécnico   \n",
            "3                       Concessão de uso de Reprografia no Edifício D. Pedro I   \n",
            "4  Concessão de uso de espaço físico para serviços de Cantina em Pontal do Sul   \n",
            "\n",
            "  Natureza do Objeto Demandante Modalidade de Compra Homologação (mês)  \\\n",
            "0                NaN        RU              Contrato               NaN   \n",
            "1                NaN   Palotina             Contrato               NaN   \n",
            "2                NaN  DSG/CECOM                  SRP               NaN   \n",
            "3                NaN        PRA                  SRP               NaN   \n",
            "4                NaN        CEM                  SRP               NaN   \n",
            "\n",
            "  Valor Estimado UFPR Valor Estimado Outros Órgãos Valor Contratado UFPR  \\\n",
            "0          413.312,33                         0,00                  0,00   \n",
            "1              500,00                         0,00                510,00   \n",
            "2            1.401,06                         0,00              8.450,77   \n",
            "3              932,54                         0,00                  0,00   \n",
            "4            1.762,42                         0,00                  0,00   \n",
            "\n",
            "  Valor Contratado Outros Órgãos  \n",
            "0                           0,00  \n",
            "1                           0,00  \n",
            "2                           0,00  \n",
            "3                           0,00  \n",
            "4                           0,00  \n",
            "      Ano Modalidade de Licitação Número/Ano        Processo      Situação  \\\n",
            "160  2015        Tomada de Preços   003/2015  084327/2015-42    Homologado   \n",
            "161  2015        Tomada de Preços   004/2015  045256/2014-81  Fase Interna   \n",
            "162  2015        Tomada de Preços   005/2015  081878/2015-54       Deserto   \n",
            "163  2015        Tomada de Preços   006/2015  081878/2015-54       Deserto   \n",
            "164  2015        Tomada de Preços   007/2015  040277/2013-20  Fase Interna   \n",
            "\n",
            "                                                                                                                                                               Objeto  \\\n",
            "160  Projetos de Arquitetura ou Engenharia para Construção do Campus Jandaia (Pavilhão Pedagógico, Pavilhão de Laboratórios Especiais e Portaria Sudoeste)              \n",
            "161                                                                               Demolição - Edificação - Téc. Cirurgica e Cirurgia Experimental - Ciências da Saúde   \n",
            "162                                                                                                   Reforma da quadra esportiva e ajustes para quadra poliesportiva   \n",
            "163                                                                                                   Reforma da quadra esportiva e ajustes para quadra poliesportiva   \n",
            "164                                                                               Solicitação para construção de uma cantina nas proximidades do Hospital Veterinário   \n",
            "\n",
            "    Natureza do Objeto Demandante Modalidade de Compra Homologação (mês)  \\\n",
            "160                NaN    SUINFRA                  SRP               NaN   \n",
            "161                NaN    SUINFRA                  SRP               NaN   \n",
            "162                NaN    SUINFRA                  SRP               NaN   \n",
            "163                NaN    SUINFRA   Aquisição imediata               NaN   \n",
            "164                NaN   Agrárias                  SRP               NaN   \n",
            "\n",
            "    Valor Estimado UFPR Valor Estimado Outros Órgãos Valor Contratado UFPR  \\\n",
            "160          749.324,63                         0,00            524.915,00   \n",
            "161           77.160,09                         0,00                  0,00   \n",
            "162          159.930,40                         0,00                  0,00   \n",
            "163          159.930,40                         0,00                  0,00   \n",
            "164           47.913,38                         0,00                  0,00   \n",
            "\n",
            "    Valor Contratado Outros Órgãos  \n",
            "160                           0,00  \n",
            "161                           0,00  \n",
            "162                           0,00  \n",
            "163                           0,00  \n",
            "164                           0,00  \n",
            "<class 'pandas.core.frame.DataFrame'>\n",
            "RangeIndex: 206 entries, 0 to 205\n",
            "Data columns (total 14 columns):\n",
            " #   Column                          Non-Null Count  Dtype \n",
            "---  ------                          --------------  ----- \n",
            " 0   Ano                             206 non-null    int64 \n",
            " 1   Modalidade de Licitação         206 non-null    object\n",
            " 2   Número/Ano                      206 non-null    object\n",
            " 3   Processo                        206 non-null    object\n",
            " 4   Situação                        206 non-null    object\n",
            " 5   Objeto                          206 non-null    object\n",
            " 6   Natureza do Objeto              184 non-null    object\n",
            " 7   Demandante                      206 non-null    object\n",
            " 8   Modalidade de Compra            206 non-null    object\n",
            " 9   Homologação (mês)               162 non-null    object\n",
            " 10  Valor Estimado UFPR             206 non-null    object\n",
            " 11  Valor Estimado Outros Órgãos    206 non-null    object\n",
            " 12  Valor Contratado UFPR           206 non-null    object\n",
            " 13  Valor Contratado Outros Órgãos  206 non-null    object\n",
            "dtypes: int64(1), object(13)\n",
            "memory usage: 22.7+ KB\n",
            "None\n",
            "    Ano Modalidade de Licitação Número/Ano         Processo      Situação  \\\n",
            "0  2016         Chamada Pública   001/2016   094080/2015-72  Fase Interna   \n",
            "1  2016         Chamada Pública   002/2016   148022/2016-57  Fase Interna   \n",
            "2  2016    Concorrência Pública   001/2016  047492/2014-32     Homologado   \n",
            "3  2016    Concorrência Pública   002/2016   138302/2016-57    Homologado   \n",
            "4  2016    Concorrência Pública   003/2016   122065/2016-11     Cancelado   \n",
            "\n",
            "                                                              Objeto  \\\n",
            "0  Aquisição de Hortifrutigranjeiros - PRONAF \\n(ABERTURA SUSPENSA)    \n",
            "1                  Aquisição de gêneros alimentícios semiperecíveis    \n",
            "2            Concessão de Espaço Público - Reprografia Setor Humanas   \n",
            "3                     Concessão de Espaço Público - Cantina Palotina   \n",
            "4   Reforma do bloco didático do Seminário - Campus Palotina da UFPR   \n",
            "\n",
            "  Natureza do Objeto                 Demandante Modalidade de Compra  \\\n",
            "0                NaN  Restaurante Universitário                  SRP   \n",
            "1                NaN  Restaurante Universitário                  SRP   \n",
            "2                NaN                    Humanas                  SRP   \n",
            "3                NaN                   Palotina                  SRP   \n",
            "4                NaN                   Palotina                  SRP   \n",
            "\n",
            "  Homologação (mês) Valor Estimado UFPR Valor Estimado Outros Órgãos  \\\n",
            "0               NaN          487.716,90                         0,00   \n",
            "1               NaN          427.659,83                         0,00   \n",
            "2               NaN              932,54                         0,00   \n",
            "3               NaN            1.050,00                         0,00   \n",
            "4               NaN        3.215.267,35                         0,00   \n",
            "\n",
            "  Valor Contratado UFPR Valor Contratado Outros Órgãos  \n",
            "0                  0,00                           0,00  \n",
            "1                  0,00                           0,00  \n",
            "2                932,54                           0,00  \n",
            "3              3.003,00                           0,00  \n",
            "4                  0,00                           0,00  \n",
            "      Ano Modalidade de Licitação Número/Ano        Processo      Situação  \\\n",
            "201  2016        Tomada de Preços   005/2016  121330/2016-35    Homologado   \n",
            "202  2016        Tomada de Preços   006/2016  045256/2014-81    Homologado   \n",
            "203  2016        Tomada de Preços   007/2016  128417/2016-33    Homologado   \n",
            "204  2016        Tomada de Preços   008/2016  124811/2016-01  Fase Interna   \n",
            "205  2016        Tomada de Preços   009/2016  077194/2015-58    Homologado   \n",
            "\n",
            "                                                                                                                      Objeto  \\\n",
            "201                                                               Reforma do Telhado do Bloco Didático I, do Setor Palotina    \n",
            "202                        Demolição de Edificação que abriga a Técnica Cirurgica Experimental do Setor de Ciências da Saúde   \n",
            "203  Reforma da sala de aula de Mestrado e Readequação de ambiente no Departamento de Construção Civil (Setor de Tecnologia)   \n",
            "204                                                                          Reforma do Saguão do Setor de Ciências da Saúde   \n",
            "205                                                                Conserto e pintura da torre e da caixa d'água do CIFLOMA    \n",
            "\n",
            "    Natureza do Objeto Demandante Modalidade de Compra Homologação (mês)  \\\n",
            "201                NaN    SUINFRA                  SRP            Agosto   \n",
            "202                NaN    SUINFRA                  SRP           Outubro   \n",
            "203                NaN    SUINFRA                  SRP             Março   \n",
            "204                NaN    SUINFRA                  SRP               NaN   \n",
            "205                NaN    SUINFRA                  SRP           Janeiro   \n",
            "\n",
            "    Valor Estimado UFPR Valor Estimado Outros Órgãos Valor Contratado UFPR  \\\n",
            "201          132.291,51                         0,00            132.278,64   \n",
            "202          133.827,25                         0,00             76.464,96   \n",
            "203          116.058,32                         0,00             94.678,75   \n",
            "204          769.982,16                         0,00                  0,00   \n",
            "205          117.787,68                         0,00             78.885,16   \n",
            "\n",
            "    Valor Contratado Outros Órgãos  \n",
            "201                           0,00  \n",
            "202                           0,00  \n",
            "203                           0,00  \n",
            "204                           0,00  \n",
            "205                           0,00  \n",
            "<class 'pandas.core.frame.DataFrame'>\n",
            "RangeIndex: 179 entries, 0 to 178\n",
            "Data columns (total 14 columns):\n",
            " #   Column                          Non-Null Count  Dtype \n",
            "---  ------                          --------------  ----- \n",
            " 0   Ano                             179 non-null    int64 \n",
            " 1   Modalidade de Licitação         179 non-null    object\n",
            " 2   Número/Ano                      179 non-null    object\n",
            " 3   Processo                        179 non-null    object\n",
            " 4   Situação                        179 non-null    object\n",
            " 5   Objeto                          179 non-null    object\n",
            " 6   Natureza do Objeto              153 non-null    object\n",
            " 7   Demandante                      179 non-null    object\n",
            " 8   Modalidade de Compra            158 non-null    object\n",
            " 9   Homologação (mês)               125 non-null    object\n",
            " 10  Valor Estimado UFPR             179 non-null    object\n",
            " 11  Valor Estimado Outros Órgãos    179 non-null    object\n",
            " 12  Valor Contratado UFPR           179 non-null    object\n",
            " 13  Valor Contratado Outros Órgãos  179 non-null    object\n",
            "dtypes: int64(1), object(13)\n",
            "memory usage: 19.7+ KB\n",
            "None\n",
            "    Ano Modalidade de Licitação Número/Ano        Processo      Situação  \\\n",
            "0  2017    Concorrência Pública   001/2017  145672/2016-41    Homologado   \n",
            "1  2017    Concorrência Pública   002/2017  152141/2016-12  Fase Interna   \n",
            "2  2017    Concorrência Pública   003/2017  122065/2016-11  Fase Interna   \n",
            "3  2017    Concorrência Pública   004/2017  156972/2016-55    Homologado   \n",
            "4  2017    Concorrência Pública   005/2017  164515/2016-34    Homologado   \n",
            "\n",
            "                                                                                                                                             Objeto  \\\n",
            "0             Concessão de espaço físico para o funcionamento de cantina no Bloco II - Edificio Sede dos cursos de Enfermagem e Terapia Ocupacional   \n",
            "1                                 Contratação de empresa de engenharia para a construção da 2ª etapa do Bloco Carcinicultura - Campus Maripá - UFPR   \n",
            "2                                                                                  Reforma do bloco didático do Seminário - Campus Palotina da UFPR   \n",
            "3                                             Concessão de uso de espaço físico para o funcionamento de uma cantina no Setor de Ciências Biológicas   \n",
            "4  Concessão de uso do espaço do Centro de Convivência destinado a agência franqueada dos correios para atender a comunidade do Centro Politécnico    \n",
            "\n",
            "  Natureza do Objeto Demandante Modalidade de Compra Homologação (mês)  \\\n",
            "0                NaN      Saúde                  NaN             Junho   \n",
            "1                NaN   Palotina                  NaN               NaN   \n",
            "2                NaN   Palotina                  NaN               NaN   \n",
            "3                NaN      CECOM                  NaN               NaN   \n",
            "4                NaN        DSA                  NaN              Maio   \n",
            "\n",
            "  Valor Estimado UFPR Valor Estimado Outros Órgãos Valor Contratado UFPR  \\\n",
            "0            4.279,92                         0,00             19.541,97   \n",
            "1          491.316,03                         0,00                  0,00   \n",
            "2        3.215.267,35                         0,00                  0,00   \n",
            "3            4.373,00                         0,00                  0,00   \n",
            "4            3.119,51                         0,00              3.120,00   \n",
            "\n",
            "  Valor Contratado Outros Órgãos  \n",
            "0                           0,00  \n",
            "1                           0,00  \n",
            "2                           0,00  \n",
            "3                           0,00  \n",
            "4                           0,00  \n",
            "      Ano Modalidade de Licitação Número/Ano        Processo      Situação  \\\n",
            "174  2017        Tomada de Preços    01/2017  162419/2016-51    Homologado   \n",
            "175  2017        Tomada de Preços   002/2017  116316/2016-10  Fase Interna   \n",
            "176  2017        Tomada de Preços   003/2017  124811/2016-01  Fase Interna   \n",
            "177  2017        Tomada de Preços   004/2017  165888/2016-22  Em Andamento   \n",
            "178  2017        Tomada de Preços   005/2017  167026/2016-34    Homologado   \n",
            "\n",
            "                                                                                                                           Objeto  \\\n",
            "174                                                        Adequação da rede de gás (GLP) do Edifício do Departamento de Nutrição   \n",
            "175                                                                             Construção de Estúdio da Atlética \"Os Lenhadores\"   \n",
            "176                                                                               Reforma do Saguão do Setor de Ciências da Saúde   \n",
            "177  Contratação de empresa especializada para adequação do sistema de ventilação da cozinha do restaurante universitário central   \n",
            "178            Adequação do Prédio do DCE, quanto ao sistema de prevenção e combate a incêndio - Campus II - Complexo da Reitoria   \n",
            "\n",
            "    Natureza do Objeto Demandante Modalidade de Compra Homologação (mês)  \\\n",
            "174                NaN    SUINFRA                  NaN             Junho   \n",
            "175                NaN   Agrárias                  NaN               NaN   \n",
            "176                NaN    SUINFRA                  NaN               NaN   \n",
            "177                NaN    SUINFRA                  NaN               NaN   \n",
            "178                NaN    SUINFRA                  NaN             Junho   \n",
            "\n",
            "    Valor Estimado UFPR Valor Estimado Outros Órgãos Valor Contratado UFPR  \\\n",
            "174           26.739,62                         0,00             24.585,84   \n",
            "175          301.569,65                         0,00                  0,00   \n",
            "176          769.982,16                         0,00                  0,00   \n",
            "177          195.598,22                         0,00                  0,00   \n",
            "178          308.596,64                         0,00            221.020,98   \n",
            "\n",
            "    Valor Contratado Outros Órgãos  \n",
            "174                           0,00  \n",
            "175                           0,00  \n",
            "176                           0,00  \n",
            "177                           0,00  \n",
            "178                           0,00  \n",
            "<class 'pandas.core.frame.DataFrame'>\n",
            "RangeIndex: 230 entries, 0 to 229\n",
            "Data columns (total 14 columns):\n",
            " #   Column                          Non-Null Count  Dtype \n",
            "---  ------                          --------------  ----- \n",
            " 0   Ano                             230 non-null    int64 \n",
            " 1   Modalidade de Licitação         230 non-null    object\n",
            " 2   Número/Ano                      230 non-null    object\n",
            " 3   Processo                        230 non-null    object\n",
            " 4   Situação                        230 non-null    object\n",
            " 5   Objeto                          230 non-null    object\n",
            " 6   Natureza do Objeto              193 non-null    object\n",
            " 7   Demandante                      230 non-null    object\n",
            " 8   Modalidade de Compra            205 non-null    object\n",
            " 9   Homologação (mês)               170 non-null    object\n",
            " 10  Valor Estimado UFPR             229 non-null    object\n",
            " 11  Valor Estimado Outros Órgãos    230 non-null    object\n",
            " 12  Valor Contratado UFPR           230 non-null    object\n",
            " 13  Valor Contratado Outros Órgãos  230 non-null    object\n",
            "dtypes: int64(1), object(13)\n",
            "memory usage: 25.3+ KB\n",
            "None\n",
            "    Ano Modalidade de Licitação Número/Ano        Processo      Situação  \\\n",
            "0  2018    Concorrência Pública    01/2018  159327/2016-94       Deserto   \n",
            "1  2018    Concorrência Pública    02/2018  193014/2017-46       Deserto   \n",
            "2  2018    Concorrência Pública    03/2018  193128/2017-96       Deserto   \n",
            "3  2018    Concorrência Pública    04/2018  036323/2018-09       Deserto   \n",
            "4  2018    Concorrência Pública    05/2018  059443/2018-76  Fase interna   \n",
            "\n",
            "                                                                                                                                                                                                                    Objeto  \\\n",
            "0                                                                             Concessão de uso de espaço físico visando à exploração comercial de serviços de Cantina para atender necessidade do Centro de Estudos do Mar   \n",
            "1                                                                       Concessão de uso de espaço físico visando à exploração comercial de serviços de Reprografia para atender necessidade do Setor de Ciências Agrárias   \n",
            "2                                                                           Concessão de uso de espaço físico visando à exploração comercial de serviços de Cantina para atender necessidade do Setor de Ciências Agrárias   \n",
            "3  Concessão de uso de espaço físico, com área total aproximada de 59,80 m², visando à exploração comercial de serviços de cantina para atender à comunidade acadêmica do Setor Palotina da Universidade Federal do Paraná   \n",
            "4                                                     Concessão de uso de espaço fisico visando à exploração comercial de serviços de Cantina para atender necessidade da unidade do CIFLOMA do Setor de Ciências Agrárias   \n",
            "\n",
            "  Natureza do Objeto Demandante Modalidade de Compra Homologação (mês)  \\\n",
            "0                NaN        CEM                  NaN               NaN   \n",
            "1                NaN   Agrárias                  NaN               NaN   \n",
            "2                NaN   Agrárias                  NaN               NaN   \n",
            "3                NaN   Palotina                  NaN               NaN   \n",
            "4                NaN   Agrárias                  NaN               NaN   \n",
            "\n",
            "  Valor Estimado UFPR Valor Estimado Outros Órgãos Valor Contratado UFPR  \\\n",
            "0           36.853,56                         0,00                  0,00   \n",
            "1           29.729,28                         0,00                  0,00   \n",
            "2           67.563,00                         0,00                  0,00   \n",
            "3           13.764,00                         0,00                  0,00   \n",
            "4              697,11                         0,00                  0,00   \n",
            "\n",
            "  Valor Contratado Outros Órgãos  \n",
            "0                           0,00  \n",
            "1                           0,00  \n",
            "2                           0,00  \n",
            "3                           0,00  \n",
            "4                           0,00  \n",
            "      Ano             Modalidade de Licitação Número/Ano        Processo  \\\n",
            "225  2018  Regime Diferenciado de Contratação    16/2018  051553/2018-90   \n",
            "226  2018  Regime Diferenciado de Contratação    17/2018  017111/2018-14   \n",
            "227  2018  Regime Diferenciado de Contratação    18/2018  059417/2018-48   \n",
            "228  2018  Regime Diferenciado de Contratação    19/2018  033138/2018-54   \n",
            "229  2018  Regime Diferenciado de Contratação    20/2018  010030/2018-93   \n",
            "\n",
            "                        Situação  \\\n",
            "225                   Homologado   \n",
            "226                   Homologado   \n",
            "227                      Deserto   \n",
            "228  Verificação de conformidade   \n",
            "229                   Homologado   \n",
            "\n",
            "                                                                                                                                                                                                                                Objeto  \\\n",
            "225                                                                                                                                                                              Reforma na  futura sala da Agência UFPR Internacional   \n",
            "226                                                                                                                                                      Impermeabilização e Intervenções no Restaurante Universitário Central da UFPR   \n",
            "227  Construção da 2ª etapa da reforma e ampliação do edifício que abriga as piscinas do Centro de Educação Física e Desporto do Setor de Ciências Biológicas, localizado no campus Jd. das Américas da Universidade Federal do Paraná   \n",
            "228                                                                                                                     Restauro e adequação de sala da Comissão Permanente de Pessoal Docente, localizada no Edifício Reitoria - UFPR   \n",
            "229                                                                              Construção da rampa de acesso ao espaço da agroecologia do Setor de Ciências Agrárias, localizado no campus Cabral da Universidade\\nFederal do Paraná   \n",
            "\n",
            "    Natureza do Objeto Demandante Modalidade de Compra Homologação (mês)  \\\n",
            "225                NaN    SUINFRA                  NaN               NaN   \n",
            "226                NaN    SUINFRA                  NaN          Dezembro   \n",
            "227                NaN    SUINFRA                  NaN               NaN   \n",
            "228                NaN    SUINFRA                  NaN               NaN   \n",
            "229                NaN    SUINFRA                  NaN         Fevereiro   \n",
            "\n",
            "    Valor Estimado UFPR Valor Estimado Outros Órgãos Valor Contratado UFPR  \\\n",
            "225           57.882,33                         0,00                  0,00   \n",
            "226          796.399,09                         0,00            596.980,75   \n",
            "227                 NaN                         0,00                  0,00   \n",
            "228           20.520,88                         0,00                  0,00   \n",
            "229           69.665,77                         0,00             68.969,11   \n",
            "\n",
            "    Valor Contratado Outros Órgãos  \n",
            "225                           0,00  \n",
            "226                           0,00  \n",
            "227                           0,00  \n",
            "228                           0,00  \n",
            "229                           0,00  \n",
            "<class 'pandas.core.frame.DataFrame'>\n",
            "RangeIndex: 192 entries, 0 to 191\n",
            "Data columns (total 14 columns):\n",
            " #   Column                          Non-Null Count  Dtype  \n",
            "---  ------                          --------------  -----  \n",
            " 0   Ano                             192 non-null    int64  \n",
            " 1   Modalidade de Licitação         192 non-null    object \n",
            " 2   Número/Ano                      192 non-null    object \n",
            " 3   Processo                        192 non-null    object \n",
            " 4   Situação                        192 non-null    object \n",
            " 5   Objeto                          192 non-null    object \n",
            " 6   Natureza do Objeto              0 non-null      float64\n",
            " 7   Demandante                      192 non-null    object \n",
            " 8   Modalidade de Compra            169 non-null    object \n",
            " 9   Homologação (mês)               133 non-null    object \n",
            " 10  Valor Estimado UFPR             192 non-null    object \n",
            " 11  Valor Estimado Outros Órgãos    192 non-null    object \n",
            " 12  Valor Contratado UFPR           192 non-null    object \n",
            " 13  Valor Contratado Outros Órgãos  192 non-null    object \n",
            "dtypes: float64(1), int64(1), object(12)\n",
            "memory usage: 21.1+ KB\n",
            "None\n",
            "    Ano Modalidade de Licitação Número/Ano        Processo    Situação  \\\n",
            "0  2019    Concorrência Pública   001/2019  036323/2018-09  Homologado   \n",
            "1  2019    Concorrência Pública   002/2019  038528/2018-11    Revogado   \n",
            "2  2019    Concorrência Pública   003/2019  059541/2018-11    Revogado   \n",
            "3  2019          Credenciamento   001/2019  036323/2018-09  Homologado   \n",
            "4  2019          Credenciamento   002/2019  038528/2018-11    Revogado   \n",
            "\n",
            "                                                                                                                                                                                                                    Objeto  \\\n",
            "0  Concessão de uso de espaço físico, com área total aproximada de 59,80 m², visando à exploração comercial de serviços de cantina para atender à comunidade acadêmica do Setor Palotina da Universidade Federal do Paraná   \n",
            "1                                                                        Concessão de uso de espaço físico visando à exploração comercial de serviços de Cantina para atender necessidade do Setor de Ciências Biológicas.   \n",
            "2                                                                                 Concessão de uso de espaço físico visando à exploração comercial de serviços de Cantina para atender necessidade do Setor de Tecnologia.   \n",
            "3  Concessão de uso de espaço físico, com área total aproximada de 59,80 m², visando à exploração comercial de serviços de cantina para atender à comunidade acadêmica do Setor Palotina da Universidade Federal do Paraná   \n",
            "4                                                                        Concessão de uso de espaço físico visando à exploração comercial de serviços de Cantina para atender necessidade do Setor de Ciências Biológicas.   \n",
            "\n",
            "   Natureza do Objeto           Demandante Modalidade de Compra  \\\n",
            "0                 NaN             Palotina                  NaN   \n",
            "1                 NaN  CIÊNCIAS BIOLÓGICAS                  NaN   \n",
            "2                 NaN                SETEC                  NaN   \n",
            "3                 NaN             Palotina                  NaN   \n",
            "4                 NaN  CIÊNCIAS BIOLÓGICAS                  NaN   \n",
            "\n",
            "  Homologação (mês) Valor Estimado UFPR Valor Estimado Outros Órgãos  \\\n",
            "0             Março           13.764,00                         0,00   \n",
            "1               NaN           72.949,56                         0,00   \n",
            "2               NaN           40.141,44                         0,00   \n",
            "3             Março           13.764,00                         0,00   \n",
            "4               NaN           72.949,56                         0,00   \n",
            "\n",
            "  Valor Contratado UFPR Valor Contratado Outros Órgãos  \n",
            "0             14.844,00                           0,00  \n",
            "1                  0,00                           0,00  \n",
            "2                  0,00                           0,00  \n",
            "3             14.844,00                           0,00  \n",
            "4                  0,00                           0,00  \n",
            "      Ano             Modalidade de Licitação Número/Ano        Processo  \\\n",
            "187  2019  Regime Diferenciado de Contratação   013/2019  026553/2018-51   \n",
            "188  2019  Regime Diferenciado de Contratação   014/2019  050052/2018-96   \n",
            "189  2019  Regime Diferenciado de Contratação   015/2019  025554/2018-89   \n",
            "190  2019  Regime Diferenciado de Contratação   016/2019  022969/2019-81   \n",
            "191  2019  Regime Diferenciado de Contratação   017/2019  059460/2019-94   \n",
            "\n",
            "       Situação  \\\n",
            "187  Homologado   \n",
            "188  Homologado   \n",
            "189  Homologado   \n",
            "190     Deserto   \n",
            "191  Homologado   \n",
            "\n",
            "                                                                                                                                                                                                                                                                                                                                           Objeto  \\\n",
            "187                                                                                               Contratação de empresa de arquitetura ou engenharia para substituição das instalações prediais de gás canalizado (GLP  Gás Liquefeito de Petróleo) do edifício do curso de Nutrição, no Campus Jd. Botânico, da Universidade Federal do Paraná   \n",
            "188  Contratação de empresa de arquitetura ou engenharia para\\nElaboração de Projeto Básico Completo de Arquitetura e Engenharia\\npara Laboratórios de Ruminantes, com área aproximada de 71,60m², e\\nCentral de Resíduos, com área aproximada de 100m², ambos do\\nSetor Palotina da Universidade Federal do Paraná, com área total\\nde 171,60 m²   \n",
            "189                                                                                                                                                                                       Contratação de empresa de arquitetura ou engenharia para execução de obra de construção da portaria, no Campus Cabral da Universidade Federal do Paraná   \n",
            "190                                                                                                                                       Contratação de empresa de arquitetura ou engenharia, para execução de obra de ligação elétrica para motobomba do Núcleo de Pesquisas em Aquicultura de Maripá (NPDA), da Universidade Federal do Paraná   \n",
            "191                                                                                                                                                         Contratação de empresa de arquitetura ou engenharia, para execução de obra de recuperação da Sala de Aula 21 do Bloco Didático 4 do Setor Palotina, da Universidade Federal do Paraná   \n",
            "\n",
            "     Natureza do Objeto Demandante Modalidade de Compra Homologação (mês)  \\\n",
            "187                 NaN    SUINFRA                  NaN          Novembro   \n",
            "188                 NaN    SUINFRA                  NaN               NaN   \n",
            "189                 NaN    SUINFRA                  NaN             Abril   \n",
            "190                 NaN    SUINFRA                  NaN               NaN   \n",
            "191                 NaN    SUINFRA                  NaN             Abril   \n",
            "\n",
            "    Valor Estimado UFPR Valor Estimado Outros Órgãos Valor Contratado UFPR  \\\n",
            "187          185.627,56                         0,00            111.357,97   \n",
            "188           36.138,83                         0,00                  0,00   \n",
            "189          262.838,92                         0,00            212.899,79   \n",
            "190          115.099,10                         0,00                  0,00   \n",
            "191          138.832,53                         0,00            136.055,87   \n",
            "\n",
            "    Valor Contratado Outros Órgãos  \n",
            "187                           0,00  \n",
            "188                           0,00  \n",
            "189                           0,00  \n",
            "190                           0,00  \n",
            "191                           0,00  \n",
            "<class 'pandas.core.frame.DataFrame'>\n",
            "RangeIndex: 153 entries, 0 to 152\n",
            "Data columns (total 14 columns):\n",
            " #   Column                          Non-Null Count  Dtype  \n",
            "---  ------                          --------------  -----  \n",
            " 0   Ano                             153 non-null    int64  \n",
            " 1   Modalidade de Licitação         153 non-null    object \n",
            " 2   Número/Ano                      153 non-null    object \n",
            " 3   Processo                        153 non-null    object \n",
            " 4   Situação                        153 non-null    object \n",
            " 5   Objeto                          153 non-null    object \n",
            " 6   Natureza do Objeto              0 non-null      float64\n",
            " 7   Demandante                      153 non-null    object \n",
            " 8   Modalidade de Compra            138 non-null    object \n",
            " 9   Homologação (mês)               114 non-null    object \n",
            " 10  Valor Estimado UFPR             153 non-null    object \n",
            " 11  Valor Estimado Outros Órgãos    153 non-null    object \n",
            " 12  Valor Contratado UFPR           153 non-null    object \n",
            " 13  Valor Contratado Outros Órgãos  153 non-null    object \n",
            "dtypes: float64(1), int64(1), object(12)\n",
            "memory usage: 16.9+ KB\n",
            "None\n",
            "    Ano Modalidade de Licitação Número/Ano        Processo  \\\n",
            "0  2020       Pregão Eletrônico   001/2020  086104/2019-43   \n",
            "1  2020       Pregão Eletrônico   002/2020  031668/2019-49   \n",
            "2  2020       Pregão Eletrônico   003/2020  069208/2019-93   \n",
            "3  2020       Pregão Eletrônico   004/2020  068067/2019-91   \n",
            "4  2020       Pregão Eletrônico   005/2020  032553/2019-71   \n",
            "\n",
            "                      Situação  \\\n",
            "0  Verificação de conformidade   \n",
            "1                   Homologado   \n",
            "2                   Homologado   \n",
            "3                   Homologado   \n",
            "4                   Homologado   \n",
            "\n",
            "                                                                                                                                                                                                                                                                                                                  Objeto  \\\n",
            "0                                                   Aquisição de tubos, conexões e acessórios, fabricados em metal, assim como, soldas e fluxos para união destes materiais, com a finalidade de utilização em instalações hidráulicas responsáveis pelo bombeamento de fluídos para reservatórios instalados nesta UFPR   \n",
            "1                                                                                                                                                              Contratação de empresa especializada na prestação de serviços de limpeza e segurança para eventos, para atender necessidades de diversas unidades da UFPR   \n",
            "2  Contratação de empresa especializada na prestação de serviços de produção e fornecimento de refeições (café da manhã, almoço e jantar), para atender às necessidades do Restaurante Universitário da Universidade Federal do Paraná do Campus Centro de Estudos do Mar (CEM) localizado na cidade de Pontal do Sul/PR   \n",
            "3                                                                                                                                                                     Aquisição de materiais de consumo de uso comum contendo itens de expediente e outros para o Almoxarifado Central da Universidade Federal do Paraná   \n",
            "4                                                                                   Concessão de uso de espaço físico para exploração comercial com a venda de lanches através de estruturas móveis (quiosques e máquinas automáticas), para atender necessidades de diversas unidades da Universidade Federal do Paraná   \n",
            "\n",
            "   Natureza do Objeto            Demandante Modalidade de Compra  \\\n",
            "0                 NaN               SUINFRA                  SRP   \n",
            "1                 NaN                 GEPEC                  SRP   \n",
            "2                 NaN                    RU             Contrato   \n",
            "3                 NaN  ALMOXARIFADO CENTRAL                  SRP   \n",
            "4                 NaN                 GEPEC             Contrato   \n",
            "\n",
            "  Homologação (mês) Valor Estimado UFPR Valor Estimado Outros Órgãos  \\\n",
            "0               NaN          228.847,90                         0,00   \n",
            "1             março           64.162,13                         0,00   \n",
            "2             março        2.349.757,50                         0,00   \n",
            "3             março           80.012,15                         0,00   \n",
            "4         fevereiro           35.665,68                         0,00   \n",
            "\n",
            "  Valor Contratado UFPR Valor Contratado Outros Órgãos  \n",
            "0                  0,00                           0,00  \n",
            "1             63.274,25                           0,00  \n",
            "2          1.856.363,90                           0,00  \n",
            "3             54.835,30                           0,00  \n",
            "4             34.976,30                           0,00  \n",
            "      Ano             Modalidade de Licitação Número/Ano        Processo  \\\n",
            "148  2020  Regime Diferenciado de Contratação   011/2020  006361/2019-18   \n",
            "149  2020  Regime Diferenciado de Contratação   012/2020  032662/2019-99   \n",
            "150  2020  Regime Diferenciado de Contratação   013/2020  044949/2018-81   \n",
            "151  2020  Regime Diferenciado de Contratação   014/2020  053769/2020-12   \n",
            "152  2020  Regime Diferenciado de Contratação   015/2020  210830/2017-21   \n",
            "\n",
            "       Situação  \\\n",
            "148  Homologado   \n",
            "149  Homologado   \n",
            "150  Homologado   \n",
            "151  Homologado   \n",
            "152  Homologado   \n",
            "\n",
            "                                                                                                                                                                                                                                                                                                                                                                                                                          Objeto  \\\n",
            "148                                                                                                                                                                                                           Contratação de empresa de arquitetura ou engenharia para execução de obras para construção de edificações do Centro de Convivência e Instalações Sanitárias, no Campus Palotina da Universidade Federal do Paraná.   \n",
            "149                                                                                                             Contratação de empresa de engenharia para a execução e fornecimento de materiais, instalação de infraestrutura civil e elétrica em média e baixa tensão para atendimento à demanda de energia elétrica da Estufa e Laboratório de Fitopatologia, do Setor de Ciências Agrárias da Universidade Federal do Paraná   \n",
            "150                                                                                                                                                                                                              Contratação de empresa de arquitetura ou engenharia para prestação de Serviços Técnicos Profissionais Especializados para Reforma da Antiga Imprensa para ocupação pelo SACOD da Universidade Federal do Paraná   \n",
            "151  Contratação de empresa de arquitetura e/ou engenharia para execução de obra de reforma para implementação do Projeto Técnico de Prevenção a Incêndio e Desastre (PTPID) do Complexo de Edifícios que abriga a Biblioteca Central (BC), Casa da Estudante Universitária de Curitiba (CEUC), Diretório Central dos Estudantes (DCE) e Restaurante Universitário (RU) Central da Universidade Federal do Paraná (5.215,55 m2).   \n",
            "152                                                                                                                                                                                                                       Contratação de empresa de arquitetura ou engenharia para execução de obras para construção de edificações do Almoxarifado e via de acesso interna no Campus Palotina da Universidade Federal do Paraná   \n",
            "\n",
            "     Natureza do Objeto Demandante Modalidade de Compra Homologação (mês)  \\\n",
            "148                 NaN    SUINFRA                  NaN               NaN   \n",
            "149                 NaN    SUINFRA                  NaN          Dezembro   \n",
            "150                 NaN    SUINFRA                  NaN          Dezembro   \n",
            "151                 NaN    SUINFRA                  NaN          Dezembro   \n",
            "152                 NaN    SUINFRA                  NaN          Dezembro   \n",
            "\n",
            "    Valor Estimado UFPR Valor Estimado Outros Órgãos Valor Contratado UFPR  \\\n",
            "148          385.440,33                         0,00                  0,00   \n",
            "149           92.399,76                         0,00             83.159,78   \n",
            "150        1.938.827,90                         0,00          1.839.462,97   \n",
            "151          457.012,05                         0,00            387.999,57   \n",
            "152        1.202.144,54                         0,00            983.788,20   \n",
            "\n",
            "    Valor Contratado Outros Órgãos  \n",
            "148                           0,00  \n",
            "149                           0,00  \n",
            "150                           0,00  \n",
            "151                           0,00  \n",
            "152                           0,00  \n"
          ],
          "name": "stdout"
        }
      ]
    },
    {
      "cell_type": "code",
      "metadata": {
        "id": "37sTygiU9bYJ"
      },
      "source": [
        "df_raw = pd.concat(lista_arquivos, axis=0, ignore_index=True) # concatenad todos arquivos a lista_arquivos num arquivo só"
      ],
      "execution_count": null,
      "outputs": []
    },
    {
      "cell_type": "code",
      "metadata": {
        "colab": {
          "base_uri": "https://localhost:8080/"
        },
        "id": "cW-Br13L9gRX",
        "outputId": "b13db48c-badb-4acb-f2b8-e9a5edf015ba"
      },
      "source": [
        "print(df_raw.info())"
      ],
      "execution_count": null,
      "outputs": [
        {
          "output_type": "stream",
          "text": [
            "<class 'pandas.core.frame.DataFrame'>\n",
            "RangeIndex: 1360 entries, 0 to 1359\n",
            "Data columns (total 14 columns):\n",
            " #   Column                          Non-Null Count  Dtype \n",
            "---  ------                          --------------  ----- \n",
            " 0   Ano                             1360 non-null   int64 \n",
            " 1   Modalidade de Licitação         1360 non-null   object\n",
            " 2   Número/Ano                      1360 non-null   object\n",
            " 3   Processo                        1360 non-null   object\n",
            " 4   Situação                        1360 non-null   object\n",
            " 5   Objeto                          1360 non-null   object\n",
            " 6   Natureza do Objeto              843 non-null    object\n",
            " 7   Demandante                      1360 non-null   object\n",
            " 8   Modalidade de Compra            1212 non-null   object\n",
            " 9   Homologação (mês)               816 non-null    object\n",
            " 10  Valor Estimado UFPR             1359 non-null   object\n",
            " 11  Valor Estimado Outros Órgãos    1360 non-null   object\n",
            " 12  Valor Contratado UFPR           1360 non-null   object\n",
            " 13  Valor Contratado Outros Órgãos  1360 non-null   object\n",
            "dtypes: int64(1), object(13)\n",
            "memory usage: 148.9+ KB\n",
            "None\n"
          ],
          "name": "stdout"
        }
      ]
    },
    {
      "cell_type": "code",
      "metadata": {
        "colab": {
          "base_uri": "https://localhost:8080/"
        },
        "id": "m_k8yD2_9oyw",
        "outputId": "19e8ba06-1933-41a2-f66e-f809d22a6b79"
      },
      "source": [
        "print(df_raw.head())"
      ],
      "execution_count": null,
      "outputs": [
        {
          "output_type": "stream",
          "text": [
            "    Ano Modalidade de Licitação Número/Ano        Processo      Situação  \\\n",
            "0  2014         Chamada Pública   001/2014  023625/2014-85  Em Andamento   \n",
            "1  2014    Concorrência Pública   001/2014  047629/2013-78    Fracassado   \n",
            "2  2014    Concorrência Pública   002/2014  048559/2013-75    Fracassado   \n",
            "3  2014    Concorrência Pública   003/2014  052161/2013-33      Suspenso   \n",
            "4  2014    Concorrência Pública   004/2014  041629/2013-64      Suspensa   \n",
            "\n",
            "                                                                                           Objeto  \\\n",
            "0                         Realização de Eventos (propriedade industrial) nas dependências da UFPR   \n",
            "1                                             Concessão de uso de espaço físico, cantina do SEPT.   \n",
            "2  Concessão de uso de espaço para funcionamento de uma reprografia no campus Cabral setor SACOD.   \n",
            "3     Construção do Edifício de Salas do Setor de Ciências Exatas - 3ºEtapa - Campus Politécnico.   \n",
            "4                           Construção - Edificação - Bloco Setor de Ciências da Terra - 2ª Etapa   \n",
            "\n",
            "  Natureza do Objeto Demandante Modalidade de Compra Homologação (mês)  \\\n",
            "0                NaN     AGITEC                  NaN               NaN   \n",
            "1                NaN       SEPT                  NaN               NaN   \n",
            "2                NaN      SACOD             Contrato               NaN   \n",
            "3                NaN        PCU                  SRP               NaN   \n",
            "4                NaN        PCU                  SRP               NaN   \n",
            "\n",
            "  Valor Estimado UFPR Valor Estimado Outros Órgãos Valor Contratado UFPR  \\\n",
            "0                0,00                         0,00                  0,00   \n",
            "1                0,00                         0,00                  0,00   \n",
            "2                0,00                         0,00                  0,00   \n",
            "3        9.998.396,80                         0,00          8.662.384,47   \n",
            "4                0,00                         0,00                  0,00   \n",
            "\n",
            "  Valor Contratado Outros Órgãos  \n",
            "0                           0,00  \n",
            "1                           0,00  \n",
            "2                           0,00  \n",
            "3                           0,00  \n",
            "4                           0,00  \n"
          ],
          "name": "stdout"
        }
      ]
    },
    {
      "cell_type": "code",
      "metadata": {
        "colab": {
          "base_uri": "https://localhost:8080/"
        },
        "id": "oOhaWmwXAzwR",
        "outputId": "577f35da-768a-4a77-bd0e-9fb3edbbec62"
      },
      "source": [
        "print(df_raw.tail())"
      ],
      "execution_count": null,
      "outputs": [
        {
          "output_type": "stream",
          "text": [
            "       Ano             Modalidade de Licitação Número/Ano        Processo  \\\n",
            "1355  2020  Regime Diferenciado de Contratação   011/2020  006361/2019-18   \n",
            "1356  2020  Regime Diferenciado de Contratação   012/2020  032662/2019-99   \n",
            "1357  2020  Regime Diferenciado de Contratação   013/2020  044949/2018-81   \n",
            "1358  2020  Regime Diferenciado de Contratação   014/2020  053769/2020-12   \n",
            "1359  2020  Regime Diferenciado de Contratação   015/2020  210830/2017-21   \n",
            "\n",
            "        Situação  \\\n",
            "1355  Homologado   \n",
            "1356  Homologado   \n",
            "1357  Homologado   \n",
            "1358  Homologado   \n",
            "1359  Homologado   \n",
            "\n",
            "                                                                                                                                                                                                                                                                                                                                                                                                                           Objeto  \\\n",
            "1355                                                                                                                                                                                                           Contratação de empresa de arquitetura ou engenharia para execução de obras para construção de edificações do Centro de Convivência e Instalações Sanitárias, no Campus Palotina da Universidade Federal do Paraná.   \n",
            "1356                                                                                                             Contratação de empresa de engenharia para a execução e fornecimento de materiais, instalação de infraestrutura civil e elétrica em média e baixa tensão para atendimento à demanda de energia elétrica da Estufa e Laboratório de Fitopatologia, do Setor de Ciências Agrárias da Universidade Federal do Paraná   \n",
            "1357                                                                                                                                                                                                              Contratação de empresa de arquitetura ou engenharia para prestação de Serviços Técnicos Profissionais Especializados para Reforma da Antiga Imprensa para ocupação pelo SACOD da Universidade Federal do Paraná   \n",
            "1358  Contratação de empresa de arquitetura e/ou engenharia para execução de obra de reforma para implementação do Projeto Técnico de Prevenção a Incêndio e Desastre (PTPID) do Complexo de Edifícios que abriga a Biblioteca Central (BC), Casa da Estudante Universitária de Curitiba (CEUC), Diretório Central dos Estudantes (DCE) e Restaurante Universitário (RU) Central da Universidade Federal do Paraná (5.215,55 m2).   \n",
            "1359                                                                                                                                                                                                                       Contratação de empresa de arquitetura ou engenharia para execução de obras para construção de edificações do Almoxarifado e via de acesso interna no Campus Palotina da Universidade Federal do Paraná   \n",
            "\n",
            "     Natureza do Objeto Demandante Modalidade de Compra Homologação (mês)  \\\n",
            "1355                NaN    SUINFRA                  NaN               NaN   \n",
            "1356                NaN    SUINFRA                  NaN          Dezembro   \n",
            "1357                NaN    SUINFRA                  NaN          Dezembro   \n",
            "1358                NaN    SUINFRA                  NaN          Dezembro   \n",
            "1359                NaN    SUINFRA                  NaN          Dezembro   \n",
            "\n",
            "     Valor Estimado UFPR Valor Estimado Outros Órgãos Valor Contratado UFPR  \\\n",
            "1355          385.440,33                         0,00                  0,00   \n",
            "1356           92.399,76                         0,00             83.159,78   \n",
            "1357        1.938.827,90                         0,00          1.839.462,97   \n",
            "1358          457.012,05                         0,00            387.999,57   \n",
            "1359        1.202.144,54                         0,00            983.788,20   \n",
            "\n",
            "     Valor Contratado Outros Órgãos  \n",
            "1355                           0,00  \n",
            "1356                           0,00  \n",
            "1357                           0,00  \n",
            "1358                           0,00  \n",
            "1359                           0,00  \n"
          ],
          "name": "stdout"
        }
      ]
    },
    {
      "cell_type": "code",
      "metadata": {
        "id": "o3ZcsOwQ9wtA"
      },
      "source": [
        "os.chdir('../../../raw/UFPR/obras_e_licitacoes') # altera o diretório atual"
      ],
      "execution_count": null,
      "outputs": []
    },
    {
      "cell_type": "code",
      "metadata": {
        "colab": {
          "base_uri": "https://localhost:8080/",
          "height": 35
        },
        "id": "URICy1Hg-RBg",
        "outputId": "f6b859b9-5778-44f6-bfb9-8f5d8bc1c800"
      },
      "source": [
        "os.getcwd()"
      ],
      "execution_count": null,
      "outputs": [
        {
          "output_type": "execute_result",
          "data": {
            "application/vnd.google.colaboratory.intrinsic+json": {
              "type": "string"
            },
            "text/plain": [
              "'/content/dados_abertos/raw/UFPR/obras_e_licitacoes'"
            ]
          },
          "metadata": {
            "tags": []
          },
          "execution_count": 29
        }
      ]
    },
    {
      "cell_type": "code",
      "metadata": {
        "id": "UfAI7nio-ehp"
      },
      "source": [
        "df_raw.to_csv('historico.csv', encoding='latin1', sep=';', index=False) # salva os arquivos concatenados em um só, gerando o histórico com todos dados"
      ],
      "execution_count": null,
      "outputs": []
    },
    {
      "cell_type": "code",
      "metadata": {
        "colab": {
          "base_uri": "https://localhost:8080/"
        },
        "id": "sKfjtPzF_Hyp",
        "outputId": "378aea3b-b97a-438f-a129-0468c290ad31"
      },
      "source": [
        "df_raw.columns # imprime todas colunas do dataframe"
      ],
      "execution_count": null,
      "outputs": [
        {
          "output_type": "execute_result",
          "data": {
            "text/plain": [
              "Index(['Ano', 'Modalidade de Licitação', 'Número/Ano', 'Processo', 'Situação',\n",
              "       'Objeto', 'Natureza do Objeto', 'Demandante', 'Modalidade de Compra',\n",
              "       'Homologação (mês)', 'Valor Estimado UFPR',\n",
              "       'Valor Estimado Outros Órgãos', 'Valor Contratado UFPR',\n",
              "       'Valor Contratado Outros Órgãos'],\n",
              "      dtype='object')"
            ]
          },
          "metadata": {
            "tags": []
          },
          "execution_count": 31
        }
      ]
    },
    {
      "cell_type": "code",
      "metadata": {
        "id": "O2QuzW8nBzTy"
      },
      "source": [
        "df_raw['Valor Contratado UFPR'] = df_raw['Valor Contratado UFPR'].str.replace('.','').str.replace(',','.').astype('float') # transforma formato de número europeu (,) para americano (.)"
      ],
      "execution_count": null,
      "outputs": []
    },
    {
      "cell_type": "code",
      "metadata": {
        "id": "dQ4Z_2o2_pKH"
      },
      "source": [
        "df_refined_ano_modalidade_situacao = df_raw.groupby(['Ano', 'Modalidade de Licitação', 'Situação']).agg(SomaValorContratadoUPFR = ('Valor Contratado UFPR' ,'sum'))"
      ],
      "execution_count": null,
      "outputs": []
    },
    {
      "cell_type": "code",
      "metadata": {
        "colab": {
          "base_uri": "https://localhost:8080/",
          "height": 450
        },
        "id": "toOLyqolHkLB",
        "outputId": "7617f781-523b-4662-9c0b-eccf9f37837f"
      },
      "source": [
        "df_refined_ano_modalidade_situacao.sort_values(by='SomaValorContratadoUPFR', ascending=False)"
      ],
      "execution_count": null,
      "outputs": [
        {
          "output_type": "execute_result",
          "data": {
            "text/html": [
              "<div>\n",
              "<style scoped>\n",
              "    .dataframe tbody tr th:only-of-type {\n",
              "        vertical-align: middle;\n",
              "    }\n",
              "\n",
              "    .dataframe tbody tr th {\n",
              "        vertical-align: top;\n",
              "    }\n",
              "\n",
              "    .dataframe thead th {\n",
              "        text-align: right;\n",
              "    }\n",
              "</style>\n",
              "<table border=\"1\" class=\"dataframe\">\n",
              "  <thead>\n",
              "    <tr style=\"text-align: right;\">\n",
              "      <th></th>\n",
              "      <th></th>\n",
              "      <th></th>\n",
              "      <th>SomaValorContratadoUPFR</th>\n",
              "    </tr>\n",
              "    <tr>\n",
              "      <th>Ano</th>\n",
              "      <th>Modalidade de Licitação</th>\n",
              "      <th>Situação</th>\n",
              "      <th></th>\n",
              "    </tr>\n",
              "  </thead>\n",
              "  <tbody>\n",
              "    <tr>\n",
              "      <th>2016</th>\n",
              "      <th>Pregão Eletrônico</th>\n",
              "      <th>Homologado</th>\n",
              "      <td>1.027598e+08</td>\n",
              "    </tr>\n",
              "    <tr>\n",
              "      <th>2020</th>\n",
              "      <th>Pregão Eletrônico</th>\n",
              "      <th>Homologado</th>\n",
              "      <td>9.886383e+07</td>\n",
              "    </tr>\n",
              "    <tr>\n",
              "      <th>2018</th>\n",
              "      <th>Pregão Eletrônico</th>\n",
              "      <th>Homologado</th>\n",
              "      <td>9.662709e+07</td>\n",
              "    </tr>\n",
              "    <tr>\n",
              "      <th>2017</th>\n",
              "      <th>Pregão Eletrônico</th>\n",
              "      <th>Homologado</th>\n",
              "      <td>9.023807e+07</td>\n",
              "    </tr>\n",
              "    <tr>\n",
              "      <th>2014</th>\n",
              "      <th>Pregão Eletrônico</th>\n",
              "      <th>Homologado</th>\n",
              "      <td>7.441338e+07</td>\n",
              "    </tr>\n",
              "    <tr>\n",
              "      <th>...</th>\n",
              "      <th>...</th>\n",
              "      <th>...</th>\n",
              "      <td>...</td>\n",
              "    </tr>\n",
              "    <tr>\n",
              "      <th>2016</th>\n",
              "      <th>Chamada Pública</th>\n",
              "      <th>Fase Interna</th>\n",
              "      <td>0.000000e+00</td>\n",
              "    </tr>\n",
              "    <tr>\n",
              "      <th rowspan=\"3\" valign=\"top\">2015</th>\n",
              "      <th rowspan=\"2\" valign=\"top\">Tomada de Preços</th>\n",
              "      <th>Fase Interna</th>\n",
              "      <td>0.000000e+00</td>\n",
              "    </tr>\n",
              "    <tr>\n",
              "      <th>Deserto</th>\n",
              "      <td>0.000000e+00</td>\n",
              "    </tr>\n",
              "    <tr>\n",
              "      <th>Pregão Eletrônico</th>\n",
              "      <th>Fracassado</th>\n",
              "      <td>0.000000e+00</td>\n",
              "    </tr>\n",
              "    <tr>\n",
              "      <th>2020</th>\n",
              "      <th>Regime Diferenciado de Contratação</th>\n",
              "      <th>Suspenso</th>\n",
              "      <td>0.000000e+00</td>\n",
              "    </tr>\n",
              "  </tbody>\n",
              "</table>\n",
              "<p>116 rows × 1 columns</p>\n",
              "</div>"
            ],
            "text/plain": [
              "                                                      SomaValorContratadoUPFR\n",
              "Ano  Modalidade de Licitação            Situação                             \n",
              "2016 Pregão Eletrônico                  Homologado               1.027598e+08\n",
              "2020 Pregão Eletrônico                  Homologado               9.886383e+07\n",
              "2018 Pregão Eletrônico                  Homologado               9.662709e+07\n",
              "2017 Pregão Eletrônico                  Homologado               9.023807e+07\n",
              "2014 Pregão Eletrônico                  Homologado               7.441338e+07\n",
              "...                                                                       ...\n",
              "2016 Chamada Pública                    Fase Interna             0.000000e+00\n",
              "2015 Tomada de Preços                   Fase Interna             0.000000e+00\n",
              "                                        Deserto                  0.000000e+00\n",
              "     Pregão Eletrônico                  Fracassado               0.000000e+00\n",
              "2020 Regime Diferenciado de Contratação Suspenso                 0.000000e+00\n",
              "\n",
              "[116 rows x 1 columns]"
            ]
          },
          "metadata": {
            "tags": []
          },
          "execution_count": 35
        }
      ]
    },
    {
      "cell_type": "code",
      "metadata": {
        "id": "jRotnPV8D0Hz"
      },
      "source": [
        "df_refined_ano_objeto = df_raw.groupby(['Ano', 'Objeto'])['Valor Contratado UFPR'].agg('sum')"
      ],
      "execution_count": null,
      "outputs": []
    },
    {
      "cell_type": "code",
      "metadata": {
        "colab": {
          "base_uri": "https://localhost:8080/"
        },
        "id": "D21DB9esHpgg",
        "outputId": "f003b1e1-bff0-4490-df2e-80c2c7454e9f"
      },
      "source": [
        "df_refined_ano_objeto.sort_values(ascending=False)"
      ],
      "execution_count": null,
      "outputs": [
        {
          "output_type": "execute_result",
          "data": {
            "text/plain": [
              "Ano   Objeto                                                                                                                                                                                                                                                                                        \n",
              "2020  Contratação de empresa especializada na prestação de serviços de manutenção predial preventiva e corretiva, para atender necessidades da Superintendência de Infraestrutura da Universidade Federal do Paraná                                                                                     31694389.38\n",
              "      Contratação de empresa especializada na prestação de serviços de Vigilância Patrimonial, para atender necessidades de diversas unidades da Universidade Federal do Paraná                                                                                                                         23910295.76\n",
              "2018  Contratação de empresa especializada na prestação de serviços de manutenção predial preventiva e corretiva, para atender necessidades da Superintendência de Infraestrutura da UFPR                                                                                                               22547908.87\n",
              "2017  Contratação de empresa para prestação de serviços terceirizados de Limpeza e Conservação para atender todas às áreas da Universidade Federal do Paraná                                                                                                                                            15599891.88\n",
              "      Contratação de empresa prestadora de serviços de produção e fornecimento de refeições (café da manhã, almoço e jantar) para atuação nos Restaurantes Universitários da Universidade Federal do Paraná (UFPR) localizados em Curitiba (Central, Centro Politécnico, Jardim Botânico e Agrárias)    13031970.00\n",
              "                                                                                                                                                                                                                                                                                                           ...     \n",
              "2016  Contratação de Empresa de Gerenciamento de Frota                                                                                                                                                                                                                                                         0.00\n",
              "      Contratação de Som e Iluminação para Eventos (SRP)                                                                                                                                                                                                                                                       0.00\n",
              "      Contratação de empresa de terceirização de mão de obra                                                                                                                                                                                                                                                   0.00\n",
              "      Contratação de empresa especializada em confecção de livros digitais (e-book) para editora UFPR (SRP)\\n(Novo PE 020/2017)                                                                                                                                                                                0.00\n",
              "2014                            Aquisição de Material Elétrico (SRP)                                                                                                                                                                                                                                           0.00\n",
              "Name: Valor Contratado UFPR, Length: 1266, dtype: float64"
            ]
          },
          "metadata": {
            "tags": []
          },
          "execution_count": 37
        }
      ]
    },
    {
      "cell_type": "code",
      "metadata": {
        "id": "wjAQBmieIiyB"
      },
      "source": [
        "df_refined_ano_natureza = df_raw.groupby(['Ano', 'Natureza do Objeto'])['Valor Contratado UFPR'].agg('sum')"
      ],
      "execution_count": null,
      "outputs": []
    },
    {
      "cell_type": "code",
      "metadata": {
        "colab": {
          "base_uri": "https://localhost:8080/"
        },
        "id": "JQGmNq1EItp_",
        "outputId": "42783078-f1be-464c-e4aa-bcd46efdebef"
      },
      "source": [
        "df_refined_ano_natureza.sort_values(ascending=False)"
      ],
      "execution_count": null,
      "outputs": [
        {
          "output_type": "execute_result",
          "data": {
            "text/plain": [
              "Ano   Natureza do Objeto    \n",
              "2016  Material                  53735867.62\n",
              "2014  material                  50532130.42\n",
              "2018  Material                  50259875.11\n",
              "2017  Serviço                   48428943.10\n",
              "2016  Serviço                   48181968.26\n",
              "2018  Serviço                   43139720.87\n",
              "2017  Material                  37836371.54\n",
              "2015  Material                  25505217.94\n",
              "2014  Serviço                   19003578.19\n",
              "2015  Serviço                   13322892.89\n",
              "      Material                   6921495.24\n",
              "2014  serviço                    6528625.30\n",
              "2015  material                   2401196.84\n",
              "      Material/Serviços          2189228.70\n",
              "2014  Material                    991996.00\n",
              "      material/serviço            703619.96\n",
              "2015  Equipamento                 623983.74\n",
              "      Material/Serviço            442143.00\n",
              "      serviço                     282730.90\n",
              "      Serviço/material            245075.00\n",
              "2014  Material e Mão de Obra      202230.00\n",
              "2015  Serviços                    112790.00\n",
              "2017  Equipamento                  61988.00\n",
              "2014  materiais                    23401.77\n",
              "2015  Serviço                          0.00\n",
              "2014  material e serviço               0.00\n",
              "      Serviço e Material               0.00\n",
              "Name: Valor Contratado UFPR, dtype: float64"
            ]
          },
          "metadata": {
            "tags": []
          },
          "execution_count": 39
        }
      ]
    },
    {
      "cell_type": "code",
      "metadata": {
        "id": "ej3N97EtJHro"
      },
      "source": [
        "df_refined_ano_demandante = df_raw.groupby(['Ano', 'Demandante'])['Valor Contratado UFPR'].agg('sum')"
      ],
      "execution_count": null,
      "outputs": []
    },
    {
      "cell_type": "code",
      "metadata": {
        "id": "E6WArxUKJRb0"
      },
      "source": [
        "df_refined_ano_demandante.sort_values(ascending=False)"
      ],
      "execution_count": null,
      "outputs": []
    },
    {
      "cell_type": "code",
      "metadata": {
        "id": "T2Fe022TJpBs"
      },
      "source": [
        "df_refined_ano_modalidade = df_raw.groupby(['Ano', 'Modalidade de Compra'])['Valor Contratado UFPR'].agg('sum')"
      ],
      "execution_count": null,
      "outputs": []
    },
    {
      "cell_type": "code",
      "metadata": {
        "colab": {
          "base_uri": "https://localhost:8080/"
        },
        "id": "df3207rTJzeh",
        "outputId": "2e5118a3-b9dc-4c69-eee5-ba8e448e98f6"
      },
      "source": [
        "df_refined_ano_modalidade.sort_values(ascending=False)"
      ],
      "execution_count": null,
      "outputs": [
        {
          "output_type": "execute_result",
          "data": {
            "text/plain": [
              "Ano   Modalidade de Compra\n",
              "2020  Contrato                68295756.22\n",
              "2016  SRP                     66481764.06\n",
              "2014  SRP                     60056237.81\n",
              "2018  SRP                     59370601.14\n",
              "2017  Contratação             54731007.27\n",
              "2019  SRP                     52014807.34\n",
              "2015  SRP                     46208975.53\n",
              "2017  SRP                     43180549.01\n",
              "2018  Contrato                36438007.66\n",
              "2016  Contrato                35437235.42\n",
              "2020  SRP                     30121741.47\n",
              "2019  Contrato                 8141798.33\n",
              "2015  Contrato                 6678057.69\n",
              "2014  Contrato                 6275771.54\n",
              "2016  Aquisição imediata       2684150.07\n",
              "2014  Aquisição imediata       1386196.00\n",
              "2018  Aquisição imediata        818478.74\n",
              "2017  Aquisição                 680105.98\n",
              "2015  Aquisição imediata        591722.73\n",
              "      SRP                       582138.31\n",
              "2020  Aquisição imediata        446328.90\n",
              "2019  Aquisição imediata        302449.06\n",
              "2017  Aquisição imediata        264835.96\n",
              "2015  Aquisição imediata         95679.99\n",
              "Name: Valor Contratado UFPR, dtype: float64"
            ]
          },
          "metadata": {
            "tags": []
          },
          "execution_count": 43
        }
      ]
    },
    {
      "cell_type": "code",
      "metadata": {
        "id": "nYHmKYEKEGuh"
      },
      "source": [
        "os.chdir('../../../refined/UFPR/obras_e_licitacoes') # altera o diretório atual"
      ],
      "execution_count": null,
      "outputs": []
    },
    {
      "cell_type": "code",
      "metadata": {
        "colab": {
          "base_uri": "https://localhost:8080/",
          "height": 35
        },
        "id": "m0YvSi2UEM8P",
        "outputId": "59134e83-f1db-4a4d-a40d-c6020ede1296"
      },
      "source": [
        "os.getcwd()"
      ],
      "execution_count": null,
      "outputs": [
        {
          "output_type": "execute_result",
          "data": {
            "application/vnd.google.colaboratory.intrinsic+json": {
              "type": "string"
            },
            "text/plain": [
              "'/content/dados_abertos/refined/UFPR/obras_e_licitacoes'"
            ]
          },
          "metadata": {
            "tags": []
          },
          "execution_count": 45
        }
      ]
    },
    {
      "cell_type": "code",
      "metadata": {
        "id": "8I2a6QQ2EJ74"
      },
      "source": [
        "df_refined_ano_modalidade_situacao.to_csv('ano_modalidade_situacao.csv', encoding='latin1', sep=';')"
      ],
      "execution_count": null,
      "outputs": []
    },
    {
      "cell_type": "code",
      "metadata": {
        "id": "nz4wdeU9ITNT"
      },
      "source": [
        "df_refined_ano_objeto.to_csv('ano_objeto.csv', encoding='latin1', sep=';')"
      ],
      "execution_count": null,
      "outputs": []
    },
    {
      "cell_type": "code",
      "metadata": {
        "id": "cDqG0IWeI6jY"
      },
      "source": [
        "df_refined_ano_natureza.to_csv('ano_natureza.csv', encoding='latin1', sep=';')"
      ],
      "execution_count": null,
      "outputs": []
    },
    {
      "cell_type": "code",
      "metadata": {
        "id": "1m0MWU6OJcTA"
      },
      "source": [
        "df_refined_ano_demandante.to_csv('ano_demandante.csv', encoding='latin1', sep=';')"
      ],
      "execution_count": null,
      "outputs": []
    },
    {
      "cell_type": "code",
      "metadata": {
        "id": "XrU68wSdKBcJ"
      },
      "source": [
        "df_refined_ano_modalidade.to_csv('ano_modalidade.csv', encoding='latin1', sep=';')"
      ],
      "execution_count": null,
      "outputs": []
    }
  ]
}