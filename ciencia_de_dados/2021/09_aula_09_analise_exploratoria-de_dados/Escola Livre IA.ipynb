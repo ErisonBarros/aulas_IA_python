{
 "cells": [
  {
   "cell_type": "markdown",
   "metadata": {},
   "source": [
    "<div class=\"alert alert-block alert-info\">\n",
    "    <h1>Thiago Kuma</h1>\n",
    "</div>\n",
    "\n",
    "http://linkedin.com/in/thiagokuma"
   ]
  },
  {
   "cell_type": "code",
   "execution_count": null,
   "metadata": {},
   "outputs": [],
   "source": [
    "import pandas as pd\n",
    "import numpy as np\n",
    "import datetime\n",
    "\n",
    "import seaborn as sns\n",
    "import matplotlib.pyplot as plt"
   ]
  },
  {
   "cell_type": "markdown",
   "metadata": {},
   "source": [
    "<div class=\"alert alert-block alert-info\">\n",
    "    <h1>Exploração de Dados</h1>\n",
    "</div>"
   ]
  },
  {
   "cell_type": "markdown",
   "metadata": {},
   "source": [
    "## Objetivo\n",
    "\n",
    "### Entendimento do que é o dataset\n",
    "    - Observar características\n",
    "        - Tamanho\n",
    "        - Completude\n",
    "        - Retidão (\"Corretude\")\n",
    "        - Tipos de dados\n",
    "        - Possível relações entre os dados\n",
    "    - Passos importantes\n",
    "        - Carregamento\n",
    "        - Visualização\n",
    "        - Manipulação\n",
    "        - Correlação"
   ]
  },
  {
   "cell_type": "markdown",
   "metadata": {},
   "source": [
    "<div class=\"alert alert-block alert-info\">\n",
    "    <h2>Fontes dos dados</h2>\n",
    "</div>\n",
    "\n",
    "### Dados de Imigrantes\n",
    "http://dados.prefeitura.sp.gov.br/pt_PT/dataset/base-de-dados-do-centro-de-referencia-e-atendimento-para-imigrantes-crai/resource/7eb866c0-02a3-4215-893d-d0b62a196c0c"
   ]
  },
  {
   "cell_type": "markdown",
   "metadata": {},
   "source": [
    "<div class=\"alert alert-block alert-info\">\n",
    "    <h2>Carregamento de Dados</h2>\n",
    "</div>"
   ]
  },
  {
   "cell_type": "code",
   "execution_count": null,
   "metadata": {},
   "outputs": [],
   "source": [
    "!ls"
   ]
  },
  {
   "cell_type": "markdown",
   "metadata": {},
   "source": [
    "### Em geral existe um dicionário de dados"
   ]
  },
  {
   "cell_type": "code",
   "execution_count": null,
   "metadata": {
    "scrolled": true
   },
   "outputs": [],
   "source": [
    "!head -n 15 dicionario-de-bancocrai2014a2019.csv"
   ]
  },
  {
   "cell_type": "code",
   "execution_count": null,
   "metadata": {},
   "outputs": [],
   "source": [
    "pd.read_csv('dicionario-de-bancocrai2014a2019.csv', sep=';').head()"
   ]
  },
  {
   "cell_type": "markdown",
   "metadata": {},
   "source": [
    "### Observação inicial dos dados\n",
    "\n",
    "#### Fatos importantes na observação\n",
    "1) O arquivo é CSV  \n",
    "2) Existe coluna de cabeçalho  \n",
    "3) As colunas estão separadas por \";\"  \n",
    "4) O encoding do arquivo"
   ]
  },
  {
   "cell_type": "code",
   "execution_count": null,
   "metadata": {},
   "outputs": [],
   "source": [
    "!head -n 2  bancocrai2014a2019---sistematizacao-geoinfo-atualizada.csv"
   ]
  },
  {
   "cell_type": "markdown",
   "metadata": {},
   "source": [
    "##### Encoding em Python\n",
    "https://docs.python.org/3/library/codecs.html#standard-encodings"
   ]
  },
  {
   "cell_type": "code",
   "execution_count": null,
   "metadata": {},
   "outputs": [],
   "source": [
    "df = pd.read_csv('bancocrai2014a2019---sistematizacao-geoinfo-atualizada.csv', sep=';', encoding='iso8859_2')\n",
    "df.tail()"
   ]
  },
  {
   "cell_type": "markdown",
   "metadata": {},
   "source": [
    "<div class=\"alert alert-block alert-info\">\n",
    "    <h2>Observação Dados</h2>\n",
    "</div>"
   ]
  },
  {
   "cell_type": "code",
   "execution_count": null,
   "metadata": {},
   "outputs": [],
   "source": [
    "df.shape #Quantidade linhas x colunas"
   ]
  },
  {
   "cell_type": "code",
   "execution_count": null,
   "metadata": {},
   "outputs": [],
   "source": [
    "df.columns #Colunas nomes"
   ]
  },
  {
   "cell_type": "code",
   "execution_count": null,
   "metadata": {
    "scrolled": true
   },
   "outputs": [],
   "source": [
    "df.info() #Tipo e contagem por coluna"
   ]
  },
  {
   "cell_type": "code",
   "execution_count": null,
   "metadata": {},
   "outputs": [],
   "source": [
    "df['sabendo_crai'].unique()"
   ]
  },
  {
   "cell_type": "markdown",
   "metadata": {},
   "source": [
    "<div class=\"alert alert-block alert-info\">\n",
    "    <h2>Transformações Dados</h2>\n",
    "</div>"
   ]
  },
  {
   "cell_type": "code",
   "execution_count": null,
   "metadata": {},
   "outputs": [],
   "source": [
    "df['data_entrada_brasil'].unique()"
   ]
  },
  {
   "cell_type": "markdown",
   "metadata": {},
   "source": [
    "### Transformando em data\n",
    "\n",
    "https://docs.python.org/3/library/datetime.html#strftime-and-strptime-behavior"
   ]
  },
  {
   "cell_type": "code",
   "execution_count": null,
   "metadata": {},
   "outputs": [],
   "source": [
    "datetime.datetime.strptime('16/06/2015', '%d/%m/%Y')"
   ]
  },
  {
   "cell_type": "markdown",
   "metadata": {},
   "source": [
    "##### O erro!!! Vamos então aplicar transformando string em data :D\n",
    "- Dataframe.apply / lambda https://pandas.pydata.org/pandas-docs/stable/reference/api/pandas.DataFrame.apply.html"
   ]
  },
  {
   "cell_type": "code",
   "execution_count": null,
   "metadata": {
    "scrolled": false
   },
   "outputs": [],
   "source": [
    "df_ = pd.DataFrame([[4, 9]] * 3, columns=['A', 'B'])\n",
    "df_.head()"
   ]
  },
  {
   "cell_type": "code",
   "execution_count": null,
   "metadata": {},
   "outputs": [],
   "source": [
    "soma_um = lambda x: x + 1\n",
    "df_['A1'] = df_['A'].apply(soma_um)\n",
    "df_.head()"
   ]
  },
  {
   "cell_type": "code",
   "execution_count": null,
   "metadata": {},
   "outputs": [],
   "source": [
    "#df['data_entrada_brasil'].apply(lambda x: datetime.datetime.strptime(x, '%d/%m/%Y'))"
   ]
  },
  {
   "cell_type": "markdown",
   "metadata": {},
   "source": [
    "##### filtrando antes de aplicar"
   ]
  },
  {
   "cell_type": "code",
   "execution_count": null,
   "metadata": {},
   "outputs": [],
   "source": [
    "df[df['data_entrada_brasil'] == 'Năo informado']"
   ]
  },
  {
   "cell_type": "code",
   "execution_count": null,
   "metadata": {},
   "outputs": [],
   "source": [
    "df['data_entrada_brasil_formatado'] = \\\n",
    "    df[df['data_entrada_brasil'] != 'Năo informado']['data_entrada_brasil'].apply(\n",
    "        lambda x: datetime.datetime.strptime(x, '%d/%m/%Y')\n",
    "    )\n",
    "df.head()"
   ]
  },
  {
   "cell_type": "code",
   "execution_count": null,
   "metadata": {
    "scrolled": true
   },
   "outputs": [],
   "source": [
    "df.info()"
   ]
  },
  {
   "cell_type": "markdown",
   "metadata": {},
   "source": [
    "#### Visualizando frequência de imigração por ano"
   ]
  },
  {
   "cell_type": "code",
   "execution_count": null,
   "metadata": {},
   "outputs": [],
   "source": [
    "df['ano_entrada'] = df['data_entrada_brasil_formatado'].apply(lambda x: x.year)\n",
    "df['ano_entrada'].unique()"
   ]
  },
  {
   "cell_type": "code",
   "execution_count": null,
   "metadata": {},
   "outputs": [],
   "source": [
    "plt.figure(figsize=(20, 10))\n",
    "ax = sns.countplot(x='ano_entrada', data=df)\n",
    "ax.set_xticklabels(rotation=90, labels=ax.get_xticklabels())\n",
    "ax"
   ]
  },
  {
   "cell_type": "code",
   "execution_count": null,
   "metadata": {},
   "outputs": [],
   "source": [
    "plt.figure(figsize=(20, 10))\n",
    "ax = sns.countplot(x='ano_entrada', data=df[df['ano_entrada'].between(2008,2020)])"
   ]
  },
  {
   "cell_type": "markdown",
   "metadata": {},
   "source": [
    "##### Observamos que existe um crescimento, porém... O que aconteceu em 2016?\n",
    "- Vamos observar agora por pais de origem nesse ano... Qual seria a origem mais provável pelo aumento?"
   ]
  },
  {
   "cell_type": "code",
   "execution_count": null,
   "metadata": {},
   "outputs": [],
   "source": [
    "plt.figure(figsize=(20, 10))\n",
    "ax = sns.countplot(x='pais_origem', data=df[df['ano_entrada'] == 2016])\n",
    "ax.set_xticklabels(rotation=90, labels=ax.get_xticklabels())\n",
    "ax"
   ]
  },
  {
   "cell_type": "markdown",
   "metadata": {},
   "source": [
    "#### Vamos observar o aumento só de imigrantes de lá"
   ]
  },
  {
   "cell_type": "code",
   "execution_count": null,
   "metadata": {},
   "outputs": [],
   "source": [
    "plt.figure(figsize=(20, 10))\n",
    "ax = sns.countplot(x='ano_entrada', data=df[df['pais_origem'] == 'Angola'])\n",
    "ax.set_xticklabels(rotation=90, labels=ax.get_xticklabels())\n",
    "ax"
   ]
  },
  {
   "cell_type": "markdown",
   "metadata": {},
   "source": [
    "![alt text](angola.png)"
   ]
  },
  {
   "cell_type": "markdown",
   "metadata": {},
   "source": [
    "##### E se olharmos também no tempo Venezuelanos?"
   ]
  },
  {
   "cell_type": "code",
   "execution_count": null,
   "metadata": {},
   "outputs": [],
   "source": [
    "plt.figure(figsize=(20, 10))\n",
    "ax = sns.countplot(x='ano_entrada', data=df[df['pais_origem'] == 'Venezuela'])\n",
    "ax.set_xticklabels(rotation=90, labels=ax.get_xticklabels())\n",
    "ax"
   ]
  },
  {
   "cell_type": "markdown",
   "metadata": {},
   "source": [
    "<div class=\"alert alert-block alert-info\">\n",
    "    <h2>Categorizando Dados</h2>\n",
    "</div>"
   ]
  },
  {
   "cell_type": "markdown",
   "metadata": {},
   "source": [
    "![alt text](tipos_variaveis.jpg)"
   ]
  },
  {
   "cell_type": "code",
   "execution_count": null,
   "metadata": {},
   "outputs": [],
   "source": [
    "df['fx_etaria'].nunique() #Observando a variação"
   ]
  },
  {
   "cell_type": "code",
   "execution_count": null,
   "metadata": {},
   "outputs": [],
   "source": [
    "df['fx_etaria'].unique() #Observando valores"
   ]
  },
  {
   "cell_type": "code",
   "execution_count": null,
   "metadata": {
    "scrolled": true
   },
   "outputs": [],
   "source": [
    "import seaborn as sns\n",
    "import matplotlib.pyplot as plt\n",
    "\n",
    "plt.figure(figsize=(16, 6))\n",
    "ax = sns.countplot(x='fx_etaria', data=df)"
   ]
  },
  {
   "cell_type": "markdown",
   "metadata": {},
   "source": [
    "#### E se eu categorizar com ordem"
   ]
  },
  {
   "cell_type": "code",
   "execution_count": null,
   "metadata": {
    "scrolled": true
   },
   "outputs": [],
   "source": [
    "df['fx_etaria'] = df['fx_etaria'].astype('category')\n",
    "df['fx_etaria'].cat.reorder_categories(['0 a 11 anos',\n",
    "                                         '12 a 17 anos',\n",
    "                                         '20 a 29 anos',\n",
    "                                         '18 a 29 anos',\n",
    "                                         '30 a 39 anos',\n",
    "                                         '40 a 49 anos',\n",
    "                                         '50 a 59 anos',\n",
    "                                         'Maiores de 60 anos',  \n",
    "                                          'Năo informado'], inplace=True)\n",
    "plt.figure(figsize=(16, 6))\n",
    "ax = sns.countplot(x='fx_etaria', data=df)"
   ]
  },
  {
   "cell_type": "markdown",
   "metadata": {},
   "source": [
    "#### Peraí, tem grupo de intersecção de idade\n",
    "- Vamos então olhar as pessoas dessa faixa"
   ]
  },
  {
   "cell_type": "code",
   "execution_count": null,
   "metadata": {},
   "outputs": [],
   "source": [
    "df[df['fx_etaria'] == '20 a 29 anos']"
   ]
  },
  {
   "cell_type": "markdown",
   "metadata": {},
   "source": [
    "#### O que fazer?\n",
    "- Decidimos por unir com a faixa mais próxima\n",
    "- O correto https://pandas.pydata.org/pandas-docs/stable/reference/api/pandas.DataFrame.iat.html"
   ]
  },
  {
   "cell_type": "code",
   "execution_count": null,
   "metadata": {},
   "outputs": [],
   "source": [
    "df.loc[df['fx_etaria'] == '20 a 29 anos', 'fx_etaria'] = '18 a 29 anos'\n",
    "df[df['fx_etaria'] == '20 a 29 anos']"
   ]
  },
  {
   "cell_type": "markdown",
   "metadata": {},
   "source": [
    "<div class=\"alert alert-block alert-info\">\n",
    "    <h2>\"DesCategorizando\" Dados</h2>\n",
    "</div>\n",
    "https://pandas.pydata.org/pandas-docs/stable/reference/api/pandas.get_dummies.html"
   ]
  },
  {
   "cell_type": "code",
   "execution_count": null,
   "metadata": {},
   "outputs": [],
   "source": [
    "df_corr = df[['pais_origem', 'cor_raca']]\n",
    "\n",
    "df_corr = df_corr[(df_corr['pais_origem'] == 'Angola') | (df_corr['pais_origem'] == 'Venezuela')]\n",
    "\n",
    "df_corr = pd.get_dummies(df_corr, columns=['pais_origem', 'cor_raca'])\n",
    "df_corr.tail()"
   ]
  },
  {
   "cell_type": "markdown",
   "metadata": {},
   "source": [
    "![alt text](correlacao.jpg)"
   ]
  },
  {
   "cell_type": "code",
   "execution_count": null,
   "metadata": {
    "scrolled": false
   },
   "outputs": [],
   "source": [
    "corr = df_corr.corr()\n",
    "corr.style.background_gradient(cmap='coolwarm')"
   ]
  },
  {
   "cell_type": "markdown",
   "metadata": {},
   "source": [
    "<div class=\"alert alert-block alert-info\">\n",
    "    <h2>Amostragem</h2>\n",
    "</div>"
   ]
  },
  {
   "cell_type": "markdown",
   "metadata": {},
   "source": [
    "### Aleatória"
   ]
  },
  {
   "cell_type": "code",
   "execution_count": null,
   "metadata": {},
   "outputs": [],
   "source": [
    "df_ale = df.sample(n=100)\n",
    "df_ale.head()"
   ]
  },
  {
   "cell_type": "code",
   "execution_count": null,
   "metadata": {},
   "outputs": [],
   "source": [
    "df_ale = df.sample(frac=0.1)\n",
    "df_ale.shape"
   ]
  },
  {
   "cell_type": "markdown",
   "metadata": {},
   "source": [
    "### Sistemática"
   ]
  },
  {
   "cell_type": "code",
   "execution_count": null,
   "metadata": {},
   "outputs": [],
   "source": [
    "semente = 5\n",
    "indices = np.arange(0, 100, semente)\n",
    "indices"
   ]
  },
  {
   "cell_type": "code",
   "execution_count": null,
   "metadata": {},
   "outputs": [],
   "source": [
    "df.loc[indices,:].head()"
   ]
  },
  {
   "cell_type": "markdown",
   "metadata": {},
   "source": [
    "<div class=\"alert alert-block alert-info\">\n",
    "    <h2>Missing Values</h2>\n",
    "</div>\n",
    "\n",
    "https://pandas.pydata.org/pandas-docs/stable/user_guide/missing_data.html  \n",
    "\n",
    "https://pandas.pydata.org/pandas-docs/version/0.25.0/reference/api/pandas.DataFrame.fillna.html#pandas.DataFrame.fillna  "
   ]
  },
  {
   "cell_type": "code",
   "execution_count": null,
   "metadata": {},
   "outputs": [],
   "source": [
    "df['dif_dtcad_dtingr_meses'].unique()"
   ]
  },
  {
   "cell_type": "code",
   "execution_count": null,
   "metadata": {
    "scrolled": true
   },
   "outputs": [],
   "source": [
    "df_dif = df[\n",
    "    (df['dif_dtcad_dtingr_meses'] != 'Năo informado') & \n",
    "    (df['dif_dtcad_dtingr_meses'] != 'Incongruencia') &\n",
    "    (df['dif_dtcad_dtingr_meses'] != '#NÚM!')\n",
    "]\n",
    "df_dif['dif_dtcad_dtingr_meses'] = df_dif['dif_dtcad_dtingr_meses'].astype('int')\n",
    "\n",
    "sns.set(style='whitegrid')\n",
    "ax = sns.boxplot(data=df_dif, x='dif_dtcad_dtingr_meses')"
   ]
  },
  {
   "cell_type": "markdown",
   "metadata": {},
   "source": [
    "![alt text](boxplot.png)"
   ]
  },
  {
   "cell_type": "code",
   "execution_count": null,
   "metadata": {},
   "outputs": [],
   "source": [
    "moda = df_dif['dif_dtcad_dtingr_meses'].mode()\n",
    "moda"
   ]
  },
  {
   "cell_type": "code",
   "execution_count": null,
   "metadata": {},
   "outputs": [],
   "source": [
    "media = df_dif['dif_dtcad_dtingr_meses'].mean()\n",
    "media"
   ]
  },
  {
   "cell_type": "code",
   "execution_count": null,
   "metadata": {},
   "outputs": [],
   "source": [
    "mediana = df_dif['dif_dtcad_dtingr_meses'].median()\n",
    "mediana"
   ]
  },
  {
   "cell_type": "code",
   "execution_count": null,
   "metadata": {},
   "outputs": [],
   "source": [
    "df.loc[df['dif_dtcad_dtingr_meses'] == 'Năo informado', 'dif_dtcad_dtingr_meses'] = '0'\n",
    "df.loc[df['dif_dtcad_dtingr_meses'] == 'Incongruencia', 'dif_dtcad_dtingr_meses'] = '0'\n",
    "df.loc[df['dif_dtcad_dtingr_meses'] == '#NÚM!', 'dif_dtcad_dtingr_meses'] = '0'\n",
    "\n",
    "df['dif_dtcad_dtingr_meses'] = df['dif_dtcad_dtingr_meses'].astype('int')\n",
    "df.describe()"
   ]
  },
  {
   "cell_type": "code",
   "execution_count": null,
   "metadata": {},
   "outputs": [],
   "source": [
    "df_dif.describe()"
   ]
  },
  {
   "cell_type": "markdown",
   "metadata": {},
   "source": [
    "<div class=\"alert alert-block alert-info\">\n",
    "    <h2>Data Profile</h2>\n",
    "</div>"
   ]
  },
  {
   "cell_type": "code",
   "execution_count": null,
   "metadata": {},
   "outputs": [],
   "source": [
    "from pandas_profiling import ProfileReport\n",
    "\n",
    "df = pd.read_csv('bancocrai2014a2019---sistematizacao-geoinfo-atualizada.csv', sep=';', encoding='iso8859_2')\n",
    "\n",
    "profile = ProfileReport(df)\n",
    "profile"
   ]
  },
  {
   "cell_type": "code",
   "execution_count": null,
   "metadata": {},
   "outputs": [],
   "source": [
    "profile.to_file(output_file=\"profile.html\")"
   ]
  }
 ],
 "metadata": {
  "kernelspec": {
   "display_name": "Python 3",
   "language": "python",
   "name": "python3"
  },
  "language_info": {
   "codemirror_mode": {
    "name": "ipython",
    "version": 3
   },
   "file_extension": ".py",
   "mimetype": "text/x-python",
   "name": "python",
   "nbconvert_exporter": "python",
   "pygments_lexer": "ipython3",
   "version": "3.8.5"
  }
 },
 "nbformat": 4,
 "nbformat_minor": 4
}
