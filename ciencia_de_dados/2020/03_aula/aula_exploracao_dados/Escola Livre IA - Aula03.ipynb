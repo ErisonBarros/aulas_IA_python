{
 "cells": [
  {
   "cell_type": "markdown",
   "metadata": {},
   "source": [
    "<div class=\"alert alert-block alert-info\">\n",
    "    <h1>Thiago Kuma</h1>\n",
    "</div>\n",
    "\n",
    "http://linkedin.com/in/thiago-kuma"
   ]
  },
  {
   "cell_type": "code",
   "execution_count": 1,
   "metadata": {},
   "outputs": [],
   "source": [
    "import pandas as pd\n",
    "import datetime\n",
    "\n",
    "import seaborn as sns\n",
    "import matplotlib.pyplot as plt"
   ]
  },
  {
   "cell_type": "markdown",
   "metadata": {},
   "source": [
    "<div class=\"alert alert-block alert-info\">\n",
    "    <h1>Exploração de Dados</h1>\n",
    "</div>"
   ]
  },
  {
   "cell_type": "markdown",
   "metadata": {},
   "source": [
    "## Objetivo\n",
    "\n",
    "### Entendimento do que é o dataset\n",
    "    - Observar características\n",
    "        - Tamanho\n",
    "        - Completude\n",
    "        - Retidão (\"Corretude\")\n",
    "        - Tipos de dados\n",
    "        - Possível relações entre os dados\n",
    "    - Passos importantes\n",
    "        - Carregamento\n",
    "        - Visualização\n",
    "        - Manipulação\n",
    "        - Correlação"
   ]
  },
  {
   "cell_type": "markdown",
   "metadata": {},
   "source": [
    "<div class=\"alert alert-block alert-info\">\n",
    "    <h2>Fontes dos dados</h2>\n",
    "</div>\n",
    "\n",
    "### Dados de Imigrantes\n",
    "http://dados.prefeitura.sp.gov.br/pt_PT/dataset/base-de-dados-do-centro-de-referencia-e-atendimento-para-imigrantes-crai/resource/7eb866c0-02a3-4215-893d-d0b62a196c0c"
   ]
  },
  {
   "cell_type": "markdown",
   "metadata": {},
   "source": [
    "<div class=\"alert alert-block alert-info\">\n",
    "    <h2>Carregamento de Dados</h2>\n",
    "</div>"
   ]
  },
  {
   "cell_type": "code",
   "execution_count": 2,
   "metadata": {},
   "outputs": [
    {
     "name": "stdout",
     "output_type": "stream",
     "text": [
      "'Aula 03-03-2020 Estatística Básica (Escola Livre de IA) alunos.pdf'\r\n",
      " aula03.sh\r\n",
      " bancocrai2014a2019.csv\r\n",
      " dicionario-de-bancocrai2014a2019.csv\r\n",
      "'Escola Livre IA - Aula03.ipynb'\r\n"
     ]
    }
   ],
   "source": [
    "!ls"
   ]
  },
  {
   "cell_type": "markdown",
   "metadata": {},
   "source": [
    "### Em geral existe um dicionário de dados"
   ]
  },
  {
   "cell_type": "code",
   "execution_count": 3,
   "metadata": {},
   "outputs": [
    {
     "name": "stdout",
     "output_type": "stream",
     "text": [
      "data_entrada_brasil;Data de entrada no Brasil\r",
      "\r\n",
      "data_cadastro;Data do primeiro atendimento no CRAI\r",
      "\r\n",
      "dif_dtcad_dtingr_meses;Diferen�a entre a data de entrada no Brasil e a data do primeiro atendimento no CRAI (em meses)\r",
      "\r\n",
      "sexo;Sexo\r",
      "\r\n",
      "fx_etaria;Faixa et�ria\r",
      "\r\n",
      "pais_origem;Pa�s de origem\r",
      "\r\n",
      "distrito_moradia;Distrito de moradia\r",
      "\r\n",
      "condicoes_moradia;Condi��es da moradia\r",
      "\r\n",
      "cidade_ingresso;Cidade pela qual ingressou no Brasil\r",
      "\r\n",
      "cor_raca;Autodeclara��o de ra�a/cor\r",
      "\r\n",
      "escolaridade;M�xima escolaridade\r",
      "\r\n",
      "situacao_migratoria;Situa��o migrat�ria\r",
      "\r\n",
      "fonte_renda;Fonte de renda/ trabalho\r",
      "\r\n",
      "sabendo_crai;Como ficou sabendo do CRAI\r",
      "\r\n",
      "demanda_1;Demanda apresentada no primeiro atendimento (categorizada)\r",
      "\r\n"
     ]
    }
   ],
   "source": [
    "!head -n 15 dicionario-de-bancocrai2014a2019.csv"
   ]
  },
  {
   "cell_type": "markdown",
   "metadata": {},
   "source": [
    "### Observação inicial dos dados\n",
    "\n",
    "#### Fatos importantes na observação\n",
    "1) O arquivo é CSV  \n",
    "2) Existe coluna de cabeçalho  \n",
    "3) As colunas estão separadas por \";\"  \n",
    "4) O encoding do arquivo"
   ]
  },
  {
   "cell_type": "code",
   "execution_count": 4,
   "metadata": {},
   "outputs": [
    {
     "name": "stdout",
     "output_type": "stream",
     "text": [
      "data_entrada_brasil;data_cadastro;dif_dtcad_dtingr_meses;sexo;fx_etaria;pais_origem;distrito_moradia;condicoes_moradia;cidade_ingresso;cor_raca;escolaridade;situacao_migratoria;fonte_renda;sabendo_crai;demanda_1\r",
      "\r\n",
      "09/09/2012;27/05/2016;44;Masculino;Maiores de 60 anos;Afeganist�o;Liberdade;Aluguel ou pens�o;N�o informado;Amarela;Ensino superior incompleto;Visto permanente;N�o informado;N�o informado;Documentos\r",
      "\r\n"
     ]
    }
   ],
   "source": [
    "!head -n 2 bancocrai2014a2019.csv"
   ]
  },
  {
   "cell_type": "markdown",
   "metadata": {},
   "source": [
    "##### Encoding em Python\n",
    "https://docs.python.org/3/library/codecs.html#standard-encodings"
   ]
  },
  {
   "cell_type": "code",
   "execution_count": 5,
   "metadata": {},
   "outputs": [],
   "source": [
    "df = pd.read_csv('bancocrai2014a2019.csv', sep=';', encoding='iso8859_2')"
   ]
  },
  {
   "cell_type": "markdown",
   "metadata": {},
   "source": [
    "<div class=\"alert alert-block alert-info\">\n",
    "    <h2>Observação Dados</h2>\n",
    "</div>"
   ]
  },
  {
   "cell_type": "code",
   "execution_count": 6,
   "metadata": {},
   "outputs": [
    {
     "data": {
      "text/plain": [
       "(11834, 15)"
      ]
     },
     "execution_count": 6,
     "metadata": {},
     "output_type": "execute_result"
    }
   ],
   "source": [
    "df.shape #Quantidade linhas x colunas"
   ]
  },
  {
   "cell_type": "code",
   "execution_count": 7,
   "metadata": {},
   "outputs": [
    {
     "data": {
      "text/plain": [
       "Index(['data_entrada_brasil', 'data_cadastro', 'dif_dtcad_dtingr_meses',\n",
       "       'sexo', 'fx_etaria', 'pais_origem', 'distrito_moradia',\n",
       "       'condicoes_moradia', 'cidade_ingresso', 'cor_raca', 'escolaridade',\n",
       "       'situacao_migratoria', 'fonte_renda', 'sabendo_crai', 'demanda_1'],\n",
       "      dtype='object')"
      ]
     },
     "execution_count": 7,
     "metadata": {},
     "output_type": "execute_result"
    }
   ],
   "source": [
    "df.columns #Colunas nomes"
   ]
  },
  {
   "cell_type": "code",
   "execution_count": 8,
   "metadata": {},
   "outputs": [
    {
     "name": "stdout",
     "output_type": "stream",
     "text": [
      "<class 'pandas.core.frame.DataFrame'>\n",
      "RangeIndex: 11834 entries, 0 to 11833\n",
      "Data columns (total 15 columns):\n",
      " #   Column                  Non-Null Count  Dtype \n",
      "---  ------                  --------------  ----- \n",
      " 0   data_entrada_brasil     11834 non-null  object\n",
      " 1   data_cadastro           11834 non-null  object\n",
      " 2   dif_dtcad_dtingr_meses  11834 non-null  object\n",
      " 3   sexo                    11834 non-null  object\n",
      " 4   fx_etaria               11834 non-null  object\n",
      " 5   pais_origem             11834 non-null  object\n",
      " 6   distrito_moradia        11834 non-null  object\n",
      " 7   condicoes_moradia       11834 non-null  object\n",
      " 8   cidade_ingresso         11834 non-null  object\n",
      " 9   cor_raca                11834 non-null  object\n",
      " 10  escolaridade            11834 non-null  object\n",
      " 11  situacao_migratoria     11834 non-null  object\n",
      " 12  fonte_renda             11834 non-null  object\n",
      " 13  sabendo_crai            11834 non-null  object\n",
      " 14  demanda_1               11834 non-null  object\n",
      "dtypes: object(15)\n",
      "memory usage: 1.4+ MB\n"
     ]
    }
   ],
   "source": [
    "df.info() #Tipo e contagem por coluna"
   ]
  },
  {
   "cell_type": "markdown",
   "metadata": {},
   "source": [
    "<div class=\"alert alert-block alert-info\">\n",
    "    <h2>Transformações Dados</h2>\n",
    "</div>"
   ]
  },
  {
   "cell_type": "code",
   "execution_count": 9,
   "metadata": {},
   "outputs": [
    {
     "data": {
      "text/plain": [
       "array(['09/09/2012', '16/06/2015', '05/03/2010', ..., '09/07/1980',\n",
       "       '07/05/2011', '14/05/2011'], dtype=object)"
      ]
     },
     "execution_count": 9,
     "metadata": {},
     "output_type": "execute_result"
    }
   ],
   "source": [
    "df['data_entrada_brasil'].unique()"
   ]
  },
  {
   "cell_type": "markdown",
   "metadata": {},
   "source": [
    "### Transformando em data\n",
    "\n",
    "https://docs.python.org/3/library/datetime.html#strftime-and-strptime-behavior"
   ]
  },
  {
   "cell_type": "code",
   "execution_count": 10,
   "metadata": {},
   "outputs": [
    {
     "data": {
      "text/plain": [
       "datetime.datetime(2011, 5, 7, 0, 0)"
      ]
     },
     "execution_count": 10,
     "metadata": {},
     "output_type": "execute_result"
    }
   ],
   "source": [
    "datetime.datetime.strptime('07/05/2011', '%d/%m/%Y')"
   ]
  },
  {
   "cell_type": "markdown",
   "metadata": {},
   "source": [
    "##### O erro!!! Vamos então aplicar transformando string em data :D\n",
    "- Dataframe.apply / lambda https://pandas.pydata.org/pandas-docs/stable/reference/api/pandas.DataFrame.apply.html"
   ]
  },
  {
   "cell_type": "code",
   "execution_count": 11,
   "metadata": {},
   "outputs": [],
   "source": [
    "# df['data_entrada_brasil'].apply(lambda x: datetime.datetime.strptime(x, '%d/%m/%Y'))"
   ]
  },
  {
   "cell_type": "markdown",
   "metadata": {},
   "source": [
    "##### filtrando antes de aplicar"
   ]
  },
  {
   "cell_type": "code",
   "execution_count": 12,
   "metadata": {},
   "outputs": [
    {
     "data": {
      "text/html": [
       "<div>\n",
       "<style scoped>\n",
       "    .dataframe tbody tr th:only-of-type {\n",
       "        vertical-align: middle;\n",
       "    }\n",
       "\n",
       "    .dataframe tbody tr th {\n",
       "        vertical-align: top;\n",
       "    }\n",
       "\n",
       "    .dataframe thead th {\n",
       "        text-align: right;\n",
       "    }\n",
       "</style>\n",
       "<table border=\"1\" class=\"dataframe\">\n",
       "  <thead>\n",
       "    <tr style=\"text-align: right;\">\n",
       "      <th></th>\n",
       "      <th>data_entrada_brasil</th>\n",
       "      <th>data_cadastro</th>\n",
       "      <th>dif_dtcad_dtingr_meses</th>\n",
       "      <th>sexo</th>\n",
       "      <th>fx_etaria</th>\n",
       "      <th>pais_origem</th>\n",
       "      <th>distrito_moradia</th>\n",
       "      <th>condicoes_moradia</th>\n",
       "      <th>cidade_ingresso</th>\n",
       "      <th>cor_raca</th>\n",
       "      <th>escolaridade</th>\n",
       "      <th>situacao_migratoria</th>\n",
       "      <th>fonte_renda</th>\n",
       "      <th>sabendo_crai</th>\n",
       "      <th>demanda_1</th>\n",
       "    </tr>\n",
       "  </thead>\n",
       "  <tbody>\n",
       "    <tr>\n",
       "      <th>7</th>\n",
       "      <td>Năo informado</td>\n",
       "      <td>10/12/2014</td>\n",
       "      <td>Năo informado</td>\n",
       "      <td>Masculino</td>\n",
       "      <td>40 a 49 anos</td>\n",
       "      <td>África do Sul</td>\n",
       "      <td>Năo informado</td>\n",
       "      <td>Aluguel ou pensăo</td>\n",
       "      <td>Năo informado</td>\n",
       "      <td>Preta</td>\n",
       "      <td>Ensino fundamental completo</td>\n",
       "      <td>Indocumentado/ Irregular</td>\n",
       "      <td>Năo informado</td>\n",
       "      <td>Năo informado</td>\n",
       "      <td>Năo informado</td>\n",
       "    </tr>\n",
       "    <tr>\n",
       "      <th>8</th>\n",
       "      <td>Năo informado</td>\n",
       "      <td>11/12/2014</td>\n",
       "      <td>Năo informado</td>\n",
       "      <td>Masculino</td>\n",
       "      <td>30 a 39 anos</td>\n",
       "      <td>África do Sul</td>\n",
       "      <td>Năo informado</td>\n",
       "      <td>Aluguel ou pensăo</td>\n",
       "      <td>Năo informado</td>\n",
       "      <td>Preta</td>\n",
       "      <td>Ensino médio completo</td>\n",
       "      <td>Solicitante de refúgio</td>\n",
       "      <td>Năo informado</td>\n",
       "      <td>Năo informado</td>\n",
       "      <td>Năo informado</td>\n",
       "    </tr>\n",
       "    <tr>\n",
       "      <th>9</th>\n",
       "      <td>Năo informado</td>\n",
       "      <td>09/02/2015</td>\n",
       "      <td>Năo informado</td>\n",
       "      <td>Masculino</td>\n",
       "      <td>50 a 59 anos</td>\n",
       "      <td>África do Sul</td>\n",
       "      <td>Năo informado</td>\n",
       "      <td>Centro de Acolhida</td>\n",
       "      <td>Năo informado</td>\n",
       "      <td>Branca</td>\n",
       "      <td>Ensino médio completo</td>\n",
       "      <td>Indocumentado/ Irregular</td>\n",
       "      <td>Năo informado</td>\n",
       "      <td>Năo informado</td>\n",
       "      <td>Năo informado</td>\n",
       "    </tr>\n",
       "    <tr>\n",
       "      <th>10</th>\n",
       "      <td>Năo informado</td>\n",
       "      <td>26/03/2015</td>\n",
       "      <td>Năo informado</td>\n",
       "      <td>Masculino</td>\n",
       "      <td>30 a 39 anos</td>\n",
       "      <td>África do SuL</td>\n",
       "      <td>Năo informado</td>\n",
       "      <td>Centro de Acolhida</td>\n",
       "      <td>Năo informado</td>\n",
       "      <td>Branca</td>\n",
       "      <td>Ensino médio completo</td>\n",
       "      <td>Visto permanente</td>\n",
       "      <td>Năo informado</td>\n",
       "      <td>Năo informado</td>\n",
       "      <td>Năo informado</td>\n",
       "    </tr>\n",
       "    <tr>\n",
       "      <th>76</th>\n",
       "      <td>Năo informado</td>\n",
       "      <td>24/11/2014</td>\n",
       "      <td>Năo informado</td>\n",
       "      <td>Feminino</td>\n",
       "      <td>40 a 49 anos</td>\n",
       "      <td>Angola</td>\n",
       "      <td>Năo informado</td>\n",
       "      <td>Aluguel ou pensăo</td>\n",
       "      <td>Năo informado</td>\n",
       "      <td>Preta</td>\n",
       "      <td>Ensino superior completo</td>\n",
       "      <td>Indocumentado/ Irregular</td>\n",
       "      <td>Năo informado</td>\n",
       "      <td>Năo informado</td>\n",
       "      <td>Năo informado</td>\n",
       "    </tr>\n",
       "    <tr>\n",
       "      <th>...</th>\n",
       "      <td>...</td>\n",
       "      <td>...</td>\n",
       "      <td>...</td>\n",
       "      <td>...</td>\n",
       "      <td>...</td>\n",
       "      <td>...</td>\n",
       "      <td>...</td>\n",
       "      <td>...</td>\n",
       "      <td>...</td>\n",
       "      <td>...</td>\n",
       "      <td>...</td>\n",
       "      <td>...</td>\n",
       "      <td>...</td>\n",
       "      <td>...</td>\n",
       "      <td>...</td>\n",
       "    </tr>\n",
       "    <tr>\n",
       "      <th>11001</th>\n",
       "      <td>Năo informado</td>\n",
       "      <td>04/03/2015</td>\n",
       "      <td>Năo informado</td>\n",
       "      <td>Feminino</td>\n",
       "      <td>40 a 49 anos</td>\n",
       "      <td>Venezuela</td>\n",
       "      <td>Năo informado</td>\n",
       "      <td>Sem moradia</td>\n",
       "      <td>Năo informado</td>\n",
       "      <td>Preta</td>\n",
       "      <td>Ensino fundamental completo</td>\n",
       "      <td>Indocumentado/ Irregular</td>\n",
       "      <td>Năo informado</td>\n",
       "      <td>Năo informado</td>\n",
       "      <td>Năo informado</td>\n",
       "    </tr>\n",
       "    <tr>\n",
       "      <th>11504</th>\n",
       "      <td>Năo informado</td>\n",
       "      <td>20/02/2019</td>\n",
       "      <td>Năo informado</td>\n",
       "      <td>Masculino</td>\n",
       "      <td>50 a 59 anos</td>\n",
       "      <td>Venezuela</td>\n",
       "      <td>Outro Município</td>\n",
       "      <td>Outros</td>\n",
       "      <td>Năo informado</td>\n",
       "      <td>Branca</td>\n",
       "      <td>Outros</td>\n",
       "      <td>Outros</td>\n",
       "      <td>Desempregado</td>\n",
       "      <td>Outros</td>\n",
       "      <td>Regularizaçăo migratória</td>\n",
       "    </tr>\n",
       "    <tr>\n",
       "      <th>11823</th>\n",
       "      <td>Năo informado</td>\n",
       "      <td>19/12/2014</td>\n",
       "      <td>Năo informado</td>\n",
       "      <td>Masculino</td>\n",
       "      <td>50 a 59 anos</td>\n",
       "      <td>Venezuela</td>\n",
       "      <td>Năo informado</td>\n",
       "      <td>Centro de Acolhida</td>\n",
       "      <td>Năo informado</td>\n",
       "      <td>Parda</td>\n",
       "      <td>Ensino superior completo</td>\n",
       "      <td>Solicitante de refúgio</td>\n",
       "      <td>Năo informado</td>\n",
       "      <td>Năo informado</td>\n",
       "      <td>Năo informado</td>\n",
       "    </tr>\n",
       "    <tr>\n",
       "      <th>11824</th>\n",
       "      <td>Năo informado</td>\n",
       "      <td>23/01/2015</td>\n",
       "      <td>Năo informado</td>\n",
       "      <td>Masculino</td>\n",
       "      <td>30 a 39 anos</td>\n",
       "      <td>Vietnă</td>\n",
       "      <td>Năo informado</td>\n",
       "      <td>Casa própria</td>\n",
       "      <td>Năo informado</td>\n",
       "      <td>Branca</td>\n",
       "      <td>Ensino médio completo</td>\n",
       "      <td>Visto permanente</td>\n",
       "      <td>Năo informado</td>\n",
       "      <td>Năo informado</td>\n",
       "      <td>Năo informado</td>\n",
       "    </tr>\n",
       "    <tr>\n",
       "      <th>11825</th>\n",
       "      <td>Năo informado</td>\n",
       "      <td>23/01/2015</td>\n",
       "      <td>Năo informado</td>\n",
       "      <td>Masculino</td>\n",
       "      <td>50 a 59 anos</td>\n",
       "      <td>Vietnă</td>\n",
       "      <td>Năo informado</td>\n",
       "      <td>Casa própria</td>\n",
       "      <td>Năo informado</td>\n",
       "      <td>Branca</td>\n",
       "      <td>Ensino médio completo</td>\n",
       "      <td>Visto permanente</td>\n",
       "      <td>Năo informado</td>\n",
       "      <td>Năo informado</td>\n",
       "      <td>Năo informado</td>\n",
       "    </tr>\n",
       "  </tbody>\n",
       "</table>\n",
       "<p>467 rows × 15 columns</p>\n",
       "</div>"
      ],
      "text/plain": [
       "      data_entrada_brasil data_cadastro dif_dtcad_dtingr_meses       sexo  \\\n",
       "7           Năo informado    10/12/2014          Năo informado  Masculino   \n",
       "8           Năo informado    11/12/2014          Năo informado  Masculino   \n",
       "9           Năo informado    09/02/2015          Năo informado  Masculino   \n",
       "10          Năo informado    26/03/2015          Năo informado  Masculino   \n",
       "76          Năo informado    24/11/2014          Năo informado   Feminino   \n",
       "...                   ...           ...                    ...        ...   \n",
       "11001       Năo informado    04/03/2015          Năo informado   Feminino   \n",
       "11504       Năo informado    20/02/2019          Năo informado  Masculino   \n",
       "11823       Năo informado    19/12/2014          Năo informado  Masculino   \n",
       "11824       Năo informado    23/01/2015          Năo informado  Masculino   \n",
       "11825       Năo informado    23/01/2015          Năo informado  Masculino   \n",
       "\n",
       "          fx_etaria    pais_origem distrito_moradia   condicoes_moradia  \\\n",
       "7      40 a 49 anos  África do Sul    Năo informado   Aluguel ou pensăo   \n",
       "8      30 a 39 anos  África do Sul    Năo informado   Aluguel ou pensăo   \n",
       "9      50 a 59 anos  África do Sul    Năo informado  Centro de Acolhida   \n",
       "10     30 a 39 anos  África do SuL    Năo informado  Centro de Acolhida   \n",
       "76     40 a 49 anos         Angola    Năo informado   Aluguel ou pensăo   \n",
       "...             ...            ...              ...                 ...   \n",
       "11001  40 a 49 anos      Venezuela    Năo informado         Sem moradia   \n",
       "11504  50 a 59 anos      Venezuela  Outro Município              Outros   \n",
       "11823  50 a 59 anos     Venezuela     Năo informado  Centro de Acolhida   \n",
       "11824  30 a 39 anos         Vietnă    Năo informado        Casa própria   \n",
       "11825  50 a 59 anos         Vietnă    Năo informado        Casa própria   \n",
       "\n",
       "      cidade_ingresso cor_raca                 escolaridade  \\\n",
       "7       Năo informado    Preta  Ensino fundamental completo   \n",
       "8       Năo informado    Preta        Ensino médio completo   \n",
       "9       Năo informado   Branca        Ensino médio completo   \n",
       "10      Năo informado   Branca        Ensino médio completo   \n",
       "76      Năo informado    Preta     Ensino superior completo   \n",
       "...               ...      ...                          ...   \n",
       "11001   Năo informado    Preta  Ensino fundamental completo   \n",
       "11504   Năo informado   Branca                       Outros   \n",
       "11823   Năo informado    Parda     Ensino superior completo   \n",
       "11824   Năo informado   Branca        Ensino médio completo   \n",
       "11825   Năo informado   Branca        Ensino médio completo   \n",
       "\n",
       "            situacao_migratoria    fonte_renda   sabendo_crai  \\\n",
       "7      Indocumentado/ Irregular  Năo informado  Năo informado   \n",
       "8        Solicitante de refúgio  Năo informado  Năo informado   \n",
       "9      Indocumentado/ Irregular  Năo informado  Năo informado   \n",
       "10             Visto permanente  Năo informado  Năo informado   \n",
       "76     Indocumentado/ Irregular  Năo informado  Năo informado   \n",
       "...                         ...            ...            ...   \n",
       "11001  Indocumentado/ Irregular  Năo informado  Năo informado   \n",
       "11504                    Outros   Desempregado         Outros   \n",
       "11823    Solicitante de refúgio  Năo informado  Năo informado   \n",
       "11824          Visto permanente  Năo informado  Năo informado   \n",
       "11825          Visto permanente  Năo informado  Năo informado   \n",
       "\n",
       "                      demanda_1  \n",
       "7                 Năo informado  \n",
       "8                 Năo informado  \n",
       "9                 Năo informado  \n",
       "10                Năo informado  \n",
       "76                Năo informado  \n",
       "...                         ...  \n",
       "11001             Năo informado  \n",
       "11504  Regularizaçăo migratória  \n",
       "11823             Năo informado  \n",
       "11824             Năo informado  \n",
       "11825             Năo informado  \n",
       "\n",
       "[467 rows x 15 columns]"
      ]
     },
     "execution_count": 12,
     "metadata": {},
     "output_type": "execute_result"
    }
   ],
   "source": [
    "df[df['data_entrada_brasil'] == 'Năo informado']"
   ]
  },
  {
   "cell_type": "code",
   "execution_count": 13,
   "metadata": {},
   "outputs": [
    {
     "data": {
      "text/html": [
       "<div>\n",
       "<style scoped>\n",
       "    .dataframe tbody tr th:only-of-type {\n",
       "        vertical-align: middle;\n",
       "    }\n",
       "\n",
       "    .dataframe tbody tr th {\n",
       "        vertical-align: top;\n",
       "    }\n",
       "\n",
       "    .dataframe thead th {\n",
       "        text-align: right;\n",
       "    }\n",
       "</style>\n",
       "<table border=\"1\" class=\"dataframe\">\n",
       "  <thead>\n",
       "    <tr style=\"text-align: right;\">\n",
       "      <th></th>\n",
       "      <th>data_entrada_brasil</th>\n",
       "      <th>data_cadastro</th>\n",
       "      <th>dif_dtcad_dtingr_meses</th>\n",
       "      <th>sexo</th>\n",
       "      <th>fx_etaria</th>\n",
       "      <th>pais_origem</th>\n",
       "      <th>distrito_moradia</th>\n",
       "      <th>condicoes_moradia</th>\n",
       "      <th>cidade_ingresso</th>\n",
       "      <th>cor_raca</th>\n",
       "      <th>escolaridade</th>\n",
       "      <th>situacao_migratoria</th>\n",
       "      <th>fonte_renda</th>\n",
       "      <th>sabendo_crai</th>\n",
       "      <th>demanda_1</th>\n",
       "      <th>data_entrada_brasil_formatado</th>\n",
       "    </tr>\n",
       "  </thead>\n",
       "  <tbody>\n",
       "    <tr>\n",
       "      <th>0</th>\n",
       "      <td>09/09/2012</td>\n",
       "      <td>27/05/2016</td>\n",
       "      <td>44</td>\n",
       "      <td>Masculino</td>\n",
       "      <td>Maiores de 60 anos</td>\n",
       "      <td>Afeganistăo</td>\n",
       "      <td>Liberdade</td>\n",
       "      <td>Aluguel ou pensăo</td>\n",
       "      <td>Năo informado</td>\n",
       "      <td>Amarela</td>\n",
       "      <td>Ensino superior incompleto</td>\n",
       "      <td>Visto permanente</td>\n",
       "      <td>Năo informado</td>\n",
       "      <td>Năo informado</td>\n",
       "      <td>Documentos</td>\n",
       "      <td>2012-09-09</td>\n",
       "    </tr>\n",
       "    <tr>\n",
       "      <th>1</th>\n",
       "      <td>16/06/2015</td>\n",
       "      <td>31/05/2017</td>\n",
       "      <td>23</td>\n",
       "      <td>Masculino</td>\n",
       "      <td>18 a 29 anos</td>\n",
       "      <td>Afeganistăo</td>\n",
       "      <td>Brás</td>\n",
       "      <td>Aluguel ou pensăo</td>\n",
       "      <td>Foz do Iguaçu</td>\n",
       "      <td>Branca</td>\n",
       "      <td>Ensino superior incompleto</td>\n",
       "      <td>Solicitante de refúgio</td>\n",
       "      <td>Trabalhador informal ou ambulante</td>\n",
       "      <td>Serviço público</td>\n",
       "      <td>Regularizaçăo migratória</td>\n",
       "      <td>2015-06-16</td>\n",
       "    </tr>\n",
       "    <tr>\n",
       "      <th>2</th>\n",
       "      <td>05/03/2010</td>\n",
       "      <td>19/03/2018</td>\n",
       "      <td>96</td>\n",
       "      <td>Masculino</td>\n",
       "      <td>18 a 29 anos</td>\n",
       "      <td>Afeganistăo</td>\n",
       "      <td>Pari</td>\n",
       "      <td>Aluguel ou pensăo</td>\n",
       "      <td>Guarulhos</td>\n",
       "      <td>Branca</td>\n",
       "      <td>Ensino fundamental incompleto</td>\n",
       "      <td>Visto permanente</td>\n",
       "      <td>Empresário (MEI, dono de loja, restaurante, etc.)</td>\n",
       "      <td>Instituiçőes ou organizaçőes</td>\n",
       "      <td>Regularizaçăo migratória</td>\n",
       "      <td>2010-03-05</td>\n",
       "    </tr>\n",
       "    <tr>\n",
       "      <th>3</th>\n",
       "      <td>25/07/2012</td>\n",
       "      <td>27/11/2018</td>\n",
       "      <td>76</td>\n",
       "      <td>Masculino</td>\n",
       "      <td>18 a 29 anos</td>\n",
       "      <td>Afeganistăo</td>\n",
       "      <td>Outro Município</td>\n",
       "      <td>Casa de parente ou amigo</td>\n",
       "      <td>Guarulhos</td>\n",
       "      <td>Branca</td>\n",
       "      <td>Ensino superior incompleto</td>\n",
       "      <td>Visto permanente</td>\n",
       "      <td>Trabalhador informal ou ambulante</td>\n",
       "      <td>Amigos ou parentes</td>\n",
       "      <td>Reinserçăo no mercado de trabalho</td>\n",
       "      <td>2012-07-25</td>\n",
       "    </tr>\n",
       "    <tr>\n",
       "      <th>4</th>\n",
       "      <td>10/10/2008</td>\n",
       "      <td>10/01/2019</td>\n",
       "      <td>123</td>\n",
       "      <td>Masculino</td>\n",
       "      <td>40 a 49 anos</td>\n",
       "      <td>Afeganistăo</td>\n",
       "      <td>Brás</td>\n",
       "      <td>Casa de parente ou amigo</td>\n",
       "      <td>Guarulhos</td>\n",
       "      <td>Branca</td>\n",
       "      <td>Năo frequentou escola</td>\n",
       "      <td>Visto permanente</td>\n",
       "      <td>Trabalhador informal ou ambulante</td>\n",
       "      <td>Amigos ou parentes</td>\n",
       "      <td>Regularizaçăo migratória</td>\n",
       "      <td>2008-10-10</td>\n",
       "    </tr>\n",
       "  </tbody>\n",
       "</table>\n",
       "</div>"
      ],
      "text/plain": [
       "  data_entrada_brasil data_cadastro dif_dtcad_dtingr_meses       sexo  \\\n",
       "0          09/09/2012    27/05/2016                     44  Masculino   \n",
       "1          16/06/2015    31/05/2017                     23  Masculino   \n",
       "2          05/03/2010    19/03/2018                     96  Masculino   \n",
       "3          25/07/2012    27/11/2018                     76  Masculino   \n",
       "4          10/10/2008    10/01/2019                    123  Masculino   \n",
       "\n",
       "            fx_etaria  pais_origem distrito_moradia         condicoes_moradia  \\\n",
       "0  Maiores de 60 anos  Afeganistăo        Liberdade         Aluguel ou pensăo   \n",
       "1        18 a 29 anos  Afeganistăo             Brás         Aluguel ou pensăo   \n",
       "2        18 a 29 anos  Afeganistăo             Pari         Aluguel ou pensăo   \n",
       "3        18 a 29 anos  Afeganistăo  Outro Município  Casa de parente ou amigo   \n",
       "4        40 a 49 anos  Afeganistăo             Brás  Casa de parente ou amigo   \n",
       "\n",
       "  cidade_ingresso cor_raca                   escolaridade  \\\n",
       "0   Năo informado  Amarela     Ensino superior incompleto   \n",
       "1   Foz do Iguaçu   Branca     Ensino superior incompleto   \n",
       "2       Guarulhos   Branca  Ensino fundamental incompleto   \n",
       "3       Guarulhos   Branca     Ensino superior incompleto   \n",
       "4       Guarulhos   Branca          Năo frequentou escola   \n",
       "\n",
       "      situacao_migratoria                                        fonte_renda  \\\n",
       "0        Visto permanente                                      Năo informado   \n",
       "1  Solicitante de refúgio                  Trabalhador informal ou ambulante   \n",
       "2        Visto permanente  Empresário (MEI, dono de loja, restaurante, etc.)   \n",
       "3        Visto permanente                  Trabalhador informal ou ambulante   \n",
       "4        Visto permanente                  Trabalhador informal ou ambulante   \n",
       "\n",
       "                   sabendo_crai                          demanda_1  \\\n",
       "0                 Năo informado                         Documentos   \n",
       "1               Serviço público           Regularizaçăo migratória   \n",
       "2  Instituiçőes ou organizaçőes           Regularizaçăo migratória   \n",
       "3            Amigos ou parentes  Reinserçăo no mercado de trabalho   \n",
       "4            Amigos ou parentes           Regularizaçăo migratória   \n",
       "\n",
       "  data_entrada_brasil_formatado  \n",
       "0                    2012-09-09  \n",
       "1                    2015-06-16  \n",
       "2                    2010-03-05  \n",
       "3                    2012-07-25  \n",
       "4                    2008-10-10  "
      ]
     },
     "execution_count": 13,
     "metadata": {},
     "output_type": "execute_result"
    }
   ],
   "source": [
    "df['data_entrada_brasil_formatado'] = \\\n",
    "    df[df['data_entrada_brasil'] != 'Năo informado']['data_entrada_brasil'].apply(\n",
    "        lambda x: datetime.datetime.strptime(x, '%d/%m/%Y')\n",
    "    )\n",
    "df.head()"
   ]
  },
  {
   "cell_type": "code",
   "execution_count": 14,
   "metadata": {
    "scrolled": true
   },
   "outputs": [
    {
     "name": "stdout",
     "output_type": "stream",
     "text": [
      "<class 'pandas.core.frame.DataFrame'>\n",
      "RangeIndex: 11834 entries, 0 to 11833\n",
      "Data columns (total 16 columns):\n",
      " #   Column                         Non-Null Count  Dtype         \n",
      "---  ------                         --------------  -----         \n",
      " 0   data_entrada_brasil            11834 non-null  object        \n",
      " 1   data_cadastro                  11834 non-null  object        \n",
      " 2   dif_dtcad_dtingr_meses         11834 non-null  object        \n",
      " 3   sexo                           11834 non-null  object        \n",
      " 4   fx_etaria                      11834 non-null  object        \n",
      " 5   pais_origem                    11834 non-null  object        \n",
      " 6   distrito_moradia               11834 non-null  object        \n",
      " 7   condicoes_moradia              11834 non-null  object        \n",
      " 8   cidade_ingresso                11834 non-null  object        \n",
      " 9   cor_raca                       11834 non-null  object        \n",
      " 10  escolaridade                   11834 non-null  object        \n",
      " 11  situacao_migratoria            11834 non-null  object        \n",
      " 12  fonte_renda                    11834 non-null  object        \n",
      " 13  sabendo_crai                   11834 non-null  object        \n",
      " 14  demanda_1                      11834 non-null  object        \n",
      " 15  data_entrada_brasil_formatado  11367 non-null  datetime64[ns]\n",
      "dtypes: datetime64[ns](1), object(15)\n",
      "memory usage: 1.4+ MB\n"
     ]
    }
   ],
   "source": [
    "df.info()"
   ]
  },
  {
   "cell_type": "markdown",
   "metadata": {},
   "source": [
    "#### Visualizando frequência de imigração por ano"
   ]
  },
  {
   "cell_type": "code",
   "execution_count": 15,
   "metadata": {},
   "outputs": [
    {
     "data": {
      "text/plain": [
       "array([2012., 2015., 2010., 2008., 2019.,   nan, 2013., 2011., 1992.,\n",
       "       2016., 2005., 2017., 2014., 2018., 2009., 2007., 1993., 2006.,\n",
       "       1999., 1989., 2003., 1994., 1986., 1978., 1977., 2001., 1973.,\n",
       "       2002., 1970., 1996., 1982., 2000., 2004., 1998., 1988., 1987.,\n",
       "       1962., 1990., 1966., 1959., 1997., 1995., 1964., 1985., 1971.,\n",
       "       1981., 1963., 1972., 1984., 1979., 1967., 1976., 1953., 1968.,\n",
       "       1955., 1983., 1991., 1965., 1980., 1934., 1969., 1975., 1952.,\n",
       "       1974., 1958.])"
      ]
     },
     "execution_count": 15,
     "metadata": {},
     "output_type": "execute_result"
    }
   ],
   "source": [
    "df['ano_entrada'] = df['data_entrada_brasil_formatado'].apply(lambda x: x.year)\n",
    "df['ano_entrada'].unique()"
   ]
  },
  {
   "cell_type": "code",
   "execution_count": 16,
   "metadata": {},
   "outputs": [
    {
     "data": {
      "text/plain": [
       "<matplotlib.axes._subplots.AxesSubplot at 0x7f5f79484d68>"
      ]
     },
     "execution_count": 16,
     "metadata": {},
     "output_type": "execute_result"
    },
    {
     "data": {
      "image/png": "[encoded data removed]",
      "text/plain": [
       "<Figure size 1440x720 with 1 Axes>"
      ]
     },
     "metadata": {
      "needs_background": "light"
     },
     "output_type": "display_data"
    }
   ],
   "source": [
    "plt.figure(figsize=(20, 10))\n",
    "ax = sns.countplot(x='ano_entrada', data=df)\n",
    "ax.set_xticklabels(rotation=90, labels=ax.get_xticklabels())\n",
    "ax"
   ]
  },
  {
   "cell_type": "code",
   "execution_count": 17,
   "metadata": {},
   "outputs": [
    {
     "data": {
      "image/png": "[encoded data removed]",
      "text/plain": [
       "<Figure size 1440x720 with 1 Axes>"
      ]
     },
     "metadata": {
      "needs_background": "light"
     },
     "output_type": "display_data"
    }
   ],
   "source": [
    "plt.figure(figsize=(20, 10))\n",
    "ax = sns.countplot(x='ano_entrada', data=df[df['ano_entrada'].between(1990,2019)])"
   ]
  },
  {
   "cell_type": "markdown",
   "metadata": {},
   "source": [
    "##### Observamos que existe um crescimento, porém... O que aconteceu em 2016?\n",
    "- Vamos observar agora por pais de origem nesse ano... Qual seria a origem mais provável pelo aumento?"
   ]
  },
  {
   "cell_type": "code",
   "execution_count": 18,
   "metadata": {},
   "outputs": [
    {
     "data": {
      "text/plain": [
       "<matplotlib.axes._subplots.AxesSubplot at 0x7f5f78ac8320>"
      ]
     },
     "execution_count": 18,
     "metadata": {},
     "output_type": "execute_result"
    },
    {
     "data": {
      "image/png": "[encoded data removed]",
      "text/plain": [
       "<Figure size 1440x720 with 1 Axes>"
      ]
     },
     "metadata": {
      "needs_background": "light"
     },
     "output_type": "display_data"
    }
   ],
   "source": [
    "plt.figure(figsize=(20, 10))\n",
    "ax = sns.countplot(x='pais_origem', data=df[df['ano_entrada'] == 2016])\n",
    "ax.set_xticklabels(rotation=90, labels=ax.get_xticklabels())\n",
    "ax"
   ]
  },
  {
   "cell_type": "markdown",
   "metadata": {},
   "source": [
    "#### Vamos observar o aumento só de imigrantes de lá"
   ]
  },
  {
   "cell_type": "code",
   "execution_count": 19,
   "metadata": {},
   "outputs": [
    {
     "data": {
      "text/plain": [
       "<matplotlib.axes._subplots.AxesSubplot at 0x7f5f789375f8>"
      ]
     },
     "execution_count": 19,
     "metadata": {},
     "output_type": "execute_result"
    },
    {
     "data": {
      "image/png": "[encoded data removed]",
      "text/plain": [
       "<Figure size 1440x720 with 1 Axes>"
      ]
     },
     "metadata": {
      "needs_background": "light"
     },
     "output_type": "display_data"
    }
   ],
   "source": [
    "plt.figure(figsize=(20, 10))\n",
    "ax = sns.countplot(x='ano_entrada', data=df[df['pais_origem'] == 'Angola'])\n",
    "ax.set_xticklabels(rotation=90, labels=ax.get_xticklabels())\n",
    "ax"
   ]
  },
  {
   "cell_type": "markdown",
   "metadata": {},
   "source": [
    "##### E se olharmos também no tempo Venezuelanos?"
   ]
  },
  {
   "cell_type": "code",
   "execution_count": 20,
   "metadata": {},
   "outputs": [
    {
     "data": {
      "text/plain": [
       "<matplotlib.axes._subplots.AxesSubplot at 0x7f5f787b3ac8>"
      ]
     },
     "execution_count": 20,
     "metadata": {},
     "output_type": "execute_result"
    },
    {
     "data": {
      "image/png": "[encoded data removed]",
      "text/plain": [
       "<Figure size 1440x720 with 1 Axes>"
      ]
     },
     "metadata": {
      "needs_background": "light"
     },
     "output_type": "display_data"
    }
   ],
   "source": [
    "plt.figure(figsize=(20, 10))\n",
    "ax = sns.countplot(x='ano_entrada', data=df[df['pais_origem'] == 'Venezuela'])\n",
    "ax.set_xticklabels(rotation=90, labels=ax.get_xticklabels())\n",
    "ax"
   ]
  },
  {
   "cell_type": "markdown",
   "metadata": {},
   "source": [
    "<div class=\"alert alert-block alert-info\">\n",
    "    <h2>Categorizando Dados</h2>\n",
    "</div>"
   ]
  },
  {
   "cell_type": "code",
   "execution_count": 21,
   "metadata": {},
   "outputs": [
    {
     "data": {
      "text/plain": [
       "9"
      ]
     },
     "execution_count": 21,
     "metadata": {},
     "output_type": "execute_result"
    }
   ],
   "source": [
    "df['fx_etaria'].nunique() #Observando a variação"
   ]
  },
  {
   "cell_type": "code",
   "execution_count": 22,
   "metadata": {},
   "outputs": [
    {
     "data": {
      "text/plain": [
       "array(['Maiores de 60 anos', '18 a 29 anos', '40 a 49 anos',\n",
       "       '30 a 39 anos', '50 a 59 anos', '12 a 17 anos', '0 a 11 anos',\n",
       "       'Năo informado', '20 a 29 anos'], dtype=object)"
      ]
     },
     "execution_count": 22,
     "metadata": {},
     "output_type": "execute_result"
    }
   ],
   "source": [
    "df['fx_etaria'].unique() #Observando valores"
   ]
  },
  {
   "cell_type": "code",
   "execution_count": 23,
   "metadata": {},
   "outputs": [
    {
     "data": {
      "image/png": "[encoded data removed]",
      "text/plain": [
       "<Figure size 1152x432 with 1 Axes>"
      ]
     },
     "metadata": {
      "needs_background": "light"
     },
     "output_type": "display_data"
    }
   ],
   "source": [
    "import seaborn as sns\n",
    "import matplotlib.pyplot as plt\n",
    "\n",
    "plt.figure(figsize=(16, 6))\n",
    "ax = sns.countplot(x='fx_etaria', data=df)"
   ]
  },
  {
   "cell_type": "markdown",
   "metadata": {},
   "source": [
    "#### E se eu categorizar com ordem"
   ]
  },
  {
   "cell_type": "code",
   "execution_count": 24,
   "metadata": {},
   "outputs": [
    {
     "data": {
      "image/png": "[encoded data removed]",
      "text/plain": [
       "<Figure size 1152x432 with 1 Axes>"
      ]
     },
     "metadata": {
      "needs_background": "light"
     },
     "output_type": "display_data"
    }
   ],
   "source": [
    "df['fx_etaria'] = df['fx_etaria'].astype('category')\n",
    "df['fx_etaria'].cat.reorder_categories(['0 a 11 anos',\n",
    "                                         '12 a 17 anos',\n",
    "                                         '20 a 29 anos',\n",
    "                                         '18 a 29 anos',\n",
    "                                         '30 a 39 anos',\n",
    "                                         '40 a 49 anos',\n",
    "                                         '50 a 59 anos',\n",
    "                                         'Maiores de 60 anos',  \n",
    "                                          'Năo informado'], inplace=True)\n",
    "plt.figure(figsize=(16, 6))\n",
    "ax = sns.countplot(x='fx_etaria', data=df)"
   ]
  },
  {
   "cell_type": "markdown",
   "metadata": {},
   "source": [
    "#### Peraí, tem grupo de intersecção de idade\n",
    "- Vamos então olhar as pessoas dessa faixa"
   ]
  },
  {
   "cell_type": "code",
   "execution_count": 25,
   "metadata": {},
   "outputs": [
    {
     "data": {
      "text/html": [
       "<div>\n",
       "<style scoped>\n",
       "    .dataframe tbody tr th:only-of-type {\n",
       "        vertical-align: middle;\n",
       "    }\n",
       "\n",
       "    .dataframe tbody tr th {\n",
       "        vertical-align: top;\n",
       "    }\n",
       "\n",
       "    .dataframe thead th {\n",
       "        text-align: right;\n",
       "    }\n",
       "</style>\n",
       "<table border=\"1\" class=\"dataframe\">\n",
       "  <thead>\n",
       "    <tr style=\"text-align: right;\">\n",
       "      <th></th>\n",
       "      <th>data_entrada_brasil</th>\n",
       "      <th>data_cadastro</th>\n",
       "      <th>dif_dtcad_dtingr_meses</th>\n",
       "      <th>sexo</th>\n",
       "      <th>fx_etaria</th>\n",
       "      <th>pais_origem</th>\n",
       "      <th>distrito_moradia</th>\n",
       "      <th>condicoes_moradia</th>\n",
       "      <th>cidade_ingresso</th>\n",
       "      <th>cor_raca</th>\n",
       "      <th>escolaridade</th>\n",
       "      <th>situacao_migratoria</th>\n",
       "      <th>fonte_renda</th>\n",
       "      <th>sabendo_crai</th>\n",
       "      <th>demanda_1</th>\n",
       "      <th>data_entrada_brasil_formatado</th>\n",
       "      <th>ano_entrada</th>\n",
       "    </tr>\n",
       "  </thead>\n",
       "  <tbody>\n",
       "    <tr>\n",
       "      <th>8931</th>\n",
       "      <td>Năo informado</td>\n",
       "      <td>24/04/2017</td>\n",
       "      <td>Năo informado</td>\n",
       "      <td>Masculino</td>\n",
       "      <td>20 a 29 anos</td>\n",
       "      <td>República da Guiné</td>\n",
       "      <td>Bela Vista</td>\n",
       "      <td>Em situaçăo de rua</td>\n",
       "      <td>Guarulhos</td>\n",
       "      <td>Preta</td>\n",
       "      <td>Ensino superior incompleto</td>\n",
       "      <td>Refugiado</td>\n",
       "      <td>Desempregado</td>\n",
       "      <td>Outros</td>\n",
       "      <td>Regularizaçăo migratória</td>\n",
       "      <td>NaT</td>\n",
       "      <td>NaN</td>\n",
       "    </tr>\n",
       "  </tbody>\n",
       "</table>\n",
       "</div>"
      ],
      "text/plain": [
       "     data_entrada_brasil data_cadastro dif_dtcad_dtingr_meses       sexo  \\\n",
       "8931       Năo informado    24/04/2017          Năo informado  Masculino   \n",
       "\n",
       "         fx_etaria         pais_origem distrito_moradia   condicoes_moradia  \\\n",
       "8931  20 a 29 anos  República da Guiné       Bela Vista  Em situaçăo de rua   \n",
       "\n",
       "     cidade_ingresso cor_raca                escolaridade situacao_migratoria  \\\n",
       "8931       Guarulhos    Preta  Ensino superior incompleto           Refugiado   \n",
       "\n",
       "       fonte_renda sabendo_crai                 demanda_1  \\\n",
       "8931  Desempregado       Outros  Regularizaçăo migratória   \n",
       "\n",
       "     data_entrada_brasil_formatado  ano_entrada  \n",
       "8931                           NaT          NaN  "
      ]
     },
     "execution_count": 25,
     "metadata": {},
     "output_type": "execute_result"
    }
   ],
   "source": [
    "df[df['fx_etaria'] == '20 a 29 anos']"
   ]
  },
  {
   "cell_type": "markdown",
   "metadata": {},
   "source": [
    "#### O que fazer?\n",
    "- Decidimos por unir com a faixa mais próxima\n",
    "- O correto https://pandas.pydata.org/pandas-docs/stable/reference/api/pandas.DataFrame.iat.html"
   ]
  },
  {
   "cell_type": "code",
   "execution_count": 26,
   "metadata": {},
   "outputs": [
    {
     "data": {
      "text/html": [
       "<div>\n",
       "<style scoped>\n",
       "    .dataframe tbody tr th:only-of-type {\n",
       "        vertical-align: middle;\n",
       "    }\n",
       "\n",
       "    .dataframe tbody tr th {\n",
       "        vertical-align: top;\n",
       "    }\n",
       "\n",
       "    .dataframe thead th {\n",
       "        text-align: right;\n",
       "    }\n",
       "</style>\n",
       "<table border=\"1\" class=\"dataframe\">\n",
       "  <thead>\n",
       "    <tr style=\"text-align: right;\">\n",
       "      <th></th>\n",
       "      <th>data_entrada_brasil</th>\n",
       "      <th>data_cadastro</th>\n",
       "      <th>dif_dtcad_dtingr_meses</th>\n",
       "      <th>sexo</th>\n",
       "      <th>fx_etaria</th>\n",
       "      <th>pais_origem</th>\n",
       "      <th>distrito_moradia</th>\n",
       "      <th>condicoes_moradia</th>\n",
       "      <th>cidade_ingresso</th>\n",
       "      <th>cor_raca</th>\n",
       "      <th>escolaridade</th>\n",
       "      <th>situacao_migratoria</th>\n",
       "      <th>fonte_renda</th>\n",
       "      <th>sabendo_crai</th>\n",
       "      <th>demanda_1</th>\n",
       "      <th>data_entrada_brasil_formatado</th>\n",
       "      <th>ano_entrada</th>\n",
       "    </tr>\n",
       "  </thead>\n",
       "  <tbody>\n",
       "  </tbody>\n",
       "</table>\n",
       "</div>"
      ],
      "text/plain": [
       "Empty DataFrame\n",
       "Columns: [data_entrada_brasil, data_cadastro, dif_dtcad_dtingr_meses, sexo, fx_etaria, pais_origem, distrito_moradia, condicoes_moradia, cidade_ingresso, cor_raca, escolaridade, situacao_migratoria, fonte_renda, sabendo_crai, demanda_1, data_entrada_brasil_formatado, ano_entrada]\n",
       "Index: []"
      ]
     },
     "execution_count": 26,
     "metadata": {},
     "output_type": "execute_result"
    }
   ],
   "source": [
    "df.loc[df['fx_etaria'] == '20 a 29 anos', 'fx_etaria'] = '18 a 29 anos'\n",
    "df[df['fx_etaria'] == '20 a 29 anos']"
   ]
  },
  {
   "cell_type": "markdown",
   "metadata": {},
   "source": [
    "<div class=\"alert alert-block alert-info\">\n",
    "    <h2>\"DesCategorizando\" Dados</h2>\n",
    "</div>\n",
    "https://pandas.pydata.org/pandas-docs/stable/reference/api/pandas.get_dummies.html"
   ]
  },
  {
   "cell_type": "code",
   "execution_count": 27,
   "metadata": {},
   "outputs": [
    {
     "data": {
      "text/html": [
       "<div>\n",
       "<style scoped>\n",
       "    .dataframe tbody tr th:only-of-type {\n",
       "        vertical-align: middle;\n",
       "    }\n",
       "\n",
       "    .dataframe tbody tr th {\n",
       "        vertical-align: top;\n",
       "    }\n",
       "\n",
       "    .dataframe thead th {\n",
       "        text-align: right;\n",
       "    }\n",
       "</style>\n",
       "<table border=\"1\" class=\"dataframe\">\n",
       "  <thead>\n",
       "    <tr style=\"text-align: right;\">\n",
       "      <th></th>\n",
       "      <th>pais_origem_Angola</th>\n",
       "      <th>pais_origem_Venezuela</th>\n",
       "      <th>cor_raca_Amarela</th>\n",
       "      <th>cor_raca_Branca</th>\n",
       "      <th>cor_raca_Indígena</th>\n",
       "      <th>cor_raca_Năo informado</th>\n",
       "      <th>cor_raca_Năo respondeu</th>\n",
       "      <th>cor_raca_Outras</th>\n",
       "      <th>cor_raca_Parda</th>\n",
       "      <th>cor_raca_Preta</th>\n",
       "    </tr>\n",
       "  </thead>\n",
       "  <tbody>\n",
       "    <tr>\n",
       "      <th>11818</th>\n",
       "      <td>0</td>\n",
       "      <td>1</td>\n",
       "      <td>0</td>\n",
       "      <td>0</td>\n",
       "      <td>0</td>\n",
       "      <td>0</td>\n",
       "      <td>1</td>\n",
       "      <td>0</td>\n",
       "      <td>0</td>\n",
       "      <td>0</td>\n",
       "    </tr>\n",
       "    <tr>\n",
       "      <th>11819</th>\n",
       "      <td>0</td>\n",
       "      <td>1</td>\n",
       "      <td>0</td>\n",
       "      <td>0</td>\n",
       "      <td>0</td>\n",
       "      <td>0</td>\n",
       "      <td>1</td>\n",
       "      <td>0</td>\n",
       "      <td>0</td>\n",
       "      <td>0</td>\n",
       "    </tr>\n",
       "    <tr>\n",
       "      <th>11820</th>\n",
       "      <td>0</td>\n",
       "      <td>1</td>\n",
       "      <td>0</td>\n",
       "      <td>0</td>\n",
       "      <td>0</td>\n",
       "      <td>0</td>\n",
       "      <td>1</td>\n",
       "      <td>0</td>\n",
       "      <td>0</td>\n",
       "      <td>0</td>\n",
       "    </tr>\n",
       "    <tr>\n",
       "      <th>11821</th>\n",
       "      <td>0</td>\n",
       "      <td>1</td>\n",
       "      <td>0</td>\n",
       "      <td>0</td>\n",
       "      <td>0</td>\n",
       "      <td>0</td>\n",
       "      <td>0</td>\n",
       "      <td>1</td>\n",
       "      <td>0</td>\n",
       "      <td>0</td>\n",
       "    </tr>\n",
       "    <tr>\n",
       "      <th>11822</th>\n",
       "      <td>0</td>\n",
       "      <td>1</td>\n",
       "      <td>0</td>\n",
       "      <td>0</td>\n",
       "      <td>0</td>\n",
       "      <td>0</td>\n",
       "      <td>0</td>\n",
       "      <td>0</td>\n",
       "      <td>1</td>\n",
       "      <td>0</td>\n",
       "    </tr>\n",
       "  </tbody>\n",
       "</table>\n",
       "</div>"
      ],
      "text/plain": [
       "       pais_origem_Angola  pais_origem_Venezuela  cor_raca_Amarela  \\\n",
       "11818                   0                      1                 0   \n",
       "11819                   0                      1                 0   \n",
       "11820                   0                      1                 0   \n",
       "11821                   0                      1                 0   \n",
       "11822                   0                      1                 0   \n",
       "\n",
       "       cor_raca_Branca  cor_raca_Indígena  cor_raca_Năo informado  \\\n",
       "11818                0                  0                       0   \n",
       "11819                0                  0                       0   \n",
       "11820                0                  0                       0   \n",
       "11821                0                  0                       0   \n",
       "11822                0                  0                       0   \n",
       "\n",
       "       cor_raca_Năo respondeu  cor_raca_Outras  cor_raca_Parda  cor_raca_Preta  \n",
       "11818                       1                0               0               0  \n",
       "11819                       1                0               0               0  \n",
       "11820                       1                0               0               0  \n",
       "11821                       0                1               0               0  \n",
       "11822                       0                0               1               0  "
      ]
     },
     "execution_count": 27,
     "metadata": {},
     "output_type": "execute_result"
    }
   ],
   "source": [
    "df_corr = df[['pais_origem', 'cor_raca']]\n",
    "\n",
    "df_corr = df_corr[(df_corr['pais_origem'] == 'Angola') | (df_corr['pais_origem'] == 'Venezuela')]\n",
    "\n",
    "df_corr = pd.get_dummies(df_corr, columns=['pais_origem', 'cor_raca'])\n",
    "df_corr.tail()"
   ]
  },
  {
   "cell_type": "code",
   "execution_count": 28,
   "metadata": {
    "scrolled": false
   },
   "outputs": [
    {
     "data": {
      "text/html": [
       "<style  type=\"text/css\" >\n",
       "    #T_66cf0cf0_5d7e_11ea_8c61_f1b343cc9ba3row0_col0 {\n",
       "            background-color:  #b40426;\n",
       "            color:  #f1f1f1;\n",
       "        }    #T_66cf0cf0_5d7e_11ea_8c61_f1b343cc9ba3row0_col1 {\n",
       "            background-color:  #3b4cc0;\n",
       "            color:  #f1f1f1;\n",
       "        }    #T_66cf0cf0_5d7e_11ea_8c61_f1b343cc9ba3row0_col2 {\n",
       "            background-color:  #485fd1;\n",
       "            color:  #f1f1f1;\n",
       "        }    #T_66cf0cf0_5d7e_11ea_8c61_f1b343cc9ba3row0_col3 {\n",
       "            background-color:  #4257c9;\n",
       "            color:  #f1f1f1;\n",
       "        }    #T_66cf0cf0_5d7e_11ea_8c61_f1b343cc9ba3row0_col4 {\n",
       "            background-color:  #3c4ec2;\n",
       "            color:  #f1f1f1;\n",
       "        }    #T_66cf0cf0_5d7e_11ea_8c61_f1b343cc9ba3row0_col5 {\n",
       "            background-color:  #516ddb;\n",
       "            color:  #000000;\n",
       "        }    #T_66cf0cf0_5d7e_11ea_8c61_f1b343cc9ba3row0_col6 {\n",
       "            background-color:  #4b64d5;\n",
       "            color:  #f1f1f1;\n",
       "        }    #T_66cf0cf0_5d7e_11ea_8c61_f1b343cc9ba3row0_col7 {\n",
       "            background-color:  #3e51c5;\n",
       "            color:  #f1f1f1;\n",
       "        }    #T_66cf0cf0_5d7e_11ea_8c61_f1b343cc9ba3row0_col8 {\n",
       "            background-color:  #445acc;\n",
       "            color:  #f1f1f1;\n",
       "        }    #T_66cf0cf0_5d7e_11ea_8c61_f1b343cc9ba3row0_col9 {\n",
       "            background-color:  #ca3b37;\n",
       "            color:  #f1f1f1;\n",
       "        }    #T_66cf0cf0_5d7e_11ea_8c61_f1b343cc9ba3row1_col0 {\n",
       "            background-color:  #3b4cc0;\n",
       "            color:  #f1f1f1;\n",
       "        }    #T_66cf0cf0_5d7e_11ea_8c61_f1b343cc9ba3row1_col1 {\n",
       "            background-color:  #b40426;\n",
       "            color:  #f1f1f1;\n",
       "        }    #T_66cf0cf0_5d7e_11ea_8c61_f1b343cc9ba3row1_col2 {\n",
       "            background-color:  #4c66d6;\n",
       "            color:  #000000;\n",
       "        }    #T_66cf0cf0_5d7e_11ea_8c61_f1b343cc9ba3row1_col3 {\n",
       "            background-color:  #f6a586;\n",
       "            color:  #000000;\n",
       "        }    #T_66cf0cf0_5d7e_11ea_8c61_f1b343cc9ba3row1_col4 {\n",
       "            background-color:  #7a9df8;\n",
       "            color:  #000000;\n",
       "        }    #T_66cf0cf0_5d7e_11ea_8c61_f1b343cc9ba3row1_col5 {\n",
       "            background-color:  #485fd1;\n",
       "            color:  #f1f1f1;\n",
       "        }    #T_66cf0cf0_5d7e_11ea_8c61_f1b343cc9ba3row1_col6 {\n",
       "            background-color:  #e7d7ce;\n",
       "            color:  #000000;\n",
       "        }    #T_66cf0cf0_5d7e_11ea_8c61_f1b343cc9ba3row1_col7 {\n",
       "            background-color:  #779af7;\n",
       "            color:  #000000;\n",
       "        }    #T_66cf0cf0_5d7e_11ea_8c61_f1b343cc9ba3row1_col8 {\n",
       "            background-color:  #f7b79b;\n",
       "            color:  #000000;\n",
       "        }    #T_66cf0cf0_5d7e_11ea_8c61_f1b343cc9ba3row1_col9 {\n",
       "            background-color:  #3b4cc0;\n",
       "            color:  #f1f1f1;\n",
       "        }    #T_66cf0cf0_5d7e_11ea_8c61_f1b343cc9ba3row2_col0 {\n",
       "            background-color:  #dbdcde;\n",
       "            color:  #000000;\n",
       "        }    #T_66cf0cf0_5d7e_11ea_8c61_f1b343cc9ba3row2_col1 {\n",
       "            background-color:  #dedcdb;\n",
       "            color:  #000000;\n",
       "        }    #T_66cf0cf0_5d7e_11ea_8c61_f1b343cc9ba3row2_col2 {\n",
       "            background-color:  #b40426;\n",
       "            color:  #f1f1f1;\n",
       "        }    #T_66cf0cf0_5d7e_11ea_8c61_f1b343cc9ba3row2_col3 {\n",
       "            background-color:  #b6cefa;\n",
       "            color:  #000000;\n",
       "        }    #T_66cf0cf0_5d7e_11ea_8c61_f1b343cc9ba3row2_col4 {\n",
       "            background-color:  #5977e3;\n",
       "            color:  #000000;\n",
       "        }    #T_66cf0cf0_5d7e_11ea_8c61_f1b343cc9ba3row2_col5 {\n",
       "            background-color:  #4c66d6;\n",
       "            color:  #000000;\n",
       "        }    #T_66cf0cf0_5d7e_11ea_8c61_f1b343cc9ba3row2_col6 {\n",
       "            background-color:  #9dbdff;\n",
       "            color:  #000000;\n",
       "        }    #T_66cf0cf0_5d7e_11ea_8c61_f1b343cc9ba3row2_col7 {\n",
       "            background-color:  #5977e3;\n",
       "            color:  #000000;\n",
       "        }    #T_66cf0cf0_5d7e_11ea_8c61_f1b343cc9ba3row2_col8 {\n",
       "            background-color:  #afcafc;\n",
       "            color:  #000000;\n",
       "        }    #T_66cf0cf0_5d7e_11ea_8c61_f1b343cc9ba3row2_col9 {\n",
       "            background-color:  #ccd9ed;\n",
       "            color:  #000000;\n",
       "        }    #T_66cf0cf0_5d7e_11ea_8c61_f1b343cc9ba3row3_col0 {\n",
       "            background-color:  #82a6fb;\n",
       "            color:  #000000;\n",
       "        }    #T_66cf0cf0_5d7e_11ea_8c61_f1b343cc9ba3row3_col1 {\n",
       "            background-color:  #f18d6f;\n",
       "            color:  #000000;\n",
       "        }    #T_66cf0cf0_5d7e_11ea_8c61_f1b343cc9ba3row3_col2 {\n",
       "            background-color:  #485fd1;\n",
       "            color:  #f1f1f1;\n",
       "        }    #T_66cf0cf0_5d7e_11ea_8c61_f1b343cc9ba3row3_col3 {\n",
       "            background-color:  #b40426;\n",
       "            color:  #f1f1f1;\n",
       "        }    #T_66cf0cf0_5d7e_11ea_8c61_f1b343cc9ba3row3_col4 {\n",
       "            background-color:  #5572df;\n",
       "            color:  #000000;\n",
       "        }    #T_66cf0cf0_5d7e_11ea_8c61_f1b343cc9ba3row3_col5 {\n",
       "            background-color:  #4a63d3;\n",
       "            color:  #f1f1f1;\n",
       "        }    #T_66cf0cf0_5d7e_11ea_8c61_f1b343cc9ba3row3_col6 {\n",
       "            background-color:  #8fb1fe;\n",
       "            color:  #000000;\n",
       "        }    #T_66cf0cf0_5d7e_11ea_8c61_f1b343cc9ba3row3_col7 {\n",
       "            background-color:  #5572df;\n",
       "            color:  #000000;\n",
       "        }    #T_66cf0cf0_5d7e_11ea_8c61_f1b343cc9ba3row3_col8 {\n",
       "            background-color:  #9fbfff;\n",
       "            color:  #000000;\n",
       "        }    #T_66cf0cf0_5d7e_11ea_8c61_f1b343cc9ba3row3_col9 {\n",
       "            background-color:  #6b8df0;\n",
       "            color:  #000000;\n",
       "        }    #T_66cf0cf0_5d7e_11ea_8c61_f1b343cc9ba3row4_col0 {\n",
       "            background-color:  #cedaeb;\n",
       "            color:  #000000;\n",
       "        }    #T_66cf0cf0_5d7e_11ea_8c61_f1b343cc9ba3row4_col1 {\n",
       "            background-color:  #ead5c9;\n",
       "            color:  #000000;\n",
       "        }    #T_66cf0cf0_5d7e_11ea_8c61_f1b343cc9ba3row4_col2 {\n",
       "            background-color:  #4a63d3;\n",
       "            color:  #f1f1f1;\n",
       "        }    #T_66cf0cf0_5d7e_11ea_8c61_f1b343cc9ba3row4_col3 {\n",
       "            background-color:  #b3cdfb;\n",
       "            color:  #000000;\n",
       "        }    #T_66cf0cf0_5d7e_11ea_8c61_f1b343cc9ba3row4_col4 {\n",
       "            background-color:  #b40426;\n",
       "            color:  #f1f1f1;\n",
       "        }    #T_66cf0cf0_5d7e_11ea_8c61_f1b343cc9ba3row4_col5 {\n",
       "            background-color:  #4c66d6;\n",
       "            color:  #000000;\n",
       "        }    #T_66cf0cf0_5d7e_11ea_8c61_f1b343cc9ba3row4_col6 {\n",
       "            background-color:  #9bbcff;\n",
       "            color:  #000000;\n",
       "        }    #T_66cf0cf0_5d7e_11ea_8c61_f1b343cc9ba3row4_col7 {\n",
       "            background-color:  #5977e3;\n",
       "            color:  #000000;\n",
       "        }    #T_66cf0cf0_5d7e_11ea_8c61_f1b343cc9ba3row4_col8 {\n",
       "            background-color:  #adc9fd;\n",
       "            color:  #000000;\n",
       "        }    #T_66cf0cf0_5d7e_11ea_8c61_f1b343cc9ba3row4_col9 {\n",
       "            background-color:  #c4d5f3;\n",
       "            color:  #000000;\n",
       "        }    #T_66cf0cf0_5d7e_11ea_8c61_f1b343cc9ba3row5_col0 {\n",
       "            background-color:  #dfdbd9;\n",
       "            color:  #000000;\n",
       "        }    #T_66cf0cf0_5d7e_11ea_8c61_f1b343cc9ba3row5_col1 {\n",
       "            background-color:  #dadce0;\n",
       "            color:  #000000;\n",
       "        }    #T_66cf0cf0_5d7e_11ea_8c61_f1b343cc9ba3row5_col2 {\n",
       "            background-color:  #4a63d3;\n",
       "            color:  #f1f1f1;\n",
       "        }    #T_66cf0cf0_5d7e_11ea_8c61_f1b343cc9ba3row5_col3 {\n",
       "            background-color:  #b6cefa;\n",
       "            color:  #000000;\n",
       "        }    #T_66cf0cf0_5d7e_11ea_8c61_f1b343cc9ba3row5_col4 {\n",
       "            background-color:  #5977e3;\n",
       "            color:  #000000;\n",
       "        }    #T_66cf0cf0_5d7e_11ea_8c61_f1b343cc9ba3row5_col5 {\n",
       "            background-color:  #b40426;\n",
       "            color:  #f1f1f1;\n",
       "        }    #T_66cf0cf0_5d7e_11ea_8c61_f1b343cc9ba3row5_col6 {\n",
       "            background-color:  #9dbdff;\n",
       "            color:  #000000;\n",
       "        }    #T_66cf0cf0_5d7e_11ea_8c61_f1b343cc9ba3row5_col7 {\n",
       "            background-color:  #5977e3;\n",
       "            color:  #000000;\n",
       "        }    #T_66cf0cf0_5d7e_11ea_8c61_f1b343cc9ba3row5_col8 {\n",
       "            background-color:  #aec9fc;\n",
       "            color:  #000000;\n",
       "        }    #T_66cf0cf0_5d7e_11ea_8c61_f1b343cc9ba3row5_col9 {\n",
       "            background-color:  #cbd8ee;\n",
       "            color:  #000000;\n",
       "        }    #T_66cf0cf0_5d7e_11ea_8c61_f1b343cc9ba3row6_col0 {\n",
       "            background-color:  #a7c5fe;\n",
       "            color:  #000000;\n",
       "        }    #T_66cf0cf0_5d7e_11ea_8c61_f1b343cc9ba3row6_col1 {\n",
       "            background-color:  #f7b599;\n",
       "            color:  #000000;\n",
       "        }    #T_66cf0cf0_5d7e_11ea_8c61_f1b343cc9ba3row6_col2 {\n",
       "            background-color:  #4961d2;\n",
       "            color:  #f1f1f1;\n",
       "        }    #T_66cf0cf0_5d7e_11ea_8c61_f1b343cc9ba3row6_col3 {\n",
       "            background-color:  #aac7fd;\n",
       "            color:  #000000;\n",
       "        }    #T_66cf0cf0_5d7e_11ea_8c61_f1b343cc9ba3row6_col4 {\n",
       "            background-color:  #5673e0;\n",
       "            color:  #000000;\n",
       "        }    #T_66cf0cf0_5d7e_11ea_8c61_f1b343cc9ba3row6_col5 {\n",
       "            background-color:  #4b64d5;\n",
       "            color:  #f1f1f1;\n",
       "        }    #T_66cf0cf0_5d7e_11ea_8c61_f1b343cc9ba3row6_col6 {\n",
       "            background-color:  #b40426;\n",
       "            color:  #f1f1f1;\n",
       "        }    #T_66cf0cf0_5d7e_11ea_8c61_f1b343cc9ba3row6_col7 {\n",
       "            background-color:  #5673e0;\n",
       "            color:  #000000;\n",
       "        }    #T_66cf0cf0_5d7e_11ea_8c61_f1b343cc9ba3row6_col8 {\n",
       "            background-color:  #a5c3fe;\n",
       "            color:  #000000;\n",
       "        }    #T_66cf0cf0_5d7e_11ea_8c61_f1b343cc9ba3row6_col9 {\n",
       "            background-color:  #8badfd;\n",
       "            color:  #000000;\n",
       "        }    #T_66cf0cf0_5d7e_11ea_8c61_f1b343cc9ba3row7_col0 {\n",
       "            background-color:  #cfdaea;\n",
       "            color:  #000000;\n",
       "        }    #T_66cf0cf0_5d7e_11ea_8c61_f1b343cc9ba3row7_col1 {\n",
       "            background-color:  #e9d5cb;\n",
       "            color:  #000000;\n",
       "        }    #T_66cf0cf0_5d7e_11ea_8c61_f1b343cc9ba3row7_col2 {\n",
       "            background-color:  #4a63d3;\n",
       "            color:  #f1f1f1;\n",
       "        }    #T_66cf0cf0_5d7e_11ea_8c61_f1b343cc9ba3row7_col3 {\n",
       "            background-color:  #b3cdfb;\n",
       "            color:  #000000;\n",
       "        }    #T_66cf0cf0_5d7e_11ea_8c61_f1b343cc9ba3row7_col4 {\n",
       "            background-color:  #5977e3;\n",
       "            color:  #000000;\n",
       "        }    #T_66cf0cf0_5d7e_11ea_8c61_f1b343cc9ba3row7_col5 {\n",
       "            background-color:  #4c66d6;\n",
       "            color:  #000000;\n",
       "        }    #T_66cf0cf0_5d7e_11ea_8c61_f1b343cc9ba3row7_col6 {\n",
       "            background-color:  #9bbcff;\n",
       "            color:  #000000;\n",
       "        }    #T_66cf0cf0_5d7e_11ea_8c61_f1b343cc9ba3row7_col7 {\n",
       "            background-color:  #b40426;\n",
       "            color:  #f1f1f1;\n",
       "        }    #T_66cf0cf0_5d7e_11ea_8c61_f1b343cc9ba3row7_col8 {\n",
       "            background-color:  #adc9fd;\n",
       "            color:  #000000;\n",
       "        }    #T_66cf0cf0_5d7e_11ea_8c61_f1b343cc9ba3row7_col9 {\n",
       "            background-color:  #c4d5f3;\n",
       "            color:  #000000;\n",
       "        }    #T_66cf0cf0_5d7e_11ea_8c61_f1b343cc9ba3row8_col0 {\n",
       "            background-color:  #8db0fe;\n",
       "            color:  #000000;\n",
       "        }    #T_66cf0cf0_5d7e_11ea_8c61_f1b343cc9ba3row8_col1 {\n",
       "            background-color:  #f49a7b;\n",
       "            color:  #000000;\n",
       "        }    #T_66cf0cf0_5d7e_11ea_8c61_f1b343cc9ba3row8_col2 {\n",
       "            background-color:  #485fd1;\n",
       "            color:  #f1f1f1;\n",
       "        }    #T_66cf0cf0_5d7e_11ea_8c61_f1b343cc9ba3row8_col3 {\n",
       "            background-color:  #a7c5fe;\n",
       "            color:  #000000;\n",
       "        }    #T_66cf0cf0_5d7e_11ea_8c61_f1b343cc9ba3row8_col4 {\n",
       "            background-color:  #5572df;\n",
       "            color:  #000000;\n",
       "        }    #T_66cf0cf0_5d7e_11ea_8c61_f1b343cc9ba3row8_col5 {\n",
       "            background-color:  #4a63d3;\n",
       "            color:  #f1f1f1;\n",
       "        }    #T_66cf0cf0_5d7e_11ea_8c61_f1b343cc9ba3row8_col6 {\n",
       "            background-color:  #90b2fe;\n",
       "            color:  #000000;\n",
       "        }    #T_66cf0cf0_5d7e_11ea_8c61_f1b343cc9ba3row8_col7 {\n",
       "            background-color:  #5572df;\n",
       "            color:  #000000;\n",
       "        }    #T_66cf0cf0_5d7e_11ea_8c61_f1b343cc9ba3row8_col8 {\n",
       "            background-color:  #b40426;\n",
       "            color:  #f1f1f1;\n",
       "        }    #T_66cf0cf0_5d7e_11ea_8c61_f1b343cc9ba3row8_col9 {\n",
       "            background-color:  #7597f6;\n",
       "            color:  #000000;\n",
       "        }    #T_66cf0cf0_5d7e_11ea_8c61_f1b343cc9ba3row9_col0 {\n",
       "            background-color:  #c83836;\n",
       "            color:  #f1f1f1;\n",
       "        }    #T_66cf0cf0_5d7e_11ea_8c61_f1b343cc9ba3row9_col1 {\n",
       "            background-color:  #4b64d5;\n",
       "            color:  #f1f1f1;\n",
       "        }    #T_66cf0cf0_5d7e_11ea_8c61_f1b343cc9ba3row9_col2 {\n",
       "            background-color:  #3b4cc0;\n",
       "            color:  #f1f1f1;\n",
       "        }    #T_66cf0cf0_5d7e_11ea_8c61_f1b343cc9ba3row9_col3 {\n",
       "            background-color:  #3b4cc0;\n",
       "            color:  #f1f1f1;\n",
       "        }    #T_66cf0cf0_5d7e_11ea_8c61_f1b343cc9ba3row9_col4 {\n",
       "            background-color:  #3b4cc0;\n",
       "            color:  #f1f1f1;\n",
       "        }    #T_66cf0cf0_5d7e_11ea_8c61_f1b343cc9ba3row9_col5 {\n",
       "            background-color:  #3b4cc0;\n",
       "            color:  #f1f1f1;\n",
       "        }    #T_66cf0cf0_5d7e_11ea_8c61_f1b343cc9ba3row9_col6 {\n",
       "            background-color:  #3b4cc0;\n",
       "            color:  #f1f1f1;\n",
       "        }    #T_66cf0cf0_5d7e_11ea_8c61_f1b343cc9ba3row9_col7 {\n",
       "            background-color:  #3b4cc0;\n",
       "            color:  #f1f1f1;\n",
       "        }    #T_66cf0cf0_5d7e_11ea_8c61_f1b343cc9ba3row9_col8 {\n",
       "            background-color:  #3b4cc0;\n",
       "            color:  #f1f1f1;\n",
       "        }    #T_66cf0cf0_5d7e_11ea_8c61_f1b343cc9ba3row9_col9 {\n",
       "            background-color:  #b40426;\n",
       "            color:  #f1f1f1;\n",
       "        }</style><table id=\"T_66cf0cf0_5d7e_11ea_8c61_f1b343cc9ba3\" ><thead>    <tr>        <th class=\"blank level0\" ></th>        <th class=\"col_heading level0 col0\" >pais_origem_Angola</th>        <th class=\"col_heading level0 col1\" >pais_origem_Venezuela</th>        <th class=\"col_heading level0 col2\" >cor_raca_Amarela</th>        <th class=\"col_heading level0 col3\" >cor_raca_Branca</th>        <th class=\"col_heading level0 col4\" >cor_raca_Indígena</th>        <th class=\"col_heading level0 col5\" >cor_raca_Năo informado</th>        <th class=\"col_heading level0 col6\" >cor_raca_Năo respondeu</th>        <th class=\"col_heading level0 col7\" >cor_raca_Outras</th>        <th class=\"col_heading level0 col8\" >cor_raca_Parda</th>        <th class=\"col_heading level0 col9\" >cor_raca_Preta</th>    </tr></thead><tbody>\n",
       "                <tr>\n",
       "                        <th id=\"T_66cf0cf0_5d7e_11ea_8c61_f1b343cc9ba3level0_row0\" class=\"row_heading level0 row0\" >pais_origem_Angola</th>\n",
       "                        <td id=\"T_66cf0cf0_5d7e_11ea_8c61_f1b343cc9ba3row0_col0\" class=\"data row0 col0\" >1.000000</td>\n",
       "                        <td id=\"T_66cf0cf0_5d7e_11ea_8c61_f1b343cc9ba3row0_col1\" class=\"data row0 col1\" >-1.000000</td>\n",
       "                        <td id=\"T_66cf0cf0_5d7e_11ea_8c61_f1b343cc9ba3row0_col2\" class=\"data row0 col2\" >-0.008685</td>\n",
       "                        <td id=\"T_66cf0cf0_5d7e_11ea_8c61_f1b343cc9ba3row0_col3\" class=\"data row0 col3\" >-0.554739</td>\n",
       "                        <td id=\"T_66cf0cf0_5d7e_11ea_8c61_f1b343cc9ba3row0_col4\" class=\"data row0 col4\" >-0.107817</td>\n",
       "                        <td id=\"T_66cf0cf0_5d7e_11ea_8c61_f1b343cc9ba3row0_col5\" class=\"data row0 col5\" >0.016049</td>\n",
       "                        <td id=\"T_66cf0cf0_5d7e_11ea_8c61_f1b343cc9ba3row0_col6\" class=\"data row0 col6\" >-0.345681</td>\n",
       "                        <td id=\"T_66cf0cf0_5d7e_11ea_8c61_f1b343cc9ba3row0_col7\" class=\"data row0 col7\" >-0.096514</td>\n",
       "                        <td id=\"T_66cf0cf0_5d7e_11ea_8c61_f1b343cc9ba3row0_col8\" class=\"data row0 col8\" >-0.492827</td>\n",
       "                        <td id=\"T_66cf0cf0_5d7e_11ea_8c61_f1b343cc9ba3row0_col9\" class=\"data row0 col9\" >0.887903</td>\n",
       "            </tr>\n",
       "            <tr>\n",
       "                        <th id=\"T_66cf0cf0_5d7e_11ea_8c61_f1b343cc9ba3level0_row1\" class=\"row_heading level0 row1\" >pais_origem_Venezuela</th>\n",
       "                        <td id=\"T_66cf0cf0_5d7e_11ea_8c61_f1b343cc9ba3row1_col0\" class=\"data row1 col0\" >-1.000000</td>\n",
       "                        <td id=\"T_66cf0cf0_5d7e_11ea_8c61_f1b343cc9ba3row1_col1\" class=\"data row1 col1\" >1.000000</td>\n",
       "                        <td id=\"T_66cf0cf0_5d7e_11ea_8c61_f1b343cc9ba3row1_col2\" class=\"data row1 col2\" >0.008685</td>\n",
       "                        <td id=\"T_66cf0cf0_5d7e_11ea_8c61_f1b343cc9ba3row1_col3\" class=\"data row1 col3\" >0.554739</td>\n",
       "                        <td id=\"T_66cf0cf0_5d7e_11ea_8c61_f1b343cc9ba3row1_col4\" class=\"data row1 col4\" >0.107817</td>\n",
       "                        <td id=\"T_66cf0cf0_5d7e_11ea_8c61_f1b343cc9ba3row1_col5\" class=\"data row1 col5\" >-0.016049</td>\n",
       "                        <td id=\"T_66cf0cf0_5d7e_11ea_8c61_f1b343cc9ba3row1_col6\" class=\"data row1 col6\" >0.345681</td>\n",
       "                        <td id=\"T_66cf0cf0_5d7e_11ea_8c61_f1b343cc9ba3row1_col7\" class=\"data row1 col7\" >0.096514</td>\n",
       "                        <td id=\"T_66cf0cf0_5d7e_11ea_8c61_f1b343cc9ba3row1_col8\" class=\"data row1 col8\" >0.492827</td>\n",
       "                        <td id=\"T_66cf0cf0_5d7e_11ea_8c61_f1b343cc9ba3row1_col9\" class=\"data row1 col9\" >-0.887903</td>\n",
       "            </tr>\n",
       "            <tr>\n",
       "                        <th id=\"T_66cf0cf0_5d7e_11ea_8c61_f1b343cc9ba3level0_row2\" class=\"row_heading level0 row2\" >cor_raca_Amarela</th>\n",
       "                        <td id=\"T_66cf0cf0_5d7e_11ea_8c61_f1b343cc9ba3row2_col0\" class=\"data row2 col0\" >-0.008685</td>\n",
       "                        <td id=\"T_66cf0cf0_5d7e_11ea_8c61_f1b343cc9ba3row2_col1\" class=\"data row2 col1\" >0.008685</td>\n",
       "                        <td id=\"T_66cf0cf0_5d7e_11ea_8c61_f1b343cc9ba3row2_col2\" class=\"data row2 col2\" >1.000000</td>\n",
       "                        <td id=\"T_66cf0cf0_5d7e_11ea_8c61_f1b343cc9ba3row2_col3\" class=\"data row2 col3\" >-0.007902</td>\n",
       "                        <td id=\"T_66cf0cf0_5d7e_11ea_8c61_f1b343cc9ba3row2_col4\" class=\"data row2 col4\" >-0.001498</td>\n",
       "                        <td id=\"T_66cf0cf0_5d7e_11ea_8c61_f1b343cc9ba3row2_col5\" class=\"data row2 col5\" >-0.000864</td>\n",
       "                        <td id=\"T_66cf0cf0_5d7e_11ea_8c61_f1b343cc9ba3row2_col6\" class=\"data row2 col6\" >-0.005629</td>\n",
       "                        <td id=\"T_66cf0cf0_5d7e_11ea_8c61_f1b343cc9ba3row2_col7\" class=\"data row2 col7\" >-0.001498</td>\n",
       "                        <td id=\"T_66cf0cf0_5d7e_11ea_8c61_f1b343cc9ba3row2_col8\" class=\"data row2 col8\" >-0.007231</td>\n",
       "                        <td id=\"T_66cf0cf0_5d7e_11ea_8c61_f1b343cc9ba3row2_col9\" class=\"data row2 col9\" >-0.056358</td>\n",
       "            </tr>\n",
       "            <tr>\n",
       "                        <th id=\"T_66cf0cf0_5d7e_11ea_8c61_f1b343cc9ba3level0_row3\" class=\"row_heading level0 row3\" >cor_raca_Branca</th>\n",
       "                        <td id=\"T_66cf0cf0_5d7e_11ea_8c61_f1b343cc9ba3row3_col0\" class=\"data row3 col0\" >-0.554739</td>\n",
       "                        <td id=\"T_66cf0cf0_5d7e_11ea_8c61_f1b343cc9ba3row3_col1\" class=\"data row3 col1\" >0.554739</td>\n",
       "                        <td id=\"T_66cf0cf0_5d7e_11ea_8c61_f1b343cc9ba3row3_col2\" class=\"data row3 col2\" >-0.007902</td>\n",
       "                        <td id=\"T_66cf0cf0_5d7e_11ea_8c61_f1b343cc9ba3row3_col3\" class=\"data row3 col3\" >1.000000</td>\n",
       "                        <td id=\"T_66cf0cf0_5d7e_11ea_8c61_f1b343cc9ba3row3_col4\" class=\"data row3 col4\" >-0.015822</td>\n",
       "                        <td id=\"T_66cf0cf0_5d7e_11ea_8c61_f1b343cc9ba3row3_col5\" class=\"data row3 col5\" >-0.009126</td>\n",
       "                        <td id=\"T_66cf0cf0_5d7e_11ea_8c61_f1b343cc9ba3row3_col6\" class=\"data row3 col6\" >-0.059446</td>\n",
       "                        <td id=\"T_66cf0cf0_5d7e_11ea_8c61_f1b343cc9ba3row3_col7\" class=\"data row3 col7\" >-0.015822</td>\n",
       "                        <td id=\"T_66cf0cf0_5d7e_11ea_8c61_f1b343cc9ba3row3_col8\" class=\"data row3 col8\" >-0.076355</td>\n",
       "                        <td id=\"T_66cf0cf0_5d7e_11ea_8c61_f1b343cc9ba3row3_col9\" class=\"data row3 col9\" >-0.595131</td>\n",
       "            </tr>\n",
       "            <tr>\n",
       "                        <th id=\"T_66cf0cf0_5d7e_11ea_8c61_f1b343cc9ba3level0_row4\" class=\"row_heading level0 row4\" >cor_raca_Indígena</th>\n",
       "                        <td id=\"T_66cf0cf0_5d7e_11ea_8c61_f1b343cc9ba3row4_col0\" class=\"data row4 col0\" >-0.107817</td>\n",
       "                        <td id=\"T_66cf0cf0_5d7e_11ea_8c61_f1b343cc9ba3row4_col1\" class=\"data row4 col1\" >0.107817</td>\n",
       "                        <td id=\"T_66cf0cf0_5d7e_11ea_8c61_f1b343cc9ba3row4_col2\" class=\"data row4 col2\" >-0.001498</td>\n",
       "                        <td id=\"T_66cf0cf0_5d7e_11ea_8c61_f1b343cc9ba3row4_col3\" class=\"data row4 col3\" >-0.015822</td>\n",
       "                        <td id=\"T_66cf0cf0_5d7e_11ea_8c61_f1b343cc9ba3row4_col4\" class=\"data row4 col4\" >1.000000</td>\n",
       "                        <td id=\"T_66cf0cf0_5d7e_11ea_8c61_f1b343cc9ba3row4_col5\" class=\"data row4 col5\" >-0.001730</td>\n",
       "                        <td id=\"T_66cf0cf0_5d7e_11ea_8c61_f1b343cc9ba3row4_col6\" class=\"data row4 col6\" >-0.011271</td>\n",
       "                        <td id=\"T_66cf0cf0_5d7e_11ea_8c61_f1b343cc9ba3row4_col7\" class=\"data row4 col7\" >-0.003000</td>\n",
       "                        <td id=\"T_66cf0cf0_5d7e_11ea_8c61_f1b343cc9ba3row4_col8\" class=\"data row4 col8\" >-0.014478</td>\n",
       "                        <td id=\"T_66cf0cf0_5d7e_11ea_8c61_f1b343cc9ba3row4_col9\" class=\"data row4 col9\" >-0.112842</td>\n",
       "            </tr>\n",
       "            <tr>\n",
       "                        <th id=\"T_66cf0cf0_5d7e_11ea_8c61_f1b343cc9ba3level0_row5\" class=\"row_heading level0 row5\" >cor_raca_Năo informado</th>\n",
       "                        <td id=\"T_66cf0cf0_5d7e_11ea_8c61_f1b343cc9ba3row5_col0\" class=\"data row5 col0\" >0.016049</td>\n",
       "                        <td id=\"T_66cf0cf0_5d7e_11ea_8c61_f1b343cc9ba3row5_col1\" class=\"data row5 col1\" >-0.016049</td>\n",
       "                        <td id=\"T_66cf0cf0_5d7e_11ea_8c61_f1b343cc9ba3row5_col2\" class=\"data row5 col2\" >-0.000864</td>\n",
       "                        <td id=\"T_66cf0cf0_5d7e_11ea_8c61_f1b343cc9ba3row5_col3\" class=\"data row5 col3\" >-0.009126</td>\n",
       "                        <td id=\"T_66cf0cf0_5d7e_11ea_8c61_f1b343cc9ba3row5_col4\" class=\"data row5 col4\" >-0.001730</td>\n",
       "                        <td id=\"T_66cf0cf0_5d7e_11ea_8c61_f1b343cc9ba3row5_col5\" class=\"data row5 col5\" >1.000000</td>\n",
       "                        <td id=\"T_66cf0cf0_5d7e_11ea_8c61_f1b343cc9ba3row5_col6\" class=\"data row5 col6\" >-0.006501</td>\n",
       "                        <td id=\"T_66cf0cf0_5d7e_11ea_8c61_f1b343cc9ba3row5_col7\" class=\"data row5 col7\" >-0.001730</td>\n",
       "                        <td id=\"T_66cf0cf0_5d7e_11ea_8c61_f1b343cc9ba3row5_col8\" class=\"data row5 col8\" >-0.008350</td>\n",
       "                        <td id=\"T_66cf0cf0_5d7e_11ea_8c61_f1b343cc9ba3row5_col9\" class=\"data row5 col9\" >-0.065084</td>\n",
       "            </tr>\n",
       "            <tr>\n",
       "                        <th id=\"T_66cf0cf0_5d7e_11ea_8c61_f1b343cc9ba3level0_row6\" class=\"row_heading level0 row6\" >cor_raca_Năo respondeu</th>\n",
       "                        <td id=\"T_66cf0cf0_5d7e_11ea_8c61_f1b343cc9ba3row6_col0\" class=\"data row6 col0\" >-0.345681</td>\n",
       "                        <td id=\"T_66cf0cf0_5d7e_11ea_8c61_f1b343cc9ba3row6_col1\" class=\"data row6 col1\" >0.345681</td>\n",
       "                        <td id=\"T_66cf0cf0_5d7e_11ea_8c61_f1b343cc9ba3row6_col2\" class=\"data row6 col2\" >-0.005629</td>\n",
       "                        <td id=\"T_66cf0cf0_5d7e_11ea_8c61_f1b343cc9ba3row6_col3\" class=\"data row6 col3\" >-0.059446</td>\n",
       "                        <td id=\"T_66cf0cf0_5d7e_11ea_8c61_f1b343cc9ba3row6_col4\" class=\"data row6 col4\" >-0.011271</td>\n",
       "                        <td id=\"T_66cf0cf0_5d7e_11ea_8c61_f1b343cc9ba3row6_col5\" class=\"data row6 col5\" >-0.006501</td>\n",
       "                        <td id=\"T_66cf0cf0_5d7e_11ea_8c61_f1b343cc9ba3row6_col6\" class=\"data row6 col6\" >1.000000</td>\n",
       "                        <td id=\"T_66cf0cf0_5d7e_11ea_8c61_f1b343cc9ba3row6_col7\" class=\"data row6 col7\" >-0.011271</td>\n",
       "                        <td id=\"T_66cf0cf0_5d7e_11ea_8c61_f1b343cc9ba3row6_col8\" class=\"data row6 col8\" >-0.054394</td>\n",
       "                        <td id=\"T_66cf0cf0_5d7e_11ea_8c61_f1b343cc9ba3row6_col9\" class=\"data row6 col9\" >-0.423965</td>\n",
       "            </tr>\n",
       "            <tr>\n",
       "                        <th id=\"T_66cf0cf0_5d7e_11ea_8c61_f1b343cc9ba3level0_row7\" class=\"row_heading level0 row7\" >cor_raca_Outras</th>\n",
       "                        <td id=\"T_66cf0cf0_5d7e_11ea_8c61_f1b343cc9ba3row7_col0\" class=\"data row7 col0\" >-0.096514</td>\n",
       "                        <td id=\"T_66cf0cf0_5d7e_11ea_8c61_f1b343cc9ba3row7_col1\" class=\"data row7 col1\" >0.096514</td>\n",
       "                        <td id=\"T_66cf0cf0_5d7e_11ea_8c61_f1b343cc9ba3row7_col2\" class=\"data row7 col2\" >-0.001498</td>\n",
       "                        <td id=\"T_66cf0cf0_5d7e_11ea_8c61_f1b343cc9ba3row7_col3\" class=\"data row7 col3\" >-0.015822</td>\n",
       "                        <td id=\"T_66cf0cf0_5d7e_11ea_8c61_f1b343cc9ba3row7_col4\" class=\"data row7 col4\" >-0.003000</td>\n",
       "                        <td id=\"T_66cf0cf0_5d7e_11ea_8c61_f1b343cc9ba3row7_col5\" class=\"data row7 col5\" >-0.001730</td>\n",
       "                        <td id=\"T_66cf0cf0_5d7e_11ea_8c61_f1b343cc9ba3row7_col6\" class=\"data row7 col6\" >-0.011271</td>\n",
       "                        <td id=\"T_66cf0cf0_5d7e_11ea_8c61_f1b343cc9ba3row7_col7\" class=\"data row7 col7\" >1.000000</td>\n",
       "                        <td id=\"T_66cf0cf0_5d7e_11ea_8c61_f1b343cc9ba3row7_col8\" class=\"data row7 col8\" >-0.014478</td>\n",
       "                        <td id=\"T_66cf0cf0_5d7e_11ea_8c61_f1b343cc9ba3row7_col9\" class=\"data row7 col9\" >-0.112842</td>\n",
       "            </tr>\n",
       "            <tr>\n",
       "                        <th id=\"T_66cf0cf0_5d7e_11ea_8c61_f1b343cc9ba3level0_row8\" class=\"row_heading level0 row8\" >cor_raca_Parda</th>\n",
       "                        <td id=\"T_66cf0cf0_5d7e_11ea_8c61_f1b343cc9ba3row8_col0\" class=\"data row8 col0\" >-0.492827</td>\n",
       "                        <td id=\"T_66cf0cf0_5d7e_11ea_8c61_f1b343cc9ba3row8_col1\" class=\"data row8 col1\" >0.492827</td>\n",
       "                        <td id=\"T_66cf0cf0_5d7e_11ea_8c61_f1b343cc9ba3row8_col2\" class=\"data row8 col2\" >-0.007231</td>\n",
       "                        <td id=\"T_66cf0cf0_5d7e_11ea_8c61_f1b343cc9ba3row8_col3\" class=\"data row8 col3\" >-0.076355</td>\n",
       "                        <td id=\"T_66cf0cf0_5d7e_11ea_8c61_f1b343cc9ba3row8_col4\" class=\"data row8 col4\" >-0.014478</td>\n",
       "                        <td id=\"T_66cf0cf0_5d7e_11ea_8c61_f1b343cc9ba3row8_col5\" class=\"data row8 col5\" >-0.008350</td>\n",
       "                        <td id=\"T_66cf0cf0_5d7e_11ea_8c61_f1b343cc9ba3row8_col6\" class=\"data row8 col6\" >-0.054394</td>\n",
       "                        <td id=\"T_66cf0cf0_5d7e_11ea_8c61_f1b343cc9ba3row8_col7\" class=\"data row8 col7\" >-0.014478</td>\n",
       "                        <td id=\"T_66cf0cf0_5d7e_11ea_8c61_f1b343cc9ba3row8_col8\" class=\"data row8 col8\" >1.000000</td>\n",
       "                        <td id=\"T_66cf0cf0_5d7e_11ea_8c61_f1b343cc9ba3row8_col9\" class=\"data row8 col9\" >-0.544560</td>\n",
       "            </tr>\n",
       "            <tr>\n",
       "                        <th id=\"T_66cf0cf0_5d7e_11ea_8c61_f1b343cc9ba3level0_row9\" class=\"row_heading level0 row9\" >cor_raca_Preta</th>\n",
       "                        <td id=\"T_66cf0cf0_5d7e_11ea_8c61_f1b343cc9ba3row9_col0\" class=\"data row9 col0\" >0.887903</td>\n",
       "                        <td id=\"T_66cf0cf0_5d7e_11ea_8c61_f1b343cc9ba3row9_col1\" class=\"data row9 col1\" >-0.887903</td>\n",
       "                        <td id=\"T_66cf0cf0_5d7e_11ea_8c61_f1b343cc9ba3row9_col2\" class=\"data row9 col2\" >-0.056358</td>\n",
       "                        <td id=\"T_66cf0cf0_5d7e_11ea_8c61_f1b343cc9ba3row9_col3\" class=\"data row9 col3\" >-0.595131</td>\n",
       "                        <td id=\"T_66cf0cf0_5d7e_11ea_8c61_f1b343cc9ba3row9_col4\" class=\"data row9 col4\" >-0.112842</td>\n",
       "                        <td id=\"T_66cf0cf0_5d7e_11ea_8c61_f1b343cc9ba3row9_col5\" class=\"data row9 col5\" >-0.065084</td>\n",
       "                        <td id=\"T_66cf0cf0_5d7e_11ea_8c61_f1b343cc9ba3row9_col6\" class=\"data row9 col6\" >-0.423965</td>\n",
       "                        <td id=\"T_66cf0cf0_5d7e_11ea_8c61_f1b343cc9ba3row9_col7\" class=\"data row9 col7\" >-0.112842</td>\n",
       "                        <td id=\"T_66cf0cf0_5d7e_11ea_8c61_f1b343cc9ba3row9_col8\" class=\"data row9 col8\" >-0.544560</td>\n",
       "                        <td id=\"T_66cf0cf0_5d7e_11ea_8c61_f1b343cc9ba3row9_col9\" class=\"data row9 col9\" >1.000000</td>\n",
       "            </tr>\n",
       "    </tbody></table>"
      ],
      "text/plain": [
       "<pandas.io.formats.style.Styler at 0x7f5f782cea90>"
      ]
     },
     "execution_count": 28,
     "metadata": {},
     "output_type": "execute_result"
    }
   ],
   "source": [
    "corr = df_corr.corr()\n",
    "corr.style.background_gradient(cmap='coolwarm')"
   ]
  },
  {
   "cell_type": "markdown",
   "metadata": {},
   "source": [
    "<div class=\"alert alert-block alert-info\">\n",
    "    <h2>Amostragem</h2>\n",
    "</div>"
   ]
  },
  {
   "cell_type": "markdown",
   "metadata": {},
   "source": [
    "### Aleatória"
   ]
  },
  {
   "cell_type": "code",
   "execution_count": 29,
   "metadata": {},
   "outputs": [
    {
     "data": {
      "text/html": [
       "<div>\n",
       "<style scoped>\n",
       "    .dataframe tbody tr th:only-of-type {\n",
       "        vertical-align: middle;\n",
       "    }\n",
       "\n",
       "    .dataframe tbody tr th {\n",
       "        vertical-align: top;\n",
       "    }\n",
       "\n",
       "    .dataframe thead th {\n",
       "        text-align: right;\n",
       "    }\n",
       "</style>\n",
       "<table border=\"1\" class=\"dataframe\">\n",
       "  <thead>\n",
       "    <tr style=\"text-align: right;\">\n",
       "      <th></th>\n",
       "      <th>data_entrada_brasil</th>\n",
       "      <th>data_cadastro</th>\n",
       "      <th>dif_dtcad_dtingr_meses</th>\n",
       "      <th>sexo</th>\n",
       "      <th>fx_etaria</th>\n",
       "      <th>pais_origem</th>\n",
       "      <th>distrito_moradia</th>\n",
       "      <th>condicoes_moradia</th>\n",
       "      <th>cidade_ingresso</th>\n",
       "      <th>cor_raca</th>\n",
       "      <th>escolaridade</th>\n",
       "      <th>situacao_migratoria</th>\n",
       "      <th>fonte_renda</th>\n",
       "      <th>sabendo_crai</th>\n",
       "      <th>demanda_1</th>\n",
       "      <th>data_entrada_brasil_formatado</th>\n",
       "      <th>ano_entrada</th>\n",
       "    </tr>\n",
       "  </thead>\n",
       "  <tbody>\n",
       "    <tr>\n",
       "      <th>465</th>\n",
       "      <td>01/04/2016</td>\n",
       "      <td>05/04/2016</td>\n",
       "      <td>0</td>\n",
       "      <td>Feminino</td>\n",
       "      <td>18 a 29 anos</td>\n",
       "      <td>Angola</td>\n",
       "      <td>Vila Mariana</td>\n",
       "      <td>Centro de Acolhida</td>\n",
       "      <td>Năo informado</td>\n",
       "      <td>Preta</td>\n",
       "      <td>Ensino superior completo</td>\n",
       "      <td>Solicitante de refúgio</td>\n",
       "      <td>Năo informado</td>\n",
       "      <td>Năo informado</td>\n",
       "      <td>Năo informado</td>\n",
       "      <td>2016-04-01</td>\n",
       "      <td>2016.0</td>\n",
       "    </tr>\n",
       "    <tr>\n",
       "      <th>9061</th>\n",
       "      <td>Năo informado</td>\n",
       "      <td>08/12/2014</td>\n",
       "      <td>Năo informado</td>\n",
       "      <td>Masculino</td>\n",
       "      <td>40 a 49 anos</td>\n",
       "      <td>República Democrática do Congo</td>\n",
       "      <td>Năo informado</td>\n",
       "      <td>Centro de Acolhida</td>\n",
       "      <td>Năo informado</td>\n",
       "      <td>Branca</td>\n",
       "      <td>Ensino médio completo</td>\n",
       "      <td>Visto temporário</td>\n",
       "      <td>Năo informado</td>\n",
       "      <td>Năo informado</td>\n",
       "      <td>Năo informado</td>\n",
       "      <td>NaT</td>\n",
       "      <td>NaN</td>\n",
       "    </tr>\n",
       "    <tr>\n",
       "      <th>3546</th>\n",
       "      <td>16/01/2015</td>\n",
       "      <td>04/09/2019</td>\n",
       "      <td>55</td>\n",
       "      <td>Masculino</td>\n",
       "      <td>50 a 59 anos</td>\n",
       "      <td>Bangladesh</td>\n",
       "      <td>Penha</td>\n",
       "      <td>Casa própria</td>\n",
       "      <td>Guarulhos</td>\n",
       "      <td>Parda</td>\n",
       "      <td>Ensino médio incompleto</td>\n",
       "      <td>Visto permanente</td>\n",
       "      <td>Trabalhador autônomo</td>\n",
       "      <td>Outros</td>\n",
       "      <td>Regularizaçăo migratória</td>\n",
       "      <td>2015-01-16</td>\n",
       "      <td>2015.0</td>\n",
       "    </tr>\n",
       "    <tr>\n",
       "      <th>287</th>\n",
       "      <td>20/02/2016</td>\n",
       "      <td>25/02/2016</td>\n",
       "      <td>0</td>\n",
       "      <td>Masculino</td>\n",
       "      <td>30 a 39 anos</td>\n",
       "      <td>Angola</td>\n",
       "      <td>Itaquera</td>\n",
       "      <td>Aluguel ou pensăo</td>\n",
       "      <td>Năo informado</td>\n",
       "      <td>Preta</td>\n",
       "      <td>Ensino médio completo</td>\n",
       "      <td>Solicitante de refúgio</td>\n",
       "      <td>Năo informado</td>\n",
       "      <td>Năo informado</td>\n",
       "      <td>Regularizaçăo migratória</td>\n",
       "      <td>2016-02-20</td>\n",
       "      <td>2016.0</td>\n",
       "    </tr>\n",
       "    <tr>\n",
       "      <th>11202</th>\n",
       "      <td>26/01/2018</td>\n",
       "      <td>19/04/2018</td>\n",
       "      <td>2</td>\n",
       "      <td>Masculino</td>\n",
       "      <td>30 a 39 anos</td>\n",
       "      <td>Venezuela</td>\n",
       "      <td>Săo Mateus</td>\n",
       "      <td>Centro de Acolhida</td>\n",
       "      <td>Boa Vista</td>\n",
       "      <td>Năo respondeu</td>\n",
       "      <td>Ensino médio incompleto</td>\n",
       "      <td>Solicitante de refúgio</td>\n",
       "      <td>Desempregado</td>\n",
       "      <td>Instituiçőes ou organizaçőes</td>\n",
       "      <td>Orientaçăo jurídica</td>\n",
       "      <td>2018-01-26</td>\n",
       "      <td>2018.0</td>\n",
       "    </tr>\n",
       "  </tbody>\n",
       "</table>\n",
       "</div>"
      ],
      "text/plain": [
       "      data_entrada_brasil data_cadastro dif_dtcad_dtingr_meses       sexo  \\\n",
       "465            01/04/2016    05/04/2016                      0   Feminino   \n",
       "9061        Năo informado    08/12/2014          Năo informado  Masculino   \n",
       "3546           16/01/2015    04/09/2019                     55  Masculino   \n",
       "287            20/02/2016    25/02/2016                      0  Masculino   \n",
       "11202          26/01/2018    19/04/2018                      2  Masculino   \n",
       "\n",
       "          fx_etaria                     pais_origem distrito_moradia  \\\n",
       "465    18 a 29 anos                          Angola     Vila Mariana   \n",
       "9061   40 a 49 anos  República Democrática do Congo    Năo informado   \n",
       "3546   50 a 59 anos                      Bangladesh            Penha   \n",
       "287    30 a 39 anos                          Angola         Itaquera   \n",
       "11202  30 a 39 anos                       Venezuela       Săo Mateus   \n",
       "\n",
       "        condicoes_moradia cidade_ingresso       cor_raca  \\\n",
       "465    Centro de Acolhida   Năo informado          Preta   \n",
       "9061   Centro de Acolhida   Năo informado         Branca   \n",
       "3546         Casa própria       Guarulhos          Parda   \n",
       "287     Aluguel ou pensăo   Năo informado          Preta   \n",
       "11202  Centro de Acolhida       Boa Vista  Năo respondeu   \n",
       "\n",
       "                   escolaridade     situacao_migratoria           fonte_renda  \\\n",
       "465    Ensino superior completo  Solicitante de refúgio         Năo informado   \n",
       "9061      Ensino médio completo        Visto temporário         Năo informado   \n",
       "3546    Ensino médio incompleto        Visto permanente  Trabalhador autônomo   \n",
       "287       Ensino médio completo  Solicitante de refúgio         Năo informado   \n",
       "11202   Ensino médio incompleto  Solicitante de refúgio          Desempregado   \n",
       "\n",
       "                       sabendo_crai                 demanda_1  \\\n",
       "465                   Năo informado             Năo informado   \n",
       "9061                  Năo informado             Năo informado   \n",
       "3546                         Outros  Regularizaçăo migratória   \n",
       "287                   Năo informado  Regularizaçăo migratória   \n",
       "11202  Instituiçőes ou organizaçőes       Orientaçăo jurídica   \n",
       "\n",
       "      data_entrada_brasil_formatado  ano_entrada  \n",
       "465                      2016-04-01       2016.0  \n",
       "9061                            NaT          NaN  \n",
       "3546                     2015-01-16       2015.0  \n",
       "287                      2016-02-20       2016.0  \n",
       "11202                    2018-01-26       2018.0  "
      ]
     },
     "execution_count": 29,
     "metadata": {},
     "output_type": "execute_result"
    }
   ],
   "source": [
    "df_ale = df.sample(n=100)\n",
    "df_ale.head()"
   ]
  },
  {
   "cell_type": "markdown",
   "metadata": {},
   "source": [
    "<div class=\"alert alert-block alert-info\">\n",
    "    <h2>Missing Values</h2>\n",
    "</div>\n",
    "\n",
    "https://pandas.pydata.org/pandas-docs/stable/user_guide/missing_data.html  \n",
    "\n",
    "https://pandas.pydata.org/pandas-docs/version/0.25.0/reference/api/pandas.DataFrame.fillna.html#pandas.DataFrame.fillna  "
   ]
  },
  {
   "cell_type": "code",
   "execution_count": 30,
   "metadata": {},
   "outputs": [
    {
     "name": "stderr",
     "output_type": "stream",
     "text": [
      "/home/thiagokuma/anaconda3/envs/aula03/lib/python3.6/site-packages/ipykernel_launcher.py:2: SettingWithCopyWarning: \n",
      "A value is trying to be set on a copy of a slice from a DataFrame.\n",
      "Try using .loc[row_indexer,col_indexer] = value instead\n",
      "\n",
      "See the caveats in the documentation: https://pandas.pydata.org/pandas-docs/stable/user_guide/indexing.html#returning-a-view-versus-a-copy\n",
      "  \n"
     ]
    },
    {
     "data": {
      "image/png": "[encoded data removed]",
      "text/plain": [
       "<Figure size 432x288 with 1 Axes>"
      ]
     },
     "metadata": {},
     "output_type": "display_data"
    }
   ],
   "source": [
    "df_dif = df[(df['dif_dtcad_dtingr_meses'] != 'Năo informado') & (df['dif_dtcad_dtingr_meses'] != 'Incongruencia')]\n",
    "df_dif['dif_dtcad_dtingr_meses'] = df_dif['dif_dtcad_dtingr_meses'].astype('int')\n",
    "\n",
    "sns.set(style='whitegrid')\n",
    "ax = sns.boxplot(data=df_dif, x='dif_dtcad_dtingr_meses')"
   ]
  },
  {
   "cell_type": "code",
   "execution_count": 31,
   "metadata": {},
   "outputs": [
    {
     "data": {
      "text/plain": [
       "0    0\n",
       "dtype: int64"
      ]
     },
     "execution_count": 31,
     "metadata": {},
     "output_type": "execute_result"
    }
   ],
   "source": [
    "moda = df_dif['dif_dtcad_dtingr_meses'].mode()\n",
    "moda"
   ]
  },
  {
   "cell_type": "code",
   "execution_count": 32,
   "metadata": {},
   "outputs": [
    {
     "data": {
      "text/plain": [
       "29.13437444856185"
      ]
     },
     "execution_count": 32,
     "metadata": {},
     "output_type": "execute_result"
    }
   ],
   "source": [
    "media = df_dif['dif_dtcad_dtingr_meses'].mean()\n",
    "media"
   ]
  },
  {
   "cell_type": "code",
   "execution_count": 33,
   "metadata": {},
   "outputs": [
    {
     "data": {
      "text/plain": [
       "10.0"
      ]
     },
     "execution_count": 33,
     "metadata": {},
     "output_type": "execute_result"
    }
   ],
   "source": [
    "mediana = df_dif['dif_dtcad_dtingr_meses'].median()\n",
    "mediana"
   ]
  },
  {
   "cell_type": "code",
   "execution_count": 34,
   "metadata": {},
   "outputs": [
    {
     "data": {
      "text/html": [
       "<div>\n",
       "<style scoped>\n",
       "    .dataframe tbody tr th:only-of-type {\n",
       "        vertical-align: middle;\n",
       "    }\n",
       "\n",
       "    .dataframe tbody tr th {\n",
       "        vertical-align: top;\n",
       "    }\n",
       "\n",
       "    .dataframe thead th {\n",
       "        text-align: right;\n",
       "    }\n",
       "</style>\n",
       "<table border=\"1\" class=\"dataframe\">\n",
       "  <thead>\n",
       "    <tr style=\"text-align: right;\">\n",
       "      <th></th>\n",
       "      <th>dif_dtcad_dtingr_meses</th>\n",
       "      <th>ano_entrada</th>\n",
       "    </tr>\n",
       "  </thead>\n",
       "  <tbody>\n",
       "    <tr>\n",
       "      <th>count</th>\n",
       "      <td>11834.000000</td>\n",
       "      <td>11367.000000</td>\n",
       "    </tr>\n",
       "    <tr>\n",
       "      <th>mean</th>\n",
       "      <td>27.903414</td>\n",
       "      <td>2015.111551</td>\n",
       "    </tr>\n",
       "    <tr>\n",
       "      <th>std</th>\n",
       "      <td>61.489794</td>\n",
       "      <td>5.204819</td>\n",
       "    </tr>\n",
       "    <tr>\n",
       "      <th>min</th>\n",
       "      <td>0.000000</td>\n",
       "      <td>1934.000000</td>\n",
       "    </tr>\n",
       "    <tr>\n",
       "      <th>25%</th>\n",
       "      <td>0.000000</td>\n",
       "      <td>2015.000000</td>\n",
       "    </tr>\n",
       "    <tr>\n",
       "      <th>50%</th>\n",
       "      <td>8.000000</td>\n",
       "      <td>2016.000000</td>\n",
       "    </tr>\n",
       "    <tr>\n",
       "      <th>75%</th>\n",
       "      <td>34.000000</td>\n",
       "      <td>2017.000000</td>\n",
       "    </tr>\n",
       "    <tr>\n",
       "      <th>max</th>\n",
       "      <td>992.000000</td>\n",
       "      <td>2019.000000</td>\n",
       "    </tr>\n",
       "  </tbody>\n",
       "</table>\n",
       "</div>"
      ],
      "text/plain": [
       "       dif_dtcad_dtingr_meses   ano_entrada\n",
       "count            11834.000000  11367.000000\n",
       "mean                27.903414   2015.111551\n",
       "std                 61.489794      5.204819\n",
       "min                  0.000000   1934.000000\n",
       "25%                  0.000000   2015.000000\n",
       "50%                  8.000000   2016.000000\n",
       "75%                 34.000000   2017.000000\n",
       "max                992.000000   2019.000000"
      ]
     },
     "execution_count": 34,
     "metadata": {},
     "output_type": "execute_result"
    }
   ],
   "source": [
    "df.loc[df['dif_dtcad_dtingr_meses'] == 'Năo informado', 'dif_dtcad_dtingr_meses'] = '0'\n",
    "df.loc[df['dif_dtcad_dtingr_meses'] == 'Incongruencia', 'dif_dtcad_dtingr_meses'] = '0'\n",
    "\n",
    "df['dif_dtcad_dtingr_meses'] = df['dif_dtcad_dtingr_meses'].astype('int')\n",
    "df.describe()"
   ]
  },
  {
   "cell_type": "code",
   "execution_count": 35,
   "metadata": {},
   "outputs": [
    {
     "data": {
      "text/html": [
       "<div>\n",
       "<style scoped>\n",
       "    .dataframe tbody tr th:only-of-type {\n",
       "        vertical-align: middle;\n",
       "    }\n",
       "\n",
       "    .dataframe tbody tr th {\n",
       "        vertical-align: top;\n",
       "    }\n",
       "\n",
       "    .dataframe thead th {\n",
       "        text-align: right;\n",
       "    }\n",
       "</style>\n",
       "<table border=\"1\" class=\"dataframe\">\n",
       "  <thead>\n",
       "    <tr style=\"text-align: right;\">\n",
       "      <th></th>\n",
       "      <th>dif_dtcad_dtingr_meses</th>\n",
       "      <th>ano_entrada</th>\n",
       "    </tr>\n",
       "  </thead>\n",
       "  <tbody>\n",
       "    <tr>\n",
       "      <th>count</th>\n",
       "      <td>11334.000000</td>\n",
       "      <td>11334.000000</td>\n",
       "    </tr>\n",
       "    <tr>\n",
       "      <th>mean</th>\n",
       "      <td>29.134374</td>\n",
       "      <td>2015.106494</td>\n",
       "    </tr>\n",
       "    <tr>\n",
       "      <th>std</th>\n",
       "      <td>62.545518</td>\n",
       "      <td>5.211206</td>\n",
       "    </tr>\n",
       "    <tr>\n",
       "      <th>min</th>\n",
       "      <td>0.000000</td>\n",
       "      <td>1934.000000</td>\n",
       "    </tr>\n",
       "    <tr>\n",
       "      <th>25%</th>\n",
       "      <td>0.000000</td>\n",
       "      <td>2015.000000</td>\n",
       "    </tr>\n",
       "    <tr>\n",
       "      <th>50%</th>\n",
       "      <td>10.000000</td>\n",
       "      <td>2016.000000</td>\n",
       "    </tr>\n",
       "    <tr>\n",
       "      <th>75%</th>\n",
       "      <td>36.000000</td>\n",
       "      <td>2017.000000</td>\n",
       "    </tr>\n",
       "    <tr>\n",
       "      <th>max</th>\n",
       "      <td>992.000000</td>\n",
       "      <td>2019.000000</td>\n",
       "    </tr>\n",
       "  </tbody>\n",
       "</table>\n",
       "</div>"
      ],
      "text/plain": [
       "       dif_dtcad_dtingr_meses   ano_entrada\n",
       "count            11334.000000  11334.000000\n",
       "mean                29.134374   2015.106494\n",
       "std                 62.545518      5.211206\n",
       "min                  0.000000   1934.000000\n",
       "25%                  0.000000   2015.000000\n",
       "50%                 10.000000   2016.000000\n",
       "75%                 36.000000   2017.000000\n",
       "max                992.000000   2019.000000"
      ]
     },
     "execution_count": 35,
     "metadata": {},
     "output_type": "execute_result"
    }
   ],
   "source": [
    "df_dif.describe()"
   ]
  },
  {
   "cell_type": "markdown",
   "metadata": {},
   "source": [
    "<div class=\"alert alert-block alert-info\">\n",
    "    <h2>Data Profile</h2>\n",
    "</div>"
   ]
  },
  {
   "cell_type": "code",
   "execution_count": 36,
   "metadata": {},
   "outputs": [
    {
     "data": {
      "application/vnd.jupyter.widget-view+json": {
       "model_id": "fe94b23f6462481b80f8309881ad8491",
       "version_major": 2,
       "version_minor": 0
      },
      "text/plain": [
       "Tab(children=(HTML(value='<div id=\"overview-content\" class=\"row variable spacing\">\\n    <div class=\"row\">\\n   …"
      ]
     },
     "metadata": {},
     "output_type": "display_data"
    },
    {
     "data": {
      "text/html": [
       "Report generated with <a href=\"https://github.com/pandas-profiling/pandas-profiling\">pandas-profiling</a>."
      ],
      "text/plain": [
       "<IPython.core.display.HTML object>"
      ]
     },
     "metadata": {},
     "output_type": "display_data"
    },
    {
     "data": {
      "text/plain": []
     },
     "execution_count": 36,
     "metadata": {},
     "output_type": "execute_result"
    }
   ],
   "source": [
    "from pandas_profiling import ProfileReport\n",
    "\n",
    "df = pd.read_csv('bancocrai2014a2019.csv', sep=';', encoding='iso8859_2')\n",
    "\n",
    "profile = ProfileReport(df)\n",
    "profile"
   ]
  },
  {
   "cell_type": "code",
   "execution_count": 37,
   "metadata": {},
   "outputs": [],
   "source": [
    "profile.to_file(output_file=\"aula03_profile.html\")"
   ]
  }
 ],
 "metadata": {
  "kernelspec": {
   "display_name": "Python [conda env:aula03] *",
   "language": "python",
   "name": "conda-env-aula03-py"
  },
  "language_info": {
   "codemirror_mode": {
    "name": "ipython",
    "version": 3
   },
   "file_extension": ".py",
   "mimetype": "text/x-python",
   "name": "python",
   "nbconvert_exporter": "python",
   "pygments_lexer": "ipython3",
   "version": "3.6.10"
  }
 },
 "nbformat": 4,
 "nbformat_minor": 4
}
