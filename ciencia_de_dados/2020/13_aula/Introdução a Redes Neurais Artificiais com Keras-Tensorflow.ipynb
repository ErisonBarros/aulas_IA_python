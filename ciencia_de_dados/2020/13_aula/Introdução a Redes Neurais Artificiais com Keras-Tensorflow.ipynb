{
 "cells": [
  {
   "cell_type": "markdown",
   "metadata": {},
   "source": [
    "## Escola Livre de IA \n",
    "### Dia 04 de Agosto de 2020\n",
    "### Aula: Introdução a Redes Neurais com Keras/Tensorflow\n",
    "#### Professor: Diego Duarte Menescal\n",
    "\n",
    "#### Antes de começar, é necessário que o aluno tenha instalado o Python em seu computador.\n",
    "#### Minha recomendação é instalar via Anaconda (https://www.anaconda.com/products/individual)\n",
    "#### Depois disso, criar um Virtual Evironment segundo o Anaconda (conda create -n virtual_env)\n",
    "#### Instalar o Python recente (conda install python) , Jupyter Notebook (pip install notebook) e Tensorflow (pip install tensorflow)\n",
    "#### Abrir um terminal (prompt) que tenha o anaconda instalado. Windows Users = Anaconda Prompt\n",
    "#### Entrar no Virtual Env: conda activate virt_env\n",
    "#### Checar se o Python e Tensorflow foram instalados no Virtual Env: conda list\n",
    "#### Abrir o Jupyter Notebook: jupyter notebook\n",
    "## =========================="
   ]
  },
  {
   "cell_type": "markdown",
   "metadata": {},
   "source": [
    "### Nesta aula iremos apresentar como resolver um problema clássico de reconhecimento de dígitos numéricos utilizando dois modelos de redes neurais: O Perceptron de Múltiplas Camadas (MLP) e a Rede Neural Convolucional (CNN)\n",
    " \n",
    "### Ambas as arquiteturas são do tipo FeedForward. \n",
    "\n",
    "#### OBS: Caso vocês tenham interesse nas recorrentes, teremos uma aula sobre elas com maiores detalhes com o prof. Victor Venites!!\n",
    "\n",
    "### A base de dados se chama MNIST (http://yann.lecun.com/exdb/mnist/), e ela contém imagens de dígitos numéricos de 0 a 9 escritos manualmente!\n",
    "\n",
    "### Seu download pode ser feito utilizando a biblioteca do Keras-Tensorflow! Para quem deseja começar, o Keras já possui vários datasets para aprender e testar! (https://keras.io/api/datasets/)"
   ]
  },
  {
   "cell_type": "code",
   "execution_count": 2,
   "metadata": {},
   "outputs": [],
   "source": [
    "import numpy as np\n",
    "import tensorflow as tf\n",
    "from tensorflow import keras\n",
    "\n",
    "# Utilizando a biblioteca do Keras para importar o dataset MNIST\n",
    "from keras.datasets import mnist"
   ]
  },
  {
   "cell_type": "markdown",
   "metadata": {},
   "source": [
    "### Aqui podemos extrair as bases de Treino e Teste! Vamos aproveitar e visualizar como é a base de dados:"
   ]
  },
  {
   "cell_type": "code",
   "execution_count": 44,
   "metadata": {},
   "outputs": [],
   "source": [
    "(x_train, y_train), (x_test, y_test) = mnist.load_data()"
   ]
  },
  {
   "cell_type": "code",
   "execution_count": 26,
   "metadata": {},
   "outputs": [
    {
     "data": {
      "text/plain": [
       "array([[  0,   0,   0,   0,   0,   0,   0,   0,   0,   0,   0,   0,   0,\n",
       "          0,   0,   0,   0,   0,   0,   0,   0,   0,   0,   0,   0,   0,\n",
       "          0,   0],\n",
       "       [  0,   0,   0,   0,   0,   0,   0,   0,   0,   0,   0,   0,   0,\n",
       "          0,   0,   0,   0,   0,   0,   0,   0,   0,   0,   0,   0,   0,\n",
       "          0,   0],\n",
       "       [  0,   0,   0,   0,   0,   0,   0,   0,   0,   0,   0,   0,   0,\n",
       "          0,   0,   0,   0,   0,   0,   0,   0,   0,   0,   0,   0,   0,\n",
       "          0,   0],\n",
       "       [  0,   0,   0,   0,   0,   0,   0,   0,   0,   0,   0,   0,   0,\n",
       "          0,   0,   0,   0,   0,   0,   0,   0,   0,   0,   0,   0,   0,\n",
       "          0,   0],\n",
       "       [  0,   0,   0,   0,   0,   0,   0,   0,   0,   0,   0,   0,   0,\n",
       "          0,   0,   0,   0,   0,   0,   0,   0,   0,   0,   0,   0,   0,\n",
       "          0,   0],\n",
       "       [  0,   0,   0,   0,   0,   0,   0,   0,   0,   0,   0,   0,   3,\n",
       "         18,  18,  18, 126, 136, 175,  26, 166, 255, 247, 127,   0,   0,\n",
       "          0,   0],\n",
       "       [  0,   0,   0,   0,   0,   0,   0,   0,  30,  36,  94, 154, 170,\n",
       "        253, 253, 253, 253, 253, 225, 172, 253, 242, 195,  64,   0,   0,\n",
       "          0,   0],\n",
       "       [  0,   0,   0,   0,   0,   0,   0,  49, 238, 253, 253, 253, 253,\n",
       "        253, 253, 253, 253, 251,  93,  82,  82,  56,  39,   0,   0,   0,\n",
       "          0,   0],\n",
       "       [  0,   0,   0,   0,   0,   0,   0,  18, 219, 253, 253, 253, 253,\n",
       "        253, 198, 182, 247, 241,   0,   0,   0,   0,   0,   0,   0,   0,\n",
       "          0,   0],\n",
       "       [  0,   0,   0,   0,   0,   0,   0,   0,  80, 156, 107, 253, 253,\n",
       "        205,  11,   0,  43, 154,   0,   0,   0,   0,   0,   0,   0,   0,\n",
       "          0,   0],\n",
       "       [  0,   0,   0,   0,   0,   0,   0,   0,   0,  14,   1, 154, 253,\n",
       "         90,   0,   0,   0,   0,   0,   0,   0,   0,   0,   0,   0,   0,\n",
       "          0,   0],\n",
       "       [  0,   0,   0,   0,   0,   0,   0,   0,   0,   0,   0, 139, 253,\n",
       "        190,   2,   0,   0,   0,   0,   0,   0,   0,   0,   0,   0,   0,\n",
       "          0,   0],\n",
       "       [  0,   0,   0,   0,   0,   0,   0,   0,   0,   0,   0,  11, 190,\n",
       "        253,  70,   0,   0,   0,   0,   0,   0,   0,   0,   0,   0,   0,\n",
       "          0,   0],\n",
       "       [  0,   0,   0,   0,   0,   0,   0,   0,   0,   0,   0,   0,  35,\n",
       "        241, 225, 160, 108,   1,   0,   0,   0,   0,   0,   0,   0,   0,\n",
       "          0,   0],\n",
       "       [  0,   0,   0,   0,   0,   0,   0,   0,   0,   0,   0,   0,   0,\n",
       "         81, 240, 253, 253, 119,  25,   0,   0,   0,   0,   0,   0,   0,\n",
       "          0,   0],\n",
       "       [  0,   0,   0,   0,   0,   0,   0,   0,   0,   0,   0,   0,   0,\n",
       "          0,  45, 186, 253, 253, 150,  27,   0,   0,   0,   0,   0,   0,\n",
       "          0,   0],\n",
       "       [  0,   0,   0,   0,   0,   0,   0,   0,   0,   0,   0,   0,   0,\n",
       "          0,   0,  16,  93, 252, 253, 187,   0,   0,   0,   0,   0,   0,\n",
       "          0,   0],\n",
       "       [  0,   0,   0,   0,   0,   0,   0,   0,   0,   0,   0,   0,   0,\n",
       "          0,   0,   0,   0, 249, 253, 249,  64,   0,   0,   0,   0,   0,\n",
       "          0,   0],\n",
       "       [  0,   0,   0,   0,   0,   0,   0,   0,   0,   0,   0,   0,   0,\n",
       "          0,  46, 130, 183, 253, 253, 207,   2,   0,   0,   0,   0,   0,\n",
       "          0,   0],\n",
       "       [  0,   0,   0,   0,   0,   0,   0,   0,   0,   0,   0,   0,  39,\n",
       "        148, 229, 253, 253, 253, 250, 182,   0,   0,   0,   0,   0,   0,\n",
       "          0,   0],\n",
       "       [  0,   0,   0,   0,   0,   0,   0,   0,   0,   0,  24, 114, 221,\n",
       "        253, 253, 253, 253, 201,  78,   0,   0,   0,   0,   0,   0,   0,\n",
       "          0,   0],\n",
       "       [  0,   0,   0,   0,   0,   0,   0,   0,  23,  66, 213, 253, 253,\n",
       "        253, 253, 198,  81,   2,   0,   0,   0,   0,   0,   0,   0,   0,\n",
       "          0,   0],\n",
       "       [  0,   0,   0,   0,   0,   0,  18, 171, 219, 253, 253, 253, 253,\n",
       "        195,  80,   9,   0,   0,   0,   0,   0,   0,   0,   0,   0,   0,\n",
       "          0,   0],\n",
       "       [  0,   0,   0,   0,  55, 172, 226, 253, 253, 253, 253, 244, 133,\n",
       "         11,   0,   0,   0,   0,   0,   0,   0,   0,   0,   0,   0,   0,\n",
       "          0,   0],\n",
       "       [  0,   0,   0,   0, 136, 253, 253, 253, 212, 135, 132,  16,   0,\n",
       "          0,   0,   0,   0,   0,   0,   0,   0,   0,   0,   0,   0,   0,\n",
       "          0,   0],\n",
       "       [  0,   0,   0,   0,   0,   0,   0,   0,   0,   0,   0,   0,   0,\n",
       "          0,   0,   0,   0,   0,   0,   0,   0,   0,   0,   0,   0,   0,\n",
       "          0,   0],\n",
       "       [  0,   0,   0,   0,   0,   0,   0,   0,   0,   0,   0,   0,   0,\n",
       "          0,   0,   0,   0,   0,   0,   0,   0,   0,   0,   0,   0,   0,\n",
       "          0,   0],\n",
       "       [  0,   0,   0,   0,   0,   0,   0,   0,   0,   0,   0,   0,   0,\n",
       "          0,   0,   0,   0,   0,   0,   0,   0,   0,   0,   0,   0,   0,\n",
       "          0,   0]], dtype=uint8)"
      ]
     },
     "execution_count": 26,
     "metadata": {},
     "output_type": "execute_result"
    }
   ],
   "source": [
    "x_train[0]"
   ]
  },
  {
   "cell_type": "code",
   "execution_count": 29,
   "metadata": {
    "scrolled": false
   },
   "outputs": [
    {
     "data": {
      "image/png": "[encoded data removed]",
      "text/plain": [
       "<Figure size 864x360 with 14 Axes>"
      ]
     },
     "metadata": {
      "needs_background": "light"
     },
     "output_type": "display_data"
    }
   ],
   "source": [
    "from matplotlib import pyplot as plt\n",
    "np.random.seed(123)\n",
    "\n",
    "rand_14 = np.random.randint(0, x_train.shape[0],14)\n",
    "sample_digits = x_train[rand_14]\n",
    "sample_labels = y_train[rand_14]\n",
    "# code to view the images\n",
    "num_rows, num_cols = 2, 7\n",
    "f, ax = plt.subplots(num_rows, num_cols, figsize=(12,5),\n",
    "                     gridspec_kw={'wspace':0.03, 'hspace':0.01}, \n",
    "                     squeeze=True)\n",
    "\n",
    "for r in range(num_rows):\n",
    "    for c in range(num_cols):\n",
    "        image_index = r * 7 + c\n",
    "        ax[r,c].axis(\"off\")\n",
    "        ax[r,c].imshow(sample_digits[image_index], cmap='gray')\n",
    "        ax[r,c].set_title('No. %d' % sample_labels[image_index])\n",
    "plt.show()\n",
    "plt.close()"
   ]
  },
  {
   "cell_type": "markdown",
   "metadata": {},
   "source": [
    "### Podemos reparar que as amostras de cada imagem que constitui o dataset possui um formato bem definido:\n",
    "### (x, y) > (28,28) = 28 x 28 pixels\n",
    "### Além disso, cada pixel possui um valor que representa sua intensidade de cor (RGB) que varia entre 0 e 255."
   ]
  },
  {
   "cell_type": "markdown",
   "metadata": {},
   "source": [
    "### Agora vamos as definições das Arquiteturas:\n",
    "### 1) MLP (Multi-Layer Perceptron):\n",
    "#### Essa arquitetura possui 3 grandes camadas: Entrada, Oculta, Saída\n",
    "#### Na Entrada, temos as imagens representadas acima. Um detalhe sobre as MLPs, é que o formato da entrada sempre é um tensor unidimensional. Portanto, uma imagem que é um tensor bidimensional será \"vetorizado\". Guarde bem essa condição!\n",
    "#### Na Saída, temos um formato com 10 posições para classificar cada dígito em cada posição (Posição 0 = Dígito 0). Sendo assim, se uma entrada for o dígito 4 por exemplo, a posição 3 terá como valor ideal de 1 (100%), enquanto que os outros serão 0 (0%).\n",
    "#### Já a camada Oculta será constituida dos Perceptrons fazendo todo o trabalho para aprender sobre essa base de dados. Cada camada Oculta (podem ser várias) possui a mesma função de ativação (sigmóide, limiar, afim, etc...) e um número de neurônios por camada.\n",
    "### 1.1) Função Erro/Custo/Objetivo:\n",
    "#### A escolha dessa função vai auxiliar no processo de Otimização Não-Linear Irrestrita, pois será ela que iremos otimizar no final de contas!!!\n",
    "#### Pensando assim pode até parecer simples, mas toda a arquitetura da rede neural também é uma função, logo o resultado final é bastante complexo de se representar. \n",
    "### 1.2) Algoritmo de Aprendizagem/Otimização:\n",
    "#### Após escolher a funcão Erro, precisamos escolhero algoritmo que vai otimizar os parâmetros da função erro, que por sua vez, calibram a RNA.\n",
    "#### Aqui, o algoritmo segue um comportamento padrão: atualizações iterativas dos pesos sinápticos em função do erro.\n",
    "#### A cada passo dado, o ajuste pode aumentar ou diminuir conforme os ajustes."
   ]
  },
  {
   "cell_type": "code",
   "execution_count": 30,
   "metadata": {},
   "outputs": [],
   "source": [
    "# Estilo de montagem do modelo de RNA Sequencial: quando criamos um modelo no Keras, ele possui um método chamado .Add()\n",
    "# Logo o modelo vai juntando as camadas na sequencia das chamadas do método Add(). Considero ele mais intuitivo e mais fácil de\n",
    "# trabalhar no dia a dia\n",
    "from keras.models import Sequential\n",
    "\n",
    "# Pacote do Keras das Camadas Ocultas: MLP. Ela se chama Dense pois tudo que é Entrada é conectada a todos os neurônios,\n",
    "# tornando uma camada 100% conectada (também chamada de Fully Connected Layer - FC)\n",
    "from keras.layers import Dense\n",
    "\n",
    "# Pacote necessário para formatar a camada de saída do jeito descrito acima\n",
    "from keras.utils import to_categorical"
   ]
  },
  {
   "cell_type": "markdown",
   "metadata": {},
   "source": [
    "### Pré-processamento da Imagem\n",
    "#### Aqui precisamos preparar a Entrada para funcionar corretamente na MLP. Caso isso não seja feito, resultados inesperados podem acontecer (assunto para outra aula mais específica...). Por isso, aqui é Regra: Normalização, Formatação devem ser feitas!\n",
    "### 1) Formato e Cor\n",
    "#### Como havíamos dito, o formato da entrada deve ser unidimensional.\n",
    "#### Por fim, o valor da Cor (0 a 255) precisa ser convertido para um intervalo menor, de 0 a 1. "
   ]
  },
  {
   "cell_type": "code",
   "execution_count": 45,
   "metadata": {},
   "outputs": [],
   "source": [
    "# Tamanho do vetor de entrada\n",
    "tamanho_vetor_entrada = 28*28\n",
    "\n",
    "# Vetorização\n",
    "x_train = x_train.reshape(x_train.shape[0], tamanho_vetor_entrada)\n",
    "x_test = x_test.reshape(x_test.shape[0], tamanho_vetor_entrada)\n",
    "\n",
    "# Normalização\n",
    "# Fase 1: Conversão de RGB para Escala de Cinza (GreyScale)\n",
    "x_train = x_train.astype('float32')\n",
    "x_test = x_test.astype('float32')\n",
    "\n",
    "# Fase 2: Normalização Max-Min: (0-255) para (0-1)\n",
    "x_train /= 255\n",
    "x_test /= 255\n",
    "\n",
    "# Criação do Formato da Saída do modelo utilizando o Keras:\n",
    "# São 10 possíveis saídas, representadas por 10 posições\n",
    "# Valor 1 se for a saída certa, 0 senão\n",
    "# Isso se chama Categorização da Saída\n",
    "numero_classes = 10 #Cada classe é um digíto\n",
    "y_train = to_categorical(y_train, numero_classes)\n",
    "y_test = to_categorical(y_test, numero_classes)"
   ]
  },
  {
   "cell_type": "code",
   "execution_count": 55,
   "metadata": {},
   "outputs": [
    {
     "name": "stdout",
     "output_type": "stream",
     "text": [
      "Model: \"sequential_6\"\n",
      "_________________________________________________________________\n",
      "Layer (type)                 Output Shape              Param #   \n",
      "=================================================================\n",
      "dense_12 (Dense)             (None, 512)               401920    \n",
      "_________________________________________________________________\n",
      "dense_13 (Dense)             (None, 512)               262656    \n",
      "_________________________________________________________________\n",
      "dense_14 (Dense)             (None, 10)                5130      \n",
      "=================================================================\n",
      "Total params: 669,706\n",
      "Trainable params: 669,706\n",
      "Non-trainable params: 0\n",
      "_________________________________________________________________\n"
     ]
    }
   ],
   "source": [
    "# Criação do Modelo MLP\n",
    "mlp = Sequential()\n",
    "\n",
    "# Conexão da Camada de Entrada (input_shape) com a Primeira Camada Escondida.Função de Ativação Sigmóide.\n",
    "mlp.add(Dense(512, \n",
    "              input_shape=(tamanho_vetor_entrada,), # Tamanho do vetor: 28x28 = 764 posições\n",
    "              activation='sigmoid'))\n",
    "\n",
    "# Segunda camada Oculta. Como ela se conecta com outra camada Oculta, não precisa passar o tamanho.\n",
    "mlp.add(Dense(512, activation='sigmoid'))\n",
    "\n",
    "# Camada de Saída. Sua função de Ativação é adequada para um problema de classificação como este.\n",
    "# Como temos uma saída em formato categórico, essa função é recomendada.\n",
    "mlp.add(Dense(numero_classes, activation='softmax'))\n",
    "\n",
    "mlp.summary()"
   ]
  },
  {
   "cell_type": "code",
   "execution_count": 57,
   "metadata": {
    "scrolled": true
   },
   "outputs": [
    {
     "name": "stdout",
     "output_type": "stream",
     "text": [
      "Epoch 1/20\n",
      "469/469 [==============================] - 5s 10ms/step - loss: 2.2660 - accuracy: 0.2131 - val_loss: 2.2248 - val_accuracy: 0.3499\n",
      "Epoch 2/20\n",
      "469/469 [==============================] - 4s 9ms/step - loss: 2.1830 - accuracy: 0.4068 - val_loss: 2.1302 - val_accuracy: 0.6736\n",
      "Epoch 3/20\n",
      "469/469 [==============================] - 5s 10ms/step - loss: 2.0727 - accuracy: 0.5439 - val_loss: 1.9950 - val_accuracy: 0.6439\n",
      "Epoch 4/20\n",
      "469/469 [==============================] - 5s 10ms/step - loss: 1.9102 - accuracy: 0.6240 - val_loss: 1.7972 - val_accuracy: 0.6541\n",
      "Epoch 5/20\n",
      "469/469 [==============================] - 5s 10ms/step - loss: 1.6848 - accuracy: 0.6712 - val_loss: 1.5452 - val_accuracy: 0.7134\n",
      "Epoch 6/20\n",
      "469/469 [==============================] - 4s 9ms/step - loss: 1.4316 - accuracy: 0.7143 - val_loss: 1.2952 - val_accuracy: 0.7366\n",
      "Epoch 7/20\n",
      "469/469 [==============================] - 4s 9ms/step - loss: 1.2055 - accuracy: 0.7466 - val_loss: 1.0969 - val_accuracy: 0.7652\n",
      "Epoch 8/20\n",
      "469/469 [==============================] - 4s 9ms/step - loss: 1.0316 - accuracy: 0.7737 - val_loss: 0.9455 - val_accuracy: 0.7948\n",
      "Epoch 9/20\n",
      "469/469 [==============================] - 5s 10ms/step - loss: 0.9040 - accuracy: 0.7929 - val_loss: 0.8358 - val_accuracy: 0.8102\n",
      "Epoch 10/20\n",
      "469/469 [==============================] - 5s 10ms/step - loss: 0.8090 - accuracy: 0.8091 - val_loss: 0.7545 - val_accuracy: 0.8215\n",
      "Epoch 11/20\n",
      "469/469 [==============================] - 5s 10ms/step - loss: 0.7366 - accuracy: 0.8220 - val_loss: 0.6904 - val_accuracy: 0.8316\n",
      "Epoch 12/20\n",
      "469/469 [==============================] - 5s 10ms/step - loss: 0.6799 - accuracy: 0.8321 - val_loss: 0.6397 - val_accuracy: 0.8402\n",
      "Epoch 13/20\n",
      "469/469 [==============================] - 5s 10ms/step - loss: 0.6341 - accuracy: 0.8407 - val_loss: 0.5973 - val_accuracy: 0.8520\n",
      "Epoch 14/20\n",
      "469/469 [==============================] - 5s 10ms/step - loss: 0.5966 - accuracy: 0.8476 - val_loss: 0.5642 - val_accuracy: 0.8565\n",
      "Epoch 15/20\n",
      "469/469 [==============================] - 5s 10ms/step - loss: 0.5659 - accuracy: 0.8540 - val_loss: 0.5357 - val_accuracy: 0.8616\n",
      "Epoch 16/20\n",
      "469/469 [==============================] - 5s 10ms/step - loss: 0.5399 - accuracy: 0.8584 - val_loss: 0.5127 - val_accuracy: 0.8666\n",
      "Epoch 17/20\n",
      "469/469 [==============================] - 5s 10ms/step - loss: 0.5178 - accuracy: 0.8634 - val_loss: 0.4933 - val_accuracy: 0.8694\n",
      "Epoch 18/20\n",
      "469/469 [==============================] - 5s 10ms/step - loss: 0.4989 - accuracy: 0.8672 - val_loss: 0.4737 - val_accuracy: 0.8739\n",
      "Epoch 19/20\n",
      "469/469 [==============================] - 5s 10ms/step - loss: 0.4824 - accuracy: 0.8703 - val_loss: 0.4592 - val_accuracy: 0.8779\n",
      "Epoch 20/20\n",
      "469/469 [==============================] - 5s 10ms/step - loss: 0.4683 - accuracy: 0.8736 - val_loss: 0.4451 - val_accuracy: 0.8796\n"
     ]
    }
   ],
   "source": [
    "# Definições da função Erro, Otimização e Parâmetros de Treinamento\n",
    "mlp.compile(loss='categorical_crossentropy', # Função Erro mais adequada para \n",
    "              optimizer='SGD', \n",
    "              metrics=['accuracy'])\n",
    "\n",
    "history = mlp.fit(x_train, y_train,\n",
    "                    batch_size=128, # Bloco do Dataset a ser treinado por iteração\n",
    "                    epochs=20, # Quantas vezes o treinamento varre o Dataset completamente\n",
    "                    verbose=1,\n",
    "                    validation_data=(x_test, y_test))"
   ]
  },
  {
   "cell_type": "code",
   "execution_count": 58,
   "metadata": {},
   "outputs": [
    {
     "data": {
      "image/png": "[encoded data removed]",
      "text/plain": [
       "<Figure size 432x288 with 1 Axes>"
      ]
     },
     "metadata": {
      "needs_background": "light"
     },
     "output_type": "display_data"
    },
    {
     "data": {
      "image/png": "[encoded data removed]",
      "text/plain": [
       "<Figure size 432x288 with 1 Axes>"
      ]
     },
     "metadata": {
      "needs_background": "light"
     },
     "output_type": "display_data"
    }
   ],
   "source": [
    "#  \"Accuracy\"\n",
    "plt.plot(history.history['accuracy'])\n",
    "plt.plot(history.history['val_accuracy'])\n",
    "plt.title('model accuracy')\n",
    "plt.ylabel('accuracy')\n",
    "plt.xlabel('epoch')\n",
    "plt.legend(['train', 'validation'], loc='upper left')\n",
    "plt.show()\n",
    "# \"Loss\"\n",
    "plt.plot(history.history['loss'])\n",
    "plt.plot(history.history['val_loss'])\n",
    "plt.title('model loss')\n",
    "plt.ylabel('loss')\n",
    "plt.xlabel('epoch')\n",
    "plt.legend(['train', 'validation'], loc='upper left')\n",
    "plt.show()"
   ]
  },
  {
   "cell_type": "code",
   "execution_count": 60,
   "metadata": {
    "scrolled": true
   },
   "outputs": [
    {
     "name": "stdout",
     "output_type": "stream",
     "text": [
      "313/313 [==============================] - 1s 2ms/step - loss: 0.4451 - accuracy: 0.8796\n",
      "Test results - Loss: 0.44513025879859924 - Accuracy: 87.95999884605408%\n"
     ]
    }
   ],
   "source": [
    "# Test the model after training\n",
    "test_results = mlp.evaluate(x_test, y_test, verbose=1)\n",
    "print(f'Test results - Loss: {test_results[0]} - Accuracy: {100*test_results[1]}%')"
   ]
  },
  {
   "cell_type": "markdown",
   "metadata": {},
   "source": [
    "### Segundo modelo: CNN\n",
    "#### Este modelo de RNA, ao contrário da MLP, possui uma característica muito especial: Ela possui camadas de extração de características ocultas nas imagens! Essas camadas se chamam de Convolucionais.\n",
    "#### Outro ponto a se falar sobre a Convolução é o uso de filtros, também chamados de Kernel. Eles possuem uma dimensão menor que a entrada e servem para \"iluminar\" a área da imagem que eu quero extrair possíveis características. Podemos pensar numa máscara também, para ajudar no entendimento.\n",
    "#### Sua arquitetura se resume numa sequencia inicial de convoluções, também chamada de extração de características (\"Feature Extraction\"), seguida de uma MLP. \n",
    "#### Ora essa, então no final das contas, tudo que for extraído nas convoluções será vetorizado mais a frente? Isso mesmo!!!\n",
    "#### Mas uma imensa diferença existe aqui comparada com uma MLP pura: a CNN preserva e busca aprender as RELAÇÕES ESPACIAIS contidas na imagem. Curvas, contornos, contrastes e outras características serão tratadas como informação importante para ser aprendida. Na MLP, a vetorização direta da imagem elimina essas relações espaciais. \n",
    "#### Mesmo que ambos os modelos performem bem (alta acurácia, baixo erro), cada uma tem o seu escopo de aplicação.\n",
    "#### MLPs : Previsão de números. Ele é um super modelo de regressão numérica. \n",
    "#### CNNs: Reconhecimento de padrões em dados multi-dimensionais.\n",
    "### Sendo assim, vamos refazer nosso modelo Keras! Agora mais rápido!"
   ]
  },
  {
   "cell_type": "code",
   "execution_count": 64,
   "metadata": {
    "scrolled": true
   },
   "outputs": [
    {
     "name": "stdout",
     "output_type": "stream",
     "text": [
      "Model: \"sequential_10\"\n",
      "_________________________________________________________________\n",
      "Layer (type)                 Output Shape              Param #   \n",
      "=================================================================\n",
      "conv2d_5 (Conv2D)            (None, 26, 26, 64)        640       \n",
      "_________________________________________________________________\n",
      "conv2d_6 (Conv2D)            (None, 24, 24, 32)        18464     \n",
      "_________________________________________________________________\n",
      "flatten_2 (Flatten)          (None, 18432)             0         \n",
      "_________________________________________________________________\n",
      "dense_17 (Dense)             (None, 10)                184330    \n",
      "=================================================================\n",
      "Total params: 203,434\n",
      "Trainable params: 203,434\n",
      "Non-trainable params: 0\n",
      "_________________________________________________________________\n"
     ]
    }
   ],
   "source": [
    "from keras.layers import Dense, Conv2D, Flatten\n",
    "dimensao_imagem = 28\n",
    "dimensao_filtro_convolucao = 3\n",
    "\n",
    "cnn = Sequential()\n",
    "cnn.add(Conv2D(64, kernel_size=dimensao_filtro_convolucao, \n",
    "               activation='sigmoid', \n",
    "               input_shape=(dimensao_imagem,dimensao_imagem,1))) # Tamanho da entrada: 28 por 28 por 1 (canal de cor)\n",
    "cnn.add(Conv2D(32, kernel_size=dimensao_filtro_convolucao, activation='sigmoid'))\n",
    "\n",
    "# Camada que vetoriza todas as características extraídas\n",
    "cnn.add(Flatten())\n",
    "cnn.add(Dense(numero_classes, activation='softmax'))\n",
    "cnn.summary()"
   ]
  },
  {
   "cell_type": "code",
   "execution_count": null,
   "metadata": {},
   "outputs": [],
   "source": [
    "# Definições da função Erro, Otimização e Parâmetros de Treinamento\n",
    "cnn.compile(loss='categorical_crossentropy', # Função Erro mais adequada para \n",
    "              optimizer='SGD', \n",
    "              metrics=['accuracy'])\n",
    "\n",
    "history = cnn.fit(x_train, y_train,\n",
    "                    batch_size=128, # Bloco do Dataset a ser treinado por iteração\n",
    "                    epochs=20, # Quantas vezes o treinamento varre o Dataset completamente\n",
    "                    verbose=1,\n",
    "                    validation_data=(x_test, y_test))"
   ]
  },
  {
   "cell_type": "code",
   "execution_count": null,
   "metadata": {},
   "outputs": [],
   "source": [
    "#  \"Accuracy\"\n",
    "plt.plot(history.history['accuracy'])\n",
    "plt.plot(history.history['val_accuracy'])\n",
    "plt.title('model accuracy')\n",
    "plt.ylabel('accuracy')\n",
    "plt.xlabel('epoch')\n",
    "plt.legend(['train', 'validation'], loc='upper left')\n",
    "plt.show()\n",
    "# \"Loss\"\n",
    "plt.plot(history.history['loss'])\n",
    "plt.plot(history.history['val_loss'])\n",
    "plt.title('model loss')\n",
    "plt.ylabel('loss')\n",
    "plt.xlabel('epoch')\n",
    "plt.legend(['train', 'validation'], loc='upper left')\n",
    "plt.show()\n",
    "\n",
    "# Test the model after training\n",
    "test_results = mlp.evaluate(x_test, y_test, verbose=1)\n",
    "print(f'Test results - Loss: {test_results[0]} - Accuracy: {100*test_results[1]}%')"
   ]
  },
  {
   "cell_type": "markdown",
   "metadata": {},
   "source": [
    "# Muito Obrigado a Todos! Espero que tenham gostado!\n",
    "## Segue o meu contato para dúvidas, conversas e recomendações:\n",
    "### Email: dmenescal@outlook.com\n",
    "### Telefone(zap): 0 11 998681314\n",
    "### Linkedin: https://www.linkedin.com/in/diegomenescal/\n",
    "### Canal - Youtube: Doutor IA"
   ]
  }
 ],
 "metadata": {
  "kernelspec": {
   "display_name": "Python 3",
   "language": "python",
   "name": "python3"
  },
  "language_info": {
   "codemirror_mode": {
    "name": "ipython",
    "version": 3
   },
   "file_extension": ".py",
   "mimetype": "text/x-python",
   "name": "python",
   "nbconvert_exporter": "python",
   "pygments_lexer": "ipython3",
   "version": "3.7.4"
  }
 },
 "nbformat": 4,
 "nbformat_minor": 4
}
