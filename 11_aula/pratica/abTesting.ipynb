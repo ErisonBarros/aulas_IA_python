{
 "cells": [
  {
   "cell_type": "markdown",
   "metadata": {},
   "source": [
    "<br>\n",
    "<img src=\"img/EscolaLivreIA.png\" width=\"850\" aling=central/>\n",
    "<br>"
   ]
  },
  {
   "cell_type": "markdown",
   "metadata": {},
   "source": [
    "# Aula: Teste de Hipóteses e Teorema de Bayes\n",
    "\n",
    "Nesta aula iremos:\n",
    "\n",
    "1. Abordar conceitos básicos de Estatítica\n",
    "2. Apresentar o Teste de Hipóteses na teoria e na prática\n",
    "3. Classificação com Naive Bayes (teste A/B Bayesiano)\n",
    "4. Abordar o Teorema de Bayes e um exemplo prático de Classificação (wine)\n",
    "5. Recomendação para praticar o Naive Bayes (Kaggle)\n",
    "\n",
    "---------------"
   ]
  },
  {
   "cell_type": "markdown",
   "metadata": {},
   "source": [
    "# 1. Estatística: Conceitos básicos\n",
    "\n",
    "- **Viés**: Viés ou erro sistemático é a distorção sistemática entre a medida de uma variável estatística e o valor real da grandeza a estimar. A introdução de um viés no cálculo estatístico pode estar ligada quer a imperfeição ou deformação da amostra (estatística) que serve de base para a estimativa, quer ao próprio método de avaliação. Estudaremos **viés** na aula de **Inferência 2**.\n",
    "\n",
    "- **Intervalos de confiança**:  Intervalo de confiança (IC) é um tipo de estimativa por intervalo de um parâmetro populacional desconhecido.\n",
    "\n",
    "- **Testes de hipóteses**: ou teste de significância é um procedimento estatístico que permite tomar uma decisão (aceitar ou rejeitar a hipótese).\n",
    "\n",
    "Vamos então aprofundar agora os conceitos de **intervalo de confiança** e **teste de hipótese**, e deixar viés para a próxima aula.\n",
    "\n",
    "- **Curva Normal:**\n",
    "\n",
    "Distribuição De-Moivre-Laplace-Gauss\n",
    "\n",
    "Nos séculos dezoito e dezenove, alguns matemáticos e físicos desenvolveram uma função densidade de probabilidade que descrevia os erros experimentais obtidos em medidas físicas _Caire_, 2012. De certa forma todo e qualquer processo de mensuração está sujeito a um erro de medida. Esse erro pode ter diferentes fontes, desde a variação de tempertura, tempo, entre inúmeras outras características não identificáveis. Essa função densidade de probabilidade é curva conhecida como distribuição normal ou gaussina.\n",
    "\n",
    "A grande utilidade dessa distribuição está associada ao fato de que aproxima de forma bastante satisfatória as curvas de frequências de medidas físicas.\n",
    "\n",
    "<br>\n",
    "<img src=\"img/normal.png\" width=\"550\" />\n",
    "<br>\n",
    "\n",
    "- **Desvio-Padrão:**\n",
    "\n",
    "O desvio-padrão é uma formulação empírica para cálculo do padrão de desvio da série de dados. Para uma população, temos interesse em calcular o padrão de desvio da série com todos os valores observados deste população, através da raiz quadrada do quadrado da diferença entre cada observação e o valor médio. Para uma amostra, por definição, o desvio-padrão deve ser dividido pela razão do número de observações menos um, devido ao número dos graus de liberdade."
   ]
  },
  {
   "cell_type": "markdown",
   "metadata": {},
   "source": [
    "------------------\n",
    "\n",
    "# 2. Teste de Hipóteses\n",
    "\n",
    "## Parte Teórica\n",
    "\n",
    "Teste de hipóteses, teste estatístico ou teste de significância é um procedimento estatístico que permite tomar uma decisão (aceitar ou rejeitar a hipótese nula ${H_0}$ entre duas ou mais hipóteses (geralmente adota-se hipótese nula ${H_0}$ e hipótese alternativa ${H_1}$), utilizando os dados observados de um determinado experimento. Há diversos métodos para realizar o teste de hipóteses, que incluem Fisher (teste de significância), o método de Neyman–Pearson, método de Bayes, e o método t-Student.\n",
    "\n",
    "Por meio da teoria da probabilidade, é possível inferir sobre quantidades de interesse de uma população a partir de uma amostra observada de um experimento científico. Por exemplo, estimar pontualmente e de forma intervalar um parâmetro de interesse, testar se uma determinada teoria científica deve ser descartada, verificar se um lote de remédios deve ser devolvido por falta de qualidade, entre outros. Por meio do rigor matemático, a inferência estatística pode ser utilizada para auxiliar a tomada de decisões nas mais variadas áreas."
   ]
  },
  {
   "cell_type": "markdown",
   "metadata": {},
   "source": [
    "<br>\n",
    "<img src=\"img/aceitacao.png\" width=\"450\" />\n",
    "<br>\n",
    "\n",
    "Portanto, para um teste de hipóteses teremos geralmente:\n",
    "\n",
    "- Hipótese nula ${H_0}$: é a hipótese assumida como verdadeira para a construção do teste. É a teoria, o efeito ou a alternativa que se está interessado em testar e **não rejeitar**.\n",
    "\n",
    "- Hipótese alternativa ${H_1}$: é considerada quando a hipótese nula não tem evidência estatística."
   ]
  },
  {
   "cell_type": "markdown",
   "metadata": {},
   "source": [
    "## Teste de Hipótese Exemplo_1: Companhia aérea\n",
    "\n",
    "Em uma companhia aérea temos um vôo com 368 assentos, com um número de passagens vendidas de n=400. Sendo que a probabilidade de no-show é de 10%, e o custo de um passageiro excedente é de 1.000,00 Reais, com $ 0.95 $ de confiança, qual é a exposição financeira total da empresa aérea?"
   ]
  },
  {
   "cell_type": "code",
   "execution_count": 1,
   "metadata": {},
   "outputs": [
    {
     "name": "stdout",
     "output_type": "stream",
     "text": [
      "média = 360.0\n",
      "desvio-padrão = 6.0\n",
      "Intervalo de confiança: 348.0 <--> 372.0\n",
      "Risco financeiro total = 4000.0\n"
     ]
    }
   ],
   "source": [
    "# identificando os dados\n",
    "n=400 # número de passagens vendidas\n",
    "p=0.1 # probabilidade de no show\n",
    "risco_p_passageiro = 1000\n",
    "assentos=368 # No. de assentos do avião\n",
    "\n",
    "# Calculando a média:\n",
    "media = n*(1-p)  \n",
    "print('média =', media)\n",
    "\n",
    "# Cálculo do desvio-padrão pela variância ( Sigma/n**0.5 ) ** 2 = p * ( 1-p )\n",
    "std_amostral = ( n * p*( 1-p ) ) ** 0.5\n",
    "print('desvio-padrão =', std_amostral)\n",
    "\n",
    "# calculando e imprimindo o intervalo de confiança\n",
    "int_inferior = media - 2*std_amostral\n",
    "int_superior = media + 2*std_amostral\n",
    "print('Intervalo de confiança:', int_inferior, '<-->', int_superior)\n",
    "\n",
    "# calculando e imprimindo o risco financeiro\n",
    "risco = ( int_superior - assentos ) * risco_p_passageiro\n",
    "print ('Risco financeiro total =',risco)"
   ]
  },
  {
   "cell_type": "code",
   "execution_count": 2,
   "metadata": {},
   "outputs": [
    {
     "data": {
      "image/png": "[encoded data removed]",
      "text/plain": [
       "<Figure size 432x288 with 1 Axes>"
      ]
     },
     "metadata": {
      "needs_background": "light"
     },
     "output_type": "display_data"
    }
   ],
   "source": [
    "# importando as bilbiotecas\n",
    "import matplotlib.pyplot as plt\n",
    "%matplotlib inline\n",
    "import numpy as np\n",
    "import scipy.stats as stats\n",
    "import math\n",
    "\n",
    "# definindo os dados\n",
    "mu = 360\n",
    "p=0.1\n",
    "variance = p*( 1-p )\n",
    "sigma = 6 \n",
    "# coordenadas de x\n",
    "x = np.linspace(mu - 3*sigma, mu + 3*sigma, 100)\n",
    "\n",
    "# plotando a curva normal\n",
    "plt.plot(x, stats.norm.pdf(x, mu, sigma))\n",
    "\n",
    "# coordenadas de x\n",
    "xcoords = [round(int_inferior,3),round(media,3),round(int_superior,3),assentos]\n",
    "# cor das linhas\n",
    "colors = ['r','k','r','b']\n",
    "# plotando as linhas\n",
    "for xc,c in zip(xcoords,colors):\n",
    "    plt.axvline(x=xc, label='line at x = {}'.format(xc), c=c)\n",
    "# plotando as legendas\n",
    "plt.legend()\n",
    "plt.show()"
   ]
  },
  {
   "cell_type": "markdown",
   "metadata": {},
   "source": [
    "## Teste de Hipótese Exemplo_2: NBA Salaries\n",
    "\n",
    "### Lendo e tratando os dados"
   ]
  },
  {
   "cell_type": "code",
   "execution_count": 3,
   "metadata": {},
   "outputs": [],
   "source": [
    "# importando as bibiotecas\n",
    "import numpy as np # linear algebra\n",
    "import pandas as pd # data processing, CSV file I/O (e.g. pd.read_csv)\n",
    "import scipy\n",
    "from scipy import stats\n",
    "import matplotlib.pyplot as plt\n",
    "%matplotlib inline\n",
    "# ignorando os warnings\n",
    "import warnings\n",
    "warnings.filterwarnings(\"ignore\")\n",
    "\n",
    "# Input data files are available in the \"../input/\" directory.\n",
    "# For example, running this (by clicking run or pressing Shift+Enter) will list the files in the input directory\n"
   ]
  },
  {
   "cell_type": "code",
   "execution_count": 4,
   "metadata": {},
   "outputs": [
    {
     "data": {
      "text/html": [
       "<div>\n",
       "<style scoped>\n",
       "    .dataframe tbody tr th:only-of-type {\n",
       "        vertical-align: middle;\n",
       "    }\n",
       "\n",
       "    .dataframe tbody tr th {\n",
       "        vertical-align: top;\n",
       "    }\n",
       "\n",
       "    .dataframe thead th {\n",
       "        text-align: right;\n",
       "    }\n",
       "</style>\n",
       "<table border=\"1\" class=\"dataframe\">\n",
       "  <thead>\n",
       "    <tr style=\"text-align: right;\">\n",
       "      <th></th>\n",
       "      <th>Unnamed: 0</th>\n",
       "      <th>Player</th>\n",
       "      <th>Tm</th>\n",
       "      <th>season17_18</th>\n",
       "    </tr>\n",
       "  </thead>\n",
       "  <tbody>\n",
       "    <tr>\n",
       "      <th>0</th>\n",
       "      <td>1</td>\n",
       "      <td>Stephen Curry</td>\n",
       "      <td>GSW</td>\n",
       "      <td>34682550.0</td>\n",
       "    </tr>\n",
       "    <tr>\n",
       "      <th>1</th>\n",
       "      <td>2</td>\n",
       "      <td>LeBron James</td>\n",
       "      <td>CLE</td>\n",
       "      <td>33285709.0</td>\n",
       "    </tr>\n",
       "    <tr>\n",
       "      <th>2</th>\n",
       "      <td>3</td>\n",
       "      <td>Paul Millsap</td>\n",
       "      <td>DEN</td>\n",
       "      <td>31269231.0</td>\n",
       "    </tr>\n",
       "    <tr>\n",
       "      <th>3</th>\n",
       "      <td>4</td>\n",
       "      <td>Gordon Hayward</td>\n",
       "      <td>BOS</td>\n",
       "      <td>29727900.0</td>\n",
       "    </tr>\n",
       "    <tr>\n",
       "      <th>4</th>\n",
       "      <td>5</td>\n",
       "      <td>Blake Griffin</td>\n",
       "      <td>DET</td>\n",
       "      <td>29512900.0</td>\n",
       "    </tr>\n",
       "  </tbody>\n",
       "</table>\n",
       "</div>"
      ],
      "text/plain": [
       "   Unnamed: 0          Player   Tm  season17_18\n",
       "0           1   Stephen Curry  GSW   34682550.0\n",
       "1           2    LeBron James  CLE   33285709.0\n",
       "2           3    Paul Millsap  DEN   31269231.0\n",
       "3           4  Gordon Hayward  BOS   29727900.0\n",
       "4           5   Blake Griffin  DET   29512900.0"
      ]
     },
     "execution_count": 4,
     "metadata": {},
     "output_type": "execute_result"
    }
   ],
   "source": [
    "# lendo e armazenando os dados\n",
    "#df = pd.read_csv(r'../../../data/NBA_season1718_salary.csv')\n",
    "\n",
    "df_raw = pd.read_csv(\"http://www.dropbox.com/s/6roj44y5vek0fhi/NBA_season1718_salary.csv?dl=1\",sep=',',encoding= 'latin1')\n",
    "df=df_raw.copy()\n",
    "df.head()"
   ]
  },
  {
   "cell_type": "code",
   "execution_count": 5,
   "metadata": {},
   "outputs": [],
   "source": [
    "# dropando a coluna ID\n",
    "df = df.drop('Unnamed: 0',axis=1)\n",
    "\n",
    "# renomeando as colunas\n",
    "df.rename(columns={'season17_18': 'salary', \n",
    "                   'Tm': 'team', \n",
    "                   'Player': 'player'}, \n",
    "          inplace=True)"
   ]
  },
  {
   "cell_type": "markdown",
   "metadata": {},
   "source": [
    "### Visualizando o número de contratos por time"
   ]
  },
  {
   "cell_type": "code",
   "execution_count": 6,
   "metadata": {},
   "outputs": [
    {
     "data": {
      "image/png": "[encoded data removed]",
      "text/plain": [
       "<Figure size 1080x432 with 1 Axes>"
      ]
     },
     "metadata": {
      "needs_background": "light"
     },
     "output_type": "display_data"
    }
   ],
   "source": [
    "# plotando o número de contratos por time \n",
    "import seaborn as sns\n",
    "plt.figure(figsize=(15,6))\n",
    "sns.countplot(df.team)\n",
    "plt.show()"
   ]
  },
  {
   "cell_type": "markdown",
   "metadata": {},
   "source": [
    "### Visualizando o tipo de distribuição para os salários"
   ]
  },
  {
   "cell_type": "code",
   "execution_count": 7,
   "metadata": {},
   "outputs": [
    {
     "data": {
      "image/png": "[encoded data removed]",
      "text/plain": [
       "<Figure size 720x360 with 1 Axes>"
      ]
     },
     "metadata": {
      "needs_background": "light"
     },
     "output_type": "display_data"
    }
   ],
   "source": [
    "# plotando uma distribuição densidade de probabilidade para os salários\n",
    "\n",
    "# criando uma figura com um gráfico \n",
    "fig, ax = plt.subplots(1, 1,figsize=(10,5))\n",
    "# definindo os valores de x\n",
    "x = df.salary\n",
    "# calculando a média\n",
    "mu = df.salary.mean()\n",
    "# calculando o desvio padrão populacional\n",
    "sigma = df.salary.std()\n",
    "# plotando o gráfico com os valores de x e os valores normais da densidade de probabilidade\n",
    "ax.plot(x, stats.norm.pdf(x=x, loc=mu, scale=sigma),label='salary')\n",
    "# imprimindo a legenda\n",
    "ax.legend(loc='best', frameon=False,fontsize = 20)\n",
    "# mostrando o gráfico\n",
    "plt.show()"
   ]
  },
  {
   "cell_type": "code",
   "execution_count": 8,
   "metadata": {},
   "outputs": [
    {
     "data": {
      "text/plain": [
       "<matplotlib.axes._subplots.AxesSubplot at 0x7f7fef9f9ee0>"
      ]
     },
     "execution_count": 8,
     "metadata": {},
     "output_type": "execute_result"
    },
    {
     "data": {
      "image/png": "[encoded data removed]",
      "text/plain": [
       "<Figure size 432x288 with 1 Axes>"
      ]
     },
     "metadata": {
      "needs_background": "light"
     },
     "output_type": "display_data"
    }
   ],
   "source": [
    "# plotando a distribuição da série de dados de salário\n",
    "df['salary'].plot.hist(bins=100)"
   ]
  },
  {
   "cell_type": "markdown",
   "metadata": {},
   "source": [
    "### Teste de Normalidade de Shapiro_Wilks"
   ]
  },
  {
   "cell_type": "code",
   "execution_count": 9,
   "metadata": {},
   "outputs": [
    {
     "data": {
      "text/plain": [
       "(0.7648023962974548, 8.140026687905233e-28)"
      ]
     },
     "execution_count": 9,
     "metadata": {},
     "output_type": "execute_result"
    }
   ],
   "source": [
    "# fazendo o teste de normalidade de shapiro\n",
    "stats.shapiro(df['salary'])"
   ]
  },
  {
   "cell_type": "markdown",
   "metadata": {},
   "source": [
    "### Normalizando e Padronizando os dados"
   ]
  },
  {
   "cell_type": "code",
   "execution_count": 10,
   "metadata": {},
   "outputs": [
    {
     "data": {
      "text/plain": [
       "<matplotlib.axes._subplots.AxesSubplot at 0x7f7fef7ef1f0>"
      ]
     },
     "execution_count": 10,
     "metadata": {},
     "output_type": "execute_result"
    },
    {
     "data": {
      "image/png": "[encoded data removed]",
      "text/plain": [
       "<Figure size 432x288 with 1 Axes>"
      ]
     },
     "metadata": {
      "needs_background": "light"
     },
     "output_type": "display_data"
    }
   ],
   "source": [
    "# aplicando o LOG na série de dados de salário e plotando uma distribuição\n",
    "# transformação matemática de NORMALIZAÇÃO dos dados\n",
    "df['log_salary'] = np.log(df['salary'])\n",
    "\n",
    "# criando uma variável com o valor PADRONIZADO de log_salary\n",
    "# valor PADRONIZADO significa subtrair a média e dividir pelo desvio padrão\n",
    "df['normal_log_salary'] = ( df['log_salary'] - df['log_salary'].mean() ) / df['log_salary'].std()\n",
    "df['normal_log_salary'].plot.hist(bins=20)"
   ]
  },
  {
   "cell_type": "code",
   "execution_count": 11,
   "metadata": {},
   "outputs": [
    {
     "data": {
      "text/plain": [
       "(0.9237819314002991, 1.923222188058779e-16)"
      ]
     },
     "execution_count": 11,
     "metadata": {},
     "output_type": "execute_result"
    }
   ],
   "source": [
    "resultado_normal = stats.shapiro(df['normal_log_salary'])\n",
    "resultado_normal"
   ]
  },
  {
   "cell_type": "markdown",
   "metadata": {},
   "source": [
    "### Cálculo do Z_Score"
   ]
  },
  {
   "cell_type": "code",
   "execution_count": 12,
   "metadata": {},
   "outputs": [
    {
     "data": {
      "text/plain": [
       "(-0.0, 0.999)"
      ]
     },
     "execution_count": 12,
     "metadata": {},
     "output_type": "execute_result"
    }
   ],
   "source": [
    "# definindo uma variável para os dados de salários transformados e normalizados\n",
    "x = df['normal_log_salary']\n",
    "# calculando a média\n",
    "mu = np.mean(x)\n",
    "# calculando o desvio-padrão populacional\n",
    "std = np.std(x)\n",
    "#Imprimindo a média e o desvio-padrão\n",
    "round(mu,3),round(std,3)"
   ]
  },
  {
   "cell_type": "code",
   "execution_count": 13,
   "metadata": {},
   "outputs": [
    {
     "data": {
      "text/plain": [
       "(-1.9582529724421944, 1.95825297244215)"
      ]
     },
     "execution_count": 13,
     "metadata": {},
     "output_type": "execute_result"
    }
   ],
   "source": [
    "# calculando o intervalo de confiança para os dados normalizados\n",
    "# é esperado os valores de z_score\n",
    "scipy.stats.norm.interval(alpha=0.95,loc=mu,scale=std)"
   ]
  },
  {
   "cell_type": "code",
   "execution_count": 14,
   "metadata": {},
   "outputs": [
    {
     "data": {
      "text/plain": [
       "(-1.9582529724421944, 1.95825297244215)"
      ]
     },
     "execution_count": 14,
     "metadata": {},
     "output_type": "execute_result"
    }
   ],
   "source": [
    "# armazenando os dados em variáveis \n",
    "Z_score_inf = scipy.stats.norm.interval(alpha=0.95,loc=mu,scale=std)[0]\n",
    "Z_score_sup = scipy.stats.norm.interval(alpha=0.95,loc=mu,scale=std)[1]\n",
    "Z_score_inf,Z_score_sup"
   ]
  },
  {
   "cell_type": "markdown",
   "metadata": {},
   "source": [
    "### Inferência: Jogadores que ganham abaixo da média"
   ]
  },
  {
   "cell_type": "code",
   "execution_count": 15,
   "metadata": {},
   "outputs": [
    {
     "data": {
      "text/html": [
       "<div>\n",
       "<style scoped>\n",
       "    .dataframe tbody tr th:only-of-type {\n",
       "        vertical-align: middle;\n",
       "    }\n",
       "\n",
       "    .dataframe tbody tr th {\n",
       "        vertical-align: top;\n",
       "    }\n",
       "\n",
       "    .dataframe thead th {\n",
       "        text-align: right;\n",
       "    }\n",
       "</style>\n",
       "<table border=\"1\" class=\"dataframe\">\n",
       "  <thead>\n",
       "    <tr style=\"text-align: right;\">\n",
       "      <th></th>\n",
       "      <th>player</th>\n",
       "      <th>team</th>\n",
       "      <th>salary</th>\n",
       "      <th>log_salary</th>\n",
       "      <th>normal_log_salary</th>\n",
       "    </tr>\n",
       "  </thead>\n",
       "  <tbody>\n",
       "    <tr>\n",
       "      <th>528</th>\n",
       "      <td>Demetrius Jackson</td>\n",
       "      <td>HOU</td>\n",
       "      <td>74159.0</td>\n",
       "      <td>11.213967</td>\n",
       "      <td>-1.988587</td>\n",
       "    </tr>\n",
       "    <tr>\n",
       "      <th>529</th>\n",
       "      <td>Georgios Papagiannis</td>\n",
       "      <td>POR</td>\n",
       "      <td>74159.0</td>\n",
       "      <td>11.213967</td>\n",
       "      <td>-1.988587</td>\n",
       "    </tr>\n",
       "    <tr>\n",
       "      <th>530</th>\n",
       "      <td>Larry Drew</td>\n",
       "      <td>NOP</td>\n",
       "      <td>74159.0</td>\n",
       "      <td>11.213967</td>\n",
       "      <td>-1.988587</td>\n",
       "    </tr>\n",
       "    <tr>\n",
       "      <th>531</th>\n",
       "      <td>Scotty Hopson</td>\n",
       "      <td>DAL</td>\n",
       "      <td>74159.0</td>\n",
       "      <td>11.213967</td>\n",
       "      <td>-1.988587</td>\n",
       "    </tr>\n",
       "    <tr>\n",
       "      <th>532</th>\n",
       "      <td>Isaiah Canaan</td>\n",
       "      <td>HOU</td>\n",
       "      <td>53465.0</td>\n",
       "      <td>10.886783</td>\n",
       "      <td>-2.179388</td>\n",
       "    </tr>\n",
       "    <tr>\n",
       "      <th>533</th>\n",
       "      <td>Tyler Cavanaugh</td>\n",
       "      <td>ATL</td>\n",
       "      <td>50000.0</td>\n",
       "      <td>10.819778</td>\n",
       "      <td>-2.218462</td>\n",
       "    </tr>\n",
       "    <tr>\n",
       "      <th>534</th>\n",
       "      <td>Kyle Collinsworth</td>\n",
       "      <td>DAL</td>\n",
       "      <td>50000.0</td>\n",
       "      <td>10.819778</td>\n",
       "      <td>-2.218462</td>\n",
       "    </tr>\n",
       "    <tr>\n",
       "      <th>535</th>\n",
       "      <td>Demetrius Jackson</td>\n",
       "      <td>HOU</td>\n",
       "      <td>50000.0</td>\n",
       "      <td>10.819778</td>\n",
       "      <td>-2.218462</td>\n",
       "    </tr>\n",
       "    <tr>\n",
       "      <th>536</th>\n",
       "      <td>Daniel Ochefu</td>\n",
       "      <td>WAS</td>\n",
       "      <td>50000.0</td>\n",
       "      <td>10.819778</td>\n",
       "      <td>-2.218462</td>\n",
       "    </tr>\n",
       "    <tr>\n",
       "      <th>537</th>\n",
       "      <td>Michael Young</td>\n",
       "      <td>WAS</td>\n",
       "      <td>50000.0</td>\n",
       "      <td>10.819778</td>\n",
       "      <td>-2.218462</td>\n",
       "    </tr>\n",
       "    <tr>\n",
       "      <th>538</th>\n",
       "      <td>Nate Wolters</td>\n",
       "      <td>UTA</td>\n",
       "      <td>50000.0</td>\n",
       "      <td>10.819778</td>\n",
       "      <td>-2.218462</td>\n",
       "    </tr>\n",
       "    <tr>\n",
       "      <th>539</th>\n",
       "      <td>Naz Mitrou-Long</td>\n",
       "      <td>UTA</td>\n",
       "      <td>50000.0</td>\n",
       "      <td>10.819778</td>\n",
       "      <td>-2.218462</td>\n",
       "    </tr>\n",
       "    <tr>\n",
       "      <th>540</th>\n",
       "      <td>Eric Griffin</td>\n",
       "      <td>UTA</td>\n",
       "      <td>50000.0</td>\n",
       "      <td>10.819778</td>\n",
       "      <td>-2.218462</td>\n",
       "    </tr>\n",
       "    <tr>\n",
       "      <th>541</th>\n",
       "      <td>Jacob Pullen</td>\n",
       "      <td>PHI</td>\n",
       "      <td>50000.0</td>\n",
       "      <td>10.819778</td>\n",
       "      <td>-2.218462</td>\n",
       "    </tr>\n",
       "    <tr>\n",
       "      <th>542</th>\n",
       "      <td>James Michael McAdoo</td>\n",
       "      <td>PHI</td>\n",
       "      <td>50000.0</td>\n",
       "      <td>10.819778</td>\n",
       "      <td>-2.218462</td>\n",
       "    </tr>\n",
       "    <tr>\n",
       "      <th>543</th>\n",
       "      <td>Nigel Hayes</td>\n",
       "      <td>NYK</td>\n",
       "      <td>50000.0</td>\n",
       "      <td>10.819778</td>\n",
       "      <td>-2.218462</td>\n",
       "    </tr>\n",
       "    <tr>\n",
       "      <th>544</th>\n",
       "      <td>Jalen Moore</td>\n",
       "      <td>MIL</td>\n",
       "      <td>50000.0</td>\n",
       "      <td>10.819778</td>\n",
       "      <td>-2.218462</td>\n",
       "    </tr>\n",
       "    <tr>\n",
       "      <th>545</th>\n",
       "      <td>Gary Payton</td>\n",
       "      <td>MIL</td>\n",
       "      <td>50000.0</td>\n",
       "      <td>10.819778</td>\n",
       "      <td>-2.218462</td>\n",
       "    </tr>\n",
       "    <tr>\n",
       "      <th>546</th>\n",
       "      <td>Matt Williams</td>\n",
       "      <td>MIA</td>\n",
       "      <td>50000.0</td>\n",
       "      <td>10.819778</td>\n",
       "      <td>-2.218462</td>\n",
       "    </tr>\n",
       "    <tr>\n",
       "      <th>547</th>\n",
       "      <td>Vince Hunter</td>\n",
       "      <td>MEM</td>\n",
       "      <td>50000.0</td>\n",
       "      <td>10.819778</td>\n",
       "      <td>-2.218462</td>\n",
       "    </tr>\n",
       "    <tr>\n",
       "      <th>548</th>\n",
       "      <td>Vander Blue</td>\n",
       "      <td>LAL</td>\n",
       "      <td>50000.0</td>\n",
       "      <td>10.819778</td>\n",
       "      <td>-2.218462</td>\n",
       "    </tr>\n",
       "    <tr>\n",
       "      <th>549</th>\n",
       "      <td>V.J. Beachem</td>\n",
       "      <td>LAL</td>\n",
       "      <td>50000.0</td>\n",
       "      <td>10.819778</td>\n",
       "      <td>-2.218462</td>\n",
       "    </tr>\n",
       "    <tr>\n",
       "      <th>550</th>\n",
       "      <td>Briante Weber</td>\n",
       "      <td>LAL</td>\n",
       "      <td>50000.0</td>\n",
       "      <td>10.819778</td>\n",
       "      <td>-2.218462</td>\n",
       "    </tr>\n",
       "    <tr>\n",
       "      <th>551</th>\n",
       "      <td>Jamil Wilson</td>\n",
       "      <td>LAC</td>\n",
       "      <td>50000.0</td>\n",
       "      <td>10.819778</td>\n",
       "      <td>-2.218462</td>\n",
       "    </tr>\n",
       "    <tr>\n",
       "      <th>552</th>\n",
       "      <td>Briante Weber</td>\n",
       "      <td>HOU</td>\n",
       "      <td>50000.0</td>\n",
       "      <td>10.819778</td>\n",
       "      <td>-2.218462</td>\n",
       "    </tr>\n",
       "    <tr>\n",
       "      <th>553</th>\n",
       "      <td>Luis Montero</td>\n",
       "      <td>DET</td>\n",
       "      <td>50000.0</td>\n",
       "      <td>10.819778</td>\n",
       "      <td>-2.218462</td>\n",
       "    </tr>\n",
       "    <tr>\n",
       "      <th>554</th>\n",
       "      <td>Gian Clavell</td>\n",
       "      <td>DAL</td>\n",
       "      <td>50000.0</td>\n",
       "      <td>10.819778</td>\n",
       "      <td>-2.218462</td>\n",
       "    </tr>\n",
       "    <tr>\n",
       "      <th>555</th>\n",
       "      <td>Antonius Cleveland</td>\n",
       "      <td>DAL</td>\n",
       "      <td>50000.0</td>\n",
       "      <td>10.819778</td>\n",
       "      <td>-2.218462</td>\n",
       "    </tr>\n",
       "    <tr>\n",
       "      <th>556</th>\n",
       "      <td>Diamond Stone</td>\n",
       "      <td>CHI</td>\n",
       "      <td>50000.0</td>\n",
       "      <td>10.819778</td>\n",
       "      <td>-2.218462</td>\n",
       "    </tr>\n",
       "    <tr>\n",
       "      <th>557</th>\n",
       "      <td>Yakuba Ouattara</td>\n",
       "      <td>BRK</td>\n",
       "      <td>50000.0</td>\n",
       "      <td>10.819778</td>\n",
       "      <td>-2.218462</td>\n",
       "    </tr>\n",
       "    <tr>\n",
       "      <th>558</th>\n",
       "      <td>Jeremy Evans</td>\n",
       "      <td>ATL</td>\n",
       "      <td>50000.0</td>\n",
       "      <td>10.819778</td>\n",
       "      <td>-2.218462</td>\n",
       "    </tr>\n",
       "    <tr>\n",
       "      <th>559</th>\n",
       "      <td>Nigel Hayes</td>\n",
       "      <td>LAL</td>\n",
       "      <td>46080.0</td>\n",
       "      <td>10.738134</td>\n",
       "      <td>-2.266074</td>\n",
       "    </tr>\n",
       "    <tr>\n",
       "      <th>560</th>\n",
       "      <td>Nigel Hayes</td>\n",
       "      <td>TOR</td>\n",
       "      <td>46080.0</td>\n",
       "      <td>10.738134</td>\n",
       "      <td>-2.266074</td>\n",
       "    </tr>\n",
       "    <tr>\n",
       "      <th>561</th>\n",
       "      <td>Rodney Purvis</td>\n",
       "      <td>ORL</td>\n",
       "      <td>46080.0</td>\n",
       "      <td>10.738134</td>\n",
       "      <td>-2.266074</td>\n",
       "    </tr>\n",
       "    <tr>\n",
       "      <th>562</th>\n",
       "      <td>Xavier Rathan-Mayes</td>\n",
       "      <td>MEM</td>\n",
       "      <td>46080.0</td>\n",
       "      <td>10.738134</td>\n",
       "      <td>-2.266074</td>\n",
       "    </tr>\n",
       "    <tr>\n",
       "      <th>563</th>\n",
       "      <td>Trey McKinney-Jones</td>\n",
       "      <td>IND</td>\n",
       "      <td>46080.0</td>\n",
       "      <td>10.738134</td>\n",
       "      <td>-2.266074</td>\n",
       "    </tr>\n",
       "    <tr>\n",
       "      <th>564</th>\n",
       "      <td>Jameel Warney</td>\n",
       "      <td>DAL</td>\n",
       "      <td>46080.0</td>\n",
       "      <td>10.738134</td>\n",
       "      <td>-2.266074</td>\n",
       "    </tr>\n",
       "    <tr>\n",
       "      <th>565</th>\n",
       "      <td>Marcus Thornton</td>\n",
       "      <td>CLE</td>\n",
       "      <td>46080.0</td>\n",
       "      <td>10.738134</td>\n",
       "      <td>-2.266074</td>\n",
       "    </tr>\n",
       "    <tr>\n",
       "      <th>566</th>\n",
       "      <td>DeAndre Liggins</td>\n",
       "      <td>ATL</td>\n",
       "      <td>26773.0</td>\n",
       "      <td>10.195149</td>\n",
       "      <td>-2.582721</td>\n",
       "    </tr>\n",
       "    <tr>\n",
       "      <th>567</th>\n",
       "      <td>Axel Toupane</td>\n",
       "      <td>NOP</td>\n",
       "      <td>25000.0</td>\n",
       "      <td>10.126631</td>\n",
       "      <td>-2.622678</td>\n",
       "    </tr>\n",
       "    <tr>\n",
       "      <th>568</th>\n",
       "      <td>Quinn Cook</td>\n",
       "      <td>NOP</td>\n",
       "      <td>25000.0</td>\n",
       "      <td>10.126631</td>\n",
       "      <td>-2.622678</td>\n",
       "    </tr>\n",
       "    <tr>\n",
       "      <th>569</th>\n",
       "      <td>Chris Johnson</td>\n",
       "      <td>HOU</td>\n",
       "      <td>25000.0</td>\n",
       "      <td>10.126631</td>\n",
       "      <td>-2.622678</td>\n",
       "    </tr>\n",
       "    <tr>\n",
       "      <th>570</th>\n",
       "      <td>Beno Udrih</td>\n",
       "      <td>DET</td>\n",
       "      <td>25000.0</td>\n",
       "      <td>10.126631</td>\n",
       "      <td>-2.622678</td>\n",
       "    </tr>\n",
       "    <tr>\n",
       "      <th>571</th>\n",
       "      <td>Joel Bolomboy</td>\n",
       "      <td>MIL</td>\n",
       "      <td>22248.0</td>\n",
       "      <td>10.010007</td>\n",
       "      <td>-2.690689</td>\n",
       "    </tr>\n",
       "    <tr>\n",
       "      <th>572</th>\n",
       "      <td>Jarell Eddie</td>\n",
       "      <td>CHI</td>\n",
       "      <td>17224.0</td>\n",
       "      <td>9.754059</td>\n",
       "      <td>-2.839947</td>\n",
       "    </tr>\n",
       "  </tbody>\n",
       "</table>\n",
       "</div>"
      ],
      "text/plain": [
       "                   player team   salary  log_salary  normal_log_salary\n",
       "528     Demetrius Jackson  HOU  74159.0   11.213967          -1.988587\n",
       "529  Georgios Papagiannis  POR  74159.0   11.213967          -1.988587\n",
       "530            Larry Drew  NOP  74159.0   11.213967          -1.988587\n",
       "531         Scotty Hopson  DAL  74159.0   11.213967          -1.988587\n",
       "532         Isaiah Canaan  HOU  53465.0   10.886783          -2.179388\n",
       "533       Tyler Cavanaugh  ATL  50000.0   10.819778          -2.218462\n",
       "534     Kyle Collinsworth  DAL  50000.0   10.819778          -2.218462\n",
       "535     Demetrius Jackson  HOU  50000.0   10.819778          -2.218462\n",
       "536         Daniel Ochefu  WAS  50000.0   10.819778          -2.218462\n",
       "537         Michael Young  WAS  50000.0   10.819778          -2.218462\n",
       "538          Nate Wolters  UTA  50000.0   10.819778          -2.218462\n",
       "539       Naz Mitrou-Long  UTA  50000.0   10.819778          -2.218462\n",
       "540          Eric Griffin  UTA  50000.0   10.819778          -2.218462\n",
       "541          Jacob Pullen  PHI  50000.0   10.819778          -2.218462\n",
       "542  James Michael McAdoo  PHI  50000.0   10.819778          -2.218462\n",
       "543           Nigel Hayes  NYK  50000.0   10.819778          -2.218462\n",
       "544           Jalen Moore  MIL  50000.0   10.819778          -2.218462\n",
       "545           Gary Payton  MIL  50000.0   10.819778          -2.218462\n",
       "546         Matt Williams  MIA  50000.0   10.819778          -2.218462\n",
       "547          Vince Hunter  MEM  50000.0   10.819778          -2.218462\n",
       "548           Vander Blue  LAL  50000.0   10.819778          -2.218462\n",
       "549          V.J. Beachem  LAL  50000.0   10.819778          -2.218462\n",
       "550         Briante Weber  LAL  50000.0   10.819778          -2.218462\n",
       "551          Jamil Wilson  LAC  50000.0   10.819778          -2.218462\n",
       "552         Briante Weber  HOU  50000.0   10.819778          -2.218462\n",
       "553          Luis Montero  DET  50000.0   10.819778          -2.218462\n",
       "554          Gian Clavell  DAL  50000.0   10.819778          -2.218462\n",
       "555    Antonius Cleveland  DAL  50000.0   10.819778          -2.218462\n",
       "556         Diamond Stone  CHI  50000.0   10.819778          -2.218462\n",
       "557       Yakuba Ouattara  BRK  50000.0   10.819778          -2.218462\n",
       "558          Jeremy Evans  ATL  50000.0   10.819778          -2.218462\n",
       "559           Nigel Hayes  LAL  46080.0   10.738134          -2.266074\n",
       "560           Nigel Hayes  TOR  46080.0   10.738134          -2.266074\n",
       "561         Rodney Purvis  ORL  46080.0   10.738134          -2.266074\n",
       "562   Xavier Rathan-Mayes  MEM  46080.0   10.738134          -2.266074\n",
       "563   Trey McKinney-Jones  IND  46080.0   10.738134          -2.266074\n",
       "564         Jameel Warney  DAL  46080.0   10.738134          -2.266074\n",
       "565       Marcus Thornton  CLE  46080.0   10.738134          -2.266074\n",
       "566       DeAndre Liggins  ATL  26773.0   10.195149          -2.582721\n",
       "567          Axel Toupane  NOP  25000.0   10.126631          -2.622678\n",
       "568            Quinn Cook  NOP  25000.0   10.126631          -2.622678\n",
       "569         Chris Johnson  HOU  25000.0   10.126631          -2.622678\n",
       "570            Beno Udrih  DET  25000.0   10.126631          -2.622678\n",
       "571         Joel Bolomboy  MIL  22248.0   10.010007          -2.690689\n",
       "572          Jarell Eddie  CHI  17224.0    9.754059          -2.839947"
      ]
     },
     "execution_count": 15,
     "metadata": {},
     "output_type": "execute_result"
    }
   ],
   "source": [
    "# fazendo a inferência para os dados de normal_log_salario \n",
    "# para salários abaixo do limite inferior com 95% de confiança\n",
    "df[df['normal_log_salary']<Z_score_inf]"
   ]
  },
  {
   "cell_type": "code",
   "execution_count": 16,
   "metadata": {},
   "outputs": [
    {
     "data": {
      "text/plain": [
       "(45, 5)"
      ]
     },
     "execution_count": 16,
     "metadata": {},
     "output_type": "execute_result"
    }
   ],
   "source": [
    "# quantidade de jogadores abaixo da média com 95% de confiança\n",
    "df[df['normal_log_salary']<Z_score_inf].shape"
   ]
  },
  {
   "cell_type": "code",
   "execution_count": 17,
   "metadata": {},
   "outputs": [
    {
     "data": {
      "text/plain": [
       "DAL    5\n",
       "HOU    5\n",
       "LAL    4\n",
       "NOP    3\n",
       "UTA    3\n",
       "MIL    3\n",
       "ATL    3\n",
       "MEM    2\n",
       "CHI    2\n",
       "PHI    2\n",
       "DET    2\n",
       "WAS    2\n",
       "ORL    1\n",
       "BRK    1\n",
       "MIA    1\n",
       "LAC    1\n",
       "IND    1\n",
       "CLE    1\n",
       "POR    1\n",
       "NYK    1\n",
       "TOR    1\n",
       "Name: team, dtype: int64"
      ]
     },
     "execution_count": 17,
     "metadata": {},
     "output_type": "execute_result"
    }
   ],
   "source": [
    "# jogadores que ganham abaixo da média por time\n",
    "df[df['normal_log_salary']<Z_score_inf]['team'].value_counts()"
   ]
  },
  {
   "cell_type": "markdown",
   "metadata": {},
   "source": [
    "Podemos concluir que temos 45 contratos abaixo da média."
   ]
  },
  {
   "cell_type": "markdown",
   "metadata": {},
   "source": [
    "### Inferência: Jogadores que ganham acima da média"
   ]
  },
  {
   "cell_type": "code",
   "execution_count": 18,
   "metadata": {},
   "outputs": [
    {
     "data": {
      "text/html": [
       "<div>\n",
       "<style scoped>\n",
       "    .dataframe tbody tr th:only-of-type {\n",
       "        vertical-align: middle;\n",
       "    }\n",
       "\n",
       "    .dataframe tbody tr th {\n",
       "        vertical-align: top;\n",
       "    }\n",
       "\n",
       "    .dataframe thead th {\n",
       "        text-align: right;\n",
       "    }\n",
       "</style>\n",
       "<table border=\"1\" class=\"dataframe\">\n",
       "  <thead>\n",
       "    <tr style=\"text-align: right;\">\n",
       "      <th></th>\n",
       "      <th>player</th>\n",
       "      <th>team</th>\n",
       "      <th>salary</th>\n",
       "      <th>log_salary</th>\n",
       "      <th>normal_log_salary</th>\n",
       "    </tr>\n",
       "  </thead>\n",
       "  <tbody>\n",
       "  </tbody>\n",
       "</table>\n",
       "</div>"
      ],
      "text/plain": [
       "Empty DataFrame\n",
       "Columns: [player, team, salary, log_salary, normal_log_salary]\n",
       "Index: []"
      ]
     },
     "execution_count": 18,
     "metadata": {},
     "output_type": "execute_result"
    }
   ],
   "source": [
    "# fazendo a inferência para os dados de normal_log_salario \n",
    "# para salários acima do limite superior\n",
    "df[df['normal_log_salary']>Z_score_sup]"
   ]
  },
  {
   "cell_type": "markdown",
   "metadata": {},
   "source": [
    "Nenhum jogador ganha acima da média com um grau de confiança de 95%"
   ]
  },
  {
   "cell_type": "code",
   "execution_count": 19,
   "metadata": {},
   "outputs": [
    {
     "data": {
      "text/html": [
       "<div>\n",
       "<style scoped>\n",
       "    .dataframe tbody tr th:only-of-type {\n",
       "        vertical-align: middle;\n",
       "    }\n",
       "\n",
       "    .dataframe tbody tr th {\n",
       "        vertical-align: top;\n",
       "    }\n",
       "\n",
       "    .dataframe thead th {\n",
       "        text-align: right;\n",
       "    }\n",
       "</style>\n",
       "<table border=\"1\" class=\"dataframe\">\n",
       "  <thead>\n",
       "    <tr style=\"text-align: right;\">\n",
       "      <th></th>\n",
       "      <th>player</th>\n",
       "      <th>team</th>\n",
       "      <th>salary</th>\n",
       "      <th>log_salary</th>\n",
       "      <th>normal_log_salary</th>\n",
       "    </tr>\n",
       "  </thead>\n",
       "  <tbody>\n",
       "    <tr>\n",
       "      <th>0</th>\n",
       "      <td>Stephen Curry</td>\n",
       "      <td>GSW</td>\n",
       "      <td>34682550.0</td>\n",
       "      <td>17.361747</td>\n",
       "      <td>1.596555</td>\n",
       "    </tr>\n",
       "    <tr>\n",
       "      <th>1</th>\n",
       "      <td>LeBron James</td>\n",
       "      <td>CLE</td>\n",
       "      <td>33285709.0</td>\n",
       "      <td>17.320639</td>\n",
       "      <td>1.572582</td>\n",
       "    </tr>\n",
       "    <tr>\n",
       "      <th>2</th>\n",
       "      <td>Paul Millsap</td>\n",
       "      <td>DEN</td>\n",
       "      <td>31269231.0</td>\n",
       "      <td>17.258145</td>\n",
       "      <td>1.536138</td>\n",
       "    </tr>\n",
       "    <tr>\n",
       "      <th>3</th>\n",
       "      <td>Gordon Hayward</td>\n",
       "      <td>BOS</td>\n",
       "      <td>29727900.0</td>\n",
       "      <td>17.207597</td>\n",
       "      <td>1.506660</td>\n",
       "    </tr>\n",
       "    <tr>\n",
       "      <th>4</th>\n",
       "      <td>Blake Griffin</td>\n",
       "      <td>DET</td>\n",
       "      <td>29512900.0</td>\n",
       "      <td>17.200338</td>\n",
       "      <td>1.502427</td>\n",
       "    </tr>\n",
       "  </tbody>\n",
       "</table>\n",
       "</div>"
      ],
      "text/plain": [
       "           player team      salary  log_salary  normal_log_salary\n",
       "0   Stephen Curry  GSW  34682550.0   17.361747           1.596555\n",
       "1    LeBron James  CLE  33285709.0   17.320639           1.572582\n",
       "2    Paul Millsap  DEN  31269231.0   17.258145           1.536138\n",
       "3  Gordon Hayward  BOS  29727900.0   17.207597           1.506660\n",
       "4   Blake Griffin  DET  29512900.0   17.200338           1.502427"
      ]
     },
     "execution_count": 19,
     "metadata": {},
     "output_type": "execute_result"
    }
   ],
   "source": [
    "# verificando os jogadores com melhores salários da liga\n",
    "df.sort_values('normal_log_salary',ascending = False).head()"
   ]
  },
  {
   "cell_type": "markdown",
   "metadata": {},
   "source": [
    "#### Explorando o salário mais alto do DataSet\n",
    "\n",
    "Como não temos jogadores com salário acima da média, vamos descobrir qual o nível de confiança necessário para o máximo salário"
   ]
  },
  {
   "cell_type": "code",
   "execution_count": 20,
   "metadata": {},
   "outputs": [
    {
     "data": {
      "text/plain": [
       "1.5965545045723402"
      ]
     },
     "execution_count": 20,
     "metadata": {},
     "output_type": "execute_result"
    }
   ],
   "source": [
    "# Verificando o valor do Log salário normalizado para salário máximo\n",
    "df['normal_log_salary'].max()"
   ]
  },
  {
   "cell_type": "code",
   "execution_count": 21,
   "metadata": {},
   "outputs": [
    {
     "data": {
      "text/plain": [
       "0.055027109914927784"
      ]
     },
     "execution_count": 21,
     "metadata": {},
     "output_type": "execute_result"
    }
   ],
   "source": [
    "# Cálculo do p-valor para o salário máximo\n",
    "scipy.stats.norm(mu, std).sf(df['normal_log_salary'].max())"
   ]
  },
  {
   "cell_type": "code",
   "execution_count": 22,
   "metadata": {},
   "outputs": [
    {
     "data": {
      "text/plain": [
       "0.9449728900850722"
      ]
     },
     "execution_count": 22,
     "metadata": {},
     "output_type": "execute_result"
    }
   ],
   "source": [
    "# Cálculo do nível de confiança para o satário máximo\n",
    "alpha_max = 1-scipy.stats.norm(mu, std).sf(df['normal_log_salary'].max())\n",
    "alpha_max"
   ]
  },
  {
   "cell_type": "code",
   "execution_count": 23,
   "metadata": {},
   "outputs": [
    {
     "name": "stdout",
     "output_type": "stream",
     "text": [
      "Temos 95% de certeza que não existe nenhum jogador ganhando mais que a média, com grau de confiança de 95%. O jogador mais bem remunerado está com um nível de significância de 94.497 %\n"
     ]
    }
   ],
   "source": [
    "# imprimindo as conclusões \n",
    "print ('Temos 95% de certeza que não existe nenhum jogador ganhando mais que a média, com grau de confiança de 95%.\\\n",
    " O jogador mais bem remunerado está com um nível de significância de', round(alpha_max*100,3), '%')"
   ]
  },
  {
   "cell_type": "markdown",
   "metadata": {},
   "source": [
    "-------------------\n",
    "\n",
    "# 3. Classificação com Naive Bayes\n",
    "\n",
    "O algoritmo “Naive Bayes” é um classificador probabilístico muito utilizado em machine learning. Baseado no “Teorema de Bayes”, o modelo foi criado por um matemático inglês, e também ministro presibiteriano, chamado Thomas Bayes (1701 – 1761) para tentar provar a existência de Deus.\n",
    "\n",
    "Hoje é também utilizado na área de Aprendizado de Máquina (Machine Learning) para categorizar textos com base na frequência das palavras usadas.\n",
    "\n",
    "Entre as possibilidades de aplicações está a classificação de um e-mail como SPAM ou Não-SPAM e a identificação de um assunto com base em seu conteúdo.\n",
    "\n",
    "Ele recebe o nome de “naive” (ingênuo) porque desconsidera a correlação entre as variáveis (features). Ou seja, se determinada fruta é rotulada como “Limão”, caso ela também seja descrita como “Verde” e “Redonda”, o algoritmo não vai levar em consideração a correlação entre esses fatores. Isso porque trata cada um de forma independente.\n"
   ]
  },
  {
   "cell_type": "markdown",
   "metadata": {},
   "source": [
    "## Aplicação do Naive Bayes\n",
    "\n",
    "Frequentemente aplicado em processamento de linguagem natural e diagnósticos médicos, o método pode ser usado quando os atributos que descrevem as instâncias forem condicionalmente independentes. Ou seja, o teorema de Bayes trata sobre probabilidade condicional. Isto é, qual a probabilidade de o evento A ocorrer, dado o evento B.\n",
    "\n",
    "Um problema simples que exemplifica bem o teorema é o cálculo de probabilidades em cima de diagnóstico de doenças.\n",
    "\n",
    "Imagine que estamos trabalhando no diagnóstico de uma nova doença. Após realizar testes, coletas e análises com 100 pessoas distintas, descobrimos que 20 pessoas possuíam a doença (20%) e 80 pessoas estavam saudáveis (80%).\n",
    "\n",
    "De todas as pessoas que possuíam a doença, 90% receberam Positivo no teste. Já 30% das pessoas que não possuíam a doença também receberam o teste positivo.\n"
   ]
  },
  {
   "cell_type": "markdown",
   "metadata": {},
   "source": [
    "## Vamos para a tabulação dos dados:\n",
    "\n",
    "- 100 pessoas realizaram o teste.\n",
    "- 20% das pessoas que realizaram o teste possuíam a doença.\n",
    "- 90% das pessoas que possuíam a doença, receberam positivo no teste.\n",
    "- 30% das pessoas que não possuíam a doença, receberam positivo.\n",
    "\n",
    "A partir destes dados, surge o problema: se uma nova pessoa realizar o teste e receber um resultado positivo, qual a probabilidade dela realmente possuir a doença?\n",
    "\n",
    "Essa probabilidade a posteriori é resolvida pelo Naive Bayes. Para isso, é preciso multiplicar a probabilidade a priori (possuir a doença) pela probabilidade de “receber um resultado positivo, dado que tem a doença”.\n",
    "\n",
    "Com esses dados, também podemos calcular a probabilidade a posteriori da negação (não possuir a doença, dado que recebeu um resultado positivo).\n",
    "\n"
   ]
  },
  {
   "cell_type": "markdown",
   "metadata": {},
   "source": [
    "## Cálculo das Probabilidades Condicionais\n",
    "\n",
    "P(doença|positivo) = 20% * 90%\n",
    "P(doença|positivo) = 0,2 * 0,9\n",
    "P(doença|positivo) = 0,18\n",
    "\n",
    "P(não doença|positivo) = 80% * 30%\n",
    "P(não doença|positivo) = 0,8 * 0,3\n",
    "P(não doença|positivo) = 0,24\n",
    "\n",
    "Finalizado o cálculo inicial, é preciso normalizar os dados, para que a soma das duas probabilidades resulte 100% ou 1. Para gerar os dados normalizados dividimos o resultado pela soma das duas probabilidades.\n",
    "\n",
    "P(doença|positivo) = 0,18/(0,18+0,24) = 0,4285\n",
    "P(não doença|positivo) = 0,24/(0,18+0,24) = 0,5714\n",
    "0,4285 + 0,5714 = 0,9999.. (ou aproximadamente 1)"
   ]
  },
  {
   "cell_type": "markdown",
   "metadata": {},
   "source": [
    "# Implementação em Python\n",
    "\n",
    "Será utilizado o conjunto de dados IRIS, fornecido com a biblioteca Sckit-learn. O conjunto de dados contém 3 classes de 50 instâncias cada, em que cada classe se refere a um tipo de planta de íris. Aqui vamos usar o modelo GaussianNB, que já está disponível na Biblioteca Sckit-learn.\n",
    "\n",
    "## Importando as bibliotecas e lendo os dados"
   ]
  },
  {
   "cell_type": "code",
   "execution_count": 24,
   "metadata": {},
   "outputs": [],
   "source": [
    "from sklearn import datasets\n",
    "from sklearn import metrics\n",
    "from sklearn.naive_bayes import GaussianNB\n",
    "#&amp;amp;nbsp;\n",
    "\n",
    "dataset = datasets.load_iris()"
   ]
  },
  {
   "cell_type": "markdown",
   "metadata": {},
   "source": [
    "### Visualização dos dados"
   ]
  },
  {
   "cell_type": "code",
   "execution_count": 25,
   "metadata": {},
   "outputs": [
    {
     "data": {
      "image/png": "[encoded data removed]",
      "text/plain": [
       "<Figure size 576x360 with 1 Axes>"
      ]
     },
     "metadata": {
      "needs_background": "light"
     },
     "output_type": "display_data"
    }
   ],
   "source": [
    "import pandas as pd\n",
    "import matplotlib.pyplot as plt\n",
    "%matplotlib inline\n",
    "plt.figure(figsize=(8,5))\n",
    "\n",
    "iris_df = pd.DataFrame(dataset['data'], columns=dataset['feature_names'])\n",
    "iris_df['species'] = dataset['target']\n",
    "\n",
    "colours = ['red', 'orange', 'blue']\n",
    "species = ['I. setosa', 'I. versicolor', 'I. virginica']\n",
    "\n",
    "for i in range(0, 3):    \n",
    "    species_df = iris_df[iris_df['species'] == i]    \n",
    "    plt.scatter(        \n",
    "        species_df['sepal length (cm)'],        \n",
    "        species_df['petal length (cm)'],\n",
    "        color=colours[i],        \n",
    "        alpha=0.5,        \n",
    "        label=species[i]   \n",
    "    )\n",
    "\n",
    "plt.xlabel('sepal length (cm)')\n",
    "plt.ylabel('petal length (cm)')\n",
    "plt.title('Iris dataset: petal length vs sepal length')\n",
    "plt.legend(loc='lower right')\n",
    "\n",
    "plt.show()"
   ]
  },
  {
   "cell_type": "markdown",
   "metadata": {},
   "source": [
    "# Naive Bayes com Sckit-learn"
   ]
  },
  {
   "cell_type": "code",
   "execution_count": 26,
   "metadata": {},
   "outputs": [
    {
     "data": {
      "text/plain": [
       "GaussianNB(priors=None, var_smoothing=1e-09)"
      ]
     },
     "execution_count": 26,
     "metadata": {},
     "output_type": "execute_result"
    }
   ],
   "source": [
    "model = GaussianNB()\n",
    "model.fit(dataset.data, dataset.target)"
   ]
  },
  {
   "cell_type": "markdown",
   "metadata": {},
   "source": [
    "## Fazendo Predições"
   ]
  },
  {
   "cell_type": "code",
   "execution_count": 27,
   "metadata": {},
   "outputs": [],
   "source": [
    "expected = dataset.target\n",
    "predicted = model.predict(dataset.data)"
   ]
  },
  {
   "cell_type": "markdown",
   "metadata": {},
   "source": [
    "## Imprimindo as Métricas"
   ]
  },
  {
   "cell_type": "code",
   "execution_count": 28,
   "metadata": {},
   "outputs": [
    {
     "name": "stdout",
     "output_type": "stream",
     "text": [
      "              precision    recall  f1-score   support\n",
      "\n",
      "           0       1.00      1.00      1.00        50\n",
      "           1       0.94      0.94      0.94        50\n",
      "           2       0.94      0.94      0.94        50\n",
      "\n",
      "    accuracy                           0.96       150\n",
      "   macro avg       0.96      0.96      0.96       150\n",
      "weighted avg       0.96      0.96      0.96       150\n",
      "\n",
      "[[50  0  0]\n",
      " [ 0 47  3]\n",
      " [ 0  3 47]]\n"
     ]
    }
   ],
   "source": [
    "print(metrics.classification_report(expected, predicted))\n",
    "\n",
    "print(metrics.confusion_matrix(expected, predicted))"
   ]
  },
  {
   "cell_type": "markdown",
   "metadata": {},
   "source": [
    "# Teste A/B Bayesiano\n",
    "\n",
    "Este é um exemplo onde onde o Teorema de Bayes se encontra com a probabilidade frequentista, ou o conceito de Inferência Estatística.\n",
    "\n",
    "A diferença é que a abordagem Bayesiana traz uma comparação entre duas distribuições, o que amplia o poder de análise e tomada de decisão.\n",
    "\n",
    "Dados da amostra: um teste A / B foi executado para verificar a taxa de conversão (CR, desde agora) de uma página da web, e os resultados estão na Tabela 1 abaixo.\n",
    "\n",
    "<br>\n",
    "<img src=\"img/data_img.png\" width=\"300\" />\n",
    "<br>\n",
    "\n",
    "A partir daí podemos calcular os valores que definem a diferença entre os dois grupos de Controle e Teste"
   ]
  },
  {
   "cell_type": "code",
   "execution_count": 29,
   "metadata": {},
   "outputs": [
    {
     "name": "stdout",
     "output_type": "stream",
     "text": [
      "Test option lift Conversion Rates by 61.76% with 98.3% probability.\n"
     ]
    }
   ],
   "source": [
    "from scipy.stats import beta\n",
    "from calc_prob import calc_prob_between\n",
    "#from calc_prob import calc_prob_between\n",
    "\n",
    "#This is the known data: imporessions and conversions for the Control and Test set\n",
    "imps_ctrl,convs_ctrl=16500, 30 \n",
    "imps_test, convs_test=17000, 50\n",
    "\n",
    "#here we create the Beta functions for the two sets\n",
    "a_C, b_C = convs_ctrl, imps_ctrl-convs_ctrl\n",
    "beta_C = beta(a_C, b_C)\n",
    "a_T, b_T = convs_test, imps_test-convs_test\n",
    "beta_T = beta(a_T, b_T)\n",
    "\n",
    "#calculating the lift\n",
    "lift=(beta_T.mean()-beta_C.mean())/beta_C.mean()\n",
    "\n",
    "#calculating the probability for Test to be better than Control\n",
    "prob=calc_prob_between(beta_T, beta_C)\n",
    "\n",
    "print (f\"Test option lift Conversion Rates by {lift*100:2.2f}% with {prob*100:2.1f}% probability.\")"
   ]
  },
  {
   "cell_type": "markdown",
   "metadata": {},
   "source": [
    "# Como interpretar os resultados?\n",
    "\n",
    "Segundo a abordagem Bayesiana, com base nos números da Tabela, a opção Test tem um desempenho muito melhor que o Control: cerca de 60% de aumento, com mais de 98% de probabilidade de ser melhor.\n",
    "\n",
    "Estes são resultados puros, agnósticos. Se eles são bons ou não, depende da situação, mas falando em termos de probabilidade, qualquer coisa acima de 95% deve ser suficiente, o que acaba por estabelecer uma abordagem frequentista."
   ]
  },
  {
   "cell_type": "markdown",
   "metadata": {},
   "source": [
    "## Função para análise do Teste A/B\n",
    "\n",
    "A resposta está em uma minúcia do teorema de Bayes. Sem entrar muito nos detalhes, geralmente as soluções para o teorema de Bayes são difíceis (se não impossíveis) de serem resolvidas exatamente, e é por isso que poucos métodos de aproximação foram desenvolvidos, como o Markov Chain Monte Carlo (MCMC). Você pode encontrar muitos artigos em torno da web que usam esses procedimentos.\n",
    "\n",
    "\n",
    "Mas os testes A / B são um caso onde o Teorema de Bayes tem solução, na verdade, podemos ter uma solução exata com base no conceito de __[Conjuntos anteriores ou \"Conjugate prior\"](https://en.wikipedia.org/wiki/Conjugate_prior)__. Quando esse conceito é aplicável, a função posterior do teorema de Bayes fica na mesma família do anterior, e assim podemos construir a função final com um processo iterativo.\n",
    "\n",
    "Os testes A / B são experimentos aleatórios com exatamente dois resultados possíveis, \"converter\" ou \"não\" e, como tal, são descritos como um estudo de Bernoulli, e a distribuição Beta é o conjugado anterior a esse processo. É por isso que podemos ousar usá-lo de maneira simples."
   ]
  },
  {
   "cell_type": "code",
   "execution_count": 30,
   "metadata": {},
   "outputs": [
    {
     "data": {
      "image/png": "[encoded data removed]",
      "text/plain": [
       "<Figure size 432x288 with 1 Axes>"
      ]
     },
     "metadata": {
      "needs_background": "light"
     },
     "output_type": "display_data"
    }
   ],
   "source": [
    "import numpy as np\n",
    "import matplotlib.pyplot as plt\n",
    "\n",
    "def calc_beta_mode(a, b):\n",
    "    '''this function calculate the mode (peak) of the Beta distribution'''\n",
    "    return (a-1)/(a+b-2)\n",
    "\n",
    "def plot(betas, names, linf=0, lsup=0.01):\n",
    "    '''this function plots the Beta distribution'''\n",
    "    x=np.linspace(linf,lsup, 100)\n",
    "    for f, name in zip(betas,names) :\n",
    "        y=f.pdf(x) #this for calculate the value for the PDF at the specified x-points\n",
    "        y_mode=calc_beta_mode(f.args[0], f.args[1])\n",
    "        y_var=f.var() # the variance of the Beta distribution\n",
    "        plt.plot(x,y, label=f\"{name} sample, conversion rate: {y_mode:0.1E} $\\pm$ {y_var:0.1E}\")\n",
    "        plt.yticks([])\n",
    "    plt.legend()\n",
    "    plt.show()\n",
    "\n",
    "plot([beta_C, beta_T], names=[\"Control\", \"Test\"])"
   ]
  },
  {
   "cell_type": "markdown",
   "metadata": {},
   "source": [
    "### Interpretação dos Resultados\n",
    "\n",
    "Você pode notar que os picos das duas distribuições coincidem com os valores que você calcula da maneira clássica:\n",
    "\n",
    "<br>\n",
    "<img src=\"img/probs.png\" width=\"200\" />\n",
    "<br>\n",
    "\n",
    "Existe a Função de Densidade de Probabilidade (PDF) para as taxas de conversão (CRs), em vez de um número simples. E, graças a isso, você pode calcular, por exemplo, a variação (popularmente chamada de 'erro') nos CRs, que também é mostrada no rótulo dentro do gráfico.\n",
    "\n",
    "## Abordagem Bayesiana\n",
    "\n",
    "\n",
    "Uma forma de abordar a probabilidade condicional é calcular o que é chamado de \"elevação\", ou seja, quanto a opção Teste aumenta o CR em relação à Controle:\n",
    "\n",
    "<br>\n",
    "<img src=\"img/uplift.png\" width=\"200\" />\n",
    "<br>\n",
    "\n"
   ]
  },
  {
   "cell_type": "code",
   "execution_count": 31,
   "metadata": {},
   "outputs": [
    {
     "data": {
      "text/plain": [
       "(30, 16470, 50, 16950)"
      ]
     },
     "execution_count": 31,
     "metadata": {},
     "output_type": "execute_result"
    }
   ],
   "source": [
    "a_C, b_C, a_T, b_T"
   ]
  },
  {
   "cell_type": "code",
   "execution_count": 32,
   "metadata": {},
   "outputs": [
    {
     "name": "stdout",
     "output_type": "stream",
     "text": [
      "Taxa de Conversão de Controle: 0.0018214936247723133\n",
      "Taxa de Conversão de Teste: 0.0029498525073746312\n",
      "**************************************************\n",
      "Melhora no Resultado: 0.6194690265486725\n"
     ]
    }
   ],
   "source": [
    "CR_C = a_C / b_C\n",
    "CR_T = a_T / b_T\n",
    "print('Taxa de Conversão de Controle:', CR_C)\n",
    "print('Taxa de Conversão de Teste:', CR_T)\n",
    "print(50*'*')\n",
    "uplift = (CR_T - CR_C) / CR_C\n",
    "print('Melhora no Resultado:', uplift)"
   ]
  },
  {
   "cell_type": "markdown",
   "metadata": {},
   "source": [
    "## Abordagem Frequentista: Inferência Estatística\n",
    "\n",
    "Na abordagem frequentista, é feita uma inferênicia estatística sobre a média de conversão de uma modalidade (Control), sobre a outra modalidade (Test), e então o resultado é comparado com o p_Value (0.05)."
   ]
  },
  {
   "cell_type": "code",
   "execution_count": 33,
   "metadata": {},
   "outputs": [
    {
     "data": {
      "text/plain": [
       "mpf('0.99922309898147099')"
      ]
     },
     "execution_count": 33,
     "metadata": {},
     "output_type": "execute_result"
    }
   ],
   "source": [
    "\n",
    "from mpmath import betainc\n",
    "\n",
    "p=betainc(a=a_T, b=b_T, x1=0.0018, x2=1, regularized=True)\n",
    "p"
   ]
  },
  {
   "cell_type": "markdown",
   "metadata": {},
   "source": [
    "### Interpretação dos Resultados\n",
    "\n",
    "Segundo a estatística frequentista podemos concluir que as médias dos dois resultados de controle e de teste são estatísticamente diferentes, portanto é estatísticamente significativo adotar a grupo de Teste."
   ]
  },
  {
   "cell_type": "markdown",
   "metadata": {},
   "source": [
    "## Solução em Plot 3-D"
   ]
  },
  {
   "cell_type": "code",
   "execution_count": 5,
   "metadata": {},
   "outputs": [
    {
     "data": {
      "text/plain": [
       "[<matplotlib.lines.Line2D at 0x7f6de5e1a370>]"
      ]
     },
     "execution_count": 5,
     "metadata": {},
     "output_type": "execute_result"
    },
    {
     "data": {
      "image/png": "[encoded data removed]",
      "text/plain": [
       "<Figure size 432x432 with 3 Axes>"
      ]
     },
     "metadata": {
      "needs_background": "light"
     },
     "output_type": "display_data"
    }
   ],
   "source": [
    "%%time\n",
    "import seaborn as sns\n",
    "import pandas as pd\n",
    "import numpy as np\n",
    "imps_ctrl,convs_ctrl=16500, 30 \n",
    "imps_test, convs_test=17000, 50\n",
    "\n",
    "#here we create the Beta functions for the two sets\n",
    "a_C, b_C = convs_ctrl+1, imps_ctrl-convs_ctrl+1\n",
    "a_T, b_T = convs_test+1, imps_test-convs_test+1\n",
    "\n",
    "val_C=np.random.beta(a_C, b_C, 1000000)\n",
    "val_T=np.random.beta(a_T, b_T, 1000000)\n",
    "vals=np.vstack([val_C, val_T]).T\n",
    "\n",
    "limit=0.004\n",
    "\n",
    "\n",
    "df=pd.DataFrame(vals, columns=['Control', 'Test'])\n",
    "df=df[df['Control']<limit]\n",
    "df=df[df['Test']<limit]\n",
    "g=sns.jointplot(x=df.Control, y=df.Test, kind='kde', n_levels=15)\n",
    "g.ax_joint.plot([0.0015, limit], [0.0015, limit])"
   ]
  },
  {
   "cell_type": "markdown",
   "metadata": {},
   "source": [
    "Para aprofundar o conhecimento sobre o tema desta aula __[Bayesian Hypothesis Testing](https://www.probabilitycourse.com/chapter9/9_1_8_bayesian_hypothesis_testing.php)__"
   ]
  },
  {
   "cell_type": "markdown",
   "metadata": {},
   "source": [
    "----------\n",
    "\n",
    "# 4. Teorema de Bayes \n",
    "\n",
    "Classificação e previsão são dois dos aspectos mais importantes do Machine Learning e o Naive Bayes é um algoritmo simples, mas surpreendentemente poderoso para modelagem preditiva. Então pessoal, neste tutorial do Naive Bayes, serão abordados os seguintes tópicos:\n",
    "\n",
    "- definição\n",
    "- exemplo com baralho\n",
    "- exemplo com predição do tempo para jogo de golf\n",
    "- aplicações de mercado\n",
    "\n",
    "## Definição \n",
    "\n",
    "\n",
    "### O que é Naive Bayes?\n",
    "\n",
    "O Naive Bayes está entre um dos algoritmos mais simples, mas mais poderosos para classificação, com base no Teorema de Bayes, com uma suposição de independência entre os preditores. O modelo Naive Bayes é fácil de construir e particularmente útil para conjuntos de dados muito grandes. Existem duas partes nesse algoritmo:\n",
    "\n",
    "- Ingênuo\n",
    "\n",
    "- Bayes\n",
    "\n",
    "O classificador Naive Bayes assume que a presença de um recurso em uma classe não está relacionada a nenhum outro recurso. Mesmo que esses recursos dependam um do outro ou da existência de outros recursos, todas essas propriedades contribuem independentemente para a probabilidade de que uma determinada fruta seja uma maçã, uma laranja ou uma banana, e é por isso que é conhecida como \"ingênua\".\n"
   ]
  },
  {
   "cell_type": "markdown",
   "metadata": {},
   "source": [
    "\n",
    "### Teorema de Bayes\n",
    "\n",
    "- O que é o teorema de Bayes?\n",
    "\n",
    "Na teoria estatística e de probabilidade, o teorema de Bayes descreve a probabilidade de um evento, com base no conhecimento prévio de condições que podem estar relacionadas ao evento. Serve como uma maneira de descobrir a probabilidade condicional.\n",
    "\n",
    "Dada uma hipótese (H) e evidência (E), o teorema de Bayes afirma que a relação entre a probabilidade da hipótese antes de obter a evidência, P (H) e a probabilidade da hipótese após a obtenção da evidência, P (H | E), é:\n",
    "\n",
    "<br>\n",
    "<br>\n",
    "\\begin{equation*}\n",
    "P(Hipótese | Evento) = \\dfrac{ P(Evento | Hipótese) . P(Hipótese) }{ P(Evento) }\n",
    "\\end{equation*}\n",
    "<br>\n",
    "<br>\n",
    "\n",
    "- $ P(Hipótese | Evento) $: Probabilidade posterior, ou seja, probabilidade de evento após a evidência ser vista\n",
    "\n",
    "\n",
    "- $ P(Hipótese) $: Probabilidade à priori ou a probabilidade anterior - probabilidade de evento antes da evidência ser vista\n",
    "\n",
    "\n",
    "- $ P(Evento | Hipótese) $: Likelyhood (chance)\n",
    "\n",
    "\n",
    "- $ \\dfrac{ P(Evento | Hipótese) }{ P(Evento) } $: Likelyhood ratio (taxa de chance)\n"
   ]
  },
  {
   "cell_type": "markdown",
   "metadata": {},
   "source": [
    "## Exemplo do Teorema de Bayes - Baralho de Cartas\n",
    "\n",
    "<br>\n",
    "<br>\n",
    "\\begin{equation*}\n",
    "P(King | Face) = \\dfrac{ P(Face | King) . P(King) }{ P(Face) }\n",
    "\\end{equation*}\n",
    "<br>\n",
    "<br>\n",
    "\n",
    "Vamos supor que temos um baralho de cartas e desejamos descobrir a probabilidade da carta que escolhemos aleatoriamente ser um rei, já que é uma carta de face. Então, de acordo com o Teorema de Bayes, podemos resolver esse problema. Primeiro, precisamos descobrir a probabilidade:\n",
    "\n",
    "- $P (rei)$: que é 4/52, pois há 4 reis em um baralho de cartas.\n",
    "- $P (Face | Rei)$: é igual a 1, pois todos os Reis são cards de face.\n",
    "- $P (Face)$: é igual a 12/52, pois existem 3 Face Cards em um naipe de 13 cartas e há 4 naipes no total.\n",
    "\n",
    "Agora, reunindo todos os valores na equação de Bayes, obtemos um resultado de $P(King | Face) = 1/3$."
   ]
  },
  {
   "cell_type": "markdown",
   "metadata": {},
   "source": [
    "\n",
    "<br>\n",
    "<img src=\"img/NB.gif\" width=600>\n",
    "<br>\n"
   ]
  },
  {
   "cell_type": "markdown",
   "metadata": {},
   "source": [
    "## Exemplo do Teorema de Bayes - Teste Diagnóstico\n",
    "\n",
    "Os diagramas de Venn são particularmente úteis para visualizar o teorema de Bayes, já que os diagramas e o teorema tratam de observar as interseções de diferentes espaços de eventos.\n",
    "\n",
    "Uma doença está presente em 5 em cada 100 pessoas, e um teste com 90% de precisão (o que significa que o teste produz o resultado correto em 90% dos casos) é administrado a 100 pessoas. Se uma pessoa do grupo for positiva, qual é a probabilidade de essa pessoa ter a doença?\n",
    "\n",
    "A resposta intuitiva é que a única pessoa tem 90% de probabilidade de ter a doença. Mas podemos visualizar isso para mostrar que não é preciso. Primeiro, desenhe a população total e as 5 pessoas que têm a doença:\n",
    "\n",
    "<br>\n",
    "<img src=\"img/bayes_diagnostic_1.png\" width=400>\n",
    "<br>\n",
    "\n"
   ]
  },
  {
   "cell_type": "markdown",
   "metadata": {},
   "source": [
    "The circle A represents 5 out 100, or 5% of the larger universe of 100 people.\n",
    "\n",
    "Next, overlay a circle to represent the people who get a positive result on the test. We know that 90% of those with the disease will get a positive result, so need to cover 90% of circle A, but we also know that 10% of the population who does not have the disease will get a positive result, so we need to cover 10% of the non-disease carrying population (the total universe of 100 less circle A).\n",
    "\n",
    "<br>\n",
    "<img src=\"img/bayes_diagnostic_2.png\" width=400>\n",
    "<br>\n",
    "\n",
    "O círculo B cobre uma parcela substancial da população total. Na verdade, abrange mais área do que a parcela total da população com a doença. Isso ocorre porque 14 da população total de 100 (90% das 5 pessoas com a doença + 10% das 95 pessoas sem a doença) receberão um resultado positivo. Embora este seja um teste com precisão de 90%, esta visualização mostra que qualquer paciente que teste positivo (Círculo B) para a doença tem apenas 32,14% (4,5 em 14) de chance de realmente ter a doença."
   ]
  },
  {
   "cell_type": "markdown",
   "metadata": {},
   "source": [
    "## Exemplo do Teorema de Bayes - Jogo de Golf\n",
    "\n",
    "Considere um conjunto de dados fictício que descreva as condições climáticas para jogar uma partida de golfe. Dadas as condições climáticas, cada tupla classifica as condições como adequadas (“Sim”) ou impróprias (“Não”) para jogar golfe.\n",
    "\n",
    "Aqui está uma representação tabular do nosso conjunto de dados.\n",
    "\n",
    "<br>\n",
    "<img src=\"img/bayes_dataset.png\" width=800>\n",
    "<br>\n"
   ]
  },
  {
   "cell_type": "markdown",
   "metadata": {},
   "source": [
    "\n",
    "O conjunto de dados é dividido em duas partes, a saber, matriz de recursos e o vetor de resposta.\n",
    "\n",
    "A matriz de recursos contém todos os vetores (linhas) do conjunto de dados nos quais cada vetor consiste no valor dos recursos dependentes. No conjunto de dados acima, os recursos são \"Outlook\", \"Temperatura\", \"Umidade\" e \"Com Vento\".\n",
    "O vetor de resposta contém o valor da variável de classe (previsão ou saída) para cada linha da matriz de recurso. No conjunto de dados acima, o nome da variável da classe é \"Jogar golfe\".\n",
    "Suposição:\n",
    "\n",
    "A suposição fundamental de Naive Bayes é que cada recurso faz uma contribuição para o resultado:\n",
    "\n",
    "- independente\n",
    "- igual\n",
    "\n",
    "\n",
    "Com relação ao nosso conjunto de dados, esse conceito pode ser entendido como assumir que nenhum par de recursos é dependente. Por exemplo, a temperatura \"quente\" não tem nada a ver com a umidade ou a perspectiva de \"chuvoso\" não afeta os ventos. Portanto, os recursos são assumidos como independentes.\n",
    "\n",
    "Em segundo lugar, cada recurso recebe o mesmo peso (ou importância). Por exemplo, conhecer apenas a temperatura e a umidade por si só não pode prever o resultado com precisão. Nenhum dos atributos é irrelevante e supõe-se que esteja contribuindo igualmente para o resultado.\n",
    "\n",
    "Nota: As suposições feitas por Naive Bayes geralmente não são corretas em situações do mundo real. De fato, a suposição de independência nunca é correta, mas geralmente funciona bem na prática.\n",
    "\n",
    "Agora, antes de passar para a fórmula de Naive Bayes, é importante conhecer o teorema de Bayes.\n"
   ]
  },
  {
   "cell_type": "markdown",
   "metadata": {},
   "source": [
    "### Teorema de Bayes\n",
    "\n",
    "O Teorema de Bayes encontra a probabilidade de um evento ocorrer, dada a probabilidade de outro evento que já ocorreu. O teorema de Bayes é declarado matematicamente como segue.\n",
    "\n",
    "<br>\n",
    "\\begin{equation*}\n",
    "P(y | X) = \\dfrac{ P(X | y) . P(y) }{ P(X) }\n",
    "\\end{equation*}\n",
    "<br>\n",
    "\n",
    "onde y é variável de classe e X é um vetor de recurso dependente (de tamanho n) em que:\n",
    "\n",
    "<br>\n",
    "\\begin{equation*}\n",
    "X = (x_1, x_2, x_3, ... , x_n)\n",
    "\\end{equation*}\n",
    "<br>\n"
   ]
  },
  {
   "cell_type": "markdown",
   "metadata": {},
   "source": [
    "\n",
    "- Suposição ingênua\n",
    "\n",
    "Agora, é hora de colocar uma suposição ingênua no teorema de Bayes, que é a independência entre os recursos. Então agora, dividimos as evidências em partes independentes. Agora, consideremos que os eventos são independentes.\n",
    "\n",
    "<br>\n",
    "\\begin{equation*}\n",
    "P(y | x_1, x_2, x_3, ... , x_n) = \\dfrac{ P(x_1 | y) . P(x_2 | y) . P(x_3 | y) ... P(x_n | y) . P(y) }{ P(x_1).P(x_2).P(x_3) ... P(x_n) }\n",
    "\\end{equation*}\n",
    "<br>\n",
    "\n",
    "Então, finalmente, ficamos com a tarefa de calcular P (y) e P (xi | y). Observe que P (y) também é chamado de probabilidade de classe e P (xi | y) é chamado de probabilidade condicional. Os diferentes classificadores ingênuos de Bayes diferem principalmente pelas premissas que fazem sobre a distribuição de P (xi | y).\n",
    "\n",
    "Vamos tentar aplicar a fórmula acima manualmente em nosso conjunto de dados climáticos. Para isso, precisamos fazer algumas pré-computações em nosso conjunto de dados. Precisamos encontrar P (xi | yj) para cada xi em X e yj em y. Todos esses cálculos foram demonstrados nas tabelas abaixo:\n",
    "\n",
    "<br>\n",
    "<img src=\"img/bayes_charts.png\" width=500>\n",
    "<br>\n"
   ]
  },
  {
   "cell_type": "markdown",
   "metadata": {},
   "source": [
    "Portanto, na figura acima, calculamos \n",
    "\n",
    "<br>\n",
    "\\begin{equation*}\n",
    "P(x_i | y_j)\n",
    "\\end{equation*}\n",
    "<br>\n",
    "\n",
    "para cada xi em X e yj em y manualmente nas tabelas 1-4. Por exemplo, probabilidade de jogar golfe, já que a temperatura é baixa, ou seja, \n",
    "\n",
    "<br>\n",
    "\\begin{equation*}\n",
    "P (temp. = Frio | jogar golfe = Sim) = \\dfrac{ 3 }{ 9 }\n",
    "\\end{equation*}\n",
    "<br>\n",
    "\n",
    "Além disso, precisamos encontrar probabilidades de classe (P (y)) que foram calculadas na tabela 5. Por exemplo, P (jogar golfe = Sim) = 9/14.\n",
    "\n",
    "Então agora terminamos nossas pré-computações e o classificador está pronto! Vamos testá-lo em um novo conjunto de recursos (vamos chamá-lo hoje):\n",
    "\n",
    "- **today = (Sunny, Hot, Normal, False)**"
   ]
  },
  {
   "cell_type": "markdown",
   "metadata": {},
   "source": [
    "Portanto, a probabilidade de jogar golfe é dada por:\n",
    "\n",
    "<br>\n",
    "\\begin{equation*}\n",
    "P(Yes|today) = \\dfrac{ P(SunnyOutlook|Yes).P(HotTemperature|Yes).P(NormalHumidity|Yes).P(NoWind|Yes).P(Yes) }{ P(today) }\n",
    "\\end{equation*}\n",
    "<br>\n",
    "\n",
    "and probability to not play golf is given by:\n",
    "\n",
    "<br>\n",
    "\\begin{equation*}\n",
    "P(No|today) = \\dfrac{ P(SunnyOutlook|No).P(HotTemperature|No).P(NormalHumidity|No).P(NoWind|Yes).P(No) }{ P(today) }\n",
    "\\end{equation*}\n",
    "<br>\n",
    "\n",
    "Agora precisamos considerar que o total das probabilidades de jogar e não-jogar hoje é igual a 1:\n",
    "\n",
    "<br>\n",
    "\\begin{equation*}\n",
    "P(Yes|today) + P(No|today) = 1\n",
    "\\end{equation*}\n",
    "<br>"
   ]
  },
  {
   "cell_type": "markdown",
   "metadata": {},
   "source": [
    "# Golf: Aplicando o Teorema de Bayes (método raiz)"
   ]
  },
  {
   "cell_type": "code",
   "execution_count": 34,
   "metadata": {},
   "outputs": [
    {
     "data": {
      "text/plain": [
       "(0.7259259259259259, 0.1568)"
      ]
     },
     "execution_count": 34,
     "metadata": {},
     "output_type": "execute_result"
    }
   ],
   "source": [
    "# Como P(today) é comum em ambas as probabilidades, podemos ignorar P(today) \n",
    "# vamos encontrar probabilidades proporcionais\n",
    "\n",
    "P_Yes_today =  ( 3/9 * 2/9 * 6/9 * 6/9 * 9/14 ) / ( 5/14 * 4/14 * 7/14 * 8/14 )\n",
    "P_No_today = ( 2/5 * 2/5 * 1/5 * 2/5 * 5/14 ) / ( 5/14 * 4/14 * 7/14 * 8/14 )\n",
    "\n",
    "(P_Yes_today, P_No_today)"
   ]
  },
  {
   "cell_type": "code",
   "execution_count": 35,
   "metadata": {},
   "outputs": [
    {
     "data": {
      "text/plain": [
       "(0.8223684210526315, 0.17763157894736842)"
      ]
     },
     "execution_count": 35,
     "metadata": {},
     "output_type": "execute_result"
    }
   ],
   "source": [
    "# Esses números podem ser convertidos em probabilidade, tornando a soma igual a 1 (normalização):\n",
    "\n",
    "P_Yes_today_norm = P_Yes_today / (P_Yes_today + P_No_today)\n",
    "P_No_today_norm = P_No_today / (P_Yes_today + P_No_today)\n",
    "\n",
    "(P_Yes_today_norm,P_No_today_norm)"
   ]
  },
  {
   "cell_type": "code",
   "execution_count": 36,
   "metadata": {},
   "outputs": [
    {
     "name": "stdout",
     "output_type": "stream",
     "text": [
      "True\n"
     ]
    }
   ],
   "source": [
    "# Portanto, a previsão de que o golfe seria jogado é \"Sim\".\n",
    "print(P_Yes_today_norm>P_No_today_norm)"
   ]
  },
  {
   "cell_type": "markdown",
   "metadata": {},
   "source": [
    "## Teorema de Bayes: fórmulação original\n",
    "\n",
    "Para que não seja necessária a normalização dos dadso, deve ser utilizada a formulaçãooriginal do Teorema de Bayes com segue:\n",
    "\n",
    "<br>\n",
    "\\begin{equation*}\n",
    "P(Yes|today)=\\dfrac{P(SunnyOutlook|Yes).P(HotTemperature|Yes).P(NormalHumidity|Yes).P(NoWind|Yes).P(Yes)}\n",
    "{P(SunnyOutlook|Yes).P(HotTemperature|Yes).P(NormalHumidity|Yes).P(NoWind|Yes).P(Yes)+SunnyOutlook| \\sim Yes).P(HotTemperature| \\sim Yes).P(NormalHumidity| \\sim Yes).P(NoWind| \\sim Yes).P( \\sim Yes)}\n",
    "\\end{equation*}\n",
    "<br>"
   ]
  },
  {
   "cell_type": "code",
   "execution_count": 37,
   "metadata": {},
   "outputs": [
    {
     "data": {
      "text/plain": [
       "0.8223684210526315"
      ]
     },
     "execution_count": 37,
     "metadata": {},
     "output_type": "execute_result"
    }
   ],
   "source": [
    "# aplicando a fórmula original de Bayes apra o nosso problema\n",
    "\n",
    "P_Yes_today_new = ( 3/9 * 2/9 * 6/9 * 6/9 * 9/14 ) / ( (3/9 * 2/9 * 6/9 * 6/9 * 9/14) + (2/5 * 2/5 * 1/5 * 2/5 * 5/14 ) )\n",
    "P_Yes_today_new"
   ]
  },
  {
   "cell_type": "markdown",
   "metadata": {},
   "source": [
    "O método que discutimos acima é aplicável a dados discretos. No caso de dados contínuos, precisamos fazer algumas suposições sobre a distribuição dos valores de cada recurso. Os diferentes classificadores Naive Bayes diferem principalmente pelas premissas que fazem sobre a distribuição de $ P (x_i | y) $.\n"
   ]
  },
  {
   "cell_type": "markdown",
   "metadata": {},
   "source": [
    "# Golf: Naive Bayes no Scikit Learn\n",
    "\n",
    "### Definindo o DataSet"
   ]
  },
  {
   "cell_type": "code",
   "execution_count": 38,
   "metadata": {},
   "outputs": [],
   "source": [
    "# Assigning features and label variables\n",
    "weather=['Sunny','Sunny','Overcast','Rainy','Rainy','Rainy','Overcast','Sunny','Sunny', 'Rainy','Sunny','Overcast','Overcast','Rainy']\n",
    "temp=['Hot','Hot','Hot','Mild','Cool','Cool','Cool','Mild','Cool','Mild','Mild','Mild','Hot','Mild']\n",
    "humidity=['High','High','High','High','Normal','Normal','Normal','High','Normal','Normal','Normal','High','Normal','High']\n",
    "windy=['False','True','False','False','False','True','True','False','False','False','True','True','False','True']\n",
    "\n",
    "play=['No','No','Yes','Yes','Yes','No','Yes','No','Yes','Yes','Yes','Yes','Yes','No']"
   ]
  },
  {
   "cell_type": "markdown",
   "metadata": {},
   "source": [
    "### Fazendo o Encoding das variáveis"
   ]
  },
  {
   "cell_type": "code",
   "execution_count": 39,
   "metadata": {},
   "outputs": [
    {
     "name": "stdout",
     "output_type": "stream",
     "text": [
      "Weather: [2 2 0 1 1 1 0 2 2 1 2 0 0 1]\n",
      "Temp: [1 1 1 2 0 0 0 2 0 2 2 2 1 2]\n",
      "Humidity: [0 0 0 0 1 1 1 0 1 1 1 0 1 0]\n",
      "Windy: [0 1 0 0 0 1 1 0 0 0 1 1 0 1]\n",
      "Play: [0 0 1 1 1 0 1 0 1 1 1 1 1 0]\n"
     ]
    }
   ],
   "source": [
    "# Import LabelEncoder\n",
    "from sklearn import preprocessing\n",
    "#creating labelEncoder\n",
    "le = preprocessing.LabelEncoder()\n",
    "# Converting string labels into numbers.\n",
    "weather_encoded=le.fit_transform(weather)\n",
    "print (\"Weather:\",weather_encoded)\n",
    "# Converting string labels into numbers\n",
    "temp_encoded=le.fit_transform(temp)\n",
    "# Converting string labels into numbers\n",
    "print (\"Temp:\",temp_encoded)\n",
    "\n",
    "# Converting string labels into numbers\n",
    "humidity_encoded=le.fit_transform(humidity)\n",
    "# Converting string labels into numbers\n",
    "print (\"Humidity:\",humidity_encoded)\n",
    "\n",
    "# Converting string labels into numbers\n",
    "windy_encoded=le.fit_transform(windy)\n",
    "# Converting string labels into numbers\n",
    "print (\"Windy:\",windy_encoded)\n",
    "\n",
    "# Converting string labels into numbers\n",
    "label=le.fit_transform(play)\n",
    "print (\"Play:\",label)"
   ]
  },
  {
   "cell_type": "markdown",
   "metadata": {},
   "source": [
    "### Combinando as variáveis"
   ]
  },
  {
   "cell_type": "code",
   "execution_count": 40,
   "metadata": {},
   "outputs": [
    {
     "name": "stdout",
     "output_type": "stream",
     "text": [
      "[(2, 1, 0, 0), (2, 1, 0, 1), (0, 1, 0, 0), (1, 2, 0, 0), (1, 0, 1, 0), (1, 0, 1, 1), (0, 0, 1, 1), (2, 2, 0, 0), (2, 0, 1, 0), (1, 2, 1, 0), (2, 2, 1, 1), (0, 2, 0, 1), (0, 1, 1, 0), (1, 2, 0, 1)]\n"
     ]
    }
   ],
   "source": [
    "#Combinig weather and temp into single listof tuples\n",
    "features=list(zip(weather_encoded,temp_encoded,humidity_encoded,windy_encoded))\n",
    "print (features)"
   ]
  },
  {
   "cell_type": "markdown",
   "metadata": {},
   "source": [
    "### Implementando o Gaussian Naive Bayes"
   ]
  },
  {
   "cell_type": "code",
   "execution_count": 41,
   "metadata": {},
   "outputs": [
    {
     "name": "stdout",
     "output_type": "stream",
     "text": [
      "Predicted Value: [1]\n"
     ]
    }
   ],
   "source": [
    "#Import Gaussian Naive Bayes model\n",
    "from sklearn.naive_bayes import GaussianNB\n",
    "\n",
    "#Create a Gaussian Classifier\n",
    "model = GaussianNB()\n",
    "\n",
    "# Train the model using the training sets\n",
    "model.fit(features,label)\n",
    "\n",
    "#Predict Output\n",
    "predicted= model.predict([[0,2,0,0]]) # # Outlook:0(Overcast), Temp:2(Mild), Humidity:0(High), Windy:0(False)\n",
    "print (\"Predicted Value:\", predicted)"
   ]
  },
  {
   "cell_type": "code",
   "execution_count": 42,
   "metadata": {},
   "outputs": [
    {
     "name": "stdout",
     "output_type": "stream",
     "text": [
      "Predicted Value: [[0.01265395 0.98734605]]\n"
     ]
    }
   ],
   "source": [
    "#Predict probability Output\n",
    "predicted= model.predict_proba([[0,2,0,0]]) # Outlook:0(Overcast), Temp:2(Mild), Humidity:0(High), Windy:0(False)\n",
    "print (\"Predicted Value:\", predicted)"
   ]
  },
  {
   "cell_type": "markdown",
   "metadata": {},
   "source": [
    "----------\n",
    "\n",
    "# 4. Teorema de Bayes: Aplicação Prática\n",
    "\n",
    "Até agora aplicamos o Teorema de Bayes para problemas binários. Vamos utilizar o DataSet de Vinhos do `Sklearn` para que possamos entender como o algoritmo `GaussianNB` é poderoso"
   ]
  },
  {
   "cell_type": "markdown",
   "metadata": {},
   "source": [
    "## Importando e verificando os dados"
   ]
  },
  {
   "cell_type": "code",
   "execution_count": 43,
   "metadata": {},
   "outputs": [
    {
     "data": {
      "text/plain": [
       "(178, 13)"
      ]
     },
     "execution_count": 43,
     "metadata": {},
     "output_type": "execute_result"
    }
   ],
   "source": [
    "#Import scikit-learn dataset library\n",
    "from sklearn import datasets\n",
    "\n",
    "#Load dataset\n",
    "wine = datasets.load_wine()\n",
    "\n",
    "# print data(feature)shape\n",
    "wine.data.shape"
   ]
  },
  {
   "cell_type": "markdown",
   "metadata": {},
   "source": [
    "## Imprimindo as características dos dados"
   ]
  },
  {
   "cell_type": "code",
   "execution_count": 44,
   "metadata": {},
   "outputs": [
    {
     "name": "stdout",
     "output_type": "stream",
     "text": [
      "Features:  ['alcohol', 'malic_acid', 'ash', 'alcalinity_of_ash', 'magnesium', 'total_phenols', 'flavanoids', 'nonflavanoid_phenols', 'proanthocyanins', 'color_intensity', 'hue', 'od280/od315_of_diluted_wines', 'proline']\n",
      "Labels:  ['class_0' 'class_1' 'class_2']\n"
     ]
    }
   ],
   "source": [
    "# print the names of the 13 features\n",
    "print (\"Features: \", wine.feature_names)\n",
    "\n",
    "# print the label type of wine(class_0, class_1, class_2)\n",
    "print (\"Labels: \", wine.target_names)"
   ]
  },
  {
   "cell_type": "markdown",
   "metadata": {},
   "source": [
    "## Separando os dados em treino e teste"
   ]
  },
  {
   "cell_type": "code",
   "execution_count": 45,
   "metadata": {},
   "outputs": [],
   "source": [
    "# Import train_test_split function\n",
    "from sklearn.model_selection import train_test_split\n",
    "\n",
    "# Split dataset into training set and test set\n",
    "X_train, X_test, y_train, y_test = train_test_split(wine.data, \n",
    "                                                    wine.target, \n",
    "                                                    test_size=0.3,\n",
    "                                                    random_state=0) # 70% training and 30% test"
   ]
  },
  {
   "cell_type": "markdown",
   "metadata": {},
   "source": [
    "## Classificador Gaussian Naive Bayes\n",
    "\n",
    "No Nauss Bayes gaussiano, presume-se que os valores contínuos associados a cada recurso sejam distribuídos de acordo com uma distribuição gaussiana. Uma distribuição gaussiana também é chamada de distribuição normal. Quando plotado, ele fornece uma curva em forma de sino, que é simétrica sobre a média dos valores dos recursos, como mostrado abaixo:\n",
    "\n",
    "<br>\n",
    "<img src=\"img/gaussian_bayes.png\" width=300>\n",
    "<br>\n",
    "\n",
    "A probabilidade dos recursos é assumida como gaussiana; portanto, a probabilidade condicional é dada por:\n",
    "\n",
    "\n",
    "<br>\n",
    "\\begin{equation*}\n",
    "P(x_i | y) = \\dfrac{1}{\\sqrt{2 \\pi \\sigma^²}} . e^ \\dfrac{-(x-\\mu)^2}{2 \\sigma^2}\n",
    "\\end{equation*}\n",
    "<br>\n"
   ]
  },
  {
   "cell_type": "markdown",
   "metadata": {},
   "source": [
    "## Implementando o `GaussianNB`"
   ]
  },
  {
   "cell_type": "code",
   "execution_count": 46,
   "metadata": {},
   "outputs": [],
   "source": [
    "#Import Gaussian Naive Bayes model\n",
    "from sklearn.naive_bayes import GaussianNB\n",
    "\n",
    "#Create a Gaussian Classifier\n",
    "gnb = GaussianNB()\n",
    "\n",
    "#Train the model using the training sets\n",
    "gnb.fit(X_train, y_train)\n",
    "\n",
    "#Predict the response for test dataset\n",
    "y_pred_train = gnb.predict(X_train)\n",
    "y_pred = gnb.predict(X_test)"
   ]
  },
  {
   "cell_type": "markdown",
   "metadata": {},
   "source": [
    "## Avaliando o modelo"
   ]
  },
  {
   "cell_type": "code",
   "execution_count": 47,
   "metadata": {},
   "outputs": [
    {
     "name": "stdout",
     "output_type": "stream",
     "text": [
      "Train Accuracy: 0.9838709677419355\n",
      "Test Accuracy: 0.9444444444444444\n"
     ]
    }
   ],
   "source": [
    "#Import scikit-learn metrics module for accuracy calculation\n",
    "from sklearn import metrics\n",
    "\n",
    "# Model Accuracy, how often is the classifier correct?\n",
    "print(\"Train Accuracy:\",metrics.accuracy_score(y_train, y_pred_train))\n",
    "print(\"Test Accuracy:\",metrics.accuracy_score(y_test, y_pred))"
   ]
  },
  {
   "cell_type": "code",
   "execution_count": 48,
   "metadata": {},
   "outputs": [
    {
     "name": "stdout",
     "output_type": "stream",
     "text": [
      "[[19  0  0]\n",
      " [ 2 19  1]\n",
      " [ 0  0 13]]\n"
     ]
    }
   ],
   "source": [
    "from sklearn.metrics import confusion_matrix\n",
    "\n",
    "#labels = ['class_0', 'class_1', 'class_2']\n",
    "cm = confusion_matrix(y_true=y_test, y_pred=y_pred)\n",
    "print(cm)"
   ]
  },
  {
   "cell_type": "code",
   "execution_count": 49,
   "metadata": {},
   "outputs": [
    {
     "data": {
      "image/png": "[encoded data removed]",
      "text/plain": [
       "<Figure size 432x288 with 2 Axes>"
      ]
     },
     "metadata": {
      "needs_background": "light"
     },
     "output_type": "display_data"
    }
   ],
   "source": [
    "import seaborn as sns\n",
    "ax= plt.subplot()\n",
    "sns.heatmap(cm, annot=True, ax = ax); #annot=True to annotate cells\n",
    "\n",
    "# labels, title and ticks\n",
    "ax.set_xlabel('Predicted labels');ax.set_ylabel('True labels'); \n",
    "ax.set_title('Confusion Matrix'); \n",
    "ax.xaxis.set_ticklabels(['class_0', 'class_1', 'class_2']); ax.yaxis.set_ticklabels(['class_0', 'class_1', 'class_2']);"
   ]
  },
  {
   "cell_type": "markdown",
   "metadata": {},
   "source": [
    "## Vantagens\n",
    "\n",
    "- Não é apenas uma abordagem simples, mas também um método rápido e preciso de previsão.\n",
    "- Naive Bayes tem custo de computação muito baixo.\n",
    "- Ele pode trabalhar com eficiência em um grande conjunto de dados.\n",
    "- Ele tem bom desempenho em caso de variável de resposta discreta em comparação com a variável contínua.\n",
    "- Pode ser usado com vários problemas de previsão de classe.\n",
    "- Ele também tem um bom desempenho no caso de problemas de análise de texto.\n",
    "- Quando a suposição de independência se mantém, um classificador Naive Bayes tem melhor desempenho em comparação com outros modelos, como a regressão logística.\n",
    "\n",
    "## Desvantagens\n",
    "\n",
    "- A suposição de características independentes. Na prática, é quase impossível que o modelo obtenha um conjunto de preditores que sejam totalmente independentes.\n",
    "- Se não houver tupla de treinamento de uma classe específica, isso causa uma probabilidade posterior nula. Nesse caso, o modelo não pode fazer previsões. Esse problema é conhecido como Problema de Probabilidade / Frequência Zero."
   ]
  },
  {
   "cell_type": "markdown",
   "metadata": {},
   "source": [
    "---------\n",
    "\n",
    "# 5. Prática de Naive Bayes\n",
    "\n",
    "Acesse os trabalhos com __[Naive Bayes](https://www.kaggle.com/tags/naive-bayes)__ do site do Kaggle."
   ]
  },
  {
   "cell_type": "code",
   "execution_count": null,
   "metadata": {},
   "outputs": [],
   "source": []
  },
  {
   "cell_type": "code",
   "execution_count": null,
   "metadata": {},
   "outputs": [],
   "source": []
  }
 ],
 "metadata": {
  "kernelspec": {
   "display_name": "Python 3",
   "language": "python",
   "name": "python3"
  },
  "language_info": {
   "codemirror_mode": {
    "name": "ipython",
    "version": 3
   },
   "file_extension": ".py",
   "mimetype": "text/x-python",
   "name": "python",
   "nbconvert_exporter": "python",
   "pygments_lexer": "ipython3",
   "version": "3.8.2"
  }
 },
 "nbformat": 4,
 "nbformat_minor": 4
}
